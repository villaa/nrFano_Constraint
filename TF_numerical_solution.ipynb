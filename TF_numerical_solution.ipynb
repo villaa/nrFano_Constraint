{
 "cells": [
  {
   "cell_type": "markdown",
   "metadata": {},
   "source": [
    "# Thomas Fermi Potential\n",
    "\n",
    "The potential can be defined by the differential equation $x^{1/2}\\frac{d^2\\phi_0}{dx^2} = \\phi_0^{3/2}$. This is a non-linear ODE boundary-value problem. The scipy library `scipy.integrate.solve_bvp` might be able to do it. "
   ]
  },
  {
   "cell_type": "code",
   "execution_count": 19,
   "metadata": {},
   "outputs": [
    {
     "name": "stdout",
     "output_type": "stream",
     "text": [
      "(10000,)\n",
      "(2, 10000)\n",
      "[ 0.        -0.0003209]\n"
     ]
    }
   ],
   "source": [
    "import numpy as np\n",
    "import scipy.integrate as integrate\n",
    "\n",
    "xmax = 10000\n",
    "\n",
    "#define the differential equation by defining f(x,y)\n",
    "def f(x,y):\n",
    "  \n",
    "  x = np.asarray(x,dtype=np.complex)\n",
    "  y = np.asarray(y,dtype=np.complex)\n",
    "  trow = y[1]\n",
    "  brow = y[0]**(3/2)*x**(-1/2)\n",
    "  trow=np.real(trow)\n",
    "  brow=np.real(brow)\n",
    "  #print(np.shape(trow))\n",
    "  #print(np.shape(brow))\n",
    "  out = np.stack((trow,brow),axis=1)\n",
    "  #print(np.shape(out))\n",
    "  out = np.reshape(out,(np.shape(y)[0],np.shape(x)[0]))\n",
    "  #print(np.shape(out))\n",
    "  return out\n",
    "\n",
    "#define the mesh\n",
    "dx = 1\n",
    "xmesh = np.arange(1e-3,xmax,dx)\n",
    "print(np.shape(xmesh))\n",
    "\n",
    "#guess a solution\n",
    "import intdiff as id\n",
    "y0 = id.getgradphi0('numeric','data/phi0_NACI_format_mod.txt')\n",
    "y1 = id.getphi0('numeric','data/phi0_NACI_format_mod.txt')\n",
    "y0v = np.vectorize(y0)\n",
    "y1v = np.vectorize(y1)\n",
    "yguess = np.stack((np.asarray(y0(xmesh),dtype=np.float64),np.asarray(y1(xmesh),dtype=np.float64)),axis=0)\n",
    "#print(yguess)\n",
    "\n",
    "#define the boundary conditions on the vector y evaluated \n",
    "#at each end of the mesh [a,b] or xmesh[0] xmesh[-1]\n",
    "#print(y0(xmesh[0]))\n",
    "#print(y0(0))\n",
    "#print(xmesh[0])\n",
    "def bc(ya,yb):\n",
    "   \n",
    "  #print(ya[0])\n",
    "  #print(yb[1])\n",
    "  out = np.asarray([ya[0]-y0(xmesh[0]),yb[1]-(144/xmax**3)],dtype=np.float64)\n",
    "    \n",
    "  return out\n",
    "\n",
    "\n",
    "\n",
    "#a = np.asarray([1,2,3,4,5,6,7,8,9,10])\n",
    "#b = np.asarray([3,5])\n",
    "print(np.shape(f(xmesh,yguess)))\n",
    "#print(np.shape(bc(b,b)))\n",
    "print(bc([y0(xmesh[0]),y1(xmesh[0])],[y0(xmesh[-1]),y1(xmesh[-1])]))"
   ]
  },
  {
   "cell_type": "code",
   "execution_count": 18,
   "metadata": {},
   "outputs": [
    {
     "name": "stdout",
     "output_type": "stream",
     "text": [
      "(2, 10000)\n",
      "(10000,)\n",
      "(2, 10000)\n",
      "(2,)\n",
      "Number of nodes is exceeded after iteration 1, maximum relative residual 1.33e+67.\n",
      "1\n",
      "False\n"
     ]
    }
   ],
   "source": [
    "#solve the thing\n",
    "print(np.shape(f(xmesh,yguess)))\n",
    "print(np.shape(xmesh))\n",
    "print(np.shape(yguess))\n",
    "print(np.shape(bc(yguess[0],yguess[-1])))\n",
    "a = integrate.solve_bvp(f,bc,xmesh,yguess,max_nodes=1000,verbose=1,tol=0.1)\n",
    "print(a.status)\n",
    "print(a.success)\n"
   ]
  },
  {
   "cell_type": "code",
   "execution_count": null,
   "metadata": {},
   "outputs": [],
   "source": []
  }
 ],
 "metadata": {
  "kernelspec": {
   "display_name": "Python [conda env:py365]",
   "language": "python",
   "name": "conda-env-py365-py"
  },
  "language_info": {
   "codemirror_mode": {
    "name": "ipython",
    "version": 3
   },
   "file_extension": ".py",
   "mimetype": "text/x-python",
   "name": "python",
   "nbconvert_exporter": "python",
   "pygments_lexer": "ipython3",
   "version": "3.6.5"
  }
 },
 "nbformat": 4,
 "nbformat_minor": 2
}
