{
 "cells": [
  {
   "cell_type": "markdown",
   "metadata": {},
   "source": [
    "# Multiple Scatter Simulations with `k100Sim`\n",
    "\n",
    "The previous `iPy` notebook `ms_simulation_explore.ipynb` explored ways that I can use `pandas` to reduce the simulated dataset. Here I want to do this for the entire dataset. To start off with I'll try this in a notebook, and use the standard format for the data reduction into `h5` files produced by:\n",
    "\n",
    "```./sima2py.py --regex 'Cf252_k100_0x0000_10M_\\S+.txt' --filedir /data/chocula/villaa/k100Sim_Data/252Cf/ --outfile /data/chocula/villaa/k100Sim_Data/252Cf/Cf252_0x0000.h5```\n",
    "\n",
    "The hope is then that the analysis here can be absporbed into `sima2py.py` and be a better way to select and store this simulation data, without going through ROOT or anything. "
   ]
  },
  {
   "cell_type": "code",
   "execution_count": 1,
   "metadata": {},
   "outputs": [],
   "source": [
    "import numpy as np\n",
    "import pandas as pd\n",
    "import sima2py as sapy"
   ]
  },
  {
   "cell_type": "code",
   "execution_count": 2,
   "metadata": {},
   "outputs": [
    {
     "name": "stdout",
     "output_type": "stream",
     "text": [
      "geant4\n"
     ]
    }
   ],
   "source": [
    "#play around with some hits data stored in h5 file\n",
    "#===============to suppress h5py warning see:\n",
    "#https://github.com/h5py/h5py/issues/961\n",
    "import warnings\n",
    "warnings.simplefilter(action='ignore', category=FutureWarning)\n",
    "import h5py\n",
    "warnings.resetwarnings()\n",
    "f = h5py.File(\"/data/chocula/villaa/k100Sim_Data/252Cf/Cf252_0x0000.h5\",\"r\")\n",
    "\n",
    "for i in f:\n",
    "    print(i)\n",
    "\n",
    "hits = f['geant4/hits']"
   ]
  },
  {
   "cell_type": "code",
   "execution_count": null,
   "metadata": {},
   "outputs": [],
   "source": [
    "#using the examples above let's get byzantine and make a bad-ass data frame.\n",
    "\n",
    "data=hits\n",
    "#first do some cuts:\n",
    "#first some hit-level cuts\n",
    "cHVDet = np.zeros(np.shape(data)[0],dtype=bool)\n",
    "cZeroEdep = np.zeros(np.shape(data)[0],dtype=bool)\n",
    "cNeutron = np.zeros(np.shape(data)[0],dtype=bool)\n",
    "cGamma = np.zeros(np.shape(data)[0],dtype=bool)\n",
    "cNR = np.zeros(np.shape(data)[0],dtype=bool)\n",
    "\n",
    "cHVDet[data[:,1]==1] = True\n",
    "cZeroEdep[data[:,6]==0] = True\n",
    "cNeutron[data[:,4]==2112] = True\n",
    "cGamma[data[:,4]==22] = True\n",
    "cNR[data[:,4]>3000] = True\n",
    "\n",
    "\n",
    "#now some event-level cuts\n",
    "#evWithHVhits = newev[cHVDet & ~cZeroEdep]\n",
    "#cWithHVHits = np.isin(newev,evWithHVhits)\n",
    "#print(np.sum(cWithHVHits))\n",
    "#print(np.shape(np.unique(evWithHVhits)))\n",
    "\n",
    "\n",
    "#now make a dataframe with the restricted data\n",
    "nr_data = data[:,[0,4,5,6,21]]\n",
    "nr_data = nr_data[cHVDet&~cZeroEdep&cNR,:]\n",
    "print(np.shape(nr_data))\n",
    "nr_dataframe = pd.DataFrame(data=nr_data)\n",
    "\n",
    "#print(nr_dataframe)\n",
    "\n",
    "#print(np.max(nr_dataframe.groupby([0,1],axis=0).size()))\n",
    "max_vec = np.max(nr_dataframe.groupby([0,1],axis=0).size())\n",
    "\n",
    "evec = np.zeros((0,max_vec))\n",
    "nhit = np.zeros((0,1))\n",
    "\n",
    "for i in nr_dataframe.groupby([0,1],axis=0)[3].apply(list):\n",
    "    #print(i)\n",
    "    #print(np.shape(i))\n",
    "    vector = np.zeros((1,max_vec))\n",
    "    #print(np.shape(vector[0,0:np.shape(i)[0]]))\n",
    "    vector[0,0:np.shape(i)[0]] = np.transpose(np.asarray(i))\n",
    "    evec = np.append(evec,vector,0)\n",
    "    nhit = np.append(nhit,np.shape(i)[0])\n",
    "    \n",
    "print(np.shape(evec))\n",
    "print(np.shape(nhit))\n",
    "#print(max_vec)\n",
    "#print(np.sum(evec,1))\n",
    "print(np.sum(nhit[nhit==1]))"
   ]
  },
  {
   "cell_type": "code",
   "execution_count": null,
   "metadata": {},
   "outputs": [],
   "source": []
  }
 ],
 "metadata": {
  "kernelspec": {
   "display_name": "Python [conda env:py365]",
   "language": "python",
   "name": "conda-env-py365-py"
  },
  "language_info": {
   "codemirror_mode": {
    "name": "ipython",
    "version": 3
   },
   "file_extension": ".py",
   "mimetype": "text/x-python",
   "name": "python",
   "nbconvert_exporter": "python",
   "pygments_lexer": "ipython3",
   "version": "3.6.5"
  }
 },
 "nbformat": 4,
 "nbformat_minor": 2
}
