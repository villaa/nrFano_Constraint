{
 "cells": [
  {
   "cell_type": "code",
   "execution_count": 1,
   "metadata": {},
   "outputs": [],
   "source": [
    "import numpy as np\n",
    "import matplotlib.pyplot as plt\n",
    "import resfuncRead as rfr\n",
    "import pandas as pd\n",
    "from scipy.stats import norm\n",
    "import matplotlib.mlab as mlab\n",
    "from scipy.optimize import curve_fit"
   ]
  },
  {
   "cell_type": "code",
   "execution_count": 2,
   "metadata": {},
   "outputs": [],
   "source": [
    "k = 0.157 # from lindhard\n",
    "q = 1.602*10**-19 #electron charge \n",
    "V = 4.0 # voltage Bias\n",
    "eps = .0033 #keV\n",
    "\n",
    "#for detector 1.\n",
    "\n",
    "p_alpha = 0.155393\n",
    "p_beta = 0 #9.60343*10**(-11)\n",
    "p_gamma = 0.000506287\n",
    "\n",
    "q_alpha = 0.166004\n",
    "q_beta = 0 #0.00233716\n",
    "q_gamma = 9.52576*10**(-5)"
   ]
  },
  {
   "cell_type": "code",
   "execution_count": 3,
   "metadata": {},
   "outputs": [],
   "source": [
    "#For Nuclear Recoils \n",
    "\n",
    "ER = []\n",
    "Yield = []\n",
    "\n",
    "import sys\n",
    "sys.path.insert(0,'/Users/Mitch/Desktop/nrFano_Constraint/python')\n",
    "import lindhard as lind\n",
    "lpar = lind.getLindhardPars('Ge',True)\n",
    "\n",
    "N = 10000\n",
    "#Er = np.random.uniform(0,200,N)\n",
    "#Er = np.arange(0.1,200,0.01999)\n",
    "Er = np.random.exponential(40,np.uint32(N*0.3))\n",
    "\n",
    "for i in np.arange(0,N):\n",
    "    \n",
    "    Enr = np.random.choice(Er)\n",
    "    \n",
    "    a = 0.16\n",
    "    b = 0.18 \n",
    "    c = 0.04\n",
    "    A = Enr**(1-b)\n",
    "    B = Enr**(1-2*b)\n",
    "    C = Enr**(1-3*b)\n",
    "    \n",
    "     #use the \"calculated\" value of k\n",
    "    Y = lind.getLindhard(lpar)\n",
    "    \n",
    "    #EdelWeiss Fano\n",
    "    \n",
    "    F = c**2/((eps*a/(A))+(2*V*a**2/(B*1000))+(2*(V/1000)**2*a**3/(eps*C)))\n",
    "    \n",
    "    #Constant Fano\n",
    "    #F = 0\n",
    "    \n",
    "    Neh = Y(Enr*1000)*Enr/eps #number of electron-hole pairs. \n",
    "    \n",
    "    N_eh = Neh + np.random.normal(0,np.sqrt(F*Neh))\n",
    "    \n",
    "    Ptnr = Enr+(V/1000)*N_eh #central value of Pt\n",
    "    Qnr = N_eh*eps\n",
    "\n",
    "   #With Fano Factor. (added in N_eh calculation )\n",
    "    sig_p = np.sqrt(p_alpha + p_beta*Ptnr + p_gamma*(Ptnr**2))  #Phonon uncertainty (energy dependent)\n",
    "    sig_q = np.sqrt(q_alpha + q_beta*Qnr + q_gamma*(Qnr**2)) #Charge uncertainty \n",
    "\n",
    "    \n",
    "    Fnr = np.random.normal(0.0,sig_p) #random sample assuming phonon variance \n",
    "    Fq = np.random.normal(0.0,sig_q) #random sampel assuming charge variance \n",
    "    \n",
    "\n",
    "    Ptnr1 = Ptnr + Fnr \n",
    "    \n",
    "    Qnr1 = Qnr + Fq \n",
    "    \n",
    "    Ernr = Ptnr1 - (V/(eps*1000))*Qnr1 #Meaured ER\n",
    "    \n",
    "    yield1 = Qnr1 / Ernr #Measured Yield \n",
    "\n",
    "    \n",
    "    #Store Shit \n",
    "\n",
    "    ER.append(Ernr)\n",
    "    Yield.append(yield1)\n",
    "    "
   ]
  },
  {
   "cell_type": "code",
   "execution_count": 4,
   "metadata": {},
   "outputs": [],
   "source": [
    "# Make band Fits (Thank you Anthony)\n",
    "\n",
    "# files contain fits from previous data. I believe that they are fits from real data. As seen, the model has a significantly narrower spread the fits \n",
    "# from the data \n",
    "\n",
    "bpar_er = rfr.getBandFunc('data/erband_R133') #reads in band data/fit for er data\n",
    "bpar_nr = rfr.getBandFunc('data/nrband_R133') #reads in band data/fit for nr data \n",
    "\n",
    "yer_mu = rfr.makeBFunc(bpar_er[1]['mu']) # sets average fit from 1st (2nd) col in data table. \n",
    "yer_muv = np.vectorize(yer_mu) #puts mean data for er in 1D array \n",
    "yer_sig = rfr.makeBFunc(bpar_er[1]['sig'],True) #sets uncertainty \n",
    "yer_sigv = np.vectorize(yer_sig) #puts uncertainty into 1D array\n",
    "\n",
    "#following does the same but for nuclear recoils. \n",
    "ynr_mu = rfr.makeBFunc(bpar_nr[1]['mu'])\n",
    "ynr_muv = np.vectorize(ynr_mu)\n",
    "ynr_sig = rfr.makeBFunc(bpar_nr[1]['sig'],True)\n",
    "ynr_sigv = np.vectorize(ynr_sig)\n",
    "\n",
    "# try new fit\n",
    "\n",
    "xn = np.arange(0.1,100,0.1)\n",
    "m, c = np.polyfit(ER, Yield, 1)\n",
    "yn = np.polyval([m, c], xn)"
   ]
  },
  {
   "cell_type": "code",
   "execution_count": 5,
   "metadata": {},
   "outputs": [
    {
     "name": "stdout",
     "output_type": "stream",
     "text": [
      "9746 9746\n"
     ]
    }
   ],
   "source": [
    "data = np.vstack((ER,Yield)).T\n",
    "x = data[data[:,1]>=0, :]\n",
    "a = x[:,1]\n",
    "Enr = x[:,0]\n",
    "\n",
    "#X = np.linspace(0,200,len(a))\n",
    "X = Enr\n",
    "print(len(a),len(X))"
   ]
  },
  {
   "cell_type": "code",
   "execution_count": 6,
   "metadata": {},
   "outputs": [
    {
     "name": "stderr",
     "output_type": "stream",
     "text": [
      "/Users/Mitch/Desktop/nrFano_Constraint/Band_Fits/resfuncRead.py:74: RuntimeWarning: invalid value encountered in power\n",
      "  f = lambda x: vec[0]*(x**vec[1])\n",
      "/Users/Mitch/Desktop/nrFano_Constraint/Band_Fits/resfuncRead.py:76: RuntimeWarning: invalid value encountered in power\n",
      "  f = lambda x: np.piecewise(x, [x <= vec[2], x > vec[2]], [lambda t: np.sqrt(vec[1]*t**vec[3] + vec[0])/t, lambda t: np.sqrt(vec[1]*vec[2]**vec[3]+vec[0])/vec[2]])\n"
     ]
    },
    {
     "name": "stdout",
     "output_type": "stream",
     "text": [
      "1011 1719\n",
      "72.7\n"
     ]
    }
   ],
   "source": [
    "#For Nuclear Recoil Bands: 1 sigma  \n",
    "\n",
    "\n",
    "upper = ynr_mu(X)+1*ynr_sigv(X)\n",
    "lower = ynr_mu(X)-1*ynr_sigv(X)\n",
    "count = []\n",
    "count1 = [] \n",
    "num = []\n",
    "num1 = [] \n",
    "\n",
    "\n",
    "for x,y in zip(a, upper): \n",
    "    if x >= y:\n",
    "        n = 1\n",
    "    else:\n",
    "        n = 0 \n",
    "    count.append(n)\n",
    "    \n",
    "for x,y in zip(a,lower):\n",
    "    if x <= y:\n",
    "        n = 1\n",
    "    else:\n",
    "        n = 0\n",
    "    count1.append(n)       \n",
    "        \n",
    "        \n",
    "for i in count: \n",
    "    if i == 1:\n",
    "        #print(x)\n",
    "        num.append(i)     \n",
    "#print(len(num)\n",
    "    \n",
    "for i in count1: \n",
    "    if i == 1:\n",
    "        #print(x)\n",
    "        num1.append(i)     \n",
    "#print(len(num1))\n",
    "\n",
    "print(len(num),len(num1))\n",
    "\n",
    "percent = 100*(N - np.abs(len(num)+len(num1)))/N\n",
    "\n",
    "print(percent)\n"
   ]
  },
  {
   "cell_type": "code",
   "execution_count": null,
   "metadata": {},
   "outputs": [],
   "source": [
    "#For Nuclear Recoil Bands: 2 sigma  \n",
    "\n",
    "\n",
    "upper = ynr_mu(X)+2*ynr_sigv(X)\n",
    "lower = ynr_mu(X)-2*ynr_sigv(X)\n",
    "count = []\n",
    "count1 = [] \n",
    "num = []\n",
    "num1 = [] \n",
    "\n",
    "\n",
    "for x,y in zip(a, upper): \n",
    "    if x >= y:\n",
    "        n = 1\n",
    "    else:\n",
    "        n = 0 \n",
    "    count.append(n)\n",
    "    \n",
    "for x,y in zip(a,lower):\n",
    "    if x <= y:\n",
    "        n = 1\n",
    "    else:\n",
    "        n = 0\n",
    "    count1.append(n)       \n",
    "        \n",
    "        \n",
    "for i in count: \n",
    "    if i == 1:\n",
    "        #print(x)\n",
    "        num.append(i)     \n",
    "#print(len(num)\n",
    "    \n",
    "for i in count1: \n",
    "    if i == 1:\n",
    "        #print(x)\n",
    "        num1.append(i)     \n",
    "#print(len(num1))\n",
    "\n",
    "print(len(num),len(num1))\n",
    "\n",
    "percent2 = 100*(N - np.abs(len(num)+len(num1)))/N\n",
    "\n"
   ]
  },
  {
   "cell_type": "code",
   "execution_count": 7,
   "metadata": {},
   "outputs": [
    {
     "name": "stderr",
     "output_type": "stream",
     "text": [
      "/Users/Mitch/Desktop/nrFano_Constraint/Band_Fits/resfuncRead.py:74: RuntimeWarning: invalid value encountered in power\n",
      "  f = lambda x: vec[0]*(x**vec[1])\n",
      "/Users/Mitch/Desktop/nrFano_Constraint/Band_Fits/resfuncRead.py:76: RuntimeWarning: invalid value encountered in power\n",
      "  f = lambda x: np.piecewise(x, [x <= vec[2], x > vec[2]], [lambda t: np.sqrt(vec[1]*t**vec[3] + vec[0])/t, lambda t: np.sqrt(vec[1]*vec[2]**vec[3]+vec[0])/vec[2]])\n"
     ]
    },
    {
     "data": {
      "image/png": "[encoded data removed]",
      "text/plain": [
       "<matplotlib.figure.Figure at 0x10890afd0>"
      ]
     },
     "metadata": {},
     "output_type": "display_data"
    }
   ],
   "source": [
    "#X = np.arange(0.1,200,0.01999)\n",
    "X = Enr\n",
    "X = np.sort(X)\n",
    "fig,axes = plt.subplots(1,1,figsize=(9.0,8.0),sharex=True)\n",
    "ax1 = axes\n",
    "\n",
    "ax1.plot(Enr,a,'+',color='b',linewidth=2,markersize=3,label = \"$E_{nr}$\")\n",
    "ax1.plot(X,ynr_mu(X)+1*ynr_sig(X),'r-')\n",
    "ax1.plot(X,ynr_mu(X)-1*ynr_sig(X),'r-')\n",
    "\n",
    "ax1.plot(X,ynr_mu(X)+2*ynr_sig(X),'m-')\n",
    "ax1.plot(X,ynr_mu(X)-2*ynr_sig(X),'m-')\n",
    "\n",
    "ax1.plot(X,ynr_mu(X)+3*ynr_sig(X),'o-')\n",
    "ax1.plot(X,ynr_mu(X)-3*ynr_sig(X),'o-')\n",
    "\n",
    "ax1.plot()\n",
    "ax1.set_ylim(0,1)\n",
    "ax1.set_xlim(0,200)\n",
    "\n",
    "plt.show()"
   ]
  },
  {
   "cell_type": "code",
   "execution_count": null,
   "metadata": {},
   "outputs": [],
   "source": []
  }
 ],
 "metadata": {
  "kernelspec": {
   "display_name": "Python 3",
   "language": "python",
   "name": "python3"
  },
  "language_info": {
   "codemirror_mode": {
    "name": "ipython",
    "version": 3
   },
   "file_extension": ".py",
   "mimetype": "text/x-python",
   "name": "python",
   "nbconvert_exporter": "python",
   "pygments_lexer": "ipython3",
   "version": "3.6.4"
  }
 },
 "nbformat": 4,
 "nbformat_minor": 2
}
