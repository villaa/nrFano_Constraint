{
 "cells": [
  {
   "cell_type": "code",
   "execution_count": 1,
   "metadata": {},
   "outputs": [],
   "source": [
    "%load_ext autoreload\n",
    "%autoreload 2\n",
    "import numpy as np\n",
    "import matplotlib.pyplot as plt\n",
    "import resfuncRead as rfr\n",
    "from scipy.stats import kde\n",
    "from data_check import *\n",
    "from Band_plots import *\n",
    "from ER_Yield import Yield_Er \n",
    "from NR_Yield import Yield_Nr\n",
    "from bin_data_check import * \n",
    "from Dist_check import *  \n",
    "from Data_check_continuous import * \n"
   ]
  },
  {
   "cell_type": "code",
   "execution_count": 2,
   "metadata": {},
   "outputs": [],
   "source": [
    "from prob_dist import * \n",
    "from Dist_check import * \n",
    "\n",
    "N_mean = 45454\n",
    "SN = 476\n",
    "Sq = 2\n",
    "Sp = 7\n",
    "Er = 149\n",
    "V = 0.004\n",
    "e = 0.003\n",
    "\n",
    "Yield = np.linspace(0,2,1000)\n",
    "\n",
    "'''\n",
    "#parameters\n",
    "N_mean = 10\n",
    "SN = 1\n",
    "Sq = 1\n",
    "Sp = 1\n",
    "Er = 10\n",
    "V = 1\n",
    "e = 1\n",
    "'''\n",
    "prob = ratio_dist_fano(Yield,Er,N_mean,Sp,Sq,SN,V,e)\n",
    "\n"
   ]
  },
  {
   "cell_type": "code",
   "execution_count": 3,
   "metadata": {},
   "outputs": [
    {
     "data": {
      "image/png": "[encoded data removed]",
      "text/plain": [
       "<Figure size 432x288 with 1 Axes>"
      ]
     },
     "metadata": {
      "needs_background": "light"
     },
     "output_type": "display_data"
    }
   ],
   "source": [
    "plt.plot(Yield,prob)\n",
    "plt.show()"
   ]
  },
  {
   "cell_type": "code",
   "execution_count": null,
   "metadata": {},
   "outputs": [],
   "source": []
  }
 ],
 "metadata": {
  "kernelspec": {
   "display_name": "Python 3",
   "language": "python",
   "name": "python3"
  },
  "language_info": {
   "codemirror_mode": {
    "name": "ipython",
    "version": 3
   },
   "file_extension": ".py",
   "mimetype": "text/x-python",
   "name": "python",
   "nbconvert_exporter": "python",
   "pygments_lexer": "ipython3",
   "version": "3.7.3"
  }
 },
 "nbformat": 4,
 "nbformat_minor": 2
}
