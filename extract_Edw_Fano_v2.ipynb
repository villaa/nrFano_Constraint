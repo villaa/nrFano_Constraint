{
 "cells": [
  {
   "cell_type": "code",
   "execution_count": 1,
   "metadata": {},
   "outputs": [
    {
     "name": "stdout",
     "output_type": "stream",
     "text": [
      "0.011174930009263158\n",
      "0.08939576831004463\n",
      "0.4900072920263978\n",
      "0.42803553125110216\n",
      "1.9086446513123092\n",
      "7.027725202858449\n",
      "0.05961010704940249\n"
     ]
    }
   ],
   "source": [
    "import prob_dist as pd\n",
    "import resfuncRead as rfr\n",
    "\n",
    "\n",
    "ptres = rfr.getRFunc('data/jardin_ptres.txt')\n",
    "\n",
    "qres = rfr.getRFunc('data/jardin_qsummaxres.txt')\n",
    "\n",
    "fp = rfr.makeRFunc(ptres[1]['sqrt'])\n",
    "\n",
    "fq = rfr.makeRFunc(qres[1]['lin'],True)\n",
    "\n",
    "sigp = lambda x: fp(x) #convert from eV\n",
    "\n",
    "sigq = lambda x: fq(x) #convert from eV\n",
    "\n",
    "f = pd.YEr_v2_2D(sigp,sigq,4,(3.3/1000),1)\n",
    "\n",
    "\n",
    "print(f(0.25,10,10))\n",
    "\n",
    "\n",
    "g = pd.YErSpec_v2_2D(f)\n",
    "\n",
    "print(g(0.25,10))\n"
   ]
  },
  {
   "cell_type": "code",
   "execution_count": null,
   "metadata": {},
   "outputs": [],
   "source": []
  }
 ],
 "metadata": {
  "kernelspec": {
   "display_name": "Python [conda env:py365]",
   "language": "python",
   "name": "conda-env-py365-py"
  },
  "language_info": {
   "codemirror_mode": {
    "name": "ipython",
    "version": 3
   },
   "file_extension": ".py",
   "mimetype": "text/x-python",
   "name": "python",
   "nbconvert_exporter": "python",
   "pygments_lexer": "ipython3",
   "version": "3.6.5"
  }
 },
 "nbformat": 4,
 "nbformat_minor": 2
}
