{
 "cells": [
  {
   "cell_type": "code",
   "execution_count": 1,
   "metadata": {},
   "outputs": [],
   "source": [
    "#we may need some code in the ../python directory and/or matplotlib styles\n",
    "import sys\n",
    "import matplotlib as mpl\n",
    "sys.path.append('../python/')\n",
    "os.environ['MPLCONFIGDIR'] = '../mplstyles'\n",
    "\n",
    "\n",
    "#fonts\n",
    "# Set the font dictionaries (for plot title and axis titles)\n",
    "title_font = {'fontname':'Arial', 'size':'16', 'color':'black', 'weight':'normal',\n",
    "              'verticalalignment':'bottom'} # Bottom vertical alignment for more space\n",
    "axis_font = {'fontname':'Arial', 'size':'32'}\n",
    "legend_font = {'fontname':'Arial', 'size':'22'}\n",
    "\n",
    "#fonts global settings\n",
    "mpl.rc('font',family=legend_font['fontname'])\n",
    "\n",
    "import numpy as np\n",
    "#set up a plot \n",
    "from matplotlib import pyplot as plt\n",
    "#got smarter about the mpl config: see mplstyles/ directory\n",
    "plt.style.use('standard')"
   ]
  },
  {
   "cell_type": "markdown",
   "metadata": {},
   "source": [
    "# Joint Distributions of $E_p$ and $E_q$ with SuperCDMS Goal Resolutions\n",
    "\n",
    "variable/constant name|Description \n",
    ":-|:-\n",
    "Y|measured ionization yield \n",
    "N|number of e/h pairs\n",
    "$\\delta Q$ | instrumental fluctuation on the ionization measurement\n",
    "$\\delta P$ | instrumental fluctuation on the phonon measurement\n",
    "$E_r$ | true recoil energy\n",
    "$\\epsilon$ | average energy to create a single electron-hole pair for an electron-recoil in keV\n",
    "$V$ |voltage across the detector in Volts\n",
    "F | effective Fano factor for nuclear-recoils"
   ]
  },
  {
   "cell_type": "code",
   "execution_count": null,
   "metadata": {},
   "outputs": [],
   "source": []
  }
 ],
 "metadata": {
  "kernelspec": {
   "display_name": "Python [conda env:py365]",
   "language": "python",
   "name": "conda-env-py365-py"
  },
  "language_info": {
   "codemirror_mode": {
    "name": "ipython",
    "version": 3
   },
   "file_extension": ".py",
   "mimetype": "text/x-python",
   "name": "python",
   "nbconvert_exporter": "python",
   "pygments_lexer": "ipython3",
   "version": "3.6.5"
  }
 },
 "nbformat": 4,
 "nbformat_minor": 2
}
