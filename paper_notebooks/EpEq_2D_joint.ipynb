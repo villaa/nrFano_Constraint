{
 "cells": [
  {
   "cell_type": "code",
   "execution_count": 1,
   "metadata": {},
   "outputs": [],
   "source": [
    "#we may need some code in the ../python directory and/or matplotlib styles\n",
    "import sys\n",
    "import matplotlib as mpl\n",
    "sys.path.append('../python/')\n",
    "os.environ['MPLCONFIGDIR'] = '../mplstyles'\n",
    "\n",
    "\n",
    "#fonts\n",
    "# Set the font dictionaries (for plot title and axis titles)\n",
    "title_font = {'fontname':'Arial', 'size':'16', 'color':'black', 'weight':'normal',\n",
    "              'verticalalignment':'bottom'} # Bottom vertical alignment for more space\n",
    "axis_font = {'fontname':'Arial', 'size':'32'}\n",
    "legend_font = {'fontname':'Arial', 'size':'22'}\n",
    "\n",
    "#fonts global settings\n",
    "mpl.rc('font',family=legend_font['fontname'])\n",
    "\n",
    "import numpy as np\n",
    "#set up a plot \n",
    "from matplotlib import pyplot as plt\n",
    "#got smarter about the mpl config: see mplstyles/ directory\n",
    "plt.style.use('standard')"
   ]
  },
  {
   "cell_type": "markdown",
   "metadata": {},
   "source": [
    "# Joint Distributions of $E_p$ and $E_q$ with SuperCDMS Goal Resolutions\n",
    "\n",
    "variable/constant name|Description \n",
    ":-|:-\n",
    "Y|measured ionization yield \n",
    "N|number of e/h pairs\n",
    "$\\delta Q$ | instrumental fluctuation on the ionization measurement\n",
    "$\\delta P$ | instrumental fluctuation on the phonon measurement\n",
    "$E_r$ | true recoil energy\n",
    "$\\epsilon$ | average energy to create a single electron-hole pair for an electron-recoil in keV\n",
    "$V$ |voltage across the detector in Volts\n",
    "F | effective Fano factor for nuclear-recoils"
   ]
  },
  {
   "cell_type": "code",
   "execution_count": 5,
   "metadata": {},
   "outputs": [
    {
     "name": "stdout",
     "output_type": "stream",
     "text": [
      "0.01174313789596759\n"
     ]
    }
   ],
   "source": [
    "#constants\n",
    "V=4.0\n",
    "eps=3.3/1000.0\n",
    "F=0.00001\n",
    "\n",
    "#get baseline resolutions for SuperCDMS goal for iZIPs\n",
    "sig0p = 0.050 #50 eV\n",
    "sig0q = 0.100 #100 eV\n",
    "\n",
    "\n",
    "#sigp and sigq functions for ERs\n",
    "sigp = lambda E: np.sqrt(sig0p**2 + 0.1*E)\n",
    "sigq = lambda E: np.sqrt(sig0q**2 + 0.1*E)\n",
    "\n",
    "#get the 2D resolution function\n",
    "import prob_dist as pd\n",
    "P = pd.EpEq_v2_2D_fast(sigp,sigq,V,eps) #currently using Edw ionization yield model (not Lindhard)\n",
    "\n",
    "#test for reasonable pars\n",
    "Er0 = 5\n",
    "Eq0 = (0.16*Er0**0.18)*Er0\n",
    "Ep0 = Er0 + (V/(1000*eps))*Eq0\n",
    "print(P(Ep0,Eq0,Er0))"
   ]
  },
  {
   "cell_type": "code",
   "execution_count": null,
   "metadata": {},
   "outputs": [],
   "source": []
  }
 ],
 "metadata": {
  "kernelspec": {
   "display_name": "Python [conda env:py365]",
   "language": "python",
   "name": "conda-env-py365-py"
  },
  "language_info": {
   "codemirror_mode": {
    "name": "ipython",
    "version": 3
   },
   "file_extension": ".py",
   "mimetype": "text/x-python",
   "name": "python",
   "nbconvert_exporter": "python",
   "pygments_lexer": "ipython3",
   "version": "3.6.5"
  }
 },
 "nbformat": 4,
 "nbformat_minor": 2
}
