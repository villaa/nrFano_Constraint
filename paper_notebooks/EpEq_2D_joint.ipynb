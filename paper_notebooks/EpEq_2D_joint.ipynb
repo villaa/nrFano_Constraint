{
 "cells": [
  {
   "cell_type": "code",
   "execution_count": 1,
   "metadata": {},
   "outputs": [],
   "source": [
    "#we may need some code in the ../python directory and/or matplotlib styles\n",
    "import sys\n",
    "import matplotlib as mpl\n",
    "sys.path.append('../python/')\n",
    "os.environ['MPLCONFIGDIR'] = '../mplstyles'\n",
    "\n",
    "\n",
    "#fonts\n",
    "# Set the font dictionaries (for plot title and axis titles)\n",
    "title_font = {'fontname':'Arial', 'size':'16', 'color':'black', 'weight':'normal',\n",
    "              'verticalalignment':'bottom'} # Bottom vertical alignment for more space\n",
    "axis_font = {'fontname':'Arial', 'size':'32'}\n",
    "legend_font = {'fontname':'Arial', 'size':'22'}\n",
    "\n",
    "#fonts global settings\n",
    "mpl.rc('font',family=legend_font['fontname'])\n",
    "\n",
    "import numpy as np\n",
    "#set up a plot \n",
    "from matplotlib import pyplot as plt\n",
    "#got smarter about the mpl config: see mplstyles/ directory\n",
    "plt.style.use('standard')"
   ]
  },
  {
   "cell_type": "markdown",
   "metadata": {},
   "source": [
    "# Joint Distributions of $E_p$ and $E_q$ with SuperCDMS Goal Resolutions\n",
    "\n",
    "The purpose of this notebook is to detail the calculation of the joint distribution of $E_p$ and $E_q$ (the phonon and ionization energies) for SuperCDMS iZIP detectors with the SuperCDMS SNOLAB goal resolutions. Specifically, we are interested in at which energy the electron-recoil (ER) and nuclear-recoil (NR) bands overlap for a given effective nuclear-recoil Fano factor. The lower this energy is the more low-mass reach the iZIP SuperCDMS search will have in an essentially background-free environment. \n",
    "\n",
    "Like the notebook `QEr_2D_joint.ipynb` we will build up the distributions from conditional probability arguments beginning with the random variables and constants in the following table. \n",
    "\n",
    "variable/constant name|Description \n",
    ":-|:-\n",
    "Y|measured ionization yield \n",
    "N|number of e/h pairs\n",
    "$\\delta Q$ | instrumental fluctuation on the ionization measurement\n",
    "$\\delta P$ | instrumental fluctuation on the phonon measurement\n",
    "$E_r$ | true recoil energy\n",
    "$\\epsilon$ | average energy to create a single electron-hole pair for an electron-recoil in keV\n",
    "$V$ |voltage across the detector in Volts\n",
    "F | effective Fano factor for nuclear-recoils\n",
    "\n",
    "We seek the joint distribution of $E_p$ and $E_q$ given a fixed true energy, $E_r$. It is equal to the 5-variable joint distribution integrated appropriately over the 3 unwanted variables. \n",
    "\n",
    "\\begin{equation}\n",
    "P(E_p,E_q | E_r) = \\int_{-\\infty}^{\\infty} d(\\delta P) \\int_{-\\infty}^{\\infty} d(\\delta Q) \\int_0^{\\infty} dN\n",
    " P(E_p,E_q,\\delta P,\\delta Q, N | E_r)\n",
    "\\end{equation}\n",
    "\n",
    "The technique used is to write down the 5-variable joint distribution based on the rules of conditional probability and the fact that N, $\\delta P$, and $\\delta Q$ are independent random variables. Then the appropriate integrals can be carried out analytically or numerically."
   ]
  },
  {
   "cell_type": "markdown",
   "metadata": {},
   "source": [
    "## Resolutions\n",
    "\n",
    "In addition to the variables already defined we need some kind of specifications for the (assumed Gaussian) resolutions on the three fundamental measured variables: N, $\\delta Q$, and $\\delta P$. The resolutions are denoted $\\sigma_N$, $\\sigma_q$, and $\\sigma_p$ respectively, and are assumed to be functions of the true recoil energy $E_r$.\n",
    "\n",
    "Both the $\\sigma_q(E_r)$ and the $\\sigma_p(E_r)$ are composed of the baseline resolutions in the SuperCDMS SNOLAB sensitivity paper [REF] and reasonable guesses for the energy-dependent reconstruction resolution. \n",
    "\n",
    "The $\\sigma_N$ is the standard deviation of the number of electron-hole pairs, which can be computed (for a fixed $E_r$) using the effective Fano factor F. It is given simply by:\n",
    "\n",
    "\\begin{equation}\n",
    "\\sigma_N(E_r) = \\sqrt{F(\\bar{Y}E_r/\\epsilon)},\n",
    "\\end{equation}\n",
    "\n",
    "Where $\\bar{Y}$ is the mean ionization yield at $E_r$. Whenever $\\bar{Y}$ is written it is tacitly assumed to be a function of the true recoil energy, $E_r$."
   ]
  },
  {
   "cell_type": "code",
   "execution_count": 5,
   "metadata": {},
   "outputs": [
    {
     "name": "stdout",
     "output_type": "stream",
     "text": [
      "0.01174313789596759\n"
     ]
    }
   ],
   "source": [
    "#constants\n",
    "V=4.0\n",
    "eps=3.3/1000.0\n",
    "F=0.00001\n",
    "\n",
    "#get baseline resolutions for SuperCDMS goal for iZIPs\n",
    "sig0p = 0.050 #50 eV\n",
    "sig0q = 0.100 #100 eV\n",
    "\n",
    "\n",
    "#sigp and sigq functions for ERs\n",
    "sigp = lambda E: np.sqrt(sig0p**2 + 0.1*E)\n",
    "sigq = lambda E: np.sqrt(sig0q**2 + 0.1*E)\n",
    "\n",
    "#get the 2D resolution function\n",
    "import prob_dist as pd\n",
    "P = pd.EpEq_v2_2D_fast(sigp,sigq,V,eps) #currently using Edw ionization yield model (not Lindhard)\n",
    "\n",
    "#test for reasonable pars\n",
    "Er0 = 5\n",
    "Eq0 = (0.16*Er0**0.18)*Er0\n",
    "Ep0 = Er0 + (V/(1000*eps))*Eq0\n",
    "print(P(Ep0,Eq0,Er0))"
   ]
  },
  {
   "cell_type": "code",
   "execution_count": null,
   "metadata": {},
   "outputs": [],
   "source": []
  }
 ],
 "metadata": {
  "kernelspec": {
   "display_name": "Python [conda env:py365]",
   "language": "python",
   "name": "conda-env-py365-py"
  },
  "language_info": {
   "codemirror_mode": {
    "name": "ipython",
    "version": 3
   },
   "file_extension": ".py",
   "mimetype": "text/x-python",
   "name": "python",
   "nbconvert_exporter": "python",
   "pygments_lexer": "ipython3",
   "version": "3.6.5"
  }
 },
 "nbformat": 4,
 "nbformat_minor": 2
}
