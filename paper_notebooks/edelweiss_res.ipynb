{
 "cells": [
  {
   "cell_type": "markdown",
   "metadata": {},
   "source": [
    "## Summary\n",
    "\n",
    "Edelweiss published a paper detailing the resolution of their detectors and also the width of their electron and nuclear recoil bands (https://doi.org/10.1016/j.nima.2004.04.218).  \n",
    "\n",
    "I suggest we use their model for detector GGA3, for which all of the constants needed for their parametrization of the measured band widths are given.\n",
    "\n",
    "This notebook (1) defines the resoultion functions used by Edelweiss and (2) reproduces Edelweiss plots to convince the reader this interpretation is correct.\n",
    "\n",
    "## Band Widths\n",
    "Edelweiss parametrizes their band widths for all detectors (see eq'ns 9, 10, and 11 from the above paper).  \n",
    "\n",
    "$$\\sigma_{Q\\gamma}(E_R) = \\frac{1 + V/3}{E_R}\\sqrt{\\sigma_I^2 + \\sigma_H^2}$$\n",
    "\n",
    "$$\\sigma_{Qn}(E_R) = \\sqrt{C^2 + \\frac{1}{E^2_R} \\left( \\left(1+\\frac{V}{3}\\langle Q_n\\rangle\\right)^2\\sigma_I^2 + \\left( 1+\\frac{V}{3}\\right)^2\\langle Q_n\\rangle^2\\sigma_H^2\\right)} $$\n",
    "\n",
    "where $\\langle Q_n \\rangle$, $\\sigma_I^2$, and $\\sigma_H^2$ are all functions of the true recoil energy $E_R$. The yield $\\langle Q_n \\rangle = 0.16 E_R^{0.18}$.  The terms $\\sigma_I^2$ and $\\sigma_H^2$ should be read as \"the heat/ionization resolution for an energy deposit of $E_R$.\"  For the electron recoil band and $\\sigma_{Q\\gamma}$, the arguments for$\\sigma_I^2$ $\\sigma_H^2$ are $E_R$ since for electron recoils, $E_I = E_R$ and $E_H = E_R$.  For nuclear recoils the heat and ionization energy are not identical to the energy $E_R$ and are defined in the section below.\n",
    "\n",
    "It is useful to express the above resolution functions purely in terms of the recoil energy $E_R$:\n",
    "\n",
    "$$\\sigma_{Q\\gamma}(E_R) = \\frac{1 + V/3}{E_R}\\sqrt{(\\sigma_I^0)^2 + (a'_I E_R)^2 + (\\sigma_H^0)^2 + (a'_H E_R)^2}$$\n",
    "\n",
    "$$\\sigma_{Qn}(E_R) = \\left\\{ C^2 + \\frac{1}{E^2_R} \\left( \\left(1+\\frac{V}{3} 0.16 E_R^{0.18}\\right)^2 \\left((\\sigma_I^0)^2 + (a'_I 0.16 E_R^{0.18}\\times E_R)^2\\right) \\\\\n",
    "+ \\left( 1+\\frac{V}{3}\\right)^2 (0.16 E_R^{0.18})^2\\left((\\sigma_H^0)^2 + (a'_H \\times \\frac{1+\\frac{V}{3~eV} \\langle Q_n \\rangle(E_R)}{1+\\frac{V}{3~eV}} \\times E_R)^2\\right)\\right)\\right\\}^{1/2} $$\n",
    "\n",
    "\n",
    "\n",
    "### Fitting constants for resolutions $\\sigma_I(E_I)$, $\\sigma_H(E_H)$\n",
    "$$\n",
    "\\sigma_I(E_I) = \\sqrt{(\\sigma_I^0)^2 + (a'_I E_I)^2} \\\\\n",
    "\\sigma_H(E_H) = \\sqrt{(\\sigma_H^0)^2 + (a'_H E_H)^2}\n",
    "$$\n",
    "\n",
    "The heat and ionization resolutions $\\sigma_I^2$ and $\\sigma_H^2$ each have two fitting constants, a constant and a quadratic-in-energy term.  Both resolutions are defined from the widths of gamma peaks - in other words, electron recoils are used to define the resolutions.  For electron recoils, $E_R = E_I = E_H$ and the true recoil energy of the gamma peaks should be used for any fitting of the resoultion functions.\n",
    "\n",
    "The constant terms are defined from the zero-energy resolution: $\\sigma_I^0 = \\sqrt{(\\sigma_{center}^0)^2 + (\\sigma_{guard}^0)^2}$.  The quantities $\\sigma_{center}^0$, $\\sigma_{guard}^0$, and $\\sigma_H^0$ can be found from Table 2, which gives the FWHM at 0 keV of the center and guard ionization signals and heat signal.\n",
    "\n",
    "The quantity $a_I$ is fixed by requiring that $FWHM_I(122 keV) = \\sqrt{(FWHM_I^0)^2 + (a_I*122 keV)^2}$; the FWHM of the ionization signal at 122 keV is also given in Table 2.  This is the quantity reported in the paper.  It is important to note that the $a_I$ and $a_H$ reported in the paper are appropriate for calculating FWHM quantities, not standard deviation quantities.  To calculate standard deviations it is necessary to convert:\n",
    "\n",
    "$$a'_I = \\frac{a_I}{2*\\sqrt{2*\\log{2}}}$$\n",
    "\n",
    "The quantity $a_H$ (and $a'_H$) would be determined like $a_I$ above, but for 252Cf calibrations (and also 60Co calibrations), they found they needed to make $a_H$ larger to account for the width of the electron-recoil band.  They hypothesize that this is due to position-dependence of the resolution.\n",
    "\n",
    "### Energy scale for resolutions $\\sigma_I(E_I)$, $\\sigma_H(E_H)$\n",
    "\n",
    "The resolutions are calculated from the widths of gamma peaks (in other words, from electron recoils).  For electron recoils, the ionization and heat energies are exactly the recoil energy, $E_I = E_H = E_R$.\n",
    "\n",
    "For nuclear recoils, the appropriate quantity to give to the resolution function is the ionization energy $E_I$ produced by a nuclear recoil of energy $E_R$ and the heat energy produced by the recoil energy $E_R$.  These are as follows:\n",
    "\n",
    "$$\n",
    "E_I = \\langle Q_n \\rangle(E_R)\\times E_R \\\\\n",
    "E_H = \\frac{1+\\frac{V}{3~eV} \\langle Q_n \\rangle(E_R)}{1+\\frac{V}{3~eV}} \\times E_R\n",
    "$$\n",
    "\n",
    "### Fitting constant $C$\n",
    "The quantity C is also determined from data; C is varied to fit the width of the neutron band from 252Cf calibrations and is typically 0.04. \n",
    "\n",
    "For detector GGA3, the voltage is -4 V, a_H is 0.035, and C is 0.04.  $\\sigma_I^0$ is 0.843 keVee, $\\sigma_H^0$ is 0.171 keVee, and $a_I$ is 0.0083.  The voltage, $a_H$, and C are given directly in the paper; the other quantities are calculated from Table 2.\n",
    "\n",
    "\n"
   ]
  },
  {
   "cell_type": "markdown",
   "metadata": {},
   "source": [
    "## Cross-check on $a_H$: Heat resolution of GGAl10"
   ]
  },
  {
   "cell_type": "code",
   "execution_count": 1,
   "metadata": {
    "collapsed": true
   },
   "outputs": [],
   "source": [
    "import numpy as np\n",
    "from functools import partial\n",
    "import pandas as pd\n",
    "#import matplotlib as mpl\n",
    "#mpl.rcParams['legend.numpoints'] = 1\n",
    "import matplotlib.pyplot as plt\n",
    "%matplotlib inline \n",
    "#import mpld3\n",
    "#mpld3.enable_notebook()\n",
    "\n",
    "import sys\n",
    "sys.path.append('../python/')\n",
    "from EdwRes import *"
   ]
  },
  {
   "cell_type": "code",
   "execution_count": 2,
   "metadata": {
    "collapsed": true
   },
   "outputs": [],
   "source": [
    "get_heatRes_func(0.843*2.355, 3.1)\n",
    "heatRes_GGAl10 = get_heatRes_func(0.4, 3.5)\n",
    "heatRes_GGAl10_guard = get_heatRes_func(0.655, 4.0)"
   ]
  },
  {
   "cell_type": "code",
   "execution_count": 3,
   "metadata": {
    "collapsed": false
   },
   "outputs": [
    {
     "ename": "OSError",
     "evalue": "File b'resolution_GeAl10_dataPoints_correctedEnergies.txt' does not exist",
     "output_type": "error",
     "traceback": [
      "\u001b[0;31m---------------------------------------------------------------------------\u001b[0m",
      "\u001b[0;31mOSError\u001b[0m                                   Traceback (most recent call last)",
      "\u001b[0;32m<ipython-input-3-74c301a2e5b4>\u001b[0m in \u001b[0;36m<module>\u001b[0;34m()\u001b[0m\n\u001b[0;32m----> 1\u001b[0;31m \u001b[0mheatRes_data\u001b[0m \u001b[1;33m=\u001b[0m \u001b[0mpd\u001b[0m\u001b[1;33m.\u001b[0m\u001b[0mread_csv\u001b[0m\u001b[1;33m(\u001b[0m\u001b[1;34m\"resolution_GeAl10_dataPoints_correctedEnergies.txt\"\u001b[0m\u001b[1;33m,\u001b[0m \u001b[0mskiprows\u001b[0m\u001b[1;33m=\u001b[0m\u001b[1;36m1\u001b[0m\u001b[1;33m)\u001b[0m\u001b[1;33m\u001b[0m\u001b[0m\n\u001b[0m\u001b[1;32m      2\u001b[0m \u001b[0mprint\u001b[0m \u001b[1;33m(\u001b[0m\u001b[0mheatRes_data\u001b[0m\u001b[1;33m.\u001b[0m\u001b[0mhead\u001b[0m\u001b[1;33m(\u001b[0m\u001b[1;36m10\u001b[0m\u001b[1;33m)\u001b[0m\u001b[1;33m)\u001b[0m\u001b[1;33m\u001b[0m\u001b[0m\n",
      "\u001b[0;32mC:\\Users\\canto\\Anaconda3\\lib\\site-packages\\pandas\\io\\parsers.py\u001b[0m in \u001b[0;36mparser_f\u001b[0;34m(filepath_or_buffer, sep, delimiter, header, names, index_col, usecols, squeeze, prefix, mangle_dupe_cols, dtype, engine, converters, true_values, false_values, skipinitialspace, skiprows, skipfooter, nrows, na_values, keep_default_na, na_filter, verbose, skip_blank_lines, parse_dates, infer_datetime_format, keep_date_col, date_parser, dayfirst, iterator, chunksize, compression, thousands, decimal, lineterminator, quotechar, quoting, escapechar, comment, encoding, dialect, tupleize_cols, error_bad_lines, warn_bad_lines, skip_footer, doublequote, delim_whitespace, as_recarray, compact_ints, use_unsigned, low_memory, buffer_lines, memory_map, float_precision)\u001b[0m\n\u001b[1;32m    560\u001b[0m                     skip_blank_lines=skip_blank_lines)\n\u001b[1;32m    561\u001b[0m \u001b[1;33m\u001b[0m\u001b[0m\n\u001b[0;32m--> 562\u001b[0;31m         \u001b[1;32mreturn\u001b[0m \u001b[0m_read\u001b[0m\u001b[1;33m(\u001b[0m\u001b[0mfilepath_or_buffer\u001b[0m\u001b[1;33m,\u001b[0m \u001b[0mkwds\u001b[0m\u001b[1;33m)\u001b[0m\u001b[1;33m\u001b[0m\u001b[0m\n\u001b[0m\u001b[1;32m    563\u001b[0m \u001b[1;33m\u001b[0m\u001b[0m\n\u001b[1;32m    564\u001b[0m     \u001b[0mparser_f\u001b[0m\u001b[1;33m.\u001b[0m\u001b[0m__name__\u001b[0m \u001b[1;33m=\u001b[0m \u001b[0mname\u001b[0m\u001b[1;33m\u001b[0m\u001b[0m\n",
      "\u001b[0;32mC:\\Users\\canto\\Anaconda3\\lib\\site-packages\\pandas\\io\\parsers.py\u001b[0m in \u001b[0;36m_read\u001b[0;34m(filepath_or_buffer, kwds)\u001b[0m\n\u001b[1;32m    313\u001b[0m \u001b[1;33m\u001b[0m\u001b[0m\n\u001b[1;32m    314\u001b[0m     \u001b[1;31m# Create the parser.\u001b[0m\u001b[1;33m\u001b[0m\u001b[1;33m\u001b[0m\u001b[0m\n\u001b[0;32m--> 315\u001b[0;31m     \u001b[0mparser\u001b[0m \u001b[1;33m=\u001b[0m \u001b[0mTextFileReader\u001b[0m\u001b[1;33m(\u001b[0m\u001b[0mfilepath_or_buffer\u001b[0m\u001b[1;33m,\u001b[0m \u001b[1;33m**\u001b[0m\u001b[0mkwds\u001b[0m\u001b[1;33m)\u001b[0m\u001b[1;33m\u001b[0m\u001b[0m\n\u001b[0m\u001b[1;32m    316\u001b[0m \u001b[1;33m\u001b[0m\u001b[0m\n\u001b[1;32m    317\u001b[0m     \u001b[1;32mif\u001b[0m \u001b[1;33m(\u001b[0m\u001b[0mnrows\u001b[0m \u001b[1;32mis\u001b[0m \u001b[1;32mnot\u001b[0m \u001b[1;32mNone\u001b[0m\u001b[1;33m)\u001b[0m \u001b[1;32mand\u001b[0m \u001b[1;33m(\u001b[0m\u001b[0mchunksize\u001b[0m \u001b[1;32mis\u001b[0m \u001b[1;32mnot\u001b[0m \u001b[1;32mNone\u001b[0m\u001b[1;33m)\u001b[0m\u001b[1;33m:\u001b[0m\u001b[1;33m\u001b[0m\u001b[0m\n",
      "\u001b[0;32mC:\\Users\\canto\\Anaconda3\\lib\\site-packages\\pandas\\io\\parsers.py\u001b[0m in \u001b[0;36m__init__\u001b[0;34m(self, f, engine, **kwds)\u001b[0m\n\u001b[1;32m    643\u001b[0m             \u001b[0mself\u001b[0m\u001b[1;33m.\u001b[0m\u001b[0moptions\u001b[0m\u001b[1;33m[\u001b[0m\u001b[1;34m'has_index_names'\u001b[0m\u001b[1;33m]\u001b[0m \u001b[1;33m=\u001b[0m \u001b[0mkwds\u001b[0m\u001b[1;33m[\u001b[0m\u001b[1;34m'has_index_names'\u001b[0m\u001b[1;33m]\u001b[0m\u001b[1;33m\u001b[0m\u001b[0m\n\u001b[1;32m    644\u001b[0m \u001b[1;33m\u001b[0m\u001b[0m\n\u001b[0;32m--> 645\u001b[0;31m         \u001b[0mself\u001b[0m\u001b[1;33m.\u001b[0m\u001b[0m_make_engine\u001b[0m\u001b[1;33m(\u001b[0m\u001b[0mself\u001b[0m\u001b[1;33m.\u001b[0m\u001b[0mengine\u001b[0m\u001b[1;33m)\u001b[0m\u001b[1;33m\u001b[0m\u001b[0m\n\u001b[0m\u001b[1;32m    646\u001b[0m \u001b[1;33m\u001b[0m\u001b[0m\n\u001b[1;32m    647\u001b[0m     \u001b[1;32mdef\u001b[0m \u001b[0mclose\u001b[0m\u001b[1;33m(\u001b[0m\u001b[0mself\u001b[0m\u001b[1;33m)\u001b[0m\u001b[1;33m:\u001b[0m\u001b[1;33m\u001b[0m\u001b[0m\n",
      "\u001b[0;32mC:\\Users\\canto\\Anaconda3\\lib\\site-packages\\pandas\\io\\parsers.py\u001b[0m in \u001b[0;36m_make_engine\u001b[0;34m(self, engine)\u001b[0m\n\u001b[1;32m    797\u001b[0m     \u001b[1;32mdef\u001b[0m \u001b[0m_make_engine\u001b[0m\u001b[1;33m(\u001b[0m\u001b[0mself\u001b[0m\u001b[1;33m,\u001b[0m \u001b[0mengine\u001b[0m\u001b[1;33m=\u001b[0m\u001b[1;34m'c'\u001b[0m\u001b[1;33m)\u001b[0m\u001b[1;33m:\u001b[0m\u001b[1;33m\u001b[0m\u001b[0m\n\u001b[1;32m    798\u001b[0m         \u001b[1;32mif\u001b[0m \u001b[0mengine\u001b[0m \u001b[1;33m==\u001b[0m \u001b[1;34m'c'\u001b[0m\u001b[1;33m:\u001b[0m\u001b[1;33m\u001b[0m\u001b[0m\n\u001b[0;32m--> 799\u001b[0;31m             \u001b[0mself\u001b[0m\u001b[1;33m.\u001b[0m\u001b[0m_engine\u001b[0m \u001b[1;33m=\u001b[0m \u001b[0mCParserWrapper\u001b[0m\u001b[1;33m(\u001b[0m\u001b[0mself\u001b[0m\u001b[1;33m.\u001b[0m\u001b[0mf\u001b[0m\u001b[1;33m,\u001b[0m \u001b[1;33m**\u001b[0m\u001b[0mself\u001b[0m\u001b[1;33m.\u001b[0m\u001b[0moptions\u001b[0m\u001b[1;33m)\u001b[0m\u001b[1;33m\u001b[0m\u001b[0m\n\u001b[0m\u001b[1;32m    800\u001b[0m         \u001b[1;32melse\u001b[0m\u001b[1;33m:\u001b[0m\u001b[1;33m\u001b[0m\u001b[0m\n\u001b[1;32m    801\u001b[0m             \u001b[1;32mif\u001b[0m \u001b[0mengine\u001b[0m \u001b[1;33m==\u001b[0m \u001b[1;34m'python'\u001b[0m\u001b[1;33m:\u001b[0m\u001b[1;33m\u001b[0m\u001b[0m\n",
      "\u001b[0;32mC:\\Users\\canto\\Anaconda3\\lib\\site-packages\\pandas\\io\\parsers.py\u001b[0m in \u001b[0;36m__init__\u001b[0;34m(self, src, **kwds)\u001b[0m\n\u001b[1;32m   1211\u001b[0m         \u001b[0mkwds\u001b[0m\u001b[1;33m[\u001b[0m\u001b[1;34m'allow_leading_cols'\u001b[0m\u001b[1;33m]\u001b[0m \u001b[1;33m=\u001b[0m \u001b[0mself\u001b[0m\u001b[1;33m.\u001b[0m\u001b[0mindex_col\u001b[0m \u001b[1;32mis\u001b[0m \u001b[1;32mnot\u001b[0m \u001b[1;32mFalse\u001b[0m\u001b[1;33m\u001b[0m\u001b[0m\n\u001b[1;32m   1212\u001b[0m \u001b[1;33m\u001b[0m\u001b[0m\n\u001b[0;32m-> 1213\u001b[0;31m         \u001b[0mself\u001b[0m\u001b[1;33m.\u001b[0m\u001b[0m_reader\u001b[0m \u001b[1;33m=\u001b[0m \u001b[0m_parser\u001b[0m\u001b[1;33m.\u001b[0m\u001b[0mTextReader\u001b[0m\u001b[1;33m(\u001b[0m\u001b[0msrc\u001b[0m\u001b[1;33m,\u001b[0m \u001b[1;33m**\u001b[0m\u001b[0mkwds\u001b[0m\u001b[1;33m)\u001b[0m\u001b[1;33m\u001b[0m\u001b[0m\n\u001b[0m\u001b[1;32m   1214\u001b[0m \u001b[1;33m\u001b[0m\u001b[0m\n\u001b[1;32m   1215\u001b[0m         \u001b[1;31m# XXX\u001b[0m\u001b[1;33m\u001b[0m\u001b[1;33m\u001b[0m\u001b[0m\n",
      "\u001b[0;32mpandas\\parser.pyx\u001b[0m in \u001b[0;36mpandas.parser.TextReader.__cinit__ (pandas\\parser.c:3427)\u001b[0;34m()\u001b[0m\n",
      "\u001b[0;32mpandas\\parser.pyx\u001b[0m in \u001b[0;36mpandas.parser.TextReader._setup_parser_source (pandas\\parser.c:6861)\u001b[0;34m()\u001b[0m\n",
      "\u001b[0;31mOSError\u001b[0m: File b'resolution_GeAl10_dataPoints_correctedEnergies.txt' does not exist"
     ]
    }
   ],
   "source": [
    "heatRes_data = pd.read_csv(\"resolution_GeAl10_dataPoints_correctedEnergies.txt\", skiprows=1)\n",
    "print (heatRes_data.head(10))"
   ]
  },
  {
   "cell_type": "code",
   "execution_count": null,
   "metadata": {
    "collapsed": false,
    "scrolled": true
   },
   "outputs": [],
   "source": [
    "# plot the heat resolution, reproduce fig 2d from 2004 NIMA Edelweiss paper\n",
    "E_vec = np.arange(0,200,5)\n",
    "table, = plt.plot(E_vec, 2.355*heatRes_GGAl10(E_vec), label='Resolution (table)')\n",
    "plot, = plt.plot(E_vec, 2.355*heatRes_GGAl10_guard(E_vec), linestyle='--', label='Resolution (plot)')\n",
    "data = plt.errorbar((heatRes_data.Energy).tolist(), (heatRes_data.FWHM).tolist(), yerr=(heatRes_data.error).tolist(), fmt='.', label='Guard-event resolution')\n",
    "plt.xlabel(\"Heat Signal (keV)\")\n",
    "plt.ylabel(\"FWHM Heat Resolution (keV)\")\n",
    "#plt.legend(handles=[table, plot, data])\n",
    "plt.show()"
   ]
  },
  {
   "cell_type": "markdown",
   "metadata": {},
   "source": [
    "## Cross-check: ER and NR bands of GGA1"
   ]
  },
  {
   "cell_type": "code",
   "execution_count": null,
   "metadata": {
    "collapsed": false,
    "scrolled": false
   },
   "outputs": [],
   "source": [
    "data_GGA3 = pd.read_csv(\"edelweiss_ER_band_GGA3_curveData.txt\", skiprows=1, header=None, delim_whitespace=True)\n",
    "print (data_GGA3.head(5))\n",
    "list(data_GGA3.columns.values)\n",
    "\n",
    "dataNR_GGA3 = pd.read_csv(\"edelweiss_NR_band_GGA3_curveData.txt\", skiprows=1, header=None, delim_whitespace=True)\n",
    "\n",
    "# expect aH to be 0.020 based on fig. 7\n",
    "# but my calculations say 0.022?\n",
    "# increasing heat_0keV decreases the slope btwn 20 and 50 keV\n",
    "# increasing aH increases the yield in the tail\n",
    "# increasing ion_122keV even a little increases the yield in the tail\n",
    "# completely insensitive to heat_122keV\n",
    "# voltage changes shift curves to the right and increases yield in tail\n",
    "# increasing ion_center_0keV shifts graph to right, tilts it down: tails become not flat\n",
    "# increasing ion_guard_0keV has same effect as ion_center_0keV\n",
    "ion_center_0keV = 1.3\n",
    "ion_guard_0keV = 1.5\n",
    "heat_0keV = 0.4\n",
    "ion_122keV = 3.1 #3.3 #3.1\n",
    "heat_122keV = 2.7\n",
    "V = 4\n",
    "ion_res = get_ionRes_func(1.3, 1.5, ion_122keV)\n",
    "print(\"ion resolution at 0keV, 122keV:\")\n",
    "print(ion_res(0)*2.355, ion_res(122)*2.355)\n",
    "\n",
    "heat_res = get_heatRes_func(heat_0keV, heat_122keV)\n",
    "print(\"heat resolution at 0keV, 122keV:\")\n",
    "print(heat_res(0)*2.355, heat_res(122)*2.355)\n",
    "# 0.0157 is the published value\n",
    "aH = 0.0164 #0.0157\n",
    "sig_gamma_GGA3 = get_sig_gamma_func(1.3, 1.5, ion_122keV, heat_0keV, heat_122keV, V)\n",
    "sig_gamma_GGA3_wide = get_sig_gamma_func(1.3, 1.5, ion_122keV, heat_0keV, heat_122keV, V, aH)\n",
    "\n",
    "# we'll plot the ER and NR band widths\n",
    "fig,axes = plt.subplots(1,2,figsize=(17.0,7.0), constrained_layout=True)\n",
    "\n",
    "# plot the electron recoil widths\n",
    "E_keV_arr = np.linspace(1,200,100)\n",
    "ax1 = axes[0]\n",
    "ax2 = axes[1]\n",
    "ax1.plot(E_keV_arr, sig_gamma_GGA3(E_keV_arr),'g.')\n",
    "ax1.plot(E_keV_arr, sig_gamma_GGA3_wide(E_keV_arr),'b.')\n",
    "\n",
    "#def get_sig_nuc_func(FWHM_center, FWHM_guard, FWHM122_ion, FWHM0_heat, FWHM122_heat, V, aH=None):\n",
    "# since the resolutions are a function of the electron-equivalent energy, need to convert\n",
    "# see \"edelweiss_energy_scale.pdf\" in this directory for explanation:\n",
    "E_keVee_arr = np.multiply(E_keV_arr, (1+(V/3.0)*Q_avg(E_keV_arr))/(1+(V/3.0)))\n",
    "#print (E_keV_arr)\n",
    "#print ((1+(V/3.0)*Q_avg(E_keV_arr))/(1+(V/3.0)))\n",
    "#print (E_keVee_arr)\n",
    "# not sure what I'm using for the aH value, here?\n",
    "# aH = 4?  aH = 0.4?  Is this C?\n",
    "# get_sig_nuc_func(FWHM_center, FWHM_guard, FWHM122_ion, FWHM0_heat, FWHM122_heat, V, aH=None)\n",
    "sig_nr_GGA3 = get_sig_nuc_func(1.3, 1.5, ion_122keV, heat_0keV, heat_122keV, V, aH)\n",
    "ax2.plot(E_keV_arr, sig_nr_GGA3(E_keV_arr),'g.')\n",
    "\n",
    "#get_sig_nuc_func_fit(FWHM_center, FWHM_guard, FWHM122_ion, FWHM0_heat, FWHM122_heat, V, aH=None, C = None)\n",
    "sig_nr_GGA3_wide = get_sig_nuc_func(ion_center_0keV, ion_guard_0keV, ion_122keV, heat_0keV, heat_122keV, V, aH, C = 0.042)\n",
    "ax2.plot(E_keV_arr, sig_nr_GGA3_wide(E_keV_arr),'g.')\n",
    "\n",
    "# 90% is +/- 1.645*sigma\n",
    "# FWHM is 2.355*sigma\n",
    "\n",
    "# plot the data-theifed bands\n",
    "ax1.plot(data_GGA3[0], data_GGA3[1], 'r-')\n",
    "ax1.plot(data_GGA3[2], data_GGA3[3], 'r--')\n",
    "\n",
    "ax2.plot(dataNR_GGA3[0], dataNR_GGA3[1], 'r-')\n",
    "ax2.plot(dataNR_GGA3[2], dataNR_GGA3[3], 'r--')\n",
    "ax2.set_ylim(0,0.1)\n",
    "\n",
    "ax1.set_ylim(0,0.15)\n",
    "ax1.minorticks_on()\n",
    "plt.show()"
   ]
  },
  {
   "cell_type": "code",
   "execution_count": null,
   "metadata": {
    "collapsed": true
   },
   "outputs": [],
   "source": []
  }
 ],
 "metadata": {
  "anaconda-cloud": {},
  "kernelspec": {
   "display_name": "Python [default]",
   "language": "python",
   "name": "python3"
  },
  "language_info": {
   "codemirror_mode": {
    "name": "ipython",
    "version": 3
   },
   "file_extension": ".py",
   "mimetype": "text/x-python",
   "name": "python",
   "nbconvert_exporter": "python",
   "pygments_lexer": "ipython3",
   "version": "3.5.2"
  }
 },
 "nbformat": 4,
 "nbformat_minor": 2
}
