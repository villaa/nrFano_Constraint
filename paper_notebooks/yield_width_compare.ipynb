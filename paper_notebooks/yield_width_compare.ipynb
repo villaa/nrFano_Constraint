{
 "cells": [
  {
   "cell_type": "code",
   "execution_count": 1,
   "metadata": {},
   "outputs": [],
   "source": [
    "#we may need some code in the ../python directory and/or matplotlib styles\n",
    "import sys\n",
    "import matplotlib as mpl\n",
    "sys.path.append('../python/')\n",
    "os.environ['MPLCONFIGDIR'] = '../mplstyles'\n",
    "\n",
    "\n",
    "#fonts\n",
    "# Set the font dictionaries (for plot title and axis titles)\n",
    "title_font = {'fontname':'Arial', 'size':'16', 'color':'black', 'weight':'normal',\n",
    "              'verticalalignment':'bottom'} # Bottom vertical alignment for more space\n",
    "axis_font = {'fontname':'Arial', 'size':'32'}\n",
    "legend_font = {'fontname':'Arial', 'size':'22'}\n",
    "\n",
    "#fonts global settings\n",
    "mpl.rc('font',family=legend_font['fontname'])\n",
    "\n",
    "import numpy as np\n",
    "#set up a plot \n",
    "from matplotlib import pyplot as plt\n",
    "#got smarter about the mpl config: see mplstyles/ directory\n",
    "plt.style.use('standard')"
   ]
  },
  {
   "cell_type": "markdown",
   "metadata": {},
   "source": [
    "# Comparing Expected Yield Widths\n",
    "\n",
    "It was mentioned at the end of the `ms_correction.ipynb` notebook that the yield widths did not seem to match between our simulated data and what Edw. predicted for the same resolutions used in the simulation, but with zero effective Fano factor. \n",
    "\n",
    "We want to explore that here because our modeling of the bands should be correct in both calculation and simulation before we can claim that the yield width discrepancy is likely to be due to an excess Fano factor. \n",
    "\n",
    "When we understand the modeling, then we can combine with results from the `ms_correction.ipynb` notebook to argue that neither our modeling uncertainty nore the inclusion of multiple-scatters can change the conclusion that the NR yield band is wider than expected. \n",
    "\n",
    "First we create some NR-scattering and ER-scattering data so we can model the yield widths with simulation. "
   ]
  },
  {
   "cell_type": "code",
   "execution_count": 2,
   "metadata": {},
   "outputs": [
    {
     "name": "stdout",
     "output_type": "stream",
     "text": [
      "nr_energies\n",
      "nr_hits\n"
     ]
    }
   ],
   "source": [
    "#read from the file to get NRs\n",
    "import warnings\n",
    "warnings.simplefilter(action='ignore', category=FutureWarning)\n",
    "import h5py\n",
    "f = h5py.File(\"/data/chocula/villaa/k100Sim_Data/252Cf/k100_252Cf_shield_Edw_NRs.h5\",\"r\")\n",
    "\n",
    "\n",
    "for i in f['nr_Fano']:\n",
    "    print(i)"
   ]
  },
  {
   "cell_type": "code",
   "execution_count": 3,
   "metadata": {},
   "outputs": [
    {
     "name": "stdout",
     "output_type": "stream",
     "text": [
      "(106173, 21)\n",
      "(106173,)\n",
      "(106173, 21)\n",
      "(106173,)\n"
     ]
    }
   ],
   "source": [
    "print(np.shape(f['nr_Fano/nr_energies']))\n",
    "print(np.shape(f['nr_Fano/nr_hits']))\n",
    "\n",
    "#get the data variables\n",
    "nr_energies = np.asarray(f['nr_Fano/nr_energies'])\n",
    "nr_hits = np.asarray(f['nr_Fano/nr_hits'])\n",
    "\n",
    "nrsum = np.sum(nr_energies*1000,1)\n",
    "print(np.shape(nr_energies))\n",
    "print(np.shape(nr_hits))"
   ]
  },
  {
   "cell_type": "code",
   "execution_count": 4,
   "metadata": {},
   "outputs": [
    {
     "name": "stdout",
     "output_type": "stream",
     "text": [
      "(10000, 21)\n",
      "(10000,)\n",
      "[55.09345369 18.35149556 16.60893117 65.85078703 98.16955724 28.4782174\n",
      " 44.43029026 84.70248374 97.17091823 67.0053163 ]\n"
     ]
    }
   ],
   "source": [
    "#use the same generic shape to get the ER data but modify the number of events\n",
    "Ner = 10000\n",
    "\n",
    "er_energies = np.zeros((Ner,np.shape(nr_energies)[1]))\n",
    "er_hits = np.ones((Ner,))\n",
    "\n",
    "er_energies[:,0] = np.random.uniform(0,100,Ner)\n",
    "\n",
    "print(np.shape(er_energies))\n",
    "print(np.shape(er_hits))\n",
    "\n",
    "print(er_energies[0:10,0])"
   ]
  },
  {
   "cell_type": "code",
   "execution_count": null,
   "metadata": {},
   "outputs": [],
   "source": []
  }
 ],
 "metadata": {
  "kernelspec": {
   "display_name": "Python [conda env:py365]",
   "language": "python",
   "name": "conda-env-py365-py"
  },
  "language_info": {
   "codemirror_mode": {
    "name": "ipython",
    "version": 3
   },
   "file_extension": ".py",
   "mimetype": "text/x-python",
   "name": "python",
   "nbconvert_exporter": "python",
   "pygments_lexer": "ipython3",
   "version": "3.6.5"
  }
 },
 "nbformat": 4,
 "nbformat_minor": 2
}
