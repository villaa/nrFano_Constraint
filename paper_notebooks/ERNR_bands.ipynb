{
 "cells": [
  {
   "cell_type": "code",
   "execution_count": 1,
   "metadata": {},
   "outputs": [],
   "source": [
    "#we may need some code in the ../python directory and/or matplotlib styles\n",
    "import sys\n",
    "import matplotlib as mpl\n",
    "sys.path.append('../python/')\n",
    "os.environ['MPLCONFIGDIR'] = '../mplstyles'\n",
    "\n",
    "\n",
    "#fonts\n",
    "# Set the font dictionaries (for plot title and axis titles)\n",
    "title_font = {'fontname':'Arial', 'size':'16', 'color':'black', 'weight':'normal',\n",
    "              'verticalalignment':'bottom'} # Bottom vertical alignment for more space\n",
    "axis_font = {'fontname':'Arial', 'size':'32'}\n",
    "legend_font = {'fontname':'Arial', 'size':'22'}\n",
    "\n",
    "#fonts global settings\n",
    "mpl.rc('font',family=legend_font['fontname'])\n",
    "\n",
    "import numpy as np\n",
    "#set up a plot \n",
    "from matplotlib import pyplot as plt\n",
    "#got smarter about the mpl config: see mplstyles/ directory\n",
    "plt.style.use('standard')"
   ]
  },
  {
   "cell_type": "markdown",
   "metadata": {},
   "source": [
    "# ER/NR Band Calculation\n",
    "\n",
    "In a previous notebook `QEr_2D_joint.ipynb` we calculated the correct two-dimensional probability distribution for energy recoils of arbitrary average ionization yield, given the resolutions ($\\sigma_H$,$\\sigma_I$, and $\\sigma_N$) as functions of the true recoil energy. The variance on the number of e/h pairs created, $\\sigma_N$ included the effective Fano factor, $F$. \n",
    "\n",
    "This was all done starting from the fundamental variables $\\delta H$, $\\delta I$, and N (see `QEr_2D_joint.ipynb` for all variable definitions). The final result was the probability distribution in the Q,$\\tilde{E}_r$ plane of measured yield and recoil energy, given a true recoil distribution $P(E_r)$. $P(E_r)$ was taken to be:\n",
    "\n",
    "\\begin{equation}\n",
    "P(E_r) = \\frac{1}{\\alpha}e^{-\\alpha E_r},\n",
    "\\end{equation}\n",
    "\n",
    "where $\\alpha$ is the decay constant and we take to be equal to about 1/100 keV$^{-1}$ for nuclear recoils.\n",
    "\n",
    "In this note we will use this model to construct the variance of constant-$\\tilde{E}_r$ slices of this distribution. The motivation for this calculation is that these variances are often the ones measured in experiments like Edelweiss [REF] and SuperCDMS. "
   ]
  },
  {
   "cell_type": "markdown",
   "metadata": {},
   "source": [
    "## Ionization Yield Distributions at Fixed $\\tilde{E}_r$\n",
    "\n",
    "First, we want to construct bands for electron recoils with the parameters $F^{\\prime}$=0 (Fano factor) and $\\alpha^{\\prime}$ = 1/100000 keV$^{-1}$ (essentially flat true recoil distribution).\n",
    "\n",
    "**NOTE: The value of $F^{\\prime}$ is choosen as such because the measured resolutions are done with electron recoils and implicitly include the true Fano factor. Although this Fano factor (typically in germanium of order 0.13 with large variability in the measurements [REF]) is included note that it is not included correctly because it is not separated from the variance of $\\delta I$. Nevertheless, since the Fano contribution for electron recoils is small compared to the ionization resolutions in most published work, it is safely parameterized inside the $\\delta I$ resolution for electron recoils.**\n",
    "\n",
    "Next we will construct a nuclear recoil band with the parameters $F$=15 (this appears to be a plausible lower limit for measurements above 10 keV, see [REF] Dougherty, and the notebook constructing the Fano factor from that) and $\\alpha$=1/100 keV$^{-1}$. \n",
    "\n",
    "We are constructing the distribution that results from the following:\n",
    "\n",
    "\\begin{equation}\n",
    "P(Q,\\tilde{E}_r=E) = \\int_0^{\\infty} dE_r P(Q,\\tilde{E}_r=E|E_r)P(E_r)\n",
    "\\end{equation}"
   ]
  },
  {
   "cell_type": "code",
   "execution_count": 2,
   "metadata": {},
   "outputs": [],
   "source": [
    "#constants\n",
    "V=4.0 #volts\n",
    "eps = 3.0/1000 #keV per pair, I usually use 3.3 for the numerator, but Edw. uses 3.\n",
    "\n",
    "#yield models\n",
    "a=0.16\n",
    "b=0.18\n",
    "Qbar = lambda Er: a*Er**b\n",
    "Qer = lambda Er: 1"
   ]
  },
  {
   "cell_type": "code",
   "execution_count": 3,
   "metadata": {},
   "outputs": [],
   "source": [
    "#getting the resolutions\n",
    "import EdwRes as er\n",
    "\n",
    "fh1 = er.get_heatRes_func(0.4, 3.5)\n",
    "heatRes_GGA110 = lambda x: (1/2.355)*fh1(x) #these return FWHM values\n",
    "\n",
    "fi1 = er.get_ionRes_func(1.1, 1.3, 3.0)\n",
    "sigI_GGA110 = lambda x:(1/2.355)*fi1(x)\n",
    "\n",
    "fh2 = er.get_heatRes_func(0.4, 2.7)\n",
    "heatRes_GGA3 = lambda x:(1/2.355)*fh2(x)\n",
    "\n",
    "fi2 = er.get_ionRes_func(1.3, 1.5, 3.1)\n",
    "sigI_GGA3 = lambda x:(1/2.355)*fi2(x)\n",
    "\n",
    "#new resolution functions \n",
    "Ehee = lambda Er: ((1+(V/eps)*Qbar(Er))*Er)/(1+(V/eps))\n",
    "EIee = lambda Er: Qbar(Er)*Er\n",
    "\n",
    "heatRes_GGA110_NR = lambda Er: heatRes_GGA110(Ehee(Er))\n",
    "\n",
    "sigI_GGA110_NR = lambda Er: sigI_GGA110(EIee(Er))\n",
    "\n",
    "heatRes_GGA3_NR = lambda Er: heatRes_GGA3(Ehee(Er))\n",
    "\n",
    "sigI_GGA3_NR = lambda Er: sigI_GGA3(EIee(Er))\n",
    "\n",
    "\n",
    "heatRes_GGA110_ER = lambda Er: heatRes_GGA110(Er)\n",
    "\n",
    "sigI_GGA110_ER = lambda Er: sigI_GGA110(Er)\n",
    "\n",
    "heatRes_GGA3_ER = lambda Er: heatRes_GGA3(Er)\n",
    "\n",
    "sigI_GGA3_ER = lambda Er: sigI_GGA3(Er)"
   ]
  },
  {
   "cell_type": "code",
   "execution_count": null,
   "metadata": {},
   "outputs": [],
   "source": []
  }
 ],
 "metadata": {
  "kernelspec": {
   "display_name": "Python [conda env:py365]",
   "language": "python",
   "name": "conda-env-py365-py"
  },
  "language_info": {
   "codemirror_mode": {
    "name": "ipython",
    "version": 3
   },
   "file_extension": ".py",
   "mimetype": "text/x-python",
   "name": "python",
   "nbconvert_exporter": "python",
   "pygments_lexer": "ipython3",
   "version": "3.6.5"
  }
 },
 "nbformat": 4,
 "nbformat_minor": 2
}
