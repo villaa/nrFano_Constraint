{
 "cells": [
  {
   "cell_type": "code",
   "execution_count": 31,
   "metadata": {},
   "outputs": [],
   "source": [
    "import numpy as np\n",
    "import pandas as pd\n",
    "import matplotlib.pyplot as plt\n",
    "%matplotlib inline \n",
    "#import mpld3\n",
    "#mpld3.enable_notebook()\n",
    "\n",
    "from scipy import optimize\n",
    "import lmfit as lmf\n",
    "\n",
    "import sys\n",
    "sys.path.append('../python/')\n",
    "from EdwRes import *\n",
    "from prob_dist import *"
   ]
  },
  {
   "cell_type": "code",
   "execution_count": 32,
   "metadata": {},
   "outputs": [
    {
     "name": "stdout",
     "output_type": "stream",
     "text": [
      "   E_recoil    sig_NR  E_recoil_err  sig_NR_err\n",
      "0   16.1946  0.062345      0.946176    0.001157\n",
      "1   16.4428  0.062345      0.945278    0.001157\n",
      "2   44.2627  0.046528      0.992477    0.001543\n",
      "3   24.5012  0.059397      0.992477    0.001185\n",
      "4   97.7172  0.044847      1.033260    0.002783\n",
      "5   58.4014  0.050082      0.991830    0.002288\n",
      "6   34.2156  0.053417      1.033260    0.001102\n"
     ]
    }
   ],
   "source": [
    "# import data from Edelweiss\n",
    "res_data = pd.read_csv(\"data/edelweiss_NRwidth_GGA3_data.txt\", skiprows=1, \\\n",
    "                       names=['E_recoil', 'sig_NR', 'E_recoil_err', 'sig_NR_err'], \\\n",
    "                       delim_whitespace=True)\n",
    "\n",
    "resER_data = pd.read_csv(\"data/edelweiss_ERwidth_GGA3_data.txt\", skiprows=1, \\\n",
    "                         names=['E_recoil', 'sig_ER', 'sig_ER_err'], \\\n",
    "                         delim_whitespace=True)\n",
    "\n",
    "resER_data = resER_data.sort_values(by='E_recoil')\n",
    "\n",
    "print (res_data.head(10))\n",
    "E_recoil = res_data[\"E_recoil\"]\n",
    "sig_NR = res_data[\"sig_NR\"]\n",
    "sig_NR_err = res_data['sig_NR_err']"
   ]
  },
  {
   "cell_type": "code",
   "execution_count": 35,
   "metadata": {},
   "outputs": [],
   "source": [
    "# GGA3 parameters from Edelweiss tables\n",
    "ion_center_0keV = 1.3\n",
    "ion_guard_0keV = 1.5\n",
    "heat_0keV = 0.4\n",
    "ion_122keV = 3.1 #3.3 #3.1\n",
    "heat_122keV = 2.7\n",
    "aH = 0.0157\n",
    "pars = {\n",
    "    'V' : 4.0,\n",
    "    'eps_eV' : 3.0\n",
    "    }\n",
    "\n",
    "#sigmomEdw(x,band='ER',label='GGA3',F=0.000001,V=4.0,aH=aH,alpha=(1/1000.0))\n",
    "def vsigmomEdw(Erecoil_keV, aH):\n",
    "    return [sigmomEdw(x,band='ER',label='GGA3',F=0.000001,V=4.0,aH=aH,alpha=(1/1000.0)) for x in Erecoil_keV]"
   ]
  },
  {
   "cell_type": "code",
   "execution_count": 38,
   "metadata": {},
   "outputs": [],
   "source": [
    "# lmfit needs a residuals function\n",
    "# par_dict is a dictionary of the form\n",
    "# {'V': 4.0, 'eps_eV': 3.0}\n",
    "def residualNR(params, x, data, eps_data, par_dict):\n",
    "    ion_center_0keV = params['ion_center_0keV']\n",
    "    ion_guard_0keV = params['ion_guard_0keV']\n",
    "    ion_122keV = params['ion_122keV']\n",
    "    heat_0keV = params['heat_0keV']\n",
    "    heat_122keV = params['heat_122keV']\n",
    "    aH = params['aH']\n",
    "    C = params['C']\n",
    "    m = params['m']\n",
    "\n",
    "    fit_func = get_sig_nuc_func_alt(ion_center_0keV, ion_guard_0keV, ion_122keV, heat_0keV, heat_122keV, par_dict, aH, C, m)\n",
    "    \n",
    "    model = fit_func(x)\n",
    "\n",
    "    return (data-model) / eps_data\n",
    "\n",
    "def residualER(params, x, data, eps_data, par_dict):\n",
    "    ion_center_0keV = params['ion_center_0keV']\n",
    "    ion_guard_0keV = params['ion_guard_0keV']\n",
    "    ion_122keV = params['ion_122keV']\n",
    "    heat_0keV = params['heat_0keV']\n",
    "    heat_122keV = params['heat_122keV']\n",
    "    aH = params['aH']\n",
    "\n",
    "    #fit_func = get_sig_gamma_func(ion_center_0keV, ion_guard_0keV, ion_122keV, heat_0keV, heat_122keV, par_dict, aH)\n",
    "    #model = fit_func(x)\n",
    "    \n",
    "    #sigmomEdw(Er,band='ER',label='GGA3',F=0.000001,V=4.0,aH=0.035,alpha=(1/100))\n",
    "    model = vsigmomEdw(x,aH)\n",
    "    \n",
    "    return (data-model) / eps_data"
   ]
  },
  {
   "cell_type": "code",
   "execution_count": 34,
   "metadata": {},
   "outputs": [
    {
     "name": "stdout",
     "output_type": "stream",
     "text": [
      "0.09458577631633443\n"
     ]
    }
   ],
   "source": [
    "model1 = vsigmomEdw(22,band='ER',label='GGA3',F=0.000001,V=4.0,aH=aH,alpha=(1/1000.0))\n",
    "print (model1)"
   ]
  },
  {
   "cell_type": "code",
   "execution_count": 39,
   "metadata": {},
   "outputs": [
    {
     "name": "stdout",
     "output_type": "stream",
     "text": [
      "lmfit result--ER\n",
      "[[Variables]]\n",
      "    ion_center_0keV:   1.3 (fixed)\n",
      "    ion_guard_0keV:    1.5 (fixed)\n",
      "    ion_122keV:        3.1 (fixed)\n",
      "    heat_0keV:         0.4 (fixed)\n",
      "    heat_122keV:       2.7 (fixed)\n",
      "    aH:                0.03808166 +/- 0.001738 (4.56%) (init= 0.01638)\n",
      "None\n",
      "aH_FWHM is  0.0896754790542576\n"
     ]
    },
    {
     "data": {
      "text/plain": [
       "Text(0.5, 0, 'Recoil Energy (keV)')"
      ]
     },
     "execution_count": 39,
     "metadata": {},
     "output_type": "execute_result"
    },
    {
     "data": {
      "image/png": "[encoded data removed]",
      "text/plain": [
       "<Figure size 432x288 with 1 Axes>"
      ]
     },
     "metadata": {
      "needs_background": "light"
     },
     "output_type": "display_data"
    }
   ],
   "source": [
    "# Edelweiss fits aH first\n",
    "paramsER = lmf.Parameters()\n",
    "paramsER.add('ion_center_0keV', value=ion_center_0keV, vary=False)\n",
    "paramsER.add('ion_guard_0keV', value=ion_guard_0keV, vary=False)\n",
    "paramsER.add('ion_122keV', value=ion_122keV, vary=False)\n",
    "paramsER.add('heat_0keV', value=heat_0keV, vary=False)\n",
    "paramsER.add('heat_122keV', value=heat_122keV, vary=False)\n",
    "#paramsER.add('pars', value=pars, vary=False)\n",
    "paramsER.add('aH', value=0.01638)\n",
    "\n",
    "mask = [True, True, False, False, True, True, True, True, True]\n",
    "lmfoutER = lmf.minimize(residualER, paramsER, \\\n",
    "                        args=(resER_data[\"E_recoil\"][mask], resER_data[\"sig_ER\"][mask], resER_data[\"sig_ER_err\"][mask], pars))\n",
    "\n",
    "print('lmfit result--ER')\n",
    "print(lmf.report_fit(lmfoutER.params))\n",
    "# note that FWHM_to_SIG is from EdwRes library\n",
    "print('aH_FWHM is ', lmfoutER.params['aH']/FWHM_to_SIG)\n",
    "\n",
    "sig_er_func = get_sig_gamma_func(ion_center_0keV, ion_guard_0keV, ion_122keV, heat_0keV, heat_122keV, pars, aH=lmfoutER.params['aH'])\n",
    "E_recoil_arr = np.linspace(10, 200, 100)\n",
    "plt.plot(E_recoil_arr, sig_er_func(E_recoil_arr))\n",
    "\n",
    "\n",
    "plt.plot(resER_data[\"E_recoil\"][mask], resER_data[\"sig_ER\"][mask],'.')\n",
    "plt.ylabel('ER width (1-sigma)')\n",
    "plt.xlabel('Recoil Energy (keV)')"
   ]
  },
  {
   "cell_type": "code",
   "execution_count": 8,
   "metadata": {},
   "outputs": [
    {
     "name": "stdout",
     "output_type": "stream",
     "text": [
      "[0.03878406] [[2.38584408e-06]] [0.00154462] [0.0398261]\n"
     ]
    },
    {
     "data": {
      "image/png": "[encoded data removed]",
      "text/plain": [
       "<Figure size 432x288 with 1 Axes>"
      ]
     },
     "metadata": {
      "needs_background": "light"
     },
     "output_type": "display_data"
    }
   ],
   "source": [
    "# get_sig_nuc_func_fit(FWHM_center, FWHM_guard, FWHM122_ion, FWHM0_heat, FWHM122_heat, V, aH=None, C = None)\n",
    "#sig_nr_GGA3 = get_sig_nuc_func(ion_center_0keV, ion_guard_0keV, ion_122keV, heat_0keV, heat_122keV, V, aH)\n",
    "sig_nr_func = get_sig_nuc_func(ion_center_0keV, ion_guard_0keV, ion_122keV, heat_0keV, heat_122keV, pars, aH=0.035, C=0.04)\n",
    "\n",
    "plt.errorbar(E_recoil, sig_NR, yerr=sig_NR_err, fmt=\"o\")\n",
    "\n",
    "E_recoil_arr = np.linspace(10, 150, 100)\n",
    "plt.plot(E_recoil_arr, sig_nr_func(E_recoil_arr))\n",
    "\n",
    "plt.xlabel(\"Recoil energy (keV)\")\n",
    "plt.ylabel(\"1-sigma width of NR band\")\n",
    "#plt.ylim(0, 0.1)\n",
    "\n",
    "params, params_cov = optimize.curve_fit(fit_func, E_recoil[2::], sig_NR[2::], sigma=sig_NR_err[2::], p0=[0.04])\n",
    "#params, params_cov = optimize.curve_fit(fit_func, E_recoil, sig_NR, sigma=sig_NR_err, p0=[0.04])\n",
    "perr = np.sqrt(np.diag(params_cov))\n",
    "print(params, params_cov, perr, perr/params)"
   ]
  },
  {
   "cell_type": "code",
   "execution_count": 6,
   "metadata": {},
   "outputs": [
    {
     "name": "stdout",
     "output_type": "stream",
     "text": [
      "720\n"
     ]
    }
   ],
   "source": [
    "# How many counts are in the gaussian for \n",
    "# a particular energy bin?\n",
    "# Here, GGA1 in bin 40 < ER < 60 keV\n",
    "N = 125*3+80*2+55*2+25*3\n",
    "print (N)"
   ]
  },
  {
   "cell_type": "code",
   "execution_count": 7,
   "metadata": {
    "collapsed": true
   },
   "outputs": [],
   "source": [
    "def std_error_mean(sig, N):\n",
    "    return sig/np.sqrt(N)\n",
    "\n",
    "def std_error_stdDev(sig, N):\n",
    "    return sig/np.sqrt(2*(N-1))"
   ]
  },
  {
   "cell_type": "code",
   "execution_count": 17,
   "metadata": {},
   "outputs": [
    {
     "name": "stdout",
     "output_type": "stream",
     "text": [
      "0.0021019038988498023\n",
      "0.0014877590039073583\n"
     ]
    }
   ],
   "source": [
    "# For the 40 < ER < 50 keV bin for GGA3 NR data,\n",
    "# the mean is 0.047 and the error is reported as 0.0015\n",
    "print (std_error_mean(0.047, 500))\n",
    "print (std_error_stdDev(0.047, 500))"
   ]
  },
  {
   "cell_type": "code",
   "execution_count": null,
   "metadata": {
    "collapsed": true
   },
   "outputs": [],
   "source": []
  }
 ],
 "metadata": {
  "anaconda-cloud": {},
  "kernelspec": {
   "display_name": "Python 3",
   "language": "python",
   "name": "python3"
  },
  "language_info": {
   "codemirror_mode": {
    "name": "ipython",
    "version": 3
   },
   "file_extension": ".py",
   "mimetype": "text/x-python",
   "name": "python",
   "nbconvert_exporter": "python",
   "pygments_lexer": "ipython3",
   "version": "3.6.8"
  }
 },
 "nbformat": 4,
 "nbformat_minor": 2
}
