{
 "cells": [
  {
   "cell_type": "code",
   "execution_count": 1,
   "metadata": {
    "collapsed": true
   },
   "outputs": [],
   "source": [
    "import numpy as np\n",
    "import pandas as pd\n",
    "import matplotlib.pyplot as plt\n",
    "%matplotlib inline \n",
    "#import mpld3\n",
    "#mpld3.enable_notebook()\n",
    "\n",
    "from scipy import optimize\n",
    "\n",
    "import sys\n",
    "sys.path.append('../python/')\n",
    "from EdwRes import *"
   ]
  },
  {
   "cell_type": "code",
   "execution_count": 9,
   "metadata": {},
   "outputs": [
    {
     "name": "stdout",
     "output_type": "stream",
     "text": [
      "   E_recoil    sig_NR  E_recoil_err  sig_NR_err\n",
      "0   16.1946  0.062345      0.946176    0.001157\n",
      "1   16.4428  0.062345      0.945278    0.001157\n",
      "2   44.2627  0.046528      0.992477    0.001543\n",
      "3   24.5012  0.059397      0.992477    0.001185\n",
      "4   97.7172  0.044847      1.033260    0.002783\n",
      "5   58.4014  0.050082      0.991830    0.002288\n",
      "6   34.2156  0.053417      1.033260    0.001102\n"
     ]
    }
   ],
   "source": [
    "# import data from Edelweiss\n",
    "res_data = pd.read_csv(\"edelweiss_NRwidth_GGA3_data.txt\", skiprows=1, \\\n",
    "                       names=['E_recoil', 'sig_NR', 'E_recoil_err', 'sig_NR_err'], \\\n",
    "                       delim_whitespace=True)\n",
    "\n",
    "resER_data = pd.read_csv(\"edelweiss_ERwidth_GGA3_data.txt\", skiprows=1, \\\n",
    "                         names=['E_recoil', 'sig_ER', 'sig_ER_err'], \\\n",
    "                         delim_whitespace=True)\n",
    "\n",
    "resER_data = resER_data.sort_values(by='E_recoil')\n",
    "\n",
    "print (res_data.head(10))\n",
    "E_recoil = res_data[\"E_recoil\"]\n",
    "sig_NR = res_data[\"sig_NR\"]\n",
    "sig_NR_err = res_data['sig_NR_err']"
   ]
  },
  {
   "cell_type": "code",
   "execution_count": 3,
   "metadata": {
    "collapsed": true
   },
   "outputs": [],
   "source": [
    "# GGA3 parameters from Edelweiss tables\n",
    "ion_center_0keV = 1.3\n",
    "ion_guard_0keV = 1.5\n",
    "heat_0keV = 0.4\n",
    "ion_122keV = 3.1 #3.3 #3.1\n",
    "heat_122keV = 2.7\n",
    "#aH = 0.0157\n",
    "V = 4\n",
    "\n",
    "def fit_func(E_keV_arr, par0):\n",
    "    aH = 0.01638\n",
    "    fit_func = get_sig_nuc_func(ion_center_0keV, ion_guard_0keV, ion_122keV, heat_0keV, heat_122keV, V, aH, par0)\n",
    "    \n",
    "    return fit_func(E_keV_arr)\n",
    "\n",
    "def fit_funcER(E_keV_arr, par0):\n",
    "    fit_func = get_sig_gamma_func(ion_center_0keV, ion_guard_0keV, ion_122keV, heat_0keV, heat_122keV, V, par0)\n",
    "    \n",
    "    return fit_func(E_keV_arr)"
   ]
  },
  {
   "cell_type": "code",
   "execution_count": 11,
   "metadata": {},
   "outputs": [
    {
     "name": "stdout",
     "output_type": "stream",
     "text": [
      "[0.01638269] [[4.43799864e-07]] [0.00066618]\n"
     ]
    },
    {
     "data": {
      "image/png": "[encoded data removed]",
      "text/plain": [
       "<Figure size 432x288 with 1 Axes>"
      ]
     },
     "metadata": {},
     "output_type": "display_data"
    }
   ],
   "source": [
    "# Edelweiss fits aH first\n",
    "mask = [True, True, False, False, True, True, True, True, True]\n",
    "params, params_cov = optimize.curve_fit(fit_funcER, resER_data[\"E_recoil\"][mask], resER_data[\"sig_ER\"][mask], \\\n",
    "                                        sigma=2*resER_data[\"sig_ER_err\"][mask], p0=[0.03])\n",
    "perr = np.sqrt(np.diag(params_cov))\n",
    "\n",
    "print(params, params_cov, perr)\n",
    "\n",
    "sig_er_func = get_sig_gamma_func(ion_center_0keV, ion_guard_0keV, ion_122keV, heat_0keV, heat_122keV, V, aH=params[0])\n",
    "\n",
    "plt.errorbar(resER_data[\"E_recoil\"][mask], resER_data[\"sig_ER\"][mask], yerr=resER_data[\"sig_ER_err\"][mask], fmt=\"o\")\n",
    "\n",
    "E_recoil_arr = np.linspace(10, 200, 100)\n",
    "plt.plot(E_recoil_arr, sig_er_func(E_recoil_arr))\n",
    "\n",
    "plt.xlabel(\"Recoil energy (keV)\")\n",
    "plt.ylabel(\"1-sigma width of ER band\")\n",
    "plt.ylim(0,0.15)\n",
    "ax = plt.gca()\n",
    "ratio = 1\n",
    "ax.set_aspect(1.0/ax.get_data_ratio()*ratio)"
   ]
  },
  {
   "cell_type": "code",
   "execution_count": 16,
   "metadata": {},
   "outputs": [
    {
     "name": "stdout",
     "output_type": "stream",
     "text": [
      "[0.03878406] [[2.38584403e-06]] [0.00154462] [0.0398261]\n"
     ]
    },
    {
     "data": {
      "image/png": "[encoded data removed]",
      "text/plain": [
       "<Figure size 432x288 with 1 Axes>"
      ]
     },
     "metadata": {},
     "output_type": "display_data"
    }
   ],
   "source": [
    "\n",
    "\n",
    "# get_sig_nuc_func_fit(FWHM_center, FWHM_guard, FWHM122_ion, FWHM0_heat, FWHM122_heat, V, aH=None, C = None)\n",
    "#sig_nr_GGA3 = get_sig_nuc_func(ion_center_0keV, ion_guard_0keV, ion_122keV, heat_0keV, heat_122keV, V, aH)\n",
    "sig_nr_func = get_sig_nuc_func(ion_center_0keV, ion_guard_0keV, ion_122keV, heat_0keV, heat_122keV, V, aH=0.035, C=0.04)\n",
    "\n",
    "plt.errorbar(E_recoil, sig_NR, yerr=sig_NR_err, fmt=\"o\")\n",
    "\n",
    "E_recoil_arr = np.linspace(10, 150, 100)\n",
    "plt.plot(E_recoil_arr, sig_nr_func(E_recoil_arr))\n",
    "\n",
    "plt.xlabel(\"Recoil energy (keV)\")\n",
    "plt.ylabel(\"1-sigma width of NR band\")\n",
    "#plt.ylim(0, 0.1)\n",
    "\n",
    "params, params_cov = optimize.curve_fit(fit_func, E_recoil[2::], sig_NR[2::], sigma=sig_NR_err[2::], p0=[0.04])\n",
    "#params, params_cov = optimize.curve_fit(fit_func, E_recoil, sig_NR, sigma=sig_NR_err, p0=[0.04])\n",
    "perr = np.sqrt(np.diag(params_cov))\n",
    "print(params, params_cov, perr, perr/params)"
   ]
  },
  {
   "cell_type": "code",
   "execution_count": 6,
   "metadata": {},
   "outputs": [
    {
     "name": "stdout",
     "output_type": "stream",
     "text": [
      "720\n"
     ]
    }
   ],
   "source": [
    "# How many counts are in the gaussian for \n",
    "# a particular energy bin?\n",
    "# Here, GGA1 in bin 40 < ER < 60 keV\n",
    "N = 125*3+80*2+55*2+25*3\n",
    "print (N)"
   ]
  },
  {
   "cell_type": "code",
   "execution_count": 7,
   "metadata": {
    "collapsed": true
   },
   "outputs": [],
   "source": [
    "def std_error_mean(sig, N):\n",
    "    return sig/np.sqrt(N)\n",
    "\n",
    "def std_error_stdDev(sig, N):\n",
    "    return sig/np.sqrt(2*(N-1))"
   ]
  },
  {
   "cell_type": "code",
   "execution_count": 17,
   "metadata": {},
   "outputs": [
    {
     "name": "stdout",
     "output_type": "stream",
     "text": [
      "0.0021019038988498023\n",
      "0.0014877590039073583\n"
     ]
    }
   ],
   "source": [
    "# For the 40 < ER < 50 keV bin for GGA3 NR data,\n",
    "# the mean is 0.047 and the error is reported as 0.0015\n",
    "print (std_error_mean(0.047, 500))\n",
    "print (std_error_stdDev(0.047, 500))"
   ]
  },
  {
   "cell_type": "code",
   "execution_count": null,
   "metadata": {
    "collapsed": true
   },
   "outputs": [],
   "source": []
  }
 ],
 "metadata": {
  "anaconda-cloud": {},
  "kernelspec": {
   "display_name": "Python 3",
   "language": "python",
   "name": "python3"
  },
  "language_info": {
   "codemirror_mode": {
    "name": "ipython",
    "version": 3
   },
   "file_extension": ".py",
   "mimetype": "text/x-python",
   "name": "python",
   "nbconvert_exporter": "python",
   "pygments_lexer": "ipython3",
   "version": "3.7.3"
  }
 },
 "nbformat": 4,
 "nbformat_minor": 2
}
