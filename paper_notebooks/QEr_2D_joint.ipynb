{
 "cells": [
  {
   "cell_type": "markdown",
   "metadata": {},
   "source": [
    "# Joint Distributions of Q and $\\tilde{E}_r$ to Compare to Edelweiss Paper\n",
    "\n",
    "The purpose of this notebook is to detail the computation of the joint distribution of Q and $\\tilde{E}_r$ (measured ionization yield and measured recoil energy) with and arbitrary effective Fano factor applied. The construction used here is different from the one of Arvind, but it is verified to produce the same results for the probability distribution in ionization yield (called \"Q\" by Edelweiss) at a given fixed true recoil energy. \n",
    "\n",
    "Here is a table of the variables used in computing the distribution. I match Edelweiss variable names where possible.\n",
    "\n",
    "variable/constant name|Description \n",
    ":-|:-\n",
    "Q|measured ionization yield (CDMS calls this \"Y\")\n",
    "$\\tilde{E}_r$|measured recoil energy\n",
    "N|number of e/h pairs\n",
    "$\\delta I$ | instrumental fluctuation on the ionization measurement\n",
    "$\\delta H$ | instrumental fluctuation on the heat measurement\n",
    "$E_r$ | true recoil energy\n",
    "$\\epsilon$ | average energy to create a single electron-hole pair for an electron-recoil in keV\n",
    "$V$ |voltage across the detector in Volts\n",
    "\n",
    "We seek the joint distribution of Q and $\\tilde{E}_r$ given a fixed true energy, $E_r$. It is equal to the 5-variable joint distribution integrated appropriately over the 3 unwanted variables. \n",
    "\n",
    "\\begin{equation}\n",
    "P(Q,\\tilde{E}_r | E_r) = \\int_{-\\infty}^{\\infty} d(\\delta H) \\int_{-\\infty}^{\\infty} d(\\delta I) \\int_0^{\\infty} dN\n",
    " P(Q,\\tilde{E}_r,\\delta H,\\delta I, N | E_r)\n",
    "\\end{equation}\n"
   ]
  },
  {
   "cell_type": "code",
   "execution_count": null,
   "metadata": {},
   "outputs": [],
   "source": []
  }
 ],
 "metadata": {
  "kernelspec": {
   "display_name": "Python [conda env:py365]",
   "language": "python",
   "name": "conda-env-py365-py"
  },
  "language_info": {
   "codemirror_mode": {
    "name": "ipython",
    "version": 3
   },
   "file_extension": ".py",
   "mimetype": "text/x-python",
   "name": "python",
   "nbconvert_exporter": "python",
   "pygments_lexer": "ipython3",
   "version": "3.6.5"
  }
 },
 "nbformat": 4,
 "nbformat_minor": 2
}
