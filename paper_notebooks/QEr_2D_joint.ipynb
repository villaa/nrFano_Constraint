{
 "cells": [
  {
   "cell_type": "markdown",
   "metadata": {},
   "source": [
    "# Joint Distributions of Q and $\\tilde{E}_r$ to Compare to Edelweiss Paper\n",
    "\n",
    "The purpose of this notebook is to detail the computation of the joint distribution of Q and $\\tilde{E}_r$ (measured ionization yield and measured recoil energy) with and arbitrary effective Fano factor applied. The construction used here is different from the one of Arvind, but it is verified to produce the same results for the probability distribution in ionization yield (called \"Q\" by Edelweiss) at a given fixed true recoil energy. \n",
    "\n",
    "Here is a table of the variables used in computing the distribution. I match Edelweiss variable names where possible.\n",
    "\n",
    "variable/constant name|Description \n",
    ":-|:-\n",
    "Q|measured ionization yield (CDMS calls this \"Y\")\n",
    "$\\tilde{E}_r$|measured recoil energy\n",
    "N|number of e/h pairs\n",
    "$\\delta I$ | instrumental fluctuation on the ionization measurement\n",
    "$\\delta H$ | instrumental fluctuation on the heat measurement\n",
    "$E_r$ | true recoil energy\n",
    "$\\epsilon$ | average energy to create a single electron-hole pair for an electron-recoil in keV\n",
    "$V$ |voltage across the detector in Volts\n",
    "F | effective Fano factor for nuclear-recoils\n",
    "\n",
    "We seek the joint distribution of Q and $\\tilde{E}_r$ given a fixed true energy, $E_r$. It is equal to the 5-variable joint distribution integrated appropriately over the 3 unwanted variables. \n",
    "\n",
    "\\begin{equation}\n",
    "P(Q,\\tilde{E}_r | E_r) = \\int_{-\\infty}^{\\infty} d(\\delta H) \\int_{-\\infty}^{\\infty} d(\\delta I) \\int_0^{\\infty} dN\n",
    " P(Q,\\tilde{E}_r,\\delta H,\\delta I, N | E_r)\n",
    "\\end{equation}\n",
    "\n",
    "The technique used is to write down the 5-variable joint distribution based on the rules of conditional probability and the fact that N, $\\delta I$, and $\\delta H$ are independent random variables. Then the appropriate integrals can be carried out analytically or numerically. "
   ]
  },
  {
   "cell_type": "markdown",
   "metadata": {},
   "source": [
    "## Resolutions and the Conditional Distribution\n",
    "\n",
    "In addition to the variables already defined we need some kind of specifications for the (assumed Gaussian) resolutions on the three fundamental measured variables: N, $\\delta I$, and $\\delta H$. The resolutions are denoted $\\sigma_N$, $\\sigma_I$, and $\\sigma_H$ respectively, and are assumed to be functions of the true recoil energy $E_r$.\n",
    "\n",
    "Both the $\\sigma_I(E_r)$ and the $\\sigma_H(E_r)$ are just the measured resolutions from Edelweiss paper [REF]. \n",
    "\n",
    "The $\\sigma_N$ is the standard deviation of the number of electron-hole pairs, which can be computed (for a fixed $E_r$) using the effective Fano factor F. It is given simply by:\n",
    "\n",
    "\\begin{equation}\n",
    "\\sigma_N(E_r) = \\sqrt{F(\\bar{Q}E_r/\\epsilon)},\n",
    "\\end{equation}\n",
    "\n",
    "Where $\\bar{Q}$ is the mean ionization yield at $E_r$. Whenever $\\bar{Q}$ is written it is tacitly assumed to be a function of the true recoil energy, $E_r$.\n",
    "\n",
    "We plot the Edw. resolutions just below. "
   ]
  },
  {
   "cell_type": "code",
   "execution_count": null,
   "metadata": {},
   "outputs": [],
   "source": []
  },
  {
   "cell_type": "markdown",
   "metadata": {},
   "source": [
    "Since the resolutions are now known, we turn to the construction of the conditional probability $P(Q,\\tilde{E}_r,\\delta H, \\delta I,N|E_r)$. We base this on the fact that the variables Q, $\\tilde{E}_r$ are _completely derived_ variables and that the random variables N, $\\delta I$, and $\\delta H$ are _totally independent_. \n",
    "\n",
    "Q and $\\tilde{E}_r$ are constructed from N, $\\delta I$, $\\delta H$, and $E_r$ by the following equations:\n",
    "\n",
    "\\begin{equation}\n",
    "\\tilde{E}_r = E_r + \\left(1 + \\frac{V}{\\epsilon}\\right)\\delta H - \\left(\\frac{V}{\\epsilon}\\right) \\delta I,\n",
    "\\end{equation}\n",
    "\n",
    "\\begin{equation}\n",
    "Q = \\frac{\\epsilon N + \\delta I}{E_r + \\left(1 + \\frac{V}{\\epsilon} \\right) \\delta H - \\left(\\frac{V}{\\epsilon}\\right) \\delta I}.\n",
    "\\end{equation}\n",
    "\n",
    "With these equations we can simply write down the highly-conditional joint distribution since the variables Q and $\\tilde{E}_r$ contain no information except that which is contained in the other variables. \n",
    "\n",
    "\\begin{equation}\n",
    "P(Q,\\tilde{E}_r | \\delta H, \\delta I, N, E_r) = \\delta_r\\left(\\tilde{E}_r - \\left[E_r + \\left(1+\\frac{V}{\\epsilon}\\right)\\delta H -\\left(\\frac{V}{\\epsilon}\\right)\\delta I\\right] \\right) \\delta_Q \\left(Q - \\left[\\frac{\\epsilon N + \\delta I}{E_r + \\left(1+V/\\epsilon\\right)\\delta H - (V/\\epsilon) \\delta I}\\right]\\right),\n",
    "\\end{equation}\n",
    "\n",
    "where $\\delta_r$ and $\\delta_Q$ represent Dirac delta function distributions of the listed variables. \n",
    "\n",
    "After that we can just construct the needed conditional probability by multiplying by the probability distributions of the independent random variables N, $\\delta H$, and $\\delta I$. \n",
    "\n",
    "\\begin{equation}\n",
    "P(Q,\\tilde{E}_r,\\delta H, \\delta I, N|E_r) = P(Q,\\tilde{E}_r|\\delta H,\\delta I, N, E_r)P(\\delta H)P(\\delta I)P(N)\n",
    "\\end{equation}"
   ]
  },
  {
   "cell_type": "markdown",
   "metadata": {},
   "source": [
    "## The 5-Variable Joint Distribution\n",
    "\n",
    "The 5-variable joint distribution can now simply be written down, because the probability distributions of all of the independent random variables are just Gaussian. \n",
    "\n",
    "\\begin{equation}\n",
    "P(Q,\\tilde{E}_r,\\delta H, \\delta I, N|E_r) = N_{IHN} \\delta_Q \\delta_r exp\\left[-\\frac{\\delta I^2}{2\\sigma_I^2}\\right]exp\\left[-\\frac{\\delta H^2}{2\\sigma_H^2}\\right]exp\\left[-\\frac{\\left(\\bar{N} - N\\right)^2}{2\\sigma_N^2}\\right],\n",
    "\\end{equation}\n",
    "\n",
    "where $\\bar{N}$ is the mean number of electron-hole pairs and is equal to $\\bar{Q}E_r/\\epsilon$, and $N_{IHN}$ is a conglomeration of all the factors that do not depend on the independent random variables, as below:\n",
    "\n",
    "\\begin{equation}\n",
    "N_{IHN} = \\frac{1}{\\sqrt{2\\pi\\sigma_I^2}}\\frac{1}{\\sqrt{2\\pi\\sigma_H^2}}\\frac{1}{\\sqrt{2\\pi\\sigma_N^2}},\n",
    "\\end{equation}\n",
    "\n",
    "Note that this _is_ a function of the true recoil energy, $E_r$. Now to get the analytical representation of the function we want, $P(Q,\\tilde{E}_r|E_r)$, we need to integrate over $\\delta H$, N, and $\\delta I$ as described above. "
   ]
  },
  {
   "cell_type": "markdown",
   "metadata": {},
   "source": [
    "### Integrating Over $\\delta H$\n",
    "\n",
    "Because of the Dirac delta function $\\delta_r$, this integral is fairly trivial. Since in the delta function we have the factor $\\left(1+ (V/\\epsilon)\\right)$ preceding the $\\delta H$ we need to do a change-of-variable to use the delta function in the most straight-forward way. Let's do:\n",
    "\n",
    "\\begin{equation}\n",
    "\\begin{aligned}\n",
    "\\chi_0 &\\equiv \\left(1+(V/\\epsilon)\\right) \\delta H \\\\\n",
    "d\\chi_0 &= \\left(1+(V/\\epsilon)\\right) d(\\delta H).\n",
    "\\end{aligned}\n",
    "\\end{equation}\n",
    "\n",
    "This will modify the distribution by a constant factor in addition to eliminating $\\delta H$. The result is:\n",
    "\n",
    "\\begin{equation}\n",
    "P(Q,\\tilde{E}_r, \\delta I, N|E_r) = \\frac{N_{IHN}}{1+\\left(\\frac{V}{\\epsilon}\\right)} \\delta_Q \\delta_r exp\\left[-\\frac{\\delta I^2}{2\\sigma_I^2}\\right]exp\\left[-\\frac{\\left(\\tilde{E}_r - E_r + (V/\\epsilon) \\delta I\\right)^2}{2\\left[\\left(1+(V/\\epsilon)\\right)\\sigma_H\\right]^2}\\right]exp\\left[-\\frac{\\left(\\bar{N} - N\\right)^2}{2\\sigma_N^2}\\right],\n",
    "\\end{equation}"
   ]
  },
  {
   "cell_type": "markdown",
   "metadata": {},
   "source": [
    "### Integrating Over N"
   ]
  },
  {
   "cell_type": "markdown",
   "metadata": {},
   "source": [
    "### Integrating Over $\\delta I$"
   ]
  },
  {
   "cell_type": "markdown",
   "metadata": {},
   "source": [
    "## Joint Distribution in Q, $\\tilde{E}_r$ for a Fixed $E_r$"
   ]
  },
  {
   "cell_type": "markdown",
   "metadata": {},
   "source": [
    "## Adding in the True $E_r$ Distribution"
   ]
  },
  {
   "cell_type": "code",
   "execution_count": null,
   "metadata": {},
   "outputs": [],
   "source": []
  }
 ],
 "metadata": {
  "kernelspec": {
   "display_name": "Python [conda env:py365]",
   "language": "python",
   "name": "conda-env-py365-py"
  },
  "language_info": {
   "codemirror_mode": {
    "name": "ipython",
    "version": 3
   },
   "file_extension": ".py",
   "mimetype": "text/x-python",
   "name": "python",
   "nbconvert_exporter": "python",
   "pygments_lexer": "ipython3",
   "version": "3.6.5"
  }
 },
 "nbformat": 4,
 "nbformat_minor": 2
}
