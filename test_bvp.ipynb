{
 "cells": [
  {
   "cell_type": "code",
   "execution_count": 1,
   "metadata": {},
   "outputs": [
    {
     "data": {
      "text/plain": [
       "6.2832946004643215"
      ]
     },
     "execution_count": 1,
     "metadata": {},
     "output_type": "execute_result"
    }
   ],
   "source": [
    "import numpy as np\n",
    "import scipy.integrate as integrate\n",
    "\n",
    "def fun(x, y, p):\n",
    "  k = p[0]\n",
    "  return np.vstack((y[1], -k**2 * y[0]))\n",
    "\n",
    "def bc(ya, yb, p):\n",
    "  k = p[0]\n",
    "  return np.array([ya[0], yb[0], ya[1] - k])\n",
    "\n",
    "x = np.linspace(0, 1, 5)\n",
    "y = np.zeros((2, x.size))\n",
    "y[0, 1] = 1\n",
    "y[0, 3] = -1\n",
    "\n",
    "sol = integrate.solve_bvp(fun, bc, x, y, p=[6])\n",
    "sol.p[0]\n"
   ]
  },
  {
   "cell_type": "code",
   "execution_count": 2,
   "metadata": {},
   "outputs": [
    {
     "data": {
      "text/plain": [
       "<Figure size 640x480 with 1 Axes>"
      ]
     },
     "metadata": {},
     "output_type": "display_data"
    }
   ],
   "source": [
    "import matplotlib as mpl\n",
    "from matplotlib import pyplot as plt\n",
    "\n",
    "x_plot = np.linspace(0, 1, 100)\n",
    "y_plot = sol.sol(x_plot)[0]\n",
    "plt.plot(x_plot, y_plot)\n",
    "plt.xlabel(\"x\")\n",
    "plt.ylabel(\"y\")\n",
    "plt.show()"
   ]
  },
  {
   "cell_type": "code",
   "execution_count": 4,
   "metadata": {},
   "outputs": [],
   "source": [
    "def fun(x, y):\n",
    "  return np.vstack((y[1], -np.exp(y[0])))\n",
    "\n",
    "def bc(ya, yb):\n",
    "  return np.array([ya[0], yb[0]])\n",
    "\n",
    "x = np.linspace(0, 1, 5)\n",
    "\n",
    "y_a = np.zeros((2, x.size))\n",
    "y_b = np.zeros((2, x.size))\n",
    "y_b[0] = 3\n",
    "\n",
    "res_a = integrate.solve_bvp(fun, bc, x, y_a)\n",
    "res_b = integrate.solve_bvp(fun, bc, x, y_b)"
   ]
  },
  {
   "cell_type": "code",
   "execution_count": 5,
   "metadata": {},
   "outputs": [
    {
     "data": {
      "image/png": "[encoded data removed]",
      "text/plain": [
       "<Figure size 432x288 with 1 Axes>"
      ]
     },
     "metadata": {},
     "output_type": "display_data"
    }
   ],
   "source": [
    "x_plot = np.linspace(0, 1, 100)\n",
    "y_plot_a = res_a.sol(x_plot)[0]\n",
    "y_plot_b = res_b.sol(x_plot)[0]\n",
    "import matplotlib.pyplot as plt\n",
    "plt.plot(x_plot, y_plot_a, label='y_a')\n",
    "plt.plot(x_plot, y_plot_b, label='y_b')\n",
    "plt.legend()\n",
    "plt.xlabel(\"x\")\n",
    "plt.ylabel(\"y\")\n",
    "plt.show()"
   ]
  },
  {
   "cell_type": "code",
   "execution_count": 13,
   "metadata": {},
   "outputs": [
    {
     "name": "stdout",
     "output_type": "stream",
     "text": [
      "Solved in 1 iterations, number of nodes 5, maximum relative residual 5.98e-05.\n",
      "[ 0.00000000e+00  6.29630846e-07  7.63157743e-07  5.27457341e-07\n",
      " -5.55111512e-17]\n"
     ]
    }
   ],
   "source": [
    "def fun(x, y):\n",
    "  return np.vstack((y[1], y[0]))\n",
    "\n",
    "def bc(ya, yb):\n",
    "  return np.array([ya[0]-1, yb[0]-np.exp(-1)])\n",
    "\n",
    "x = np.linspace(0, 1, 5)\n",
    "\n",
    "y = np.zeros((2, x.size))\n",
    "\n",
    "\n",
    "res = integrate.solve_bvp(fun, bc, x, y,verbose=1)\n",
    "print(res.sol(x)[0]-np.exp(-x))\n"
   ]
  },
  {
   "cell_type": "code",
   "execution_count": null,
   "metadata": {},
   "outputs": [],
   "source": []
  }
 ],
 "metadata": {
  "kernelspec": {
   "display_name": "Python [conda env:py365]",
   "language": "python",
   "name": "conda-env-py365-py"
  },
  "language_info": {
   "codemirror_mode": {
    "name": "ipython",
    "version": 3
   },
   "file_extension": ".py",
   "mimetype": "text/x-python",
   "name": "python",
   "nbconvert_exporter": "python",
   "pygments_lexer": "ipython3",
   "version": "3.6.5"
  }
 },
 "nbformat": 4,
 "nbformat_minor": 2
}
