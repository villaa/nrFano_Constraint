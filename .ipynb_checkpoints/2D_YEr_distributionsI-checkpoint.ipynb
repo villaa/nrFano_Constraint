{
 "cells": [
  {
   "cell_type": "markdown",
   "metadata": {},
   "source": [
    "# Finding the 2D $Y$-$E_r$ Distributions Given Arvind's Yield Dist\n",
    "\n",
    "Arvind has calculated 1-dimensional yield distributions for a given recoil energy, $E_r$. For some of the analysis of the NR Fano paper we would like to know the 2-dimensional distribution in the Yield-Recoil plane. I try to begin calculating that below, first for the $E_p$/$E_q$ plane. "
   ]
  },
  {
   "cell_type": "markdown",
   "metadata": {},
   "source": [
    "## The $E_p$/$E_q$ Plane\n",
    "\n",
    "The joint distribution can be described in terms of the conditional distribution as follows (See [Wikipedia Article][WikiJoint]): \n",
    "\n",
    "\\begin{equation}\n",
    "P(E_p,E_q) = P(E_p | E_q) P(E_q)\n",
    "\\end{equation}\n",
    "\n",
    "[WikiJoint]: https://en.wikipedia.org/wiki/Conditional_probability_distribution \"Wikipedia Article on Joint Distribution\" "
   ]
  },
  {
   "cell_type": "code",
   "execution_count": 9,
   "metadata": {},
   "outputs": [],
   "source": [
    "import numpy as np\n",
    "\n",
    "#construct the functions\n",
    "\n",
    "#constants\n",
    "V = 4.0\n",
    "eps = 3.3/1000 #in keV/pair\n",
    "sigq = 1.0\n",
    "sigp = 1.0\n",
    "F = 1.0\n",
    "\n",
    "#yield\n",
    "a = 0.00751668\n",
    "b = 0.40236176\n",
    "\n",
    "#y = lambda x: a*x**b\n",
    "y = lambda x: 1\n",
    "\n",
    "#Guassian for phonon fluctuation\n",
    "gp = lambda Ep,Eq,N,Er: (1/np.sqrt(2*np.pi*sigp))*np.exp(-(Er-Ep+(V/eps)*Eq+(V/eps)*(Eq-eps*N))**2/(2*sigp**2))\n",
    "\n",
    "#Gaussian for charge fluctuation\n",
    "gq = lambda Ep,Eq,N,Er: (1/np.sqrt(2*np.pi*sigq))*np.exp(-(Eq-eps*N)**2/(2*sigq**2))\n",
    "\n",
    "#Gaussian for N fluctuation\n",
    "gN = lambda Ep,Eq,N,Er: (1/np.sqrt(2*np.pi*np.sqrt(F*(Er*y(Er)/eps))))*np.exp(-(N-(Er*y(Er)/eps))**2/(2*F*(Er*y(Er)/eps)))"
   ]
  },
  {
   "cell_type": "code",
   "execution_count": 10,
   "metadata": {},
   "outputs": [
    {
     "name": "stdout",
     "output_type": "stream",
     "text": [
      "0.05376981605744303\n",
      "0.3989422804014327\n",
      "0.3989422804014327\n"
     ]
    }
   ],
   "source": [
    "#generate a set of reasonable parameters\n",
    "Er0 = 10\n",
    "N0 = Er0*y(Er0)/eps\n",
    "Ep0 = Er0 + V*N0\n",
    "Eq0 = eps*N0\n",
    "\n",
    "print(gN(Ep0,Eq0,N0,Er0))\n",
    "print(gp(Ep0,Eq0,N0,Er0))\n",
    "print(gq(Ep0,Eq0,N0,Er0))"
   ]
  },
  {
   "cell_type": "code",
   "execution_count": 4,
   "metadata": {},
   "outputs": [],
   "source": [
    "#stitch these things together to make one nasty function\n",
    "p4d = lambda Ep,Eq,N,Er: gp(Ep,Eq,N,Er)*gq(Ep,Eq,N,Er)*gN(Ep,Eq,N,Er)"
   ]
  },
  {
   "cell_type": "code",
   "execution_count": 11,
   "metadata": {},
   "outputs": [
    {
     "name": "stdout",
     "output_type": "stream",
     "text": [
      "0.008557732014684025\n"
     ]
    }
   ],
   "source": [
    "print(p4d(Ep0,Eq0,N0,Er0))"
   ]
  },
  {
   "cell_type": "code",
   "execution_count": null,
   "metadata": {},
   "outputs": [],
   "source": []
  }
 ],
 "metadata": {
  "kernelspec": {
   "display_name": "Python [conda env:py365]",
   "language": "python",
   "name": "conda-env-py365-py"
  },
  "language_info": {
   "codemirror_mode": {
    "name": "ipython",
    "version": 3
   },
   "file_extension": ".py",
   "mimetype": "text/x-python",
   "name": "python",
   "nbconvert_exporter": "python",
   "pygments_lexer": "ipython3",
   "version": "3.6.5"
  }
 },
 "nbformat": 4,
 "nbformat_minor": 2
}
