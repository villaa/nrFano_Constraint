{
 "cells": [
  {
   "cell_type": "code",
   "execution_count": 1,
   "metadata": {},
   "outputs": [
    {
     "name": "stdout",
     "output_type": "stream",
     "text": [
      "Solved in 7 iterations, number of nodes 100014, maximum relative residual 6.88e-04.\n",
      "0\n",
      "True\n"
     ]
    }
   ],
   "source": [
    "import intdiff as id\n",
    "\n",
    "sol = id.getTFScreeningFunction()"
   ]
  },
  {
   "cell_type": "code",
   "execution_count": 2,
   "metadata": {},
   "outputs": [
    {
     "name": "stderr",
     "output_type": "stream",
     "text": [
      "/home/phys/villaa/python/anaconda3/envs/py365/lib/python3.6/site-packages/scipy/integrate/quadpack.py:385: IntegrationWarning: The integral is probably divergent, or slowly convergent.\n",
      "  warnings.warn(msg, IntegrationWarning)\n",
      "/home/phys/villaa/python/anaconda3/envs/py365/lib/python3.6/site-packages/scipy/integrate/quadpack.py:385: IntegrationWarning: Extremely bad integrand behavior occurs at some points of the\n",
      "  integration interval.\n",
      "  warnings.warn(msg, IntegrationWarning)\n"
     ]
    }
   ],
   "source": [
    "import numpy as np\n",
    "import scipy.interpolate as inter\n",
    "\n",
    "#get the function g\n",
    "gxi = lambda x: id.g(x,'smooth',sol)[0]\n",
    "gmesh = np.arange(0.1,100,0.01)\n",
    "gxiv = np.vectorize(gxi)\n",
    "gvec = gxiv(gmesh)\n",
    "\n",
    "\n",
    "g = inter.InterpolatedUnivariateSpline (gmesh, gvec, k=3)\n",
    "\n",
    "gsol = lambda x: g(x)"
   ]
  },
  {
   "cell_type": "code",
   "execution_count": 3,
   "metadata": {
    "scrolled": false
   },
   "outputs": [],
   "source": [
    "#try the rutherford cross section\n",
    "rsol = lambda x: [1,0]\n",
    "fruth = id.ft12('smooth',rsol,xmin=1,dx=0.1)\n",
    "\n",
    "#get the f function\n",
    "flind = id.ft12('gotg',gsol,xmin=0.001,dx=0.1)"
   ]
  },
  {
   "cell_type": "markdown",
   "metadata": {},
   "source": [
    "# Get RHS Integrand for Integro-Differential Equation\n",
    "\n",
    "The RHS  of the Lindhard integro-differential equation should be evaluated.\n",
    "\n",
    "\\begin{equation*}\n",
    "k\\epsilon^{1/2}\\bar{\\nu}^{\\prime}(\\epsilon) = \\int_0^{\\epsilon^2} \\frac{dt}{2t^{3/2}} f(t^{1/2}) \\left\\{\\bar{\\nu}\\left(\\epsilon - \\frac{t}{\\epsilon} \\right) - \\bar{\\nu}(\\epsilon) + \\bar{\\nu}\\left(\\frac{t}{\\epsilon} \\right) \\right\\}\n",
    "\\end{equation*}\n"
   ]
  },
  {
   "cell_type": "code",
   "execution_count": 4,
   "metadata": {},
   "outputs": [
    {
     "name": "stdout",
     "output_type": "stream",
     "text": [
      "(100,)\n",
      "0\n",
      "True\n",
      "  message: 'The solver successfully reached the end of the integration interval.'\n",
      "     nfev: 50\n",
      "     njev: 0\n",
      "      nlu: 0\n",
      "      sol: None\n",
      "   status: 0\n",
      "  success: True\n",
      "        t: array([1.000e-03, 1.010e-01, 2.010e-01, 3.010e-01, 4.010e-01, 5.010e-01,\n",
      "       6.010e-01, 7.010e-01, 8.010e-01, 9.010e-01, 1.001e+00, 1.101e+00,\n",
      "       1.201e+00, 1.301e+00, 1.401e+00, 1.501e+00, 1.601e+00, 1.701e+00,\n",
      "       1.801e+00, 1.901e+00, 2.001e+00, 2.101e+00, 2.201e+00, 2.301e+00,\n",
      "       2.401e+00, 2.501e+00, 2.601e+00, 2.701e+00, 2.801e+00, 2.901e+00,\n",
      "       3.001e+00, 3.101e+00, 3.201e+00, 3.301e+00, 3.401e+00, 3.501e+00,\n",
      "       3.601e+00, 3.701e+00, 3.801e+00, 3.901e+00, 4.001e+00, 4.101e+00,\n",
      "       4.201e+00, 4.301e+00, 4.401e+00, 4.501e+00, 4.601e+00, 4.701e+00,\n",
      "       4.801e+00, 4.901e+00, 5.001e+00, 5.101e+00, 5.201e+00, 5.301e+00,\n",
      "       5.401e+00, 5.501e+00, 5.601e+00, 5.701e+00, 5.801e+00, 5.901e+00,\n",
      "       6.001e+00, 6.101e+00, 6.201e+00, 6.301e+00, 6.401e+00, 6.501e+00,\n",
      "       6.601e+00, 6.701e+00, 6.801e+00, 6.901e+00, 7.001e+00, 7.101e+00,\n",
      "       7.201e+00, 7.301e+00, 7.401e+00, 7.501e+00, 7.601e+00, 7.701e+00,\n",
      "       7.801e+00, 7.901e+00, 8.001e+00, 8.101e+00, 8.201e+00, 8.301e+00,\n",
      "       8.401e+00, 8.501e+00, 8.601e+00, 8.701e+00, 8.801e+00, 8.901e+00,\n",
      "       9.001e+00, 9.101e+00, 9.201e+00, 9.301e+00, 9.401e+00, 9.501e+00,\n",
      "       9.601e+00, 9.701e+00, 9.801e+00, 9.901e+00])\n",
      " t_events: None\n",
      "        y: array([[0.1, 0.1, 0.1, 0.1, 0.1, 0.1, 0.1, 0.1, 0.1, 0.1, 0.1, 0.1, 0.1,\n",
      "        0.1, 0.1, 0.1, 0.1, 0.1, 0.1, 0.1, 0.1, 0.1, 0.1, 0.1, 0.1, 0.1,\n",
      "        0.1, 0.1, 0.1, 0.1, 0.1, 0.1, 0.1, 0.1, 0.1, 0.1, 0.1, 0.1, 0.1,\n",
      "        0.1, 0.1, 0.1, 0.1, 0.1, 0.1, 0.1, 0.1, 0.1, 0.1, 0.1, 0.1, 0.1,\n",
      "        0.1, 0.1, 0.1, 0.1, 0.1, 0.1, 0.1, 0.1, 0.1, 0.1, 0.1, 0.1, 0.1,\n",
      "        0.1, 0.1, 0.1, 0.1, 0.1, 0.1, 0.1, 0.1, 0.1, 0.1, 0.1, 0.1, 0.1,\n",
      "        0.1, 0.1, 0.1, 0.1, 0.1, 0.1, 0.1, 0.1, 0.1, 0.1, 0.1, 0.1, 0.1,\n",
      "        0.1, 0.1, 0.1, 0.1, 0.1, 0.1, 0.1, 0.1, 0.1]])\n"
     ]
    }
   ],
   "source": [
    "#need a dummy nu(eps) function, solve for first guess -- solution where RHS=0\n",
    "import numpy as np\n",
    "import scipy.integrate as integrate\n",
    "\n",
    "#define the differential equation by defining f(x,y)\n",
    "def func(t,y,call):\n",
    "  \n",
    "  k=0.157\n",
    "  #t = np.asarray(t,dtype=np.complex)\n",
    "  #y = np.asarray(y,dtype=np.complex)\n",
    "  #eq = y*(1/k)*t**(-1/2)\n",
    "  #eq = 0.1*(1/k)*t**(-1/2)\n",
    "  eq = call(y)*(1/k)*t**(-1/2)\n",
    "  #eq=np.real(eq)\n",
    "  return eq\n",
    "\n",
    "igrl = lambda x: 0\n",
    "f = lambda t,y: func(t,y,igrl)\n",
    "\n",
    "#define the mesh\n",
    "xmin=0.001\n",
    "xmax = 10\n",
    "dx = 0.1\n",
    "xmesh = np.arange(1e-3,xmax,dx)\n",
    "#xmesh = np.arange(0,xmax,dx)\n",
    "print(np.shape(xmesh))\n",
    "\n",
    "y0 = np.asarray([0.1])\n",
    "T = np.arange(xmin,xmax,dx)\n",
    "sol = integrate.solve_ivp(f,(xmin,xmax),y0,t_eval=T)\n",
    "\n",
    "print(sol.status)\n",
    "print(sol.success)\n",
    "\n",
    "print(sol)"
   ]
  },
  {
   "cell_type": "code",
   "execution_count": 5,
   "metadata": {},
   "outputs": [],
   "source": [
    "#set up a plot \n",
    "import numpy as np\n",
    "import matplotlib as mpl\n",
    "from matplotlib import pyplot as plt\n",
    "#got smarter about the mpl config: see mplstyles/ directory\n",
    "plt.style.use('standard')"
   ]
  },
  {
   "cell_type": "code",
   "execution_count": 6,
   "metadata": {},
   "outputs": [
    {
     "data": {
      "image/png": "[encoded data removed]",
      "text/plain": [
       "<Figure size 648x576 with 1 Axes>"
      ]
     },
     "metadata": {},
     "output_type": "display_data"
    }
   ],
   "source": [
    "#set up a plot\n",
    "fig,axes = plt.subplots(1,1,figsize=(9.0,8.0),sharex=True)\n",
    "ax1 = axes\n",
    "\n",
    "\n",
    "\n",
    "ax1.plot (sol.t, sol.y[0,:], 'k-', label='numerical derivative $\\\\bar{\\\\nu}_0$')\n",
    "\n",
    "\n",
    "\n",
    "ax1.set_yscale('linear')\n",
    "ax1.set_xscale('linear')\n",
    "ax1.set_xlim(0.001, 10)\n",
    "ax1.set_ylim(0.001,10)\n",
    "ax1.set_xlabel('dimensionless energy [$\\epsilon$]',**axis_font)\n",
    "ax1.set_ylabel('$\\\\bar{\\\\nu}_0$',**axis_font)\n",
    "ax1.grid(True)\n",
    "ax1.yaxis.grid(True,which='minor',linestyle='--')\n",
    "ax1.legend(loc=1,prop={'size':22})\n",
    "\n",
    "for axis in ['top','bottom','left','right']:\n",
    "  ax1.spines[axis].set_linewidth(2)\n",
    "\n",
    "plt.tight_layout()\n",
    "#plt.savefig('figures/figures.png')\n",
    "plt.show()"
   ]
  },
  {
   "cell_type": "code",
   "execution_count": 7,
   "metadata": {},
   "outputs": [
    {
     "name": "stdout",
     "output_type": "stream",
     "text": [
      "1.2318308316923203\n"
     ]
    }
   ],
   "source": [
    "#now have to try to figure out the RHS by integration\n",
    "\n",
    "barnu_i = inter.InterpolatedUnivariateSpline (sol.t, sol.y[0,:], k=3)\n",
    "integrand = lambda t,e: (1/(2*t**(3/2)))*flind(t**(1/2))*(barnu_i(e-(t/e))-barnu_i(e)+barnu_i(t/e))\n",
    "rhs = lambda e: integrate.quad(lambda t: integrand(t,e), 1e-3, e**2,epsrel=0.001)[0]\n",
    "\n",
    "print(rhs(1))"
   ]
  },
  {
   "cell_type": "code",
   "execution_count": 8,
   "metadata": {},
   "outputs": [
    {
     "name": "stdout",
     "output_type": "stream",
     "text": [
      "0\n",
      "True\n",
      "  message: 'The solver successfully reached the end of the integration interval.'\n",
      "     nfev: 38\n",
      "     njev: 0\n",
      "      nlu: 0\n",
      "      sol: None\n",
      "   status: 0\n",
      "  success: True\n",
      "        t: array([1.000e-03, 1.010e-01, 2.010e-01, 3.010e-01, 4.010e-01, 5.010e-01,\n",
      "       6.010e-01, 7.010e-01, 8.010e-01, 9.010e-01, 1.001e+00, 1.101e+00,\n",
      "       1.201e+00, 1.301e+00, 1.401e+00, 1.501e+00, 1.601e+00, 1.701e+00,\n",
      "       1.801e+00, 1.901e+00, 2.001e+00, 2.101e+00, 2.201e+00, 2.301e+00,\n",
      "       2.401e+00, 2.501e+00, 2.601e+00, 2.701e+00, 2.801e+00, 2.901e+00,\n",
      "       3.001e+00, 3.101e+00, 3.201e+00, 3.301e+00, 3.401e+00, 3.501e+00,\n",
      "       3.601e+00, 3.701e+00, 3.801e+00, 3.901e+00, 4.001e+00, 4.101e+00,\n",
      "       4.201e+00, 4.301e+00, 4.401e+00, 4.501e+00, 4.601e+00, 4.701e+00,\n",
      "       4.801e+00, 4.901e+00, 5.001e+00, 5.101e+00, 5.201e+00, 5.301e+00,\n",
      "       5.401e+00, 5.501e+00, 5.601e+00, 5.701e+00, 5.801e+00, 5.901e+00,\n",
      "       6.001e+00, 6.101e+00, 6.201e+00, 6.301e+00, 6.401e+00, 6.501e+00,\n",
      "       6.601e+00, 6.701e+00, 6.801e+00, 6.901e+00, 7.001e+00, 7.101e+00,\n",
      "       7.201e+00, 7.301e+00, 7.401e+00, 7.501e+00, 7.601e+00, 7.701e+00,\n",
      "       7.801e+00, 7.901e+00, 8.001e+00, 8.101e+00, 8.201e+00, 8.301e+00,\n",
      "       8.401e+00, 8.501e+00, 8.601e+00, 8.701e+00, 8.801e+00, 8.901e+00,\n",
      "       9.001e+00, 9.101e+00, 9.201e+00, 9.301e+00, 9.401e+00, 9.501e+00,\n",
      "       9.601e+00, 9.701e+00, 9.801e+00, 9.901e+00])\n",
      " t_events: None\n",
      "        y: array([[ 0.1       ,  0.1987738 ,  0.31070294,  0.42773649,  0.54736586,\n",
      "         0.66854481,  0.79062258,  0.91327932,  1.03635512,  1.15973395,\n",
      "         1.28336486,  1.40720219,  1.53120559,  1.65533999,  1.7795756 ,\n",
      "         1.90388796,  2.02825786,  2.15267141,  2.27712   ,  2.40160033,\n",
      "         2.52611437,  2.65066934,  2.77525703,  2.89986469,  3.02449116,\n",
      "         3.14913531,  3.27379604,  3.39847231,  3.5231631 ,  3.64786743,\n",
      "         3.77258436,  3.897313  ,  4.02205248,  4.14680196,  4.27156067,\n",
      "         4.39632785,  4.52110279,  4.64588481,  4.77067327,  4.89546758,\n",
      "         5.02026717,  5.14507152,  5.26988014,  5.39469258,  5.51950844,\n",
      "         5.64432732,  5.76914891,  5.8939729 ,  6.01879902,  6.14362707,\n",
      "         6.26845685,  6.39328821,  6.51812105,  6.64295528,  6.76779089,\n",
      "         6.89262787,  7.01746626,  7.14230613,  7.26714762,  7.39199087,\n",
      "         7.51683606,  7.64168336,  7.7665321 ,  7.89138204,  8.01623312,\n",
      "         8.14108526,  8.26593841,  8.39079252,  8.51564754,  8.64050343,\n",
      "         8.76536015,  8.89021765,  9.01507592,  9.13993493,  9.26479465,\n",
      "         9.38965507,  9.51451618,  9.63937796,  9.76424043,  9.88910356,\n",
      "        10.01396738, 10.13883189, 10.26369711, 10.38856306, 10.51342976,\n",
      "        10.63829724, 10.76316553, 10.88803467, 11.0129047 , 11.13777567,\n",
      "        11.26264763, 11.38752063, 11.51239474, 11.63727002, 11.76214653,\n",
      "        11.88702436, 12.01190358, 12.13678428, 12.26166653, 12.38655043]])\n"
     ]
    }
   ],
   "source": [
    "#now try to solve diffeq on the next iteration \n",
    "\n",
    "f = lambda t,y: func(t,y,rhs)\n",
    "\n",
    "sol = integrate.solve_ivp(f,(xmin,xmax),y0,t_eval=T)\n",
    "\n",
    "print(sol.status)\n",
    "print(sol.success)\n",
    "\n",
    "print(sol)"
   ]
  },
  {
   "cell_type": "code",
   "execution_count": null,
   "metadata": {},
   "outputs": [],
   "source": []
  }
 ],
 "metadata": {
  "kernelspec": {
   "display_name": "Python [conda env:py365]",
   "language": "python",
   "name": "conda-env-py365-py"
  },
  "language_info": {
   "codemirror_mode": {
    "name": "ipython",
    "version": 3
   },
   "file_extension": ".py",
   "mimetype": "text/x-python",
   "name": "python",
   "nbconvert_exporter": "python",
   "pygments_lexer": "ipython3",
   "version": "3.6.5"
  }
 },
 "nbformat": 4,
 "nbformat_minor": 2
}
