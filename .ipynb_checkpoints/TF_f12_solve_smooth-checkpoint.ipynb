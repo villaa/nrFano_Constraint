{
 "cells": [
  {
   "cell_type": "code",
   "execution_count": null,
   "metadata": {},
   "outputs": [],
   "source": [
    "import intdiff as id\n",
    "\n",
    "sol = id.getTFScreeningFunction()"
   ]
  },
  {
   "cell_type": "code",
   "execution_count": null,
   "metadata": {},
   "outputs": [],
   "source": [
    "print(sol)"
   ]
  },
  {
   "cell_type": "code",
   "execution_count": null,
   "metadata": {},
   "outputs": [],
   "source": [
    "#get g(xi) for the smooth functions we just computed\n",
    "g = lambda x: id.g(x,'smooth',sol)\n",
    "\n",
    "g_approx = lambda x: id.g(x,'numeric')\n",
    "\n",
    "print(g(1))\n",
    "print(g_approx(1))"
   ]
  },
  {
   "cell_type": "code",
   "execution_count": null,
   "metadata": {},
   "outputs": [],
   "source": [
    "#try the rutherford cross section\n",
    "rsol = lambda x: [1,0]\n",
    "fruth = id.ft12('smooth',rsol,xmin=1.0)\n",
    "\n",
    "#get the f function\n",
    "f = id.ft12('smooth',sol)"
   ]
  },
  {
   "cell_type": "code",
   "execution_count": null,
   "metadata": {},
   "outputs": [],
   "source": [
    "print(f(1))\n",
    "print(fruth(1))"
   ]
  },
  {
   "cell_type": "code",
   "execution_count": null,
   "metadata": {},
   "outputs": [],
   "source": [
    "#set up a plot \n",
    "import numpy as np\n",
    "import matplotlib as mpl\n",
    "from matplotlib import pyplot as plt\n",
    "#got smarter about the mpl config: see mplstyles/ directory\n",
    "plt.style.use('standard')"
   ]
  },
  {
   "cell_type": "code",
   "execution_count": null,
   "metadata": {},
   "outputs": [],
   "source": [
    "#set up a plot\n",
    "\n",
    "fig,axes = plt.subplots(1,1,figsize=(9.0,8.0),sharex=True)\n",
    "ax1 = axes\n",
    "\n",
    "fv = np.vectorize(f)\n",
    "\n",
    "dx=0.1\n",
    "xmax = 10\n",
    "X  = np.arange(0.0001,xmax,dx)\n",
    "Xh  = np.arange(1.0,xmax,dx)\n",
    "\n",
    "\n",
    "ax1.plot (X, f(X), 'k-', label='f($t^{1/2}$)')\n",
    "ax1.plot (X, fruth(X), 'k--', label='Rutherford')\n",
    "\n",
    "#ax1.plot (X, tau_3v(X), 'g-', label='$\\tau$$_3$')\n",
    "#ax1.plot (X, ylind(X), 'k--', label='Lindhard')\n",
    "#ax1.plot (X[X>0],ysingle(X[X>0]),'k-',linewidth=1)\n",
    "\n",
    "\n",
    "ax1.set_yscale('linear')\n",
    "ax1.set_xscale('log')\n",
    "ax1.set_xlim(0.001, xmax)\n",
    "ax1.set_ylim(0,0.008)\n",
    "ax1.set_xlabel('dimensionless energy transfer $t^{1/2}$',**axis_font)\n",
    "ax1.set_ylabel('f($t^{1/2}$)',**axis_font)\n",
    "ax1.grid(True)\n",
    "ax1.yaxis.grid(True,which='minor',linestyle='--')\n",
    "ax1.legend(loc=1,prop={'size':22})\n",
    "\n",
    "for axis in ['top','bottom','left','right']:\n",
    "  ax1.spines[axis].set_linewidth(2)\n",
    "\n",
    "plt.tight_layout()\n",
    "#plt.savefig('figures/figures.png')\n",
    "plt.show()"
   ]
  },
  {
   "cell_type": "code",
   "execution_count": null,
   "metadata": {},
   "outputs": [],
   "source": []
  }
 ],
 "metadata": {
  "kernelspec": {
   "display_name": "Python [conda env:py365]",
   "language": "python",
   "name": "conda-env-py365-py"
  },
  "language_info": {
   "codemirror_mode": {
    "name": "ipython",
    "version": 3
   },
   "file_extension": ".py",
   "mimetype": "text/x-python",
   "name": "python",
   "nbconvert_exporter": "python",
   "pygments_lexer": "ipython3",
   "version": "3.6.5"
  }
 },
 "nbformat": 4,
 "nbformat_minor": 2
}
