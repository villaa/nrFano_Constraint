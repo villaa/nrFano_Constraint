{
 "cells": [
  {
   "cell_type": "code",
   "execution_count": 1,
   "metadata": {},
   "outputs": [
    {
     "name": "stdout",
     "output_type": "stream",
     "text": [
      "Solved in 5 iterations, number of nodes 1000008, maximum relative residual 5.81e-04.\n",
      "0\n",
      "True\n"
     ]
    }
   ],
   "source": [
    "import intdiff as id\n",
    "\n",
    "sol = id.getTFScreeningFunction()"
   ]
  },
  {
   "cell_type": "code",
   "execution_count": 2,
   "metadata": {},
   "outputs": [
    {
     "name": "stdout",
     "output_type": "stream",
     "text": [
      "<scipy.interpolate.interpolate.PPoly object at 0x7f115e9617d8>\n"
     ]
    }
   ],
   "source": [
    "print(sol)"
   ]
  },
  {
   "cell_type": "code",
   "execution_count": 3,
   "metadata": {},
   "outputs": [
    {
     "name": "stdout",
     "output_type": "stream",
     "text": [
      "(0.6047753494842733, 1.026372090609215e-06)\n",
      "(0.688197544420046, 0.00046274698503157496)\n"
     ]
    }
   ],
   "source": [
    "#get g(xi) for the smooth functions we just computed\n",
    "g = lambda x: id.g(x,'smooth',sol)\n",
    "\n",
    "g_approx = lambda x: id.g(x,'numeric')\n",
    "\n",
    "print(g(1))\n",
    "print(g_approx(1))"
   ]
  },
  {
   "cell_type": "code",
   "execution_count": null,
   "metadata": {
    "scrolled": false
   },
   "outputs": [
    {
     "name": "stderr",
     "output_type": "stream",
     "text": [
      "/home/phys/villaa/python/anaconda3/envs/py365/lib/python3.6/site-packages/scipy/integrate/quadpack.py:385: IntegrationWarning: The algorithm does not converge.  Roundoff error is detected\n",
      "  in the extrapolation table.  It is assumed that the requested tolerance\n",
      "  cannot be achieved, and that the returned result (if full_output = 1) is \n",
      "  the best which can be obtained.\n",
      "  warnings.warn(msg, IntegrationWarning)\n",
      "/home/phys/villaa/python/anaconda3/envs/py365/lib/python3.6/site-packages/scipy/integrate/quadpack.py:385: IntegrationWarning: The integral is probably divergent, or slowly convergent.\n",
      "  warnings.warn(msg, IntegrationWarning)\n"
     ]
    }
   ],
   "source": [
    "#try the rutherford cross section\n",
    "rsol = lambda x: [1,0]\n",
    "fruth = id.ft12('smooth',rsol,xmin=1,dx=0.1)\n",
    "\n",
    "#get the f function\n",
    "f = id.ft12('smooth',sol,xmin=0.001,dx=0.0005)\n",
    "#f = id.ft12('smooth',sol,xmin=0.01,dx=0.005)"
   ]
  },
  {
   "cell_type": "code",
   "execution_count": null,
   "metadata": {},
   "outputs": [],
   "source": [
    "print(f(1))\n",
    "print(fruth(1))"
   ]
  },
  {
   "cell_type": "code",
   "execution_count": null,
   "metadata": {},
   "outputs": [],
   "source": [
    "#get the f function from the paper\n",
    "import dataPython as dp\n",
    "import numpy as np\n",
    "data = dp.getXYdata('data/lindhard-f.txt')\n",
    "data_0 = dp.getXYdata('data/lindhard-f-twocol.txt')\n",
    "\n",
    "#convert to numpy arrays\n",
    "t12 = np.asarray(data['xx'])\n",
    "ft12 = np.asarray(data['yy'])\n",
    "t120 = np.asarray(data_0['xx'])\n",
    "ft120 = np.asarray(data_0['yy'])"
   ]
  },
  {
   "cell_type": "code",
   "execution_count": null,
   "metadata": {},
   "outputs": [],
   "source": [
    "#set up a plot \n",
    "import numpy as np\n",
    "import matplotlib as mpl\n",
    "from matplotlib import pyplot as plt\n",
    "#got smarter about the mpl config: see mplstyles/ directory\n",
    "plt.style.use('standard')"
   ]
  },
  {
   "cell_type": "code",
   "execution_count": null,
   "metadata": {},
   "outputs": [],
   "source": [
    "#set up a plot\n",
    "\n",
    "fig,axes = plt.subplots(1,1,figsize=(9.0,8.0),sharex=True)\n",
    "ax1 = axes\n",
    "\n",
    "fv = np.vectorize(f)\n",
    "\n",
    "dx=0.001\n",
    "xmax = 10\n",
    "X  = np.arange(0.0001,xmax,dx)\n",
    "Xh  = np.arange(1.0,xmax,0.1)\n",
    "\n",
    "\n",
    "ax1.plot (X, f(X), 'k-', label='Thomas-Fermi (calculated)')\n",
    "ax1.plot (t12, ft12, 'r-', label='Thomas-Fermi (NAC I)')\n",
    "ax1.plot (t120, ft120, 'g-', label='Thomas-Fermi (NAC I 2nd attempt)')\n",
    "ax1.plot (Xh, fruth(Xh), 'k--', label='Rutherford')\n",
    "\n",
    "#ax1.plot (X, tau_3v(X), 'g-', label='$\\tau$$_3$')\n",
    "#ax1.plot (X, ylind(X), 'k--', label='Lindhard')\n",
    "#ax1.plot (X[X>0],ysingle(X[X>0]),'k-',linewidth=1)\n",
    "\n",
    "\n",
    "ax1.set_yscale('linear')\n",
    "ax1.set_xscale('log')\n",
    "ax1.set_xlim(0.001, xmax)\n",
    "ax1.set_ylim(0,0.8)\n",
    "ax1.set_xlabel('dimensionless energy transfer $t^{1/2}$',**axis_font)\n",
    "ax1.set_ylabel('f($t^{1/2}$)',**axis_font)\n",
    "ax1.grid(True)\n",
    "ax1.xaxis.grid(True,which='minor',linestyle='--')\n",
    "ax1.legend(loc=1,prop={'size':22})\n",
    "\n",
    "for axis in ['top','bottom','left','right']:\n",
    "  ax1.spines[axis].set_linewidth(2)\n",
    "\n",
    "plt.tight_layout()\n",
    "plt.savefig('figures/f_TF_smooth.png')\n",
    "plt.show()"
   ]
  },
  {
   "cell_type": "code",
   "execution_count": null,
   "metadata": {},
   "outputs": [],
   "source": []
  }
 ],
 "metadata": {
  "kernelspec": {
   "display_name": "Python [conda env:py365]",
   "language": "python",
   "name": "conda-env-py365-py"
  },
  "language_info": {
   "codemirror_mode": {
    "name": "ipython",
    "version": 3
   },
   "file_extension": ".py",
   "mimetype": "text/x-python",
   "name": "python",
   "nbconvert_exporter": "python",
   "pygments_lexer": "ipython3",
   "version": "3.6.5"
  }
 },
 "nbformat": 4,
 "nbformat_minor": 2
}
