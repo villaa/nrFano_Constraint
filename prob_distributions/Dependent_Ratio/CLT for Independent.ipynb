{
 "cells": [
  {
   "cell_type": "code",
   "execution_count": 1,
   "metadata": {},
   "outputs": [],
   "source": [
    "import numpy as np\n",
    "import matplotlib.pyplot as plt"
   ]
  },
  {
   "cell_type": "code",
   "execution_count": 2,
   "metadata": {},
   "outputs": [
    {
     "name": "stdout",
     "output_type": "stream",
     "text": [
      "Mean =  -0.7177278224296195\n",
      "stdev =  117.52197065726281\n",
      "Bins =  50\n"
     ]
    },
    {
     "data": {
      "image/png": "[encoded data removed]",
      "text/plain": [
       "<Figure size 432x288 with 1 Axes>"
      ]
     },
     "metadata": {
      "needs_background": "light"
     },
     "output_type": "display_data"
    }
   ],
   "source": [
    "#parameters for X and Y\n",
    "meanX = 0\n",
    "sdX = 1\n",
    "meanY = 0\n",
    "sdY = 1\n",
    "\n",
    "N = 10000\n",
    "\n",
    "k = 10000\n",
    "count = 0\n",
    "smpl_mean = []\n",
    "\n",
    "while (count < k):\n",
    "    np.random.seed((k+1)*count)\n",
    "    #Z=X/Y\n",
    "    Xdata = np.random.normal(meanX,sdX,N)\n",
    "    Ydata = np.random.normal(meanY,sdY,N)\n",
    "    Zdata = Xdata / Ydata\n",
    "    smpl_mean.append(np.mean(Zdata))\n",
    "    count += 1\n",
    "\n",
    "mean_smpl_mean = np.mean(smpl_mean)\n",
    "stdev_smpl_mean = np.sqrt(np.mean((smpl_mean-mean_smpl_mean)*(smpl_mean-mean_smpl_mean)))\n",
    "\n",
    "print(\"Mean = \", mean_smpl_mean)\n",
    "print(\"stdev = \", stdev_smpl_mean)\n",
    "\n",
    "density = True\n",
    "bins = 50\n",
    "hist, bin_edges = np.histogram(smpl_mean, bins, density=density)\n",
    "\n",
    "print(\"Bins = \", bins)\n",
    "\n",
    "f = (1/(stdev_smpl_mean*np.sqrt(2*np.pi)))*np.exp(-(bin_edges[0:-1]-mean_smpl_mean)*(bin_edges[0:-1]-mean_smpl_mean)/(2*(stdev_smpl_mean*stdev_smpl_mean)))\n",
    "\n",
    "plt.figure()\n",
    "plt.plot(bin_edges[0:-1], (hist), color=\"red\", label = \"mean-plot\")\n",
    "plt.plot(bin_edges[0:-1], f, color=\"black\", label = \"normal-plot\")\n",
    "plt.grid()\n",
    "plt.legend()\n",
    "plt.show()"
   ]
  },
  {
   "cell_type": "code",
   "execution_count": null,
   "metadata": {},
   "outputs": [],
   "source": []
  }
 ],
 "metadata": {
  "kernelspec": {
   "display_name": "Python 3",
   "language": "python",
   "name": "python3"
  },
  "language_info": {
   "codemirror_mode": {
    "name": "ipython",
    "version": 3
   },
   "file_extension": ".py",
   "mimetype": "text/x-python",
   "name": "python",
   "nbconvert_exporter": "python",
   "pygments_lexer": "ipython3",
   "version": "3.7.1"
  }
 },
 "nbformat": 4,
 "nbformat_minor": 2
}
