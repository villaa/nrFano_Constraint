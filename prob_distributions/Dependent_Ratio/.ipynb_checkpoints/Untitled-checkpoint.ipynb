{
 "cells": [
  {
   "cell_type": "code",
   "execution_count": 1,
   "metadata": {},
   "outputs": [],
   "source": [
    "import math\n",
    "import numpy as np\n",
    "import matplotlib.pyplot as plt"
   ]
  },
  {
   "cell_type": "code",
   "execution_count": 2,
   "metadata": {},
   "outputs": [
    {
     "name": "stdout",
     "output_type": "stream",
     "text": [
      "Mean of Z =  1.033811832159457\n",
      "Standard Deviation of Z =  0.26461344457857877\n"
     ]
    },
    {
     "data": {
      "image/png": "[encoded data removed]",
      "text/plain": [
       "<Figure size 432x288 with 1 Axes>"
      ]
     },
     "metadata": {
      "needs_background": "light"
     },
     "output_type": "display_data"
    }
   ],
   "source": [
    "#parameters\n",
    "meanN = 10\n",
    "sdN = 1\n",
    "sdQ = 1\n",
    "sdP = 1\n",
    "Er = 10\n",
    "V = 1\n",
    "e = 1\n",
    "\n",
    "N = 100000\n",
    "\n",
    "#Z=X/Y\n",
    "Ndata = np.random.normal(meanN,sdN,N)\n",
    "Qdata = np.random.normal(0,sdQ,N)\n",
    "Pdata = np.random.normal(0,sdP,N)\n",
    "Zdata = (e*Ndata+Qdata) / (Er+Pdata-(V/e)*Qdata)\n",
    "\n",
    "#Sample Statistics\n",
    "meanZ = np.mean(Zdata)\n",
    "sdZ = math.sqrt(np.mean((Zdata-np.mean(Zdata))**2))\n",
    "\n",
    "print(\"Mean of Z = \", meanZ)\n",
    "print(\"Standard Deviation of Z = \", sdZ)\n",
    "\n",
    "#Normal Distribution approximation based on Estamted Parameters\n",
    "def normf(x):\n",
    "    ans = np.exp(-(((x-meanZ)/sdZ)**2)/2)/(sdZ*math.sqrt(2*math.pi))\n",
    "    return ans\n",
    "\n",
    "density = True\n",
    "bins = 1000\n",
    "hist, bin_edges = np.histogram(Zdata, bins, density=density)\n",
    "\n",
    "##Definitions\n",
    "\n",
    "k = (sdP**2)*(sdQ**2)+(V**2)*(sdQ**2)*(sdN**2)+(e**2)*(sdN**2)*(sdP**2)\n",
    "\n",
    "def g(x):\n",
    "    ans = (1/math.sqrt(math.pi))+x*(np.exp(x**2))*math.erf(x)\n",
    "    return ans\n",
    "    \n",
    "def A(x):\n",
    "    ans = ((((x*(V/e)+1)*sdQ)**2)+((x*sdP)**2)+((e*sdN)**2))/(2*k)\n",
    "    return ans\n",
    "    \n",
    "def B(x):\n",
    "    ans = ((V/e)*(sdQ**2)*(Er*x+e*meanN)+x*e*meanN*(((V*sdQ/e)**2)+(sdP**2))+Er*((sdQ**2)+((e*sdN)**2)))/(k)\n",
    "    return ans\n",
    "\n",
    "C = ((((meanN*V+Er)*sdQ)**2)+(((meanN*sdP)**2)+((Er*sdN)**2))*(e**2))/(2*k)    \n",
    "\n",
    "\n",
    "def f(x):\n",
    "    ans = (1/(2*math.sqrt(math.pi*k)))*(1/A(x))*np.exp(-C)*g((B(x))/(2*math.sqrt(A(x))))\n",
    "    return ans\n",
    "\n",
    "def cauchy(x):\n",
    "    ans = (1/(2*math.pi*math.sqrt(k)))*(1/A(x))\n",
    "    return ans\n",
    "\n",
    "fv = np.vectorize(f)\n",
    "flist = fv(bin_edges)\n",
    "\n",
    "cv = np.vectorize(cauchy)\n",
    "clist = cv(bin_edges)\n",
    "\n",
    "normfv = np.vectorize(normf)\n",
    "normlist = normfv(bin_edges)\n",
    "\n",
    "plt.figure()\n",
    "plt.plot(bin_edges[0:-1], (hist), color=\"red\", label = \"plot\")\n",
    "plt.plot(bin_edges[0::], flist[0::] , color=\"black\", label = \"theoretic-plot\")\n",
    "plt.plot(bin_edges[0::], clist[0::] , color=\"blue\", label = \"cauchy contribution\")\n",
    "plt.axvline(x = (e*meanN/Er))\n",
    "plt.grid()\n",
    "plt.legend()\n",
    "plt.show()"
   ]
  }
 ],
 "metadata": {
  "kernelspec": {
   "display_name": "Python 3",
   "language": "python",
   "name": "python3"
  },
  "language_info": {
   "codemirror_mode": {
    "name": "ipython",
    "version": 3
   },
   "file_extension": ".py",
   "mimetype": "text/x-python",
   "name": "python",
   "nbconvert_exporter": "python",
   "pygments_lexer": "ipython3",
   "version": "3.7.1"
  }
 },
 "nbformat": 4,
 "nbformat_minor": 2
}
