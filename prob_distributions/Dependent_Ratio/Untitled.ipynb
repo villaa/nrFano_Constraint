{
 "cells": [
  {
   "cell_type": "code",
   "execution_count": 1,
   "metadata": {},
   "outputs": [],
   "source": [
    "import math\n",
    "import numpy as np\n",
    "import matplotlib.pyplot as plt\n",
    "\n"
   ]
  },
  {
   "cell_type": "code",
   "execution_count": 4,
   "metadata": {},
   "outputs": [
    {
     "name": "stderr",
     "output_type": "stream",
     "text": [
      "/anaconda3/lib/python3.7/site-packages/ipykernel_launcher.py:53: RuntimeWarning: invalid value encountered in double_scalars\n"
     ]
    },
    {
     "data": {
      "image/png": "[encoded data removed]",
      "text/plain": [
       "<Figure size 432x288 with 1 Axes>"
      ]
     },
     "metadata": {
      "needs_background": "light"
     },
     "output_type": "display_data"
    }
   ],
   "source": [
    "#parameters\n",
    "'''\n",
    "meanN = 10\n",
    "sdN = 1\n",
    "sdQ = 1\n",
    "sdP = 1\n",
    "Er = 10\n",
    "V = 1\n",
    "e = 1'''\n",
    "\n",
    "meanN = 45454\n",
    "sdN = 476\n",
    "sdQ = 2\n",
    "sdP = 7\n",
    "Er = 149\n",
    "V = 0.004\n",
    "e = 0.003\n",
    "\n",
    "\n",
    "\n",
    "N = 10000\n",
    "\n",
    "#Z=X/Y\n",
    "Ndata = np.random.normal(meanN,sdN,N)\n",
    "Qdata = np.random.normal(0,sdQ,N)\n",
    "Pdata = np.random.normal(0,sdP,N)\n",
    "Zdata = (e*Ndata+Qdata) / (Er+Pdata-(V/e)*Qdata)\n",
    "\n",
    "density = True\n",
    "bins = 50\n",
    "hist, bin_edges = np.histogram(Zdata, bins, density=density)\n",
    "\n",
    "##Definitions\n",
    "\n",
    "k = (sdP**2)*(sdQ**2)+(V**2)*(sdQ**2)*(sdN**2)+(e**2)*(sdN**2)*(sdP**2)\n",
    "\n",
    "def g(x):\n",
    "    ans = (1/math.sqrt(math.pi))+x*(np.exp(x**2))*math.erf(x)\n",
    "    return ans\n",
    "    \n",
    "def A(x):\n",
    "    ans = ((((x*(V/e)+1)*sdQ)**2)+((x*sdP)**2)+((e*sdN)**2))/(2*k)\n",
    "    return ans\n",
    "    \n",
    "def B(x):\n",
    "    ans = ((V/e)*(sdQ**2)*(Er*x+e*meanN)+x*e*meanN*(((V*sdQ/e)**2)+(sdP**2))+Er*((sdQ**2)+((e*sdN)**2)))/(k)\n",
    "    return ans\n",
    "\n",
    "C = ((((meanN*V+Er)*sdQ)**2)+(((meanN*sdP)**2)+((Er*sdN)**2))*(e**2))/(2*k)    \n",
    "\n",
    "\n",
    "def f(x):\n",
    "    ans = (1/(2*math.sqrt(math.pi*k)))*(1/A(x))*np.exp(-C)*g((B(x))/(2*math.sqrt(A(x))))\n",
    "    return ans\n",
    "\n",
    "fv = np.vectorize(f)\n",
    "flist = fv(bin_edges)\n",
    "\n",
    "\"\"\"\n",
    "count = 1\n",
    "while (count < bins):\n",
    "    flist.append(f(bin_edges[count])) \n",
    "    count += 1\n",
    "\"\"\"\n",
    "\n",
    "plt.figure()\n",
    "plt.plot(bin_edges[0:-1], (hist), color=\"red\", label = \"plot\")\n",
    "plt.plot(bin_edges[0::], flist[0::] , color=\"black\", label = \"theoretic-plot\")\n",
    "plt.grid()\n",
    "plt.legend()\n",
    "plt.show()\n"
   ]
  },
  {
   "cell_type": "code",
   "execution_count": null,
   "metadata": {},
   "outputs": [],
   "source": []
  }
 ],
 "metadata": {
  "kernelspec": {
   "display_name": "Python 3",
   "language": "python",
   "name": "python3"
  },
  "language_info": {
   "codemirror_mode": {
    "name": "ipython",
    "version": 3
   },
   "file_extension": ".py",
   "mimetype": "text/x-python",
   "name": "python",
   "nbconvert_exporter": "python",
   "pygments_lexer": "ipython3",
   "version": "3.7.3"
  }
 },
 "nbformat": 4,
 "nbformat_minor": 2
}
