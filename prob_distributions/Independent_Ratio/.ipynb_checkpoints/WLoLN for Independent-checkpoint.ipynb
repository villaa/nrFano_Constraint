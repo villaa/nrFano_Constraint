{
 "cells": [
  {
   "cell_type": "code",
   "execution_count": 1,
   "metadata": {},
   "outputs": [],
   "source": [
    "import numpy as np\n",
    "import matplotlib.pyplot as plt"
   ]
  },
  {
   "cell_type": "code",
   "execution_count": 16,
   "metadata": {},
   "outputs": [
    {
     "name": "stdout",
     "output_type": "stream",
     "text": [
      "Mean =  1.0194102266935194\n",
      "stdev =  0.0064022950183933525\n",
      "Bins =  59\n"
     ]
    },
    {
     "data": {
      "image/png": "[encoded data removed]",
      "text/plain": [
       "<Figure size 432x288 with 1 Axes>"
      ]
     },
     "metadata": {
      "needs_background": "light"
     },
     "output_type": "display_data"
    }
   ],
   "source": [
    "def running_smpl_mean_plot(input_list):\n",
    "    size = len(input_list)\n",
    "    n = np.linspace(0,size-1,size)\n",
    "    count = 0\n",
    "    result_list = []\n",
    "    while (count < size) :\n",
    "        result_list.append(np.mean(input_list[0:count]))\n",
    "        count += 1\n",
    "    plt.figure()\n",
    "    plt.plot(n,result_list,color=\"red\")\n",
    "    plt.plot(n,result_list[-1]*((n+1)/(n+1)),color=\"blue\")\n",
    "    plt.grid()\n",
    "    plt.show()\n",
    "\n",
    "#parameters for X and Y\n",
    "meanX = 10\n",
    "sdX = 1\n",
    "meanY = 10\n",
    "sdY = 1\n",
    "\n",
    "N = 1000\n",
    "\n",
    "k1 = 0\n",
    "count1 = 0\n",
    "while (count1 < k1):\n",
    "    np.random.seed(k1*count1)\n",
    "    #Z=X/Y\n",
    "    Xdata = np.random.normal(meanX,sdX,N)\n",
    "    Ydata = np.random.normal(meanY,sdY,N)\n",
    "    Zdata = Xdata / Ydata\n",
    "    running_smpl_mean_plot(Zdata)\n",
    "    count1 += 1\n",
    "    \n",
    "k2 = 50000\n",
    "count2 = 0\n",
    "smpl_mean = []\n",
    "while (count2 < k2):\n",
    "    np.random.seed(k2*count2)\n",
    "    #Z=X/Y\n",
    "    Xdata = np.random.normal(meanX,sdX,N)\n",
    "    Ydata = np.random.normal(meanY,sdY,N)\n",
    "    Zdata = Xdata / Ydata\n",
    "    smpl_mean.append(np.mean(Zdata))\n",
    "    count2 += 1\n",
    "\n",
    "mean_smpl_mean = np.mean(smpl_mean)\n",
    "stdev_smpl_mean = np.sqrt(np.mean((smpl_mean-mean_smpl_mean)*(smpl_mean-mean_smpl_mean)))\n",
    "\n",
    "print(\"Mean = \", mean_smpl_mean)\n",
    "print(\"stdev = \", stdev_smpl_mean)\n",
    "\n",
    "density = True\n",
    "bin_size1 = (2*(np.percentile(Zdata,.75)-np.percentile(Zdata,.25))/np.cbrt(k2))\n",
    "bins = int(np.floor((np.amax(smpl_mean)-np.amin(smpl_mean))/bin_size1))\n",
    "hist, bin_edges = np.histogram(smpl_mean, bins, density=density)\n",
    "\n",
    "print(\"Bins = \", bins)\n",
    "\n",
    "f = (1/(stdev_smpl_mean*np.sqrt(2*np.pi)))*np.exp(-(bin_edges[0:-1]-mean_smpl_mean)*(bin_edges[0:-1]-mean_smpl_mean)/(2*(stdev_smpl_mean*stdev_smpl_mean)))\n",
    "\n",
    "plt.figure()\n",
    "plt.plot(bin_edges[0:-1], (hist), color=\"red\", label = \"mean-plot\")\n",
    "##plt.plot(bin_edges[0:-1], f, color=\"black\", label = \"normal-plot\")\n",
    "plt.grid()\n",
    "plt.legend()\n",
    "plt.show()"
   ]
  },
  {
   "cell_type": "code",
   "execution_count": null,
   "metadata": {},
   "outputs": [],
   "source": []
  }
 ],
 "metadata": {
  "kernelspec": {
   "display_name": "Python 3",
   "language": "python",
   "name": "python3"
  },
  "language_info": {
   "codemirror_mode": {
    "name": "ipython",
    "version": 3
   },
   "file_extension": ".py",
   "mimetype": "text/x-python",
   "name": "python",
   "nbconvert_exporter": "python",
   "pygments_lexer": "ipython3",
   "version": "3.7.1"
  }
 },
 "nbformat": 4,
 "nbformat_minor": 2
}
