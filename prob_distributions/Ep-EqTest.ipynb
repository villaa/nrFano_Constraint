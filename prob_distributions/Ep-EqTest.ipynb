{
 "cells": [
  {
   "cell_type": "code",
   "execution_count": 1,
   "metadata": {},
   "outputs": [],
   "source": [
    "import math\n",
    "import numpy as np\n",
    "import matplotlib.pyplot as plt\n",
    "import scipy.integrate as integrate"
   ]
  },
  {
   "cell_type": "code",
   "execution_count": 2,
   "metadata": {},
   "outputs": [],
   "source": [
    "#Parameters\n",
    "F = 1/20\n",
    "\n",
    "alphaP = 1\n",
    "betaP  = 0\n",
    "gammaP = 0\n",
    "alphaQ = 1\n",
    "betaQ  = 0\n",
    "gammaQ = 0\n",
    "eps    = .003\n",
    "V      = .004\n",
    "F      = .3\n",
    "lam    = 18 #in keV\n",
    "a      = .16\n",
    "b      = .18\n",
    "\n"
   ]
  },
  {
   "cell_type": "code",
   "execution_count": 10,
   "metadata": {},
   "outputs": [],
   "source": [
    "#Pseudo-Analytic Solution #1    \n",
    "def fv(p0, q0, x0):\n",
    "    stdP = np.sqrt(alphaP+betaP*x0+gammaP*(x0**2))\n",
    "    stdQ = np.sqrt(alphaQ+betaQ*x0+gammaQ*(x0**2))\n",
    "    stdN = np.sqrt(F*x0/eps)\n",
    "    meanN = x0/eps\n",
    "    #print(meanN,stdP,stdQ,stdN)\n",
    "    av = (((V/stdP)**2)+((eps/stdQ)**2)+((1/stdN)**2))/2\n",
    "    bv = (V*(x0-p0)/(stdP**2)-eps*q0/(stdQ**2)-meanN/(stdN**2))\n",
    "    cv = ((((x0-p0)/stdP)**2)+((q0/stdQ)**2)+((meanN/stdN)**2))/2\n",
    "    f_pq_r = np.exp(((bv**2)/(4*av)-cv))/(2*math.pi*stdQ*stdP*stdN*math.sqrt(2*av))\n",
    "    f_r = np.exp(-x0/lam)/lam\n",
    "    ans = f_pq_r*f_r\n",
    "    #ans = ((bv**2)/(4*av)-cv)\n",
    "    #print(((bv**2)/(4*av)-cv))\n",
    "    #print(av,bv,cv)\n",
    "    #print(stdP,stdQ,stdN,av,bv,cv,(bv**2)/(4*av)-cv,ans)\n",
    "    return ans\n",
    "\n",
    "def fv_exp(p0, q0, x0):\n",
    "    stdP = np.sqrt(alphaP+betaP*x0+gammaP*(x0**2))\n",
    "    stdQ = np.sqrt(alphaQ+betaQ*x0+gammaQ*(x0**2))\n",
    "    stdN = np.sqrt(F*x0/eps)\n",
    "    meanN = x0/eps\n",
    "    #print(meanN,stdP,stdQ,stdN)\n",
    "    av = (((V/stdP)**2)+((eps/stdQ)**2)+((1/stdN)**2))/2\n",
    "    bv = (V*(x0-p0)/(stdP**2)-eps*q0/(stdQ**2)-meanN/(stdN**2))\n",
    "    cv = ((((x0-p0)/stdP)**2)+((q0/stdQ)**2)+((meanN/stdN)**2))/2\n",
    "    f_pq_r = np.exp(((bv**2)/(4*av)-cv))/(2*math.pi*stdQ*stdP*stdN*math.sqrt(2*av))\n",
    "    f_r = np.exp(-x0/lam)/lam\n",
    "    #ans = f_pq_r*f_r\n",
    "    ans = ((bv**2)/(4*av)-cv)\n",
    "    #print(((bv**2)/(4*av)-cv))\n",
    "    #print(av,bv,cv)\n",
    "    #print(stdP,stdQ,stdN,av,bv,cv,(bv**2)/(4*av)-cv,ans)\n",
    "    return ans\n",
    "\n",
    "f = lambda x0, p0, q0: fv(p0,q0,x0)\n",
    "f_vec = np.vectorize(f)\n",
    "\n",
    "\n",
    "f_exp = lambda x0, p0, q0: fv_exp(p0,q0,x0)\n",
    "f_vec_exp = np.vectorize(f_exp)\n",
    "\n",
    "\n",
    "def Fv0(p0,q0):\n",
    "    ans = integrate.quad(f, 0, np.inf, args = (p0,q0,))[0]\n",
    "    return ans\n",
    "\n",
    "def Fv(p0,q0):\n",
    "    sigP = math.sqrt(alphaP+betaP*(p0-(V*q0/eps))+gammaP*((p0-(V*q0/eps))**2))\n",
    "    sigQ = math.sqrt(alphaQ+betaQ*(p0-(V*q0/eps))+gammaQ*((p0-(V*q0/eps))**2))\n",
    "    L = ((V/(sigP**2))**2)/(2*(((V/sigP)**2)+((eps/sigQ)**2)))\n",
    "    delt = ((sigP**2)/V)*((eps*q0)/(sigQ**2)+(1/F)-(V*p0)/(sigP**2))\n",
    "    H = eps/(F*(((V/sigP)**2)+((eps/sigQ)**2)))\n",
    "    a0 = -1/(2*sigP)+L\n",
    "    b0 = p0/(sigP**2)-1/(2*F*eps)-1/lam+L*(2*delt-H)\n",
    "    sca = -1/(2*a0)\n",
    "    loc = b0/(2*a0)\n",
    "    minx = np.max((loc-3*sca),0)\n",
    "    maxx = (loc+3*sca)\n",
    "    ans = integrate.quad(f, minx, maxx, args = (p0,q0,))[0]\n",
    "    #print(minx,maxx,ans)\n",
    "    #plt.plot(np.arange(minx,maxx,20),fv(p0,q0,np.arange(minx,maxx,20)))\n",
    "    #plt.show()\n",
    "    return ans"
   ]
  },
  {
   "cell_type": "code",
   "execution_count": 4,
   "metadata": {},
   "outputs": [
    {
     "name": "stdout",
     "output_type": "stream",
     "text": [
      "46.66666666666666 20 20\n",
      "0.0028405572891046925\n"
     ]
    }
   ],
   "source": [
    "ErTest = 20\n",
    "EpTest = ErTest*(1 + (V/eps))\n",
    "EqTest = ErTest\n",
    "\n",
    "print(EpTest,EqTest,ErTest)\n",
    "\n",
    "print(fv(EpTest,EqTest,ErTest))"
   ]
  },
  {
   "cell_type": "code",
   "execution_count": 30,
   "metadata": {},
   "outputs": [
    {
     "name": "stdout",
     "output_type": "stream",
     "text": [
      "-0.18 -122.15777777777771\n"
     ]
    },
    {
     "data": {
      "image/png": "[encoded data removed]",
      "text/plain": [
       "<Figure size 432x288 with 1 Axes>"
      ]
     },
     "metadata": {
      "needs_background": "light"
     },
     "output_type": "display_data"
    },
    {
     "data": {
      "image/png": "[encoded data removed]",
      "text/plain": [
       "<Figure size 432x288 with 1 Axes>"
      ]
     },
     "metadata": {
      "needs_background": "light"
     },
     "output_type": "display_data"
    },
    {
     "name": "stdout",
     "output_type": "stream",
     "text": [
      "11.40000000000001\n"
     ]
    }
   ],
   "source": [
    "ran = np.arange(1,50,.1)\n",
    "\n",
    "#EpTestVals = np.arange\n",
    "EqTest = 20\n",
    "EpTest = 23\n",
    "\n",
    "p0=EpTest\n",
    "q0=EqTest\n",
    "\n",
    "sigP = math.sqrt(alphaP+betaP*(p0-(V*q0/eps))+gammaP*((p0-(V*q0/eps))**2))\n",
    "sigQ = math.sqrt(alphaQ+betaQ*(p0-(V*q0/eps))+gammaQ*((p0-(V*q0/eps))**2))\n",
    "L = ((V/(sigP**2))**2)/(2*(((V/sigP)**2)+((eps/sigQ)**2)))\n",
    "delt = -((sigP**2)/V)*((eps*q0)/(sigQ**2)-(1/F)-(V*p0)/(sigP**2))\n",
    "H = eps/(F*(((V/sigP)**2)+((eps/sigQ)**2)))\n",
    "a0 = -1/(2*sigP**2)+L\n",
    "b0 = p0/(sigP**2)-1/(2*F*eps)-1/lam+L*(2*delt-H)\n",
    "sca = -1/(2*a0)\n",
    "loc = b0/(2*a0)\n",
    "\n",
    "print(a0,b0)\n",
    "\n",
    "\n",
    "y_vec = (f_vec_exp(ran,EpTest,EqTest))\n",
    "#print(np.nanargmax(y_vec))\n",
    "maxval = (ran[np.nanargmax(y_vec)])\n",
    "\n",
    "plt.plot(ran,f_vec_exp(ran,EpTest,EqTest))\n",
    "plt.plot(ran,a0*(ran**2)+b0*ran)\n",
    "plt.show()\n",
    "plt.plot(ran,f_vec(ran,EpTest,EqTest))\n",
    "plt.vlines(maxval,0,f(maxval,EpTest,EqTest))\n",
    "plt.show()\n",
    "print(maxval)"
   ]
  },
  {
   "cell_type": "code",
   "execution_count": null,
   "metadata": {},
   "outputs": [],
   "source": []
  }
 ],
 "metadata": {
  "kernelspec": {
   "display_name": "Python 3",
   "language": "python",
   "name": "python3"
  },
  "language_info": {
   "codemirror_mode": {
    "name": "ipython",
    "version": 3
   },
   "file_extension": ".py",
   "mimetype": "text/x-python",
   "name": "python",
   "nbconvert_exporter": "python",
   "pygments_lexer": "ipython3",
   "version": "3.7.1"
  }
 },
 "nbformat": 4,
 "nbformat_minor": 2
}
