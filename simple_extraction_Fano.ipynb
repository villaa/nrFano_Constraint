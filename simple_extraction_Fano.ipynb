{
 "cells": [
  {
   "cell_type": "code",
   "execution_count": 1,
   "metadata": {},
   "outputs": [],
   "source": [
    "import numpy as np\n",
    "import matplotlib.pyplot as plt\n",
    "import pandas as pd\n",
    "from scipy.stats import norm\n",
    "import matplotlib.mlab as mlab\n",
    "from scipy.optimize import curve_fit"
   ]
  },
  {
   "cell_type": "code",
   "execution_count": 2,
   "metadata": {},
   "outputs": [],
   "source": [
    "k = 0.157 # from lindhard\n",
    "q = 1.602*10**-19 #electron charge \n",
    "V = 4.0 # voltage Bias\n",
    "eps = .0033 #keV\n",
    "\n",
    "#for detector 1.\n",
    "\n",
    "p_alpha = 0.155393\n",
    "p_beta = 9.60343*10**(-11)\n",
    "p_gamma = 0.000506287\n",
    "\n",
    "q_alpha = 0.166004\n",
    "q_beta = 0.00233716\n",
    "q_gamma = 9.52576*10**(-5)"
   ]
  },
  {
   "cell_type": "code",
   "execution_count": 3,
   "metadata": {},
   "outputs": [],
   "source": [
    "#x = np.arange(0,200,0.002)\n",
    "#Er = 93*np.exp(-x/29) #For NR from Kennedy Thesis \n",
    "\n",
    "N = 100000\n",
    "#Er = np.random.exponential(40,np.uint32(N*0.3)) #tip from anthony \n",
    "#Er = np.arange(0,200,0.002)\n",
    "Er = np.random.uniform(0,200,N)\n",
    "#need to store all of this inorder to calculate fano factor.\n",
    "ER = []\n",
    "Yield = []\n",
    "PtNr = []\n",
    "QR = []\n",
    "sigQ = []\n",
    "sigP = []\n",
    "sigQ1 = []\n",
    "sigP1 = []\n",
    "Err=[]\n",
    "\n",
    "U1 = []\n",
    "U2 = []\n",
    "N_eh = []\n",
    "\n",
    "QNR=[]\n",
    "PT1 = []\n",
    "FQ = []\n"
   ]
  },
  {
   "cell_type": "code",
   "execution_count": 4,
   "metadata": {},
   "outputs": [],
   "source": [
    "#For Nuclear Recoils \n",
    "F =100\n",
    "\n",
    "\n",
    "\n",
    "Enr = 40\n",
    "    \n",
    "Err.append(Enr)\n",
    "\n",
    "esp = 11.5*Enr*(23)**-(7/3)\n",
    "g = 3*esp**(0.15)+0.7*esp**(0.6)+esp\n",
    "Y = k*g/(1+k*g)\n",
    "    \n",
    "#number of electron-hole pairs. \n",
    "Ptnr = (Y*Enr*V)/(eps*1000) + Enr #central value of Pt\n",
    "Qnr = Y*Enr\n",
    "    \n",
    "for i in np.arange(0,N):\n",
    "    \n",
    "    Neh = Y*Enr/eps\n",
    "    N_eh.append(Neh)\n",
    "    \n",
    "    sig_p1 = np.sqrt(p_alpha + p_beta*Ptnr + p_gamma*(Ptnr**2) )  \n",
    "    sig_q1 = np.sqrt(q_alpha + q_beta*Qnr + q_gamma*(Qnr**2) )\n",
    "    \n",
    "   #With Fano Factor. \n",
    "    sig_p = np.sqrt(p_alpha + p_beta*Ptnr + p_gamma*(Ptnr**2) + (V/1000)**2*Neh*F)  #Phonon uncertainty (energy dependent)\n",
    "    sig_q = np.sqrt(q_alpha + q_beta*Qnr + q_gamma*(Qnr**2) + F*N*eps**2) #Charge uncertainty \n",
    "    \n",
    "\n",
    "    \n",
    "    sigQ.append(sig_q)\n",
    "    sigP.append(sig_p)\n",
    "    sigQ1.append(sig_q1)\n",
    "    sigP1.append(sig_p1)\n",
    "    \n",
    "    \n",
    "    Fnr = np.random.normal(0.0,sig_p)#random sample assuming phonon variance \n",
    "\n",
    "    Fq = np.random.normal(0.0,sig_q) #random sampel assuming charge variance \n",
    "    \n",
    "    FQ.append(Fq)\n",
    "    #Ptnr = (Y*Enr*V)/eps + Enr #total phonon energy \n",
    "    Ptnr1 = Ptnr + Fnr #not central value! just.. smeared \n",
    "    PT1.append(Ptnr1)\n",
    "\n",
    "    Qnr1 = Qnr + Fq \n",
    "\n",
    "    QNR.append(Qnr1)\n",
    "    \n",
    "    U_1 = 1/Enr #Ptnr/(Ptnr-Qnr1*(V/(eps*1000)))**2 #derivative with respect to Qnr1\n",
    "    U1.append(U_1)\n",
    "    U_2 = 0 #-Qnr1/(Ptnr1 -(Qnr1*V/(eps*1000)))**2      #derivative with respect to Ptnf\n",
    "    U2.append(U_2)\n",
    "    \n",
    "    Ernr = Ptnr1 - (V/(eps*1000))*Qnr1\n",
    "    ER.append(Ernr)\n",
    "\n",
    "    yield1 = Qnr1 / Enr\n",
    "    Yield.append(yield1)\n",
    "\n"
   ]
  },
  {
   "cell_type": "code",
   "execution_count": 5,
   "metadata": {},
   "outputs": [
    {
     "name": "stdout",
     "output_type": "stream",
     "text": [
      "(10,)\n",
      "10\n"
     ]
    }
   ],
   "source": [
    "data = np.vstack((ER,Yield,sigQ1,sigP1,U1,U2,N_eh)).T\n",
    "\n",
    "\n",
    "x = data[data[:,1]>=0, :]\n",
    "\n",
    "data1 = x[x[:,1]<=1.6,:]\n",
    "\n",
    "data2 = data1[data1[:,0]>=0,:]\n",
    "#data2 = data1\n",
    "\n",
    "data1 = data2[np.argsort(data2[:, 0])]\n",
    "\n",
    "A = np.array_split(data1,10)\n",
    "#A = data1\n",
    "\n",
    "print(np.shape(A))\n",
    "print(len(A))"
   ]
  },
  {
   "cell_type": "code",
   "execution_count": 6,
   "metadata": {},
   "outputs": [
    {
     "name": "stdout",
     "output_type": "stream",
     "text": [
      "1.4247758408241498 -0.7693802053316171\n"
     ]
    }
   ],
   "source": [
    "print(max(data[:,1]),min(data[:,1]))"
   ]
  },
  {
   "cell_type": "code",
   "execution_count": 7,
   "metadata": {},
   "outputs": [
    {
     "name": "stdout",
     "output_type": "stream",
     "text": [
      "(10,) [array([449.32544578, 449.32544578, 449.32544578, ..., 449.32544578,\n",
      "       449.32544578, 449.32544578]), array([150.73641632, 150.73641632, 150.73641632, ..., 150.73641632,\n",
      "       150.73641632, 150.73641632]), array([135.26177315, 135.26177315, 135.26177315, ..., 135.26177315,\n",
      "       135.26177315, 135.26177315]), array([127.19121806, 127.19121806, 127.19121806, ..., 127.19121806,\n",
      "       127.19121806, 127.19121806]), array([126.09423768, 126.09423768, 126.09423768, ..., 126.09423768,\n",
      "       126.09423768, 126.09423768]), array([125.18299644, 125.18299644, 125.18299644, ..., 125.18299644,\n",
      "       125.18299644, 125.18299644]), array([123.51410066, 123.51410066, 123.51410066, ..., 123.51410066,\n",
      "       123.51410066, 123.51410066]), array([129.75974505, 129.75974505, 129.75974505, ..., 129.75974505,\n",
      "       129.75974505, 129.75974505]), array([126.4943628, 126.4943628, 126.4943628, ..., 126.4943628,\n",
      "       126.4943628, 126.4943628]), array([90.55450555, 90.55450555, 90.55450555, ..., 90.55450555,\n",
      "       90.55450555, 90.55450555])]\n"
     ]
    }
   ],
   "source": [
    "\n",
    "val_stat = []\n",
    "val = []\n",
    "Sy = []\n",
    "Q = []\n",
    "amax = 30\n",
    "\n",
    "for data in A:\n",
    "    U1 = data[:,4]\n",
    "    U2 = data[:,5]\n",
    "    sigQ = data[:,2]\n",
    "    Q.append(sigQ)\n",
    "    sigP = data[:,3]\n",
    "    N = data[:,6]\n",
    "    sigy = np.std(data[:,1])\n",
    "    Sy.append(sigy)\n",
    "    #sigy = np.std(Yield)\n",
    "   \n",
    "    Fano = (-U1**2*sigQ**2-U2**2*sigP**2 + sigy**2)/(U1**2*eps**2 +U2**2*(V/1000)**2)\n",
    "    Fano = Fano/N\n",
    "    Fano = (sigy**2*Enr**2 - sigQ**2)/(eps**2*N)\n",
    "    #val_stat.append(Fano) \n",
    "    #print(val_stat)\n",
    "    val.append(Fano)\n",
    "\n",
    "\n",
    "\n",
    "\n",
    "\n",
    "print(np.shape(val),val)\n",
    "\n"
   ]
  },
  {
   "cell_type": "code",
   "execution_count": 8,
   "metadata": {},
   "outputs": [],
   "source": [
    "#set up a plot \n",
    "import matplotlib as mpl\n",
    "from matplotlib import pyplot as plt\n",
    "import matplotlib.patches as mpatches\n",
    "from matplotlib.legend_handler import HandlerLine2D\n",
    "#got smarter about the mpl config: see mplstyles/ directory\n",
    "#plt.style.use('standard')"
   ]
  },
  {
   "cell_type": "code",
   "execution_count": 9,
   "metadata": {},
   "outputs": [
    {
     "name": "stdout",
     "output_type": "stream",
     "text": [
      "-0.7693802053316171 1.4247758408241498\n"
     ]
    },
    {
     "data": {
      "image/png": "[encoded data removed]",
      "text/plain": [
       "<matplotlib.figure.Figure at 0x10a87cb70>"
      ]
     },
     "metadata": {},
     "output_type": "display_data"
    }
   ],
   "source": [
    "xmin=min(Yield)\n",
    "xmax=max(Yield)\n",
    "\n",
    "#print(np.std(val_stat))\n",
    "print(xmin,xmax)\n",
    "\n",
    "n_res,n_resx = np.histogram(Yield,300,range=(xmin,xmax))\n",
    "\n",
    "\n",
    "xresc = (n_resx[:-1] + n_resx[1:]) / 2\n",
    "\n",
    "#set up a 1d plot\n",
    "fig,axes = plt.subplots(1,1,figsize=(9.0,8.0),sharex=True)\n",
    "ax1 = axes\n",
    "\n",
    "X = np.arange(-amax,amax,0.01)\n",
    "\n",
    "step, = ax1.step(xresc,n_res, where='mid',color='r', linestyle='-', label='Yield, Er = 40keV', linewidth=2)\n",
    "\n",
    "\n",
    "\n",
    "ymin=0.1\n",
    "ymax=max(n_res)\n",
    "\n",
    "\n",
    "ax1.set_yscale('log')\n",
    "ax1.set_xlim(xmin, xmax) #in pairs\n",
    "ax1.set_ylim(ymin,ymax)\n",
    "ax1.set_xlabel('A [a.u.]')\n",
    "ax1.set_ylabel('counts')\n",
    "ax1.grid(True)\n",
    "ax1.yaxis.grid(True,which='minor',linestyle='--')\n",
    "ax1.legend(loc=1,prop={'size':22})\n",
    "\n",
    "for axis in ['top','bottom','left','right']:\n",
    "  ax1.spines[axis].set_linewidth(2)\n",
    "\n",
    "plt.tight_layout()\n",
    "#plt.savefig('figures/figures')\n",
    "plt.show()"
   ]
  },
  {
   "cell_type": "code",
   "execution_count": 10,
   "metadata": {},
   "outputs": [
    {
     "name": "stdout",
     "output_type": "stream",
     "text": [
      "0 150\n"
     ]
    },
    {
     "ename": "ValueError",
     "evalue": "The truth value of an array with more than one element is ambiguous. Use a.any() or a.all()",
     "output_type": "error",
     "traceback": [
      "\u001b[0;31m---------------------------------------------------------------------------\u001b[0m",
      "\u001b[0;31mValueError\u001b[0m                                Traceback (most recent call last)",
      "\u001b[0;32m<ipython-input-10-f7b7117271e6>\u001b[0m in \u001b[0;36m<module>\u001b[0;34m()\u001b[0m\n\u001b[1;32m      8\u001b[0m \u001b[0mprint\u001b[0m\u001b[0;34m(\u001b[0m\u001b[0mxmin\u001b[0m\u001b[0;34m,\u001b[0m\u001b[0mxmax\u001b[0m\u001b[0;34m)\u001b[0m\u001b[0;34m\u001b[0m\u001b[0m\n\u001b[1;32m      9\u001b[0m \u001b[0;34m\u001b[0m\u001b[0m\n\u001b[0;32m---> 10\u001b[0;31m \u001b[0mn_res\u001b[0m\u001b[0;34m,\u001b[0m\u001b[0mn_resx\u001b[0m \u001b[0;34m=\u001b[0m \u001b[0mnp\u001b[0m\u001b[0;34m.\u001b[0m\u001b[0mhistogram\u001b[0m\u001b[0;34m(\u001b[0m\u001b[0mval\u001b[0m\u001b[0;34m,\u001b[0m\u001b[0;36m30\u001b[0m\u001b[0;34m,\u001b[0m\u001b[0mrange\u001b[0m\u001b[0;34m=\u001b[0m\u001b[0;34m(\u001b[0m\u001b[0mxmin\u001b[0m\u001b[0;34m,\u001b[0m\u001b[0mxmax\u001b[0m\u001b[0;34m)\u001b[0m\u001b[0;34m)\u001b[0m\u001b[0;34m\u001b[0m\u001b[0m\n\u001b[0m\u001b[1;32m     11\u001b[0m \u001b[0;34m\u001b[0m\u001b[0m\n\u001b[1;32m     12\u001b[0m \u001b[0;34m\u001b[0m\u001b[0m\n",
      "\u001b[0;32m/anaconda3/lib/python3.6/site-packages/numpy/lib/function_base.py\u001b[0m in \u001b[0;36mhistogram\u001b[0;34m(***failed resolving arguments***)\u001b[0m\n\u001b[1;32m    778\u001b[0m \u001b[0;34m\u001b[0m\u001b[0m\n\u001b[1;32m    779\u001b[0m             \u001b[0;31m# Only include values in the right range\u001b[0m\u001b[0;34m\u001b[0m\u001b[0;34m\u001b[0m\u001b[0m\n\u001b[0;32m--> 780\u001b[0;31m             \u001b[0mkeep\u001b[0m \u001b[0;34m=\u001b[0m \u001b[0;34m(\u001b[0m\u001b[0mtmp_a\u001b[0m \u001b[0;34m>=\u001b[0m \u001b[0mfirst_edge\u001b[0m\u001b[0;34m)\u001b[0m\u001b[0;34m\u001b[0m\u001b[0m\n\u001b[0m\u001b[1;32m    781\u001b[0m             \u001b[0mkeep\u001b[0m \u001b[0;34m&=\u001b[0m \u001b[0;34m(\u001b[0m\u001b[0mtmp_a\u001b[0m \u001b[0;34m<=\u001b[0m \u001b[0mlast_edge\u001b[0m\u001b[0;34m)\u001b[0m\u001b[0;34m\u001b[0m\u001b[0m\n\u001b[1;32m    782\u001b[0m             \u001b[0;32mif\u001b[0m \u001b[0;32mnot\u001b[0m \u001b[0mnp\u001b[0m\u001b[0;34m.\u001b[0m\u001b[0mlogical_and\u001b[0m\u001b[0;34m.\u001b[0m\u001b[0mreduce\u001b[0m\u001b[0;34m(\u001b[0m\u001b[0mkeep\u001b[0m\u001b[0;34m)\u001b[0m\u001b[0;34m:\u001b[0m\u001b[0;34m\u001b[0m\u001b[0m\n",
      "\u001b[0;31mValueError\u001b[0m: The truth value of an array with more than one element is ambiguous. Use a.any() or a.all()"
     ]
    }
   ],
   "source": [
    "#xmin=np.amin(val[1])\n",
    "#xmax=np.amax(val[1])\n",
    "\n",
    "xmin = 0\n",
    "xmax = 150\n",
    "\n",
    "#print(np.std(val_stat))\n",
    "print(xmin,xmax)\n",
    "\n",
    "n_res,n_resx = np.histogram(val,30,range=(xmin,xmax))\n",
    "\n",
    "\n",
    "xresc = (n_resx[:-1] + n_resx[1:]) / 2\n",
    "\n",
    "#set up a 1d plot\n",
    "fig,axes = plt.subplots(1,1,figsize=(9.0,8.0),sharex=True)\n",
    "ax1 = axes\n",
    "\n",
    "X = np.arange(-amax,amax,0.01)\n",
    "\n",
    "step, = ax1.step(xresc,n_res, where='mid',color='r', linestyle='-', label='Extracted Value', linewidth=2)\n",
    "\n",
    "\n",
    "\n",
    "ymin=0.1\n",
    "ymax=max(n_res)\n",
    "\n",
    "\n",
    "ax1.set_yscale('log')\n",
    "ax1.set_xlim(xmin, xmax) #in pairs\n",
    "#ax1.set_ylim(ymin,ymax)\n",
    "ax1.set_xlabel('A [a.u.]')\n",
    "ax1.set_ylabel('counts')\n",
    "ax1.grid(True)\n",
    "ax1.yaxis.grid(True,which='minor',linestyle='--')\n",
    "ax1.legend(loc=1,prop={'size':22})\n",
    "\n",
    "for axis in ['top','bottom','left','right']:\n",
    "  ax1.spines[axis].set_linewidth(2)\n",
    "\n",
    "plt.tight_layout()\n",
    "#plt.savefig('figures/figures')\n",
    "plt.show()"
   ]
  },
  {
   "cell_type": "code",
   "execution_count": null,
   "metadata": {},
   "outputs": [],
   "source": []
  }
 ],
 "metadata": {
  "kernelspec": {
   "display_name": "Python [default]",
   "language": "python",
   "name": "python3"
  },
  "language_info": {
   "codemirror_mode": {
    "name": "ipython",
    "version": 3
   },
   "file_extension": ".py",
   "mimetype": "text/x-python",
   "name": "python",
   "nbconvert_exporter": "python",
   "pygments_lexer": "ipython3",
   "version": "3.6.8"
  }
 },
 "nbformat": 4,
 "nbformat_minor": 2
}
