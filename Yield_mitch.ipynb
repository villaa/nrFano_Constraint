{
 "cells": [
  {
   "cell_type": "code",
   "execution_count": 20,
   "metadata": {},
   "outputs": [],
   "source": [
    "import numpy as np\n",
    "import matplotlib.pyplot as plt\n",
    "#import resfuncRead as rfr"
   ]
  },
  {
   "cell_type": "code",
   "execution_count": 3,
   "metadata": {},
   "outputs": [],
   "source": [
    "#read the files (from anthony)\n",
    "#ptres = rfr.getRFunc('data/jardin_ptres.txt')\n",
    "#qres = rfr.getRFunc('data/jardin_qsummaxres.txt')"
   ]
  },
  {
   "cell_type": "code",
   "execution_count": 148,
   "metadata": {},
   "outputs": [],
   "source": [
    "k = 0.157 # from lindhard\n",
    "q = 1.602*10**-19 #electron charge \n",
    "V = 4.0 # voltage Bias\n",
    "eps = 3.3\n",
    "\n",
    "\n",
    " \n",
    "\n",
    "#for detector 1.\n",
    "\n",
    "p_alpha = 0.155393\n",
    "p_beta = 9.60343*10**(-11)\n",
    "p_gamma = 0.000506287\n",
    "\n",
    "q_alpha = 0.166004\n",
    "q_beta = 0.00233716\n",
    "q_gamma = 9.52576*10**(-5)"
   ]
  },
  {
   "cell_type": "code",
   "execution_count": 194,
   "metadata": {},
   "outputs": [],
   "source": [
    "x = np.arange(0,100)\n",
    "\n",
    "Er = 93*np.exp(-x/29) #For NR\n",
    "#Er = np.random.normal(0, 0.3, 200)\n",
    "#Er = np.random.exponential(40,np.uint32(1000*0.3))\n",
    "\n",
    "ER = []\n",
    "Yield = []\n",
    "Ran = []\n",
    "Yl= []\n"
   ]
  },
  {
   "cell_type": "code",
   "execution_count": 45,
   "metadata": {},
   "outputs": [
    {
     "data": {
      "text/plain": [
       "\"\\nfpt = rfr.makeRFunc(ptres[1]['sqrt'])\\nfq = rfr.makeRFunc(qres[1]['lin'],True)\\nfptv = np.vectorize(fpt) # for \\nfqv = np.vectorize(fq)\\n\""
      ]
     },
     "execution_count": 45,
     "metadata": {},
     "output_type": "execute_result"
    }
   ],
   "source": [
    "#make the resolution functions (from anthony's code.)\n",
    "'''\n",
    "fpt = rfr.makeRFunc(ptres[1]['sqrt'])\n",
    "fq = rfr.makeRFunc(qres[1]['lin'],True)\n",
    "fptv = np.vectorize(fpt) # for \n",
    "fqv = np.vectorize(fq)\n",
    "'''"
   ]
  },
  {
   "cell_type": "code",
   "execution_count": 195,
   "metadata": {},
   "outputs": [],
   "source": [
    "for i in np.arange(0,10000):\n",
    "    \n",
    "    Enr = np.random.choice(Er)\n",
    "    Ran.append(E)\n",
    "    \n",
    "    sig_p = np.sqrt(p_alpha + p_beta*Enr + p_gamma*(Enr**2))\n",
    "    sig_q = np.sqrt(q_alpha + q_beta*Enr + q_gamma*(Enr**2))\n",
    "    \n",
    "    esp = 11.5*Enr*(23)**-(7/3)\n",
    "    g = 3*esp**(0.15)+0.7*esp**(0.6)+esp\n",
    "    Y = k*g/(1+k*g)\n",
    "    Yl.append(Y)\n",
    "    \n",
    "    \n",
    "    \n",
    "    #Ft = 1/np.sqrt(2*3.14*sig_p**2)*np.exp(-(x-(1+Y*(q*V/0.036))*Er)**2/2*sig_p**2)#equation 5.2\n",
    "    Fnr = np.random.normal(0.0,sig_p)\n",
    "\n",
    "    \n",
    "    #Fq = 1/np.sqrt(2*3.14*sig_q**2)*np.exp(-(x-0.3*Er)**2/2*sig_q**2)# equation 5.23\n",
    "    Fq = np.random.normal(0.0,sig_q)\n",
    "    \n",
    "\n",
    "    \n",
    "    Ptnr = (Y*Enr*V)/eps + Enr\n",
    "    Ptnr = Ptnr + Fnr \n",
    "    \n",
    "    Qnr = Y*Enr\n",
    "    Qnr1 = Qnr + Fq \n",
    "    \n",
    "    \n",
    "    Ernr = Ptnr - (V/eps)*Qnr1\n",
    "    ER.append(Ernr)\n",
    "\n",
    "    yield1 = Qnr1 / Ernr\n",
    "    Yield.append(yield1)\n",
    "    "
   ]
  },
  {
   "cell_type": "code",
   "execution_count": 196,
   "metadata": {},
   "outputs": [
    {
     "data": {
      "image/png": "[encoded data removed]",
      "text/plain": [
       "<matplotlib.figure.Figure at 0x116c44748>"
      ]
     },
     "metadata": {},
     "output_type": "display_data"
    }
   ],
   "source": [
    "#plot \n",
    "\n",
    "\n",
    "plt.plot(ER,Yield,'o',color='b',linewidth=2,markersize=1)\n",
    "plt.ylim(0,1.6)\n",
    "plt.xlim(0,100)\n",
    "plt.xlabel('E [keV]')\n",
    "plt.ylabel('Yield')\n",
    "plt.show()\n"
   ]
  }
 ],
 "metadata": {
  "kernelspec": {
   "display_name": "Python 3",
   "language": "python",
   "name": "python3"
  },
  "language_info": {
   "codemirror_mode": {
    "name": "ipython",
    "version": 3
   },
   "file_extension": ".py",
   "mimetype": "text/x-python",
   "name": "python",
   "nbconvert_exporter": "python",
   "pygments_lexer": "ipython3",
   "version": "3.6.4"
  }
 },
 "nbformat": 4,
 "nbformat_minor": 2
}
