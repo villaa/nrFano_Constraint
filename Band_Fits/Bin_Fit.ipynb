{
 "cells": [
  {
   "cell_type": "code",
   "execution_count": 1,
   "metadata": {},
   "outputs": [],
   "source": [
    "import numpy as np\n",
    "import matplotlib.pyplot as plt\n",
    "\n",
    "import matplotlib.mlab as mlab\n",
    "import math \n",
    "from Read_Data import Read_File\n",
    "from scipy import stats\n",
    "import pandas as pd\n",
    "import matplotlib.mlab as mlab\n",
    "from scipy.stats import norm\n",
    "from scipy.optimize import curve_fit"
   ]
  },
  {
   "cell_type": "code",
   "execution_count": 14,
   "metadata": {},
   "outputs": [],
   "source": [
    "Enr,Yield = Read_File(\"test_data.txt\") #reads in data file. \n",
    "\n",
    "#Enr = np.arange(0,100,10)\n",
    "#Yield = np.arange(0,0.4,0.04)\n",
    "\n",
    "combined = np.vstack((Enr, Yield)).T\\\n",
    "\n",
    "#print(combined)\n",
    "\n",
    "\n",
    "a,b,c,d,e,f,g,h = np.array_split(combined,8) # about 50keV eac"
   ]
  },
  {
   "cell_type": "code",
   "execution_count": 26,
   "metadata": {},
   "outputs": [
    {
     "data": {
      "image/png": "[encoded data removed]",
      "text/plain": [
       "<matplotlib.figure.Figure at 0x1a1cfe03c8>"
      ]
     },
     "metadata": {},
     "output_type": "display_data"
    },
    {
     "name": "stdout",
     "output_type": "stream",
     "text": [
      "The STD is: 8.840013388773823\n"
     ]
    }
   ],
   "source": [
    "\n",
    "mu,sigma = norm.fit(a[:,1])\n",
    "n,bins = np.histogram(a[:,1],5000)\n",
    "#n,bins = np.histogram(b[:,1],bins=np.logspace(np.log10(0.1),np.log10(10), 50))\n",
    "y = mlab.normpdf(bins, mu, sigma)\n",
    "\n",
    "plt.figure()\n",
    "plt.hist(a[:,1],bins=5000, normed= True)\n",
    "#plt.hist(b[:,1],bins=np.logspace(np.log10(0.1),np.log10(10), 50),normed = True)\n",
    "plt.plot(bins,y, 'r--', linewidth = 2)\n",
    "#plt.xlim(0,1)\n",
    "plt.show()\n",
    "\n",
    "print(\"The STD is:\", sigma)\n",
    "\n",
    "\n",
    "\n",
    "\n"
   ]
  },
  {
   "cell_type": "code",
   "execution_count": 11,
   "metadata": {},
   "outputs": [
    {
     "name": "stdout",
     "output_type": "stream",
     "text": [
      "[4.21e-05 9.28e-04 1.20e-03 ... 2.05e-01 2.06e-01 2.06e-01]\n"
     ]
    }
   ],
   "source": [
    "print(a[:,1])"
   ]
  },
  {
   "cell_type": "code",
   "execution_count": null,
   "metadata": {},
   "outputs": [],
   "source": []
  },
  {
   "cell_type": "code",
   "execution_count": null,
   "metadata": {},
   "outputs": [],
   "source": []
  },
  {
   "cell_type": "code",
   "execution_count": null,
   "metadata": {},
   "outputs": [],
   "source": []
  }
 ],
 "metadata": {
  "kernelspec": {
   "display_name": "Python 3",
   "language": "python",
   "name": "python3"
  },
  "language_info": {
   "codemirror_mode": {
    "name": "ipython",
    "version": 3
   },
   "file_extension": ".py",
   "mimetype": "text/x-python",
   "name": "python",
   "nbconvert_exporter": "python",
   "pygments_lexer": "ipython3",
   "version": "3.6.4"
  }
 },
 "nbformat": 4,
 "nbformat_minor": 2
}
