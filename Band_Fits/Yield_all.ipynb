{
 "cells": [
  {
   "cell_type": "code",
   "execution_count": 1,
   "metadata": {},
   "outputs": [],
   "source": [
    "import numpy as np\n",
    "import matplotlib.pyplot as plt\n",
    "import resfuncRead as rfr\n",
    "import pandas as pd\n",
    "from scipy.stats import norm\n",
    "import matplotlib.mlab as mlab\n",
    "from scipy.optimize import curve_fit"
   ]
  },
  {
   "cell_type": "code",
   "execution_count": 2,
   "metadata": {},
   "outputs": [],
   "source": [
    "#read the files (from anthony)\n",
    "#ptres = rfr.getRFunc('data/jardin_ptres.txt')\n",
    "#qres = rfr.getRFunc('data/jardin_qsummaxres.txt')"
   ]
  },
  {
   "cell_type": "code",
   "execution_count": 3,
   "metadata": {},
   "outputs": [],
   "source": [
    "k = 0.157 # from lindhard\n",
    "q = 1.602*10**-19 #electron charge \n",
    "V = 4.0 # voltage Bias\n",
    "eps = .0033 #keV\n",
    "\n",
    "#for detector 1.\n",
    "\n",
    "p_alpha = 0.155393\n",
    "p_beta = 9.60343*10**(-11)\n",
    "p_gamma = 0.000506287\n",
    "\n",
    "q_alpha = 0.166004\n",
    "q_beta = 0.00233716\n",
    "q_gamma = 9.52576*10**(-5)"
   ]
  },
  {
   "cell_type": "code",
   "execution_count": 4,
   "metadata": {},
   "outputs": [],
   "source": [
    "#x = np.arange(0,200,0.002)\n",
    "#Er = 93*np.exp(-x/29) #For NR from Kennedy Thesis \n",
    "\n",
    "N = 100000\n",
    "#Er = np.random.exponential(40,np.uint32(N*0.3)) #tip from anthony \n",
    "#Er = np.arange(0,200,0.002)\n",
    "Er = np.random.uniform(0,200,N)\n",
    "#need to store all of this inorder to calculate fano factor.\n",
    "ER = []\n",
    "Yield = []\n",
    "PtNr = []\n",
    "QR = []\n",
    "sigQ = []\n",
    "sigP = []\n",
    "sigQ1 = []\n",
    "sigP1 = []\n",
    "\n",
    "U1 = []\n",
    "U2 = []\n",
    "N_eh = []\n",
    "\n",
    "QNR=[]\n",
    "PT1 = []\n"
   ]
  },
  {
   "cell_type": "code",
   "execution_count": 5,
   "metadata": {},
   "outputs": [],
   "source": [
    "#For Nuclear Recoils \n",
    "F =40\n",
    "\n",
    "'''\n",
    "Neh = Y*Enr/eps\n",
    "#(ylindv(Enr*1000.0)*Enr)/(eps/1000)\n",
    "sigf_p = q*V*np.sqrt(Neh*F)\n",
    "sigf_q = eps*np.sqrt(Neh*F)\n",
    "'''\n",
    "\n",
    "for i in np.arange(0,N):\n",
    "    \n",
    "    Enr = np.random.choice(Er)\n",
    "\n",
    "    esp = 11.5*Enr*(23)**-(7/3)\n",
    "    g = 3*esp**(0.15)+0.7*esp**(0.6)+esp\n",
    "    Y = k*g/(1+k*g)\n",
    "    \n",
    "\n",
    "    \n",
    "    Neh = Y*Enr/eps #number of electron-hole pairs. \n",
    "    Ptnr = (Y*Enr*V)/(eps*1000) + Enr #central value of Pt\n",
    "    Qnr = Y*Enr\n",
    "    \n",
    "    \n",
    "    N_eh.append(Neh)\n",
    "    #(ylindv(Enr*1000.0)*Enr)/(eps/1000)\n",
    "    #sigf_p = q*V*np.sqrt(Neh*F)\n",
    "    #sigf_q = eps*np.sqrt(Neh*F)\n",
    "    \n",
    "    \n",
    "    #Without Fano Factor \n",
    "    sig_p1 = np.sqrt(p_alpha + p_beta*Ptnr + p_gamma*(Ptnr**2) )  \n",
    "    sig_q1 = np.sqrt(q_alpha + q_beta*Qnr + q_gamma*(Qnr**2) )\n",
    "    \n",
    "   #With Fano Factor. \n",
    "    sig_p = np.sqrt(p_alpha + p_beta*Ptnr + p_gamma*(Ptnr**2) + (V/1000)**2*Neh*F)  #Phonon uncertainty (energy dependent)\n",
    "    sig_q = np.sqrt(q_alpha + q_beta*Qnr + q_gamma*(Qnr**2) + eps**2*Neh*F) #Charge uncertainty \n",
    "    \n",
    "\n",
    "    \n",
    "    sigQ.append(sig_q)\n",
    "    sigP.append(sig_p)\n",
    "    sigQ1.append(sig_q1)\n",
    "    sigP1.append(sig_p1)\n",
    "    \n",
    "    Fnr = np.random.normal(0.0,sig_p) #random sample assuming phonon variance \n",
    "    Fq = np.random.normal(0.0,sig_q) #random sampel assuming charge variance \n",
    "    \n",
    "\n",
    "    #Ptnr = (Y*Enr*V)/eps + Enr #total phonon energy \n",
    "    Ptnr1 = Ptnr + Fnr #not central value! just.. smeared \n",
    "    PT1.append(Ptnr1)\n",
    "\n",
    "    Qnr1 = Qnr + Fq \n",
    "\n",
    "    QNR.append(Qnr1)\n",
    "    \n",
    "    U_1 = Ptnr/(Ptnr-Qnr1*(V/(eps*1000)))**2 #derivative with respect to Qnr1\n",
    "    U1.append(U_1)\n",
    "    U_2 = -Qnr1/(Ptnr1 -(Qnr1*V/(eps*1000)))**2      #derivative with respect to Ptnf\n",
    "    U2.append(U_2)\n",
    "    \n",
    "    Ernr = Ptnr1 - (V/(eps*1000))*Qnr1\n",
    "    ER.append(Ernr)\n",
    "\n",
    "    yield1 = Qnr1 / Ernr\n",
    "    Yield.append(yield1)\n",
    "\n",
    "    "
   ]
  },
  {
   "cell_type": "code",
   "execution_count": 6,
   "metadata": {},
   "outputs": [
    {
     "data": {
      "text/plain": [
       "224.76855648847328"
      ]
     },
     "execution_count": 6,
     "metadata": {},
     "output_type": "execute_result"
    }
   ],
   "source": [
    "max(ER)"
   ]
  },
  {
   "cell_type": "code",
   "execution_count": 7,
   "metadata": {},
   "outputs": [],
   "source": [
    "Yield_er = []\n",
    "ERer = []\n",
    "\n"
   ]
  },
  {
   "cell_type": "code",
   "execution_count": 8,
   "metadata": {},
   "outputs": [],
   "source": [
    "#For Electron Recoils. \n",
    "\n",
    "#x = np.arange(0,2000,0.1)\n",
    "#E1er = 82*np.exp(-x/304) #For ER from Kennedy Thesis\n",
    "E1er = np.random.uniform(0,200,N) #from anthony, Er's are close enough to randomly distributed. \n",
    "\n",
    "\n",
    "\n",
    "for i in np.arange(N):\n",
    "    \n",
    "    Eer = np.random.choice(E1er) #randomly sample from Energy dist \n",
    "    \n",
    "    \n",
    "    sig_pee = np.sqrt(p_alpha + p_beta*Eer + p_gamma*(Eer**2)) #Phonon uncertainty \n",
    "    sig_qee = np.sqrt(q_alpha + q_beta*Eer + q_gamma*(Eer**2)) #Charge uncertainty \n",
    "\n",
    "    Fer = np.random.normal(0.0,sig_pee) #Random energy assuming phonon variance \n",
    "    Fqe = np.random.normal(0.0,sig_qee) #Random assuming charge variane\n",
    "\n",
    "\n",
    "    Pter = (1+(V/eps/1000))*Eer \n",
    "    Pter = Pter + Fer\n",
    "    Qer = Eer\n",
    "    Qer = Qer + Fqe\n",
    "\n",
    "    Erer = Pter - (V/eps/1000)*Qer\n",
    "    ERer.append(Erer)\n",
    "    \n",
    "    Yield2 = Qer/Erer\n",
    "    Yield_er.append(Yield2)"
   ]
  },
  {
   "cell_type": "code",
   "execution_count": 9,
   "metadata": {},
   "outputs": [],
   "source": [
    "# Make band Fits (Thank you Anthony)\n",
    "\n",
    "# files contain fits from previous data. I believe that they are fits from real data. As seen, the model has a significantly narrower spread the fits \n",
    "# from the data \n",
    "\n",
    "bpar_er = rfr.getBandFunc('data/erband_R133') #reads in band data/fit for er data\n",
    "bpar_nr = rfr.getBandFunc('data/nrband_R133') #reads in band data/fit for nr data \n",
    "\n",
    "yer_mu = rfr.makeBFunc(bpar_er[1]['mu']) # sets average fit from 1st (2nd) col in data table. \n",
    "yer_muv = np.vectorize(yer_mu) #puts mean data for er in 1D array \n",
    "yer_sig = rfr.makeBFunc(bpar_er[1]['sig'],True) #sets uncertainty \n",
    "yer_sigv = np.vectorize(yer_sig) #puts uncertainty into 1D array\n",
    "\n",
    "#following does the same but for nuclear recoils. \n",
    "ynr_mu = rfr.makeBFunc(bpar_nr[1]['mu'])\n",
    "ynr_muv = np.vectorize(ynr_mu)\n",
    "ynr_sig = rfr.makeBFunc(bpar_nr[1]['sig'],True)\n",
    "ynr_sigv = np.vectorize(ynr_sig)\n",
    "\n",
    "# try new fit\n",
    "\n",
    "xn = np.arange(0.1,100,0.1)\n",
    "m, c = np.polyfit(ER, Yield, 1)\n",
    "yn = np.polyval([m, c], xn)"
   ]
  },
  {
   "cell_type": "code",
   "execution_count": 10,
   "metadata": {},
   "outputs": [
    {
     "data": {
      "image/png": "[encoded data removed]",
      "text/plain": [
       "<matplotlib.figure.Figure at 0x11541cfd0>"
      ]
     },
     "metadata": {},
     "output_type": "display_data"
    }
   ],
   "source": [
    "#plot \n",
    "\n",
    "\n",
    "fig,axes = plt.subplots(1,1,figsize=(9.0,8.0),sharex=True)\n",
    "ax1 = axes\n",
    "\n",
    "\n",
    "X = np.arange(0.1,100,0.1)\n",
    "\n",
    "ax1.plot(ER,Yield,'o',color='b',linewidth=2,markersize=1)\n",
    "ax1.plot(ERer,Yield_er,'o',color='k',linewidth=2,markersize=1)\n",
    "'''\n",
    "ax1.plot(X,ynr_muv(X),color = 'orange',label='NR mu') #using old data \n",
    "#ax1.plot(xn,yn,'r--') #new fit to data (mean)\n",
    "\n",
    "ax1.plot(X,ynr_muv(X)+3*ynr_sigv(X),'r-',label='NR 3$\\sigma$')\n",
    "ax1.plot(X,ynr_muv(X)-3*ynr_sigv(X),'r-',label=None)\n",
    "\n",
    "ax1.plot(X,yer_muv(X),color='purple',linestyle='--',label='ER mu')\n",
    "ax1.plot(X,yer_muv(X)+3*yer_sigv(X),color='purple',linestyle='-',label='ER 3$\\sigma$')\n",
    "ax1.plot(X,yer_muv(X)-3*yer_sigv(X),color='purple',linestyle='-',label=None)\n",
    "'''\n",
    "ax1.set_xlabel('Recoil Energy [keV]')\n",
    "ax1.set_ylabel('Yield')\n",
    "ax1.set_ylim(0,1.6)\n",
    "ax1.set_xlim(0,200)\n",
    "\n",
    "\n",
    "plt.show()\n"
   ]
  },
  {
   "cell_type": "code",
   "execution_count": 11,
   "metadata": {},
   "outputs": [
    {
     "name": "stdout",
     "output_type": "stream",
     "text": [
      "(100000, 7)\n"
     ]
    }
   ],
   "source": [
    "\n",
    "data = np.vstack((ER,Yield,sigQ1,sigP1,U1,U2,N_eh)).T\n",
    "print(data.shape)\n",
    "\n",
    "x = data[data[:,1]>=0, :]\n",
    "\n",
    "data1 = x[x[:,1]<=1.6,:]\n",
    "data2 = data1[data1[:,0]>=0,:]\n",
    "\n",
    "\n",
    "#data = np.vstack((Er,Y)).T\n",
    "#print(data)\n",
    "#np.savetxt(\"test_data.txt\",data)\n",
    "\n",
    "data1 = data2[np.argsort(data2[:, 0])]\n",
    "\n"
   ]
  },
  {
   "cell_type": "code",
   "execution_count": 12,
   "metadata": {},
   "outputs": [],
   "source": [
    "#a,b,c,d,e,f,g = np.array_split(data1,7)\n",
    "data = np.array_split(data1,50)\n",
    "\n"
   ]
  },
  {
   "cell_type": "code",
   "execution_count": 13,
   "metadata": {},
   "outputs": [],
   "source": [
    "def gaus(x,a,x0,sigma):\n",
    "    return a*np.exp(-(x-x0)**2/(2*sigma**2))"
   ]
  },
  {
   "cell_type": "code",
   "execution_count": 14,
   "metadata": {},
   "outputs": [],
   "source": [
    "#Finds the width in a yield dist for a particular energy bin to be used later in yield variance calculation (fano)\n",
    "def find_sigma(data):\n",
    "    mu,sigma = norm.fit(data[:,1])\n",
    "    \n",
    "   # gaus(data[:,1],2,0.03,0.05)\n",
    "    \n",
    "    n,bins = np.histogram(data[:,1],60)\n",
    "    \n",
    "    a = max(data[:,1])\n",
    "    b = np.average(data[:,1])\n",
    "    c = sigma\n",
    "    \n",
    "    popt,pcov = curve_fit(gaus,bins[:-1],n,p0=[a,b,c])\n",
    "    \n",
    "    #y = mlab.normpdf(bins, mu, sigma)\n",
    " \n",
    "    #plt.figure()\n",
    "    #plt.hist(data[:,1],bins =60)\n",
    "    #plt.plot(bins,gaus(bins,*popt), 'r--', linewidth = 2)\n",
    "    #plt.xlabel(\"Yield\")\n",
    "    #plt.show()\n",
    "    \n",
    "    return  pcov, popt"
   ]
  },
  {
   "cell_type": "code",
   "execution_count": 15,
   "metadata": {},
   "outputs": [],
   "source": [
    "#finds average fano in particular energy bin\n",
    "def gaus1(x,a,x0,sigma):\n",
    "    return a*np.exp(-(x-x0)**2/(2*sigma**2))\n",
    "\n",
    "def find_fano(data):\n",
    "    \n",
    "    mu,sigma = norm.fit(data)\n",
    "    \n",
    "    #gaus1(data,2,0.03,0.05)\n",
    "    \n",
    "    n,bins = np.histogram(data,60)\n",
    "    \n",
    "        \n",
    "    a = max(data)\n",
    "    b = mu\n",
    "    c = sigma\n",
    "    \n",
    "    \n",
    "    popt1,pcov1 = curve_fit(gaus1,bins[:-1],n,p0=[a,b,c])\n",
    "    \n",
    "    #y = mlab.normpdf(bins, mu, sigma)\n",
    " \n",
    "    #plt.figure()\n",
    "    #plt.hist(data,bins =60)\n",
    "    #plt.plot(bins,gaus(bins,*popt1), 'r--', linewidth = 2)\n",
    "   # plt.xlabel(\"Extracted Fano\")\n",
    "    #plt.show()\n",
    "    \n",
    "    return  popt1, pcov1, mu"
   ]
  },
  {
   "cell_type": "code",
   "execution_count": 16,
   "metadata": {},
   "outputs": [],
   "source": [
    "\n",
    "sig = []\n",
    "for this_data in data:\n",
    "    x,y = find_sigma(this_data)\n",
    "    #print(x,y)\n",
    "    sig.append(y[2])\n",
    "    \n",
    "#print(sig)"
   ]
  },
  {
   "cell_type": "code",
   "execution_count": 34,
   "metadata": {},
   "outputs": [],
   "source": [
    "#Fano = (b[:,4]**2*b[:,2] +b[:,5]**2*b[:,3] -sigma)**2/(b[:,6]*(b[:,4]**2*eps + V/1000*b[:,5]**2))\n",
    "\n",
    "def calc_fano(data,sig):\n",
    "    mean = []\n",
    "    error = []\n",
    "    for x, sigy in zip(data, sig):\n",
    "\n",
    "        #x = data[i]\n",
    "        U1 = x[:,4]\n",
    "        U2 = x[:,5]\n",
    "        sigQ = x[:,2]\n",
    "        sigP = x[:,3]\n",
    "        #sigy =sig[i]\n",
    "        N = x[:,6]\n",
    "        \n",
    "        Fano = (-U1**2*sigQ**2-U2**2*sigP**2 + sigy**2)/(U1**2*eps**2 +U2**2*(V/1000)**2)\n",
    "        Fano = Fano/N\n",
    "        #print(min(x[:,0]),max(x[:,0]))\n",
    "        \n",
    "        x,y,z = find_fano(Fano)\n",
    "        \n",
    "        mean.append(x[1])\n",
    "        error.append(np.sqrt(y[2,2]))\n",
    "      \n",
    "        \n",
    "        #print(\"mean :\",x[1],\",\",\"uncertainty in mean : \",y[1,1])\n",
    "        #print(x)\n",
    "\n",
    "       \n",
    "    return mean, error\n",
    "        \n",
    "    \n",
    "\n"
   ]
  },
  {
   "cell_type": "code",
   "execution_count": 37,
   "metadata": {},
   "outputs": [
    {
     "name": "stdout",
     "output_type": "stream",
     "text": [
      "0.23374695947235666\n"
     ]
    },
    {
     "data": {
      "image/png": "[encoded data removed]",
      "text/plain": [
       "<matplotlib.figure.Figure at 0x1a26fe3be0>"
      ]
     },
     "metadata": {},
     "output_type": "display_data"
    }
   ],
   "source": [
    "means,errors = calc_fano(data,sig)\n",
    "print(np.average(errors))\n",
    "\n",
    "x = np.arange(0,50)\n",
    "\n",
    "plt.figure()\n",
    "plt.errorbar(x,means,yerr=errors,fmt ='o',label = 'error', ecolor = 'purple', Linestyle = 'None', capsize=5, capthick=0.5)\n",
    "plt.axhline(y=F, color='r', linestyle='-')\n",
    "plt.ylim(0,150)\n",
    "plt.show()"
   ]
  },
  {
   "cell_type": "code",
   "execution_count": null,
   "metadata": {},
   "outputs": [],
   "source": []
  },
  {
   "cell_type": "code",
   "execution_count": null,
   "metadata": {},
   "outputs": [],
   "source": []
  },
  {
   "cell_type": "code",
   "execution_count": null,
   "metadata": {},
   "outputs": [],
   "source": []
  },
  {
   "cell_type": "code",
   "execution_count": null,
   "metadata": {},
   "outputs": [],
   "source": []
  },
  {
   "cell_type": "code",
   "execution_count": null,
   "metadata": {},
   "outputs": [],
   "source": []
  }
 ],
 "metadata": {
  "kernelspec": {
   "display_name": "Python 3",
   "language": "python",
   "name": "python3"
  },
  "language_info": {
   "codemirror_mode": {
    "name": "ipython",
    "version": 3
   },
   "file_extension": ".py",
   "mimetype": "text/x-python",
   "name": "python",
   "nbconvert_exporter": "python",
   "pygments_lexer": "ipython3",
   "version": "3.6.4"
  }
 },
 "nbformat": 4,
 "nbformat_minor": 2
}
