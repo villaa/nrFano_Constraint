{
 "cells": [
  {
   "cell_type": "code",
   "execution_count": 1,
   "metadata": {},
   "outputs": [],
   "source": [
    "import numpy as np\n",
    "import matplotlib.pyplot as plt\n",
    "import resfuncRead as rfr\n",
    "import pandas as pd\n",
    "from scipy.stats import norm\n",
    "import matplotlib.mlab as mlab\n",
    "from scipy.optimize import curve_fit"
   ]
  },
  {
   "cell_type": "code",
   "execution_count": 2,
   "metadata": {},
   "outputs": [],
   "source": [
    "#read the files (from anthony)\n",
    "#ptres = rfr.getRFunc('data/jardin_ptres.txt')\n",
    "#qres = rfr.getRFunc('data/jardin_qsummaxres.txt')"
   ]
  },
  {
   "cell_type": "code",
   "execution_count": 3,
   "metadata": {},
   "outputs": [],
   "source": [
    "#define constants and empty arrays. \n",
    "k = 0.157 # from lindhard\n",
    "q = 1.602*10**-19 #electron charge \n",
    "V = 4.0 # voltage Bias\n",
    "eps = 0.0033 #keV\n",
    "p_alpha = 0.155393\n",
    "p_beta = 9.60343*10**(-11)\n",
    "p_gamma = 0.000506287\n",
    "\n",
    "q_alpha = 0.166004\n",
    "q_beta = 0.00233716\n",
    "q_gamma = 9.52576*10**(-5)\n",
    "\n",
    "ER = []\n",
    "ER1 = []\n",
    "Yield = []\n",
    "PtNr = []\n",
    "QR = []\n",
    "sigQ = []\n",
    "sigP = []\n",
    "sigQ1 = []\n",
    "sigP1 = []\n",
    "Err=[]\n",
    "U1 = []\n",
    "U2 = []\n",
    "N_eh = []\n",
    "QNR=[]\n",
    "PT1 = []"
   ]
  },
  {
   "cell_type": "code",
   "execution_count": 4,
   "metadata": {},
   "outputs": [],
   "source": [
    "#For Nuclear Recoils \n",
    "F =20\n",
    "N = 10000\n",
    "#Er = np.random.exponential(40,np.uint32(N*0.3)) #tip from anthony \n",
    "#Er = np.random.uniform(0,200,N)\n",
    "#Enr = np.random.choice(np.arange(10,100))\n",
    "\n",
    "Enr = 100\n",
    "    \n",
    "#Err.append(Enr)\n",
    "\n",
    "esp = 11.5*Enr*(23)**-(7/3)\n",
    "g = 3*esp**(0.15)+0.7*esp**(0.6)+esp\n",
    "Y = k*g/(1+k*g)\n",
    "    \n",
    "Ptnr = (Y*Enr*V)/(eps*1000) + Enr #central value of Pt\n",
    "Qnr = Y*Enr\n",
    "    \n",
    "for i in np.arange(0,N):\n",
    "    \n",
    "    Neh = Y*Enr/eps\n",
    "    N_eh.append(Neh)\n",
    "  \n",
    "    \n",
    "    #For EP\n",
    "                \n",
    "    sig_p1 = np.sqrt(p_alpha + p_beta*Ptnr + p_gamma*(Ptnr**2)) #No Fano \n",
    "    sig_p = np.sqrt(p_alpha + p_beta*Ptnr + p_gamma*(Ptnr**2) + (V/1000)**2*Neh*F) # With Fano \n",
    "  \n",
    "    Fnr = np.random.normal(0.0,sig_p)\n",
    "    Ptnr1 = Ptnr + Fnr #not central value! just.. smeared \n",
    "    PT1.append(Ptnr1)\n",
    "    sigP1.append(sig_p1)\n",
    "    sigP.append(sig_p)\n",
    "    \n",
    "    \n",
    "    #For EQ\n",
    "    sig_q1 = np.sqrt(q_alpha + q_beta*Qnr + q_gamma*(Qnr**2) ) #No Fano \n",
    "    sig_q = np.sqrt(q_alpha + q_beta*Qnr + q_gamma*(Qnr**2) + eps**2*Neh*F) #With Fano \n",
    "    \n",
    "    Fq = np.random.normal(0.0,sig_q)  \n",
    "    Qnr1 = Qnr + Fq \n",
    "    QNR.append(Qnr1)\n",
    "    sigQ1.append(sig_q1) #No Fano \n",
    "    sigQ.append(sig_q) #With Fano \n",
    "    \n",
    "    \n",
    "    # Deriviatives to find sigy \n",
    "    U_1 = Ptnr/(Ptnr-Qnr1*(V/(eps*1000)))**2  #derivative with respect to Qnr1\n",
    "    U_2 = -Qnr1/(Ptnr1 -(Qnr1*V/(eps*1000)))**2 #derivative with respect to Ptnf\n",
    "    U1.append(U_1)\n",
    "    U2.append(U_2)\n",
    "    \n",
    "    #Measured Phonon Energy \n",
    "    Ernr = Ptnr1 - (V/(eps*1000))*Qnr1\n",
    "    ER.append(Ernr)\n",
    "    ER1.append(Enr)\n",
    "\n",
    "    yield1 = Qnr1 / Enr #for 1 perfectly known Er. \n",
    "    #yield1 = Qnr1 / ER\n",
    "    Yield.append(yield1)\n",
    "\n",
    "   "
   ]
  },
  {
   "cell_type": "code",
   "execution_count": 5,
   "metadata": {},
   "outputs": [
    {
     "name": "stdout",
     "output_type": "stream",
     "text": [
      "39.9616689922649 148.45035995450908 1.7528009314783113 3.8835563782873734\n"
     ]
    }
   ],
   "source": [
    "print(np.mean(QNR),np.mean(PT1),np.std(QNR),np.std(PT1))\n",
    "\n"
   ]
  },
  {
   "cell_type": "code",
   "execution_count": 6,
   "metadata": {},
   "outputs": [],
   "source": [
    "#For Electron Recoils. \n",
    "\n",
    "Yield_er = []\n",
    "ERer = []\n",
    "\n",
    "#x = np.arange(0,2000,0.1)\n",
    "#E1er = 82*np.exp(-x/304) #For ER from Kennedy Thesis\n",
    "E1er = np.random.uniform(0,200,N) #from anthony, Er's are close enough to randomly distributed. \n",
    "\n",
    "\n",
    "\n",
    "for i in np.arange(N):\n",
    "    \n",
    "    Eer = np.random.choice(E1er) #randomly sample from Energy dist \n",
    "    \n",
    "    \n",
    "    sig_pee = np.sqrt(p_alpha + p_beta*Eer + p_gamma*(Eer**2)) #Phonon uncertainty \n",
    "    sig_qee = np.sqrt(q_alpha + q_beta*Eer + q_gamma*(Eer**2)) #Charge uncertainty \n",
    "\n",
    "    Fer = np.random.normal(0.0,sig_pee) #Random energy assuming phonon variance \n",
    "    Fqe = np.random.normal(0.0,sig_qee) #Random assuming charge variane\n",
    "\n",
    "\n",
    "    Pter = (1+(V/eps/1000))*Eer \n",
    "    Pter = Pter + Fer\n",
    "    Qer = Eer\n",
    "    Qer = Qer + Fqe\n",
    "\n",
    "    Erer = Pter - (V/eps/1000)*Qer\n",
    "    ERer.append(Erer)\n",
    "    \n",
    "    Yield2 = Qer/Erer\n",
    "    Yield_er.append(Yield2)"
   ]
  },
  {
   "cell_type": "code",
   "execution_count": 7,
   "metadata": {},
   "outputs": [],
   "source": [
    "# Make band Fits (Thank you Anthony)\n",
    "\n",
    "# files contain fits from previous data. I believe that they are fits from real data. As seen, the model has a significantly narrower spread the fits \n",
    "# from the data \n",
    "\n",
    "bpar_er = rfr.getBandFunc('data/erband_R133') #reads in band data/fit for er data\n",
    "bpar_nr = rfr.getBandFunc('data/nrband_R133') #reads in band data/fit for nr data \n",
    "\n",
    "yer_mu = rfr.makeBFunc(bpar_er[1]['mu']) # sets average fit from 1st (2nd) col in data table. \n",
    "yer_muv = np.vectorize(yer_mu) #puts mean data for er in 1D array \n",
    "yer_sig = rfr.makeBFunc(bpar_er[1]['sig'],True) #sets uncertainty \n",
    "yer_sigv = np.vectorize(yer_sig) #puts uncertainty into 1D array\n",
    "\n",
    "#following does the same but for nuclear recoils. \n",
    "ynr_mu = rfr.makeBFunc(bpar_nr[1]['mu'])\n",
    "ynr_muv = np.vectorize(ynr_mu)\n",
    "ynr_sig = rfr.makeBFunc(bpar_nr[1]['sig'],True)\n",
    "ynr_sigv = np.vectorize(ynr_sig)\n",
    "\n",
    "# try new fit\n",
    "\n",
    "xn = np.arange(0.1,100,0.1)\n",
    "m, c = np.polyfit(ER, Yield, 1)\n",
    "yn = np.polyval([m, c], xn)"
   ]
  },
  {
   "cell_type": "code",
   "execution_count": 8,
   "metadata": {},
   "outputs": [
    {
     "data": {
      "image/png": "[encoded data removed]",
      "text/plain": [
       "<matplotlib.figure.Figure at 0x115fefc50>"
      ]
     },
     "metadata": {},
     "output_type": "display_data"
    }
   ],
   "source": [
    "#plot \n",
    "\n",
    "\n",
    "fig,axes = plt.subplots(1,1,figsize=(9.0,8.0),sharex=True)\n",
    "ax1 = axes\n",
    "\n",
    "\n",
    "X = np.arange(0.1,100,0.1)\n",
    "\n",
    "ax1.plot(ER,Yield,'o',color='b',linewidth=2,markersize=1)\n",
    "ax1.plot(Qer,Pter,'o',color='k',linewidth=2,markersize=1)\n",
    "'''\n",
    "ax1.plot(X,ynr_muv(X),color = 'orange',label='NR mu') #using old data \n",
    "#ax1.plot(xn,yn,'r--') #new fit to data (mean)\n",
    "\n",
    "ax1.plot(X,ynr_muv(X)+3*ynr_sigv(X),'r-',label='NR 3$\\sigma$')\n",
    "ax1.plot(X,ynr_muv(X)-3*ynr_sigv(X),'r-',label=None)\n",
    "\n",
    "ax1.plot(X,yer_muv(X),color='purple',linestyle='--',label='ER mu')\n",
    "ax1.plot(X,yer_muv(X)+3*yer_sigv(X),color='purple',linestyle='-',label='ER 3$\\sigma$')\n",
    "ax1.plot(X,yer_muv(X)-3*yer_sigv(X),color='purple',linestyle='-',label=None)\n",
    "'''\n",
    "ax1.set_xlabel('Recoil Energy [keV]')\n",
    "ax1.set_ylabel('Yield')\n",
    "ax1.set_ylim(0,1.6)\n",
    "#ax1.set_xlim(0,50)\n",
    "\n",
    "\n",
    "plt.show()\n"
   ]
  },
  {
   "cell_type": "code",
   "execution_count": 9,
   "metadata": {},
   "outputs": [
    {
     "name": "stdout",
     "output_type": "stream",
     "text": [
      "10000\n",
      "10000\n",
      "10000\n",
      "10000\n",
      "10000\n",
      "10000\n",
      "10000\n"
     ]
    }
   ],
   "source": [
    "print(len(ER))\n",
    "print(len(sigQ1))\n",
    "print(len(sigP1))\n",
    "print(len(Yield))\n",
    "print(len(U1))\n",
    "print(len(U2))\n",
    "print(len(N_eh))\n"
   ]
  },
  {
   "cell_type": "code",
   "execution_count": 10,
   "metadata": {},
   "outputs": [
    {
     "name": "stdout",
     "output_type": "stream",
     "text": [
      "[[100.           0.40001554   0.6415968 ]\n",
      " [100.           0.3778891    0.6415968 ]\n",
      " [100.           0.39282208   0.6415968 ]\n",
      " ...\n",
      " [100.           0.41162094   0.6415968 ]\n",
      " [100.           0.40250597   0.6415968 ]\n",
      " [100.           0.40254088   0.6415968 ]]\n",
      "-------------------------------------------------------\n",
      "[[100.           0.40001554   0.6415968 ]\n",
      " [100.           0.37246902   0.6415968 ]\n",
      " [100.           0.41235168   0.6415968 ]\n",
      " ...\n",
      " [100.           0.39702856   0.6415968 ]\n",
      " [100.           0.40979002   0.6415968 ]\n",
      " [100.           0.40254088   0.6415968 ]]\n",
      "[   0 6663 6664 ... 3336 3329 9999]\n"
     ]
    }
   ],
   "source": [
    "#removing allowing Yield values from 0->1.6 and removing negative energies. Then creating energy bins. \n",
    "\n",
    "data = np.vstack((ER1,Yield,sigQ1,sigP1,U1,U2,N_eh)).T\n",
    "\n",
    "x = data[data[:,1]>=0, :]\n",
    "\n",
    "data1 = x[x[:,1]<=1.6,:]\n",
    "data2 = data1[data1[:,0]>=0,:]\n",
    "data1 = data2[np.argsort(data2[:, 0])]\n",
    "\n",
    "print(data2[:,0:3])\n",
    "print(\"-------------------------------------------------------\")\n",
    "print(data1[:,0:3])\n",
    "\n",
    "#a,b,c,d,e,f,g = np.array_split(data1,7)\n",
    "data = np.array_split(data1,10)\n",
    "\n",
    "print(np.argsort(data2[:, 0]))"
   ]
  },
  {
   "cell_type": "code",
   "execution_count": 11,
   "metadata": {},
   "outputs": [],
   "source": [
    "#Finds the width in a yield dist for a particular energy bin to be used later in yield variance calculation (fano)\n",
    "def gaus(x,a,x0,sigma):\n",
    "    return a*np.exp(-(x-x0)**2/(2*sigma**2))\n",
    "\n",
    "def find_sigma(data):\n",
    "    mu,sigma = norm.fit(data[:,1])\n",
    "    n,bins = np.histogram(data[:,1],60)\n",
    "    \n",
    "    a = max(data[:,1])\n",
    "    b = np.average(data[:,1])\n",
    "    c = sigma\n",
    "    \n",
    "    popt,pcov = curve_fit(gaus,bins[:-1],n,p0=[a,b,c])\n",
    "    \n",
    "    return  pcov, popt"
   ]
  },
  {
   "cell_type": "code",
   "execution_count": 12,
   "metadata": {},
   "outputs": [],
   "source": [
    "#finds average fano in particular energy bin\n",
    "def gaus1(x,a,x0,sigma):\n",
    "    return a*np.exp(-(x-x0)**2/(2*sigma**2))\n",
    "\n",
    "def find_fano(data):\n",
    "    \n",
    "    mu,sigma = norm.fit(data)\n",
    "    n,bins = np.histogram(data,60)\n",
    "    \n",
    "    a = max(data)\n",
    "    b = mu\n",
    "    c = sigma\n",
    "    \n",
    "    popt1,pcov1 = curve_fit(gaus1,bins[:-1],n,p0=[a,b,c])\n",
    "    \n",
    "    plt.figure()\n",
    "    plt.hist(data,bins =60)\n",
    "    plt.plot(bins,gaus1(bins,*popt1), 'r--', linewidth = 2)\n",
    "    plt.xlabel(\"Extracted Fano\")\n",
    "    plt.show()\n",
    "\n",
    "    \n",
    "    return  popt1, pcov1, mu"
   ]
  },
  {
   "cell_type": "code",
   "execution_count": 13,
   "metadata": {},
   "outputs": [],
   "source": [
    "\n",
    "sig = []\n",
    "for this_data in data:\n",
    "    x,y = find_sigma(this_data)\n",
    "    #print(x,y)\n",
    "    sig.append(y[2])\n",
    "    \n",
    "#print(sig)\n"
   ]
  },
  {
   "cell_type": "code",
   "execution_count": 14,
   "metadata": {},
   "outputs": [],
   "source": [
    "#Fano = (b[:,4]**2*b[:,2] +b[:,5]**2*b[:,3] -sigma)**2/(b[:,6]*(b[:,4]**2*eps + V/1000*b[:,5]**2))\n",
    "\n",
    "def calc_fano(data,sig):\n",
    "    mean = []\n",
    "    error = []\n",
    "    for x in data:\n",
    "        #x = data[i]\n",
    "        U1 = x[:,4]\n",
    "        U2 = x[:,5]\n",
    "        sigQ = x[:,2]\n",
    "        sigP = x[:,3]\n",
    "        N = x[:,6]\n",
    "        sigy = np.std(x[:,1])\n",
    "        #Fano = (-U1**2*sigQ**2-U2**2*sigP**2 + sigy**2)/(U1**2*eps**2 +U2**2*(V/1000)**2)\n",
    "        Fano = (sigy**2*Enr**2 - sigQ**2)/(eps**2*N)\n",
    "        #Fano = Fano/N\n",
    "        #print(min(x[:,0]),max(x[:,0]))\n",
    "        \n",
    "        x,y,z = find_fano(Fano)\n",
    "        print(np.mean(Fano))\n",
    "        mean.append(x[1])\n",
    "        error.append(np.std(Fano))\n",
    "        print(x)\n",
    "        print(np.std(Fano))\n",
    "        print(sigy)\n",
    "        #print(\"mean :\",x[1],\",\",\"uncertainty in mean : \",y[1,1]\n",
    "\n",
    "       \n",
    "    return mean, error\n",
    "        \n",
    "        "
   ]
  },
  {
   "cell_type": "code",
   "execution_count": 15,
   "metadata": {},
   "outputs": [
    {
     "name": "stdout",
     "output_type": "stream",
     "text": [
      "0.32538511583901214 0.4717888233854466\n"
     ]
    },
    {
     "data": {
      "image/png": "[encoded data removed]",
      "text/plain": [
       "<matplotlib.figure.Figure at 0x115fef828>"
      ]
     },
     "metadata": {},
     "output_type": "display_data"
    }
   ],
   "source": [
    "xmin=min(Yield)\n",
    "xmax=max(Yield)\n",
    "amax= 30\n",
    "#print(np.std(val_stat))\n",
    "print(xmin,xmax)\n",
    "\n",
    "n_res,n_resx = np.histogram(Yield,300,range=(xmin,xmax))\n",
    "\n",
    "\n",
    "xresc = (n_resx[:-1] + n_resx[1:]) / 2\n",
    "\n",
    "#set up a 1d plot\n",
    "fig,axes = plt.subplots(1,1,figsize=(9.0,8.0),sharex=True)\n",
    "ax1 = axes\n",
    "\n",
    "X = np.arange(-amax,amax,0.01)\n",
    "\n",
    "step, = ax1.step(xresc,n_res, where='mid',color='r', linestyle='-', label='Yield, Er = 40keV', linewidth=2)\n",
    "\n",
    "\n",
    "\n",
    "ymin=0.1\n",
    "ymax=max(n_res)\n",
    "\n",
    "\n",
    "ax1.set_yscale('log')\n",
    "ax1.set_xlim(xmin, xmax) #in pairs\n",
    "ax1.set_ylim(ymin,ymax)\n",
    "ax1.set_xlabel('A [a.u.]')\n",
    "ax1.set_ylabel('counts')\n",
    "ax1.grid(True)\n",
    "ax1.yaxis.grid(True,which='minor',linestyle='--')\n",
    "ax1.legend(loc=1,prop={'size':22})\n",
    "\n",
    "for axis in ['top','bottom','left','right']:\n",
    "  ax1.spines[axis].set_linewidth(2)\n",
    "\n",
    "plt.tight_layout()\n",
    "#plt.savefig('figures/figures')\n",
    "plt.show()"
   ]
  },
  {
   "cell_type": "code",
   "execution_count": 16,
   "metadata": {},
   "outputs": [
    {
     "data": {
      "image/png": "[encoded data removed]",
      "text/plain": [
       "<matplotlib.figure.Figure at 0x11c191518>"
      ]
     },
     "metadata": {},
     "output_type": "display_data"
    },
    {
     "name": "stdout",
     "output_type": "stream",
     "text": [
      "19.710331530361973\n",
      "[1.97103315e+01 1.97103315e+01 2.97175728e-13]\n",
      "3.552713678800501e-15\n",
      "0.01735435645174795\n"
     ]
    },
    {
     "data": {
      "image/png": "[encoded data removed]",
      "text/plain": [
       "<matplotlib.figure.Figure at 0x11be38048>"
      ]
     },
     "metadata": {},
     "output_type": "display_data"
    },
    {
     "name": "stdout",
     "output_type": "stream",
     "text": [
      "18.177992212603602\n",
      "[1.81779922e+01 1.81779922e+01 3.22226620e-13]\n",
      "3.552713678800501e-15\n",
      "0.016761856037896383\n"
     ]
    },
    {
     "data": {
      "image/png": "[encoded data removed]",
      "text/plain": [
       "<matplotlib.figure.Figure at 0x11c54f4a8>"
      ]
     },
     "metadata": {},
     "output_type": "display_data"
    },
    {
     "name": "stdout",
     "output_type": "stream",
     "text": [
      "20.176278262708532\n",
      "[2.01762783e+01 2.01762783e+01 2.90312886e-13]\n",
      "3.552713678800501e-15\n",
      "0.017530551303698263\n"
     ]
    },
    {
     "data": {
      "image/png": "[encoded data removed]",
      "text/plain": [
       "<matplotlib.figure.Figure at 0x11c535da0>"
      ]
     },
     "metadata": {},
     "output_type": "display_data"
    },
    {
     "name": "stdout",
     "output_type": "stream",
     "text": [
      "22.019087961539658\n",
      "[2.20190880e+01 2.20190880e+01 5.32032321e-13]\n",
      "7.105427357601002e-15\n",
      "0.01821070213599755\n"
     ]
    },
    {
     "name": "stderr",
     "output_type": "stream",
     "text": [
      "/anaconda3/lib/python3.6/site-packages/ipykernel_launcher.py:3: RuntimeWarning: divide by zero encountered in true_divide\n",
      "  This is separate from the ipykernel package so we can avoid doing imports until\n",
      "/anaconda3/lib/python3.6/site-packages/ipykernel_launcher.py:3: RuntimeWarning: invalid value encountered in true_divide\n",
      "  This is separate from the ipykernel package so we can avoid doing imports until\n",
      "/anaconda3/lib/python3.6/site-packages/scipy/optimize/minpack.py:785: OptimizeWarning: Covariance of the parameters could not be estimated\n",
      "  category=OptimizeWarning)\n"
     ]
    },
    {
     "data": {
      "image/png": "[encoded data removed]",
      "text/plain": [
       "<matplotlib.figure.Figure at 0x11c627470>"
      ]
     },
     "metadata": {},
     "output_type": "display_data"
    },
    {
     "name": "stdout",
     "output_type": "stream",
     "text": [
      "21.3742287056625\n",
      "[21.37422871 21.37422871  0.        ]\n",
      "0.0\n",
      "0.017975622512644913\n"
     ]
    },
    {
     "data": {
      "image/png": "[encoded data removed]",
      "text/plain": [
       "<matplotlib.figure.Figure at 0x11c65e940>"
      ]
     },
     "metadata": {},
     "output_type": "display_data"
    },
    {
     "name": "stdout",
     "output_type": "stream",
     "text": [
      "20.512440623408335\n",
      "[20.51244062 20.51244062  0.        ]\n",
      "0.0\n",
      "0.017656577196128675\n"
     ]
    },
    {
     "data": {
      "image/png": "[encoded data removed]",
      "text/plain": [
       "<matplotlib.figure.Figure at 0x11c611a20>"
      ]
     },
     "metadata": {},
     "output_type": "display_data"
    },
    {
     "name": "stdout",
     "output_type": "stream",
     "text": [
      "19.26276936100428\n",
      "[1.92627694e+01 1.92627694e+01 3.04080705e-13]\n",
      "3.552713678800501e-15\n",
      "0.017183412549624508\n"
     ]
    },
    {
     "data": {
      "image/png": "[encoded data removed]",
      "text/plain": [
       "<matplotlib.figure.Figure at 0x1116ee2e8>"
      ]
     },
     "metadata": {},
     "output_type": "display_data"
    },
    {
     "name": "stdout",
     "output_type": "stream",
     "text": [
      "20.99988077609498\n",
      "[20.99988078 20.99988078  0.        ]\n",
      "0.0\n",
      "0.017837735005254624\n"
     ]
    },
    {
     "data": {
      "image/png": "[encoded data removed]",
      "text/plain": [
       "<matplotlib.figure.Figure at 0x11c513780>"
      ]
     },
     "metadata": {},
     "output_type": "display_data"
    },
    {
     "name": "stdout",
     "output_type": "stream",
     "text": [
      "19.331950565316497\n",
      "[1.93319506e+01 1.93319506e+01 3.02992494e-13]\n",
      "3.552713678800501e-15\n",
      "0.017209946874570132\n"
     ]
    },
    {
     "data": {
      "image/png": "[encoded data removed]",
      "text/plain": [
       "<matplotlib.figure.Figure at 0x11c513dd8>"
      ]
     },
     "metadata": {},
     "output_type": "display_data"
    },
    {
     "name": "stdout",
     "output_type": "stream",
     "text": [
      "20.03053652461272\n",
      "[2.00305365e+01 2.00305365e+01 2.92425314e-13]\n",
      "3.552713678800501e-15\n",
      "0.017475630900210606\n"
     ]
    },
    {
     "data": {
      "image/png": "[encoded data removed]",
      "text/plain": [
       "<matplotlib.figure.Figure at 0x11c20cbe0>"
      ]
     },
     "metadata": {},
     "output_type": "display_data"
    }
   ],
   "source": [
    "means,errors = calc_fano(data,sig)\n",
    "\n",
    "\n",
    "x = np.arange(0,10)\n",
    "\n",
    "plt.figure()\n",
    "plt.errorbar(x,means,yerr=errors,fmt ='o',label = 'error', ecolor = 'purple', Linestyle = 'None', capsize=5, capthick=0.5)\n",
    "plt.axhline(y=F, color='r', linestyle='-')\n",
    "plt.ylim(0,150)\n",
    "plt.show()"
   ]
  },
  {
   "cell_type": "code",
   "execution_count": null,
   "metadata": {},
   "outputs": [],
   "source": []
  },
  {
   "cell_type": "code",
   "execution_count": null,
   "metadata": {},
   "outputs": [],
   "source": []
  },
  {
   "cell_type": "code",
   "execution_count": null,
   "metadata": {},
   "outputs": [],
   "source": []
  },
  {
   "cell_type": "code",
   "execution_count": null,
   "metadata": {},
   "outputs": [],
   "source": []
  },
  {
   "cell_type": "code",
   "execution_count": null,
   "metadata": {},
   "outputs": [],
   "source": []
  },
  {
   "cell_type": "code",
   "execution_count": null,
   "metadata": {},
   "outputs": [],
   "source": []
  },
  {
   "cell_type": "code",
   "execution_count": null,
   "metadata": {},
   "outputs": [],
   "source": []
  },
  {
   "cell_type": "code",
   "execution_count": null,
   "metadata": {},
   "outputs": [],
   "source": []
  },
  {
   "cell_type": "code",
   "execution_count": null,
   "metadata": {},
   "outputs": [],
   "source": []
  },
  {
   "cell_type": "code",
   "execution_count": null,
   "metadata": {},
   "outputs": [],
   "source": []
  },
  {
   "cell_type": "code",
   "execution_count": null,
   "metadata": {},
   "outputs": [],
   "source": []
  },
  {
   "cell_type": "code",
   "execution_count": null,
   "metadata": {},
   "outputs": [],
   "source": []
  },
  {
   "cell_type": "code",
   "execution_count": null,
   "metadata": {},
   "outputs": [],
   "source": []
  }
 ],
 "metadata": {
  "kernelspec": {
   "display_name": "Python 3",
   "language": "python",
   "name": "python3"
  },
  "language_info": {
   "codemirror_mode": {
    "name": "ipython",
    "version": 3
   },
   "file_extension": ".py",
   "mimetype": "text/x-python",
   "name": "python",
   "nbconvert_exporter": "python",
   "pygments_lexer": "ipython3",
   "version": "3.6.4"
  }
 },
 "nbformat": 4,
 "nbformat_minor": 2
}
