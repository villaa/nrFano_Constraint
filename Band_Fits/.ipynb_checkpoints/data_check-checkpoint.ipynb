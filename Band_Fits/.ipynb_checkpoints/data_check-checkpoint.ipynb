{
 "cells": [
  {
   "cell_type": "code",
   "execution_count": 1,
   "metadata": {},
   "outputs": [],
   "source": [
    "import numpy as np\n",
    "import matplotlib.pyplot as plt\n",
    "import resfuncRead as rfr\n",
    "from scipy.stats import kde\n",
    "from data_check import *\n",
    "from Band_plots import *\n",
    "from Yield_calc import Yield_NR, Yield_Er \n",
    "from bin_data_check import * \n",
    "from Yield_bin import * \n",
    "from Bin_Corr import *\n",
    "from Dist_check import * \n",
    "from integral_check import *  \n",
    "\n",
    "\n"
   ]
  },
  {
   "cell_type": "code",
   "execution_count": 2,
   "metadata": {},
   "outputs": [],
   "source": [
    "\n",
    "N = 100000\n",
    "eps = .0033\n",
    "s = 1\n",
    "#ER, Yield = Yield_NR(N)\n",
    "\n",
    "bins = np.array([10,13.4,18.1,24.5,33.1,44.8,55,60.6,80.2,110])\n",
    "Eer = np.random.choice(bins,N)\n",
    "\n",
    "#Er_true,Ere, Yield_er,EQ,EP,sigp,sigq = Yield_Er(Eer) #Electron Recoil Band. \n",
    "Enr_true, ER, Yield_nr, EQnr,EPnr,sigp_nr,sigq_nr  = Yield_NR(Eer)\n",
    "\n",
    "\n",
    "#EP_EQ_plot(EP,EQ) # Plot EQ EP Spcace \n",
    "\n",
    "#Corr(EP,EQ) # calculate correlation coefficent between EQ and EP \n",
    "\n"
   ]
  },
  {
   "cell_type": "code",
   "execution_count": null,
   "metadata": {},
   "outputs": [],
   "source": []
  },
  {
   "cell_type": "code",
   "execution_count": 3,
   "metadata": {},
   "outputs": [
    {
     "data": {
      "text/plain": [
       "'NR_band_plot(Enr,Yield_nr)\\nband_check(Yield_nr,Enr,1,band_nr)\\nbin_check(Yield_nr,Enr,1,band_nr)'"
      ]
     },
     "execution_count": 3,
     "metadata": {},
     "output_type": "execute_result"
    }
   ],
   "source": [
    "'''NR_band_plot(Enr,Yield_nr)\n",
    "band_check(Yield_nr,Enr,1,band_nr)\n",
    "bin_check(Yield_nr,Enr,1,band_nr)'''\n",
    "\n",
    "\n",
    "#for s in range(1,4):\n",
    "# band_check_nr(a,s,Enr)\n",
    "    \n",
    "#ER_band_plot(Ere,Yield_er,N)  \n",
    "#band_check(Yield_er,Ere,1,band_er)\n",
    "#data= bin_check(Yield_er,Ere,1,band_er)\n",
    "\n",
    "#NR_ER_plot(Enr,Ere,Yield_nr,Yield_er)\n",
    "\n",
    "\n",
    "    "
   ]
  },
  {
   "cell_type": "code",
   "execution_count": 4,
   "metadata": {},
   "outputs": [
    {
     "ename": "NameError",
     "evalue": "name 'Yield_er' is not defined",
     "output_type": "error",
     "traceback": [
      "\u001b[0;31m---------------------------------------------------------------------------\u001b[0m",
      "\u001b[0;31mNameError\u001b[0m                                 Traceback (most recent call last)",
      "\u001b[0;32m<ipython-input-4-e89da77a9cb5>\u001b[0m in \u001b[0;36m<module>\u001b[0;34m()\u001b[0m\n\u001b[1;32m      5\u001b[0m \u001b[0;34m\u001b[0m\u001b[0m\n\u001b[1;32m      6\u001b[0m \u001b[0;34m\u001b[0m\u001b[0m\n\u001b[0;32m----> 7\u001b[0;31m \u001b[0mdf\u001b[0m \u001b[0;34m=\u001b[0m \u001b[0mbin_check\u001b[0m\u001b[0;34m(\u001b[0m\u001b[0mYield_er\u001b[0m\u001b[0;34m,\u001b[0m\u001b[0mEre\u001b[0m\u001b[0;34m,\u001b[0m\u001b[0mEr_true\u001b[0m\u001b[0;34m,\u001b[0m\u001b[0;36m1\u001b[0m\u001b[0;34m,\u001b[0m\u001b[0mband_er\u001b[0m\u001b[0;34m,\u001b[0m\u001b[0mEP\u001b[0m\u001b[0;34m,\u001b[0m\u001b[0mEQ\u001b[0m\u001b[0;34m,\u001b[0m\u001b[0msigp\u001b[0m\u001b[0;34m,\u001b[0m\u001b[0msigq\u001b[0m\u001b[0;34m,\u001b[0m\u001b[0mbins\u001b[0m\u001b[0;34m,\u001b[0m\u001b[0mcut_idx\u001b[0m\u001b[0;34m)\u001b[0m \u001b[0;31m#For electron Recoils.\u001b[0m\u001b[0;34m\u001b[0m\u001b[0m\n\u001b[0m\u001b[1;32m      8\u001b[0m \u001b[0;31m#df = bin_check(Yield_nr,ER,Enr_true,1,band_nr,EPnr,EQnr,sigp_nr,sigq_nr,bins,cut_idx) #for Nuclear recoils\u001b[0m\u001b[0;34m\u001b[0m\u001b[0;34m\u001b[0m\u001b[0m\n",
      "\u001b[0;31mNameError\u001b[0m: name 'Yield_er' is not defined"
     ]
    }
   ],
   "source": [
    "\n",
    "cut_idx = 'E_true' # True energy\n",
    "#cut_idx = 'E_measured' # Measured Energy\n",
    "\n",
    "\n",
    "\n",
    "#df = bin_check(Yield_er,Ere,Er_true,1,band_er,EP,EQ,sigp,sigq,bins,cut_idx) #For electron Recoils. \n",
    "df = bin_check(Yield_nr,ER,Enr_true,1,band_nr,EPnr,EQnr,sigp_nr,sigq_nr,bins,cut_idx) #for Nuclear recoils "
   ]
  }
 ],
 "metadata": {
  "kernelspec": {
   "display_name": "Python 3",
   "language": "python",
   "name": "python3"
  },
  "language_info": {
   "codemirror_mode": {
    "name": "ipython",
    "version": 3
   },
   "file_extension": ".py",
   "mimetype": "text/x-python",
   "name": "python",
   "nbconvert_exporter": "python",
   "pygments_lexer": "ipython3",
   "version": "3.6.4"
  }
 },
 "nbformat": 4,
 "nbformat_minor": 2
}
