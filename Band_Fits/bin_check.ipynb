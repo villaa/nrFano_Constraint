{
 "cells": [
  {
   "cell_type": "code",
   "execution_count": 29,
   "metadata": {},
   "outputs": [],
   "source": [
    "import resfuncRead as rfr\n",
    "import numpy as np\n",
    "from Yield_calc import * \n",
    "import pandas as pd \n",
    "\n",
    "from tabulate import tabulate\n",
    "\n",
    "bpar_er = rfr.getBandFunc('data/erband_R133') #reads in band data/fit for er data\n",
    "bpar_nr = rfr.getBandFunc('data/nrband_R133')\n",
    "\n",
    "ynr_mu = rfr.makeBFunc(bpar_nr[1]['mu'])\n",
    "ynr_muv = np.vectorize(ynr_mu)\n",
    "ynr_sig = rfr.makeBFunc(bpar_nr[1]['sig'],True)\n",
    "ynr_sigv = np.vectorize(ynr_sig)\n",
    "\n",
    "yer_mu = rfr.makeBFunc(bpar_er[1]['mu']) # sets average fit from 1st (2nd) col in data table. \n",
    "yer_muv = np.vectorize(yer_mu) #puts mean data for er in 1D array \n",
    "yer_sig = rfr.makeBFunc(bpar_er[1]['sig'],True) #sets uncertainty \n",
    "yer_sigv = np.vectorize(yer_sig)\n",
    "\n",
    "\n",
    "\n"
   ]
  },
  {
   "cell_type": "code",
   "execution_count": 30,
   "metadata": {},
   "outputs": [],
   "source": [
    "s = 1\n",
    "N = 10000\n",
    "ER, Yield = Yield_NR(N)\n",
    "Erer, Yield_er = Yield_Er(N)\n",
    "\n",
    "#for nuclear recoils \n",
    "upper = yer_mu(Erer)+s*yer_sigv(Erer)\n",
    "lower = yer_mu(Erer)-s*yer_sigv(Erer)\n",
    "\n",
    "Data = np.vstack((Erer,Yield_er,upper,lower)).T\n",
    "\n",
    "\n"
   ]
  },
  {
   "cell_type": "code",
   "execution_count": 31,
   "metadata": {},
   "outputs": [
    {
     "data": {
      "text/plain": [
       "\"\\nprint(Data)\\nprint('--------------------------------------------------------')\\nprint((Data1))\\n\""
      ]
     },
     "execution_count": 31,
     "metadata": {},
     "output_type": "execute_result"
    }
   ],
   "source": [
    "Data1 = Data[np.argsort(Data[:, 0])]\n",
    "'''\n",
    "print(Data)\n",
    "print('--------------------------------------------------------')\n",
    "print((Data1))\n",
    "'''"
   ]
  },
  {
   "cell_type": "code",
   "execution_count": 32,
   "metadata": {},
   "outputs": [
    {
     "name": "stdout",
     "output_type": "stream",
     "text": [
      "[ 8.04728521  8.36457286  8.67257395  8.7982868   8.95201602  9.19562091\n",
      "  9.21427337  9.43786228  9.49241871  9.50891608  9.52525792  9.59737135\n",
      "  9.6420674   9.64665519  9.65512488  9.6745032   9.68476306  9.69259078\n",
      "  9.7154056   9.88391224  9.9415137  10.02444935 10.04570792 10.07979995\n",
      " 10.08708545 10.14885646 10.15949131 10.16739872 10.17811472 10.19883281\n",
      " 10.21624197 10.2178022  10.23762904 10.25211602 10.29707866 10.31026239\n",
      " 10.31104547 10.31555746 10.34415725 10.35988085 10.37622018 10.38379835\n",
      " 10.4474128  10.45338595 10.46179281 10.47095341 10.5575844  10.56288036\n",
      " 10.56320416 10.56951299 10.57880572 10.6296344  10.65471021 10.66995579\n",
      " 10.67662337 10.70559595 10.73681977 10.77869957 10.81028717 10.84310603\n",
      " 10.84873148 10.87281706 10.87911557 10.87965711 10.88615779 10.89048234\n",
      " 10.89317171 10.90551731 10.94202057 10.98132084 11.02034464 11.05617799\n",
      " 11.06262291 11.09586024 11.13711683 11.14325506 11.14538133 11.15439452\n",
      " 11.15933227 11.17732455 11.21979652 11.22228255 11.22509733 11.23779723\n",
      " 11.23887086 11.26393047 11.26982648 11.31055807 11.33226816 11.38784404\n",
      " 11.38945876 11.40646953 11.41378832 11.50124108 11.51550865 11.53558496\n",
      " 11.54295391 11.54501038 11.55122447 11.56298677 11.57615932 11.60445378\n",
      " 11.61099432 11.61408097 11.63126291 11.6406122  11.64490007 11.66458356\n",
      " 11.66914156 11.67089377 11.69020859 11.76354741 11.80139239 11.8091979\n",
      " 11.82971912 11.84219971 11.87318359 11.8817059  11.91875548 11.92500943\n",
      " 11.95254663 11.97086538 11.98614177 12.02874453 12.03123201 12.03267442\n",
      " 12.03515588 12.07274697 12.09620777 12.13446335 12.1382941  12.20881286\n",
      " 12.21220019 12.25319765 12.30488807 12.30523222 12.34501139 12.35997535\n",
      " 12.37118375 12.40342578 12.44718755 12.49980821 12.52639473 12.54532923\n",
      " 12.56247064 12.58196114 12.59374088 12.59506411 12.5971092  12.6243848\n",
      " 12.63793191 12.64827884 12.65399315 12.6553462  12.66677007 12.67528992\n",
      " 12.68262195 12.69051845 12.71185729 12.71519992 12.72709456 12.7394065\n",
      " 12.7539401  12.76173847 12.76572582 12.81392621 12.91700265 12.94765599\n",
      " 12.95230844 12.97781412 12.98247776 12.98358621 13.05569772 13.08276862\n",
      " 13.10757881 13.11437957 13.11517777 13.12662032 13.14901714 13.16488396\n",
      " 13.2334272  13.23633371 13.29101866 13.31888697 13.38923735]\n"
     ]
    }
   ],
   "source": [
    "df = pd.DataFrame(Data1)\n",
    "\n",
    "bins  = [0,13.4,18.1,24.5,33.1,44.8,60.6,80.2,110,150]\n",
    "\n",
    "df1 = pd.cut(df[0],bins, labels = False)\n",
    "\n",
    "\n",
    "y = np.array(df[0].loc[df1 == 0])\n",
    "\n",
    "print(y)\n",
    "\n"
   ]
  },
  {
   "cell_type": "code",
   "execution_count": 6,
   "metadata": {},
   "outputs": [],
   "source": [
    "Percent = []\n",
    "\n",
    "for q in np.arange(0,9):\n",
    "    \n",
    "    count = []\n",
    "    num = []\n",
    "    count1 = []\n",
    "    num1 = []\n",
    "    \n",
    "    \n",
    "    x = np.array(df[1].loc[df1 == q])\n",
    "    y = np.array(df[2].loc[df1 == q])\n",
    "    z = np.array(df[3].loc[df1 == q])\n",
    "    \n",
    "    \n",
    "    for i,j in zip(x,y):\n",
    "        if i >= j:\n",
    "            n = 1\n",
    "        else: \n",
    "            n = 0 \n",
    "\n",
    "        count.append(n)\n",
    "    #print(count)\n",
    "\n",
    "    for i in count: \n",
    "        if i == 1:\n",
    "            num.append(i) \n",
    "\n",
    "\n",
    "    for i,j in zip(x,z):\n",
    "        if i <= j:\n",
    "            n = 1\n",
    "        else: \n",
    "            n = 0 \n",
    "\n",
    "        count1.append(n)\n",
    "    #print(count)\n",
    "\n",
    "    for i in count: \n",
    "        if i == 1:\n",
    "            num1.append(i)\n",
    "\n",
    "\n",
    "    N= len(x)\n",
    "    percent = 100*(N - np.abs(len(num)+len(num1)))/N\n",
    "\n",
    "    Percent.append(percent)\n"
   ]
  },
  {
   "cell_type": "code",
   "execution_count": 7,
   "metadata": {},
   "outputs": [],
   "source": [
    "bin_spacing = '10.4-13.4','13.4-18.1','18.1-24.5','24.5-33.1','33.1-44.8','44.8-60.6','60.6-80.2','80.2-110','110-150','150-200'"
   ]
  },
  {
   "cell_type": "code",
   "execution_count": 8,
   "metadata": {},
   "outputs": [
    {
     "name": "stdout",
     "output_type": "stream",
     "text": [
      "Bin Spacing (keV) \t Percent in 1 sigma\n",
      "-------------- \t \t-------------------\n",
      "10.4-13.4 \t \t 79.37584803256445\n",
      "13.4-18.1 \t \t 80.80903104421449\n",
      "18.1-24.5 \t \t 80.76595744680851\n",
      "24.5-33.1 \t \t 85.02202643171806\n",
      "33.1-44.8 \t \t 84.05524168236033\n",
      "44.8-60.6 \t \t 84.78260869565217\n",
      "60.6-80.2 \t \t 82.72552783109406\n",
      "80.2-110 \t \t 77.51479289940828\n",
      "110-150 \t \t 70.75098814229248\n"
     ]
    }
   ],
   "source": [
    "print(\"Bin Spacing (keV)\", '\\t', \"Percent in\",s,\"sigma\")     #table column headings\n",
    "print(\"--------------\", '\\t', '\\t' \"-------------------\")\n",
    "\n",
    "for x,y in zip(bin_spacing,Percent):\n",
    "    print(x, '\\t','\\t', y)\n"
   ]
  },
  {
   "cell_type": "code",
   "execution_count": null,
   "metadata": {},
   "outputs": [],
   "source": []
  }
 ],
 "metadata": {
  "kernelspec": {
   "display_name": "Python 3",
   "language": "python",
   "name": "python3"
  },
  "language_info": {
   "codemirror_mode": {
    "name": "ipython",
    "version": 3
   },
   "file_extension": ".py",
   "mimetype": "text/x-python",
   "name": "python",
   "nbconvert_exporter": "python",
   "pygments_lexer": "ipython3",
   "version": "3.6.4"
  }
 },
 "nbformat": 4,
 "nbformat_minor": 2
}
