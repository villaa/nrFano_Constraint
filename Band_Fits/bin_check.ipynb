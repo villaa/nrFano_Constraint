{
 "cells": [
  {
   "cell_type": "code",
   "execution_count": 1,
   "metadata": {},
   "outputs": [],
   "source": [
    "import resfuncRead as rfr\n",
    "import numpy as np\n",
    "from Yield_calc import * \n",
    "import pandas as pd \n",
    "\n",
    "from tabulate import tabulate\n",
    "\n",
    "bpar_er = rfr.getBandFunc('data/erband_R133') #reads in band data/fit for er data\n",
    "bpar_nr = rfr.getBandFunc('data/nrband_R133')\n",
    "\n",
    "ynr_mu = rfr.makeBFunc(bpar_nr[1]['mu'])\n",
    "ynr_muv = np.vectorize(ynr_mu)\n",
    "ynr_sig = rfr.makeBFunc(bpar_nr[1]['sig'],True)\n",
    "ynr_sigv = np.vectorize(ynr_sig)\n",
    "\n",
    "yer_mu = rfr.makeBFunc(bpar_er[1]['mu']) # sets average fit from 1st (2nd) col in data table. \n",
    "yer_muv = np.vectorize(yer_mu) #puts mean data for er in 1D array \n",
    "yer_sig = rfr.makeBFunc(bpar_er[1]['sig'],True) #sets uncertainty \n",
    "yer_sigv = np.vectorize(yer_sig)\n",
    "\n",
    "\n",
    "\n"
   ]
  },
  {
   "cell_type": "code",
   "execution_count": 2,
   "metadata": {},
   "outputs": [],
   "source": [
    "s = 1\n",
    "N = 10000\n",
    "ER, Yield = Yield_NR(N)\n",
    "Erer, Yield_er = Yield_Er(N)\n",
    "\n",
    "#for nuclear recoils \n",
    "upper = ynr_mu(ER)+s*ynr_sigv(ER)\n",
    "lower = ynr_mu(ER)-s*ynr_sigv(ER)\n",
    "\n",
    "Data = np.vstack((ER,Yield,upper,lower)).T\n",
    "\n",
    "\n"
   ]
  },
  {
   "cell_type": "code",
   "execution_count": 3,
   "metadata": {},
   "outputs": [
    {
     "data": {
      "text/plain": [
       "\"\\nprint(Data)\\nprint('--------------------------------------------------------')\\nprint((Data1))\\n\""
      ]
     },
     "execution_count": 3,
     "metadata": {},
     "output_type": "execute_result"
    }
   ],
   "source": [
    "Data1 = Data[np.argsort(Data[:, 0])]\n",
    "'''\n",
    "print(Data)\n",
    "print('--------------------------------------------------------')\n",
    "print((Data1))\n",
    "'''"
   ]
  },
  {
   "cell_type": "code",
   "execution_count": 4,
   "metadata": {},
   "outputs": [],
   "source": [
    "df = pd.DataFrame(Data1)\n",
    "\n",
    "bins  = [10,13.4,18.1,24.5,33.1,44.8,60.6,80.2,110,150,200]\n",
    "\n",
    "df1 = pd.cut(df[0],bins, labels = False)\n"
   ]
  },
  {
   "cell_type": "code",
   "execution_count": 6,
   "metadata": {},
   "outputs": [],
   "source": [
    "Percent = []\n",
    "\n",
    "for q in np.arange(0,9):\n",
    "    \n",
    "    count = []\n",
    "    num = []\n",
    "    count1 = []\n",
    "    num1 = []\n",
    "    \n",
    "    \n",
    "    x = np.array(df[1].loc[df1 == q])\n",
    "    y = np.array(df[2].loc[df1 == q])\n",
    "    z = np.array(df[3].loc[df1 == q])\n",
    "    \n",
    "    \n",
    "    for i,j in zip(x,y):\n",
    "        if i >= j:\n",
    "            n = 1\n",
    "        else: \n",
    "            n = 0 \n",
    "\n",
    "        count.append(n)\n",
    "    #print(count)\n",
    "\n",
    "    for i in count: \n",
    "        if i == 1:\n",
    "            num.append(i) \n",
    "\n",
    "\n",
    "    for i,j in zip(x,z):\n",
    "        if i <= j:\n",
    "            n = 1\n",
    "        else: \n",
    "            n = 0 \n",
    "\n",
    "        count1.append(n)\n",
    "    #print(count)\n",
    "\n",
    "    for i in count: \n",
    "        if i == 1:\n",
    "            num1.append(i)\n",
    "\n",
    "\n",
    "    N= len(x)\n",
    "    percent = 100*(N - np.abs(len(num)+len(num1)))/N\n",
    "\n",
    "    Percent.append(percent)\n"
   ]
  },
  {
   "cell_type": "code",
   "execution_count": 7,
   "metadata": {},
   "outputs": [],
   "source": [
    "bin_spacing = '10.4-13.4','13.4-18.1','18.1-24.5','24.5-33.1','33.1-44.8','44.8-60.6','60.6-80.2','80.2-110','110-150','150-200'"
   ]
  },
  {
   "cell_type": "code",
   "execution_count": 8,
   "metadata": {},
   "outputs": [
    {
     "name": "stdout",
     "output_type": "stream",
     "text": [
      "Bin Spacing (keV) \t Percent in 1 sigma\n",
      "-------------- \t \t-------------------\n",
      "10.4-13.4 \t \t 79.37584803256445\n",
      "13.4-18.1 \t \t 80.80903104421449\n",
      "18.1-24.5 \t \t 80.76595744680851\n",
      "24.5-33.1 \t \t 85.02202643171806\n",
      "33.1-44.8 \t \t 84.05524168236033\n",
      "44.8-60.6 \t \t 84.78260869565217\n",
      "60.6-80.2 \t \t 82.72552783109406\n",
      "80.2-110 \t \t 77.51479289940828\n",
      "110-150 \t \t 70.75098814229248\n"
     ]
    }
   ],
   "source": [
    "print(\"Bin Spacing (keV)\", '\\t', \"Percent in\",s,\"sigma\")     #table column headings\n",
    "print(\"--------------\", '\\t', '\\t' \"-------------------\")\n",
    "\n",
    "for x,y in zip(bin_spacing,Percent):\n",
    "    print(x, '\\t','\\t', y)\n"
   ]
  },
  {
   "cell_type": "code",
   "execution_count": null,
   "metadata": {},
   "outputs": [],
   "source": []
  }
 ],
 "metadata": {
  "kernelspec": {
   "display_name": "Python 3",
   "language": "python",
   "name": "python3"
  },
  "language_info": {
   "codemirror_mode": {
    "name": "ipython",
    "version": 3
   },
   "file_extension": ".py",
   "mimetype": "text/x-python",
   "name": "python",
   "nbconvert_exporter": "python",
   "pygments_lexer": "ipython3",
   "version": "3.6.4"
  }
 },
 "nbformat": 4,
 "nbformat_minor": 2
}
