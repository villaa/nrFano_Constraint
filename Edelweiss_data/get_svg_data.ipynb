{
 "cells": [
  {
   "cell_type": "code",
   "execution_count": 228,
   "metadata": {
    "collapsed": false
   },
   "outputs": [],
   "source": [
    "from svg2data import svg2data\n",
    "from svg.path import parse_path\n",
    "import matplotlib.pyplot as plt\n",
    "import mpld3\n",
    "import math\n",
    "import numpy as np\n",
    "from scipy.spatial import cKDTree\n",
    "#%matplotlib notebook\n",
    "#%matplotlib inline"
   ]
  },
  {
   "cell_type": "code",
   "execution_count": 2,
   "metadata": {
    "collapsed": false,
    "scrolled": true
   },
   "outputs": [],
   "source": [
    "# axes: path578 (top, right), path570 (bottom), path556 (left)\n",
    "#data = svg2data(\"edelweiss_ER_band_GGA3.svg\")"
   ]
  },
  {
   "cell_type": "code",
   "execution_count": 3,
   "metadata": {
    "collapsed": true
   },
   "outputs": [],
   "source": [
    "path = parse_path('M 0,0 112.264,0 M 0,2.874 0,0 m 28.099,2.874 0,-2.874 m 28.033,2.874 0,-2.874 m 28.034,2.874 0,-2.874 m 28.098,2.874 0,-2.874')"
   ]
  },
  {
   "cell_type": "code",
   "execution_count": 4,
   "metadata": {
    "collapsed": false
   },
   "outputs": [
    {
     "data": {
      "text/plain": [
       "Line(start=0j, end=(112.264+0j))"
      ]
     },
     "execution_count": 4,
     "metadata": {},
     "output_type": "execute_result"
    }
   ],
   "source": [
    "path[1] #.end.imag #+ (2+2j)"
   ]
  },
  {
   "cell_type": "code",
   "execution_count": 312,
   "metadata": {
    "collapsed": false
   },
   "outputs": [],
   "source": [
    "#from svgpathtools import svg2paths, wsvg\n",
    "from svgpathtools import *\n",
    "#paths, attributes = svg2paths('edelweiss_ER_band_GGA3.svg')\n",
    "doc = Document('edelweiss_ER_band_GGA3.svg')\n",
    "doc = doc.flatten_all_paths()"
   ]
  },
  {
   "cell_type": "code",
   "execution_count": 82,
   "metadata": {
    "collapsed": false
   },
   "outputs": [
    {
     "name": "stdout",
     "output_type": "stream",
     "text": [
      "34.730800000000016\n",
      "4\n",
      "140.33000000000004\n"
     ]
    }
   ],
   "source": [
    "print (doc[0].path[0].start.real)\n",
    "print(len(doc[0].path))\n",
    "print (doc[0].path[0].length())"
   ]
  },
  {
   "cell_type": "code",
   "execution_count": 275,
   "metadata": {
    "collapsed": false
   },
   "outputs": [],
   "source": [
    "mpld3.enable_notebook()\n",
    "# paths with 4 lines are error bars, bounding box\n",
    "# paths with 10 are the bins, huh\n",
    "# paths with 13 are the resolution curves\n",
    "# path with 12 is the top/right axis with ticks\n",
    "# paths wth 5 is left axis with ticks\n",
    "# paths with 6 is bottom axis with ticks\n",
    "\n",
    "def argand(path):\n",
    "    #import matplotlib.pyplot as plt\n",
    "    #import numpy as np\n",
    "    if len(path) == 4: # maybe these are error bars?\n",
    "        #print (path)\n",
    "        for line in path:\n",
    "            # if the line is NOT a Bezier curve\n",
    "            if not hasattr(line, 'control1'):\n",
    "                print (\"plotting, \", len(path))\n",
    "                print(path)\n",
    "                plt.plot([line.start.real,line.end.real],[line.start.imag,line.end.imag],'ro-',label='python')\n",
    "                plt.ylim(0,200)\n",
    "                plt.xlim(0,200)\n",
    "                break\n"
   ]
  },
  {
   "cell_type": "code",
   "execution_count": 279,
   "metadata": {
    "collapsed": false,
    "scrolled": false
   },
   "outputs": [
    {
     "name": "stdout",
     "output_type": "stream",
     "text": [
      "plotting,  4\n",
      "Path(Line(start=(34.730800000000016+2.5768999999999664j), end=(175.06080000000006+2.5768999999999664j)),\n",
      "     Line(start=(175.06080000000006+2.5768999999999664j), end=(175.06080000000006+147.37939999999998j)),\n",
      "     Line(start=(175.06080000000006+147.37939999999998j), end=(34.730800000000016+147.37939999999998j)),\n",
      "     Line(start=(34.730800000000016+147.37939999999998j), end=(34.730800000000016+2.5768999999999664j)))\n",
      "plotting,  4\n",
      "Path(Line(start=(97.87079000000003+81.28440999999998j), end=(97.87079000000003+76.17690999999998j)),\n",
      "     Line(start=(97.87079000000003+74.34065999999999j), end=(97.87079000000003+69.23065999999997j)),\n",
      "     Line(start=(96.99329000000003+81.28440999999998j), end=(98.82954000000002+81.28440999999998j)),\n",
      "     Line(start=(96.99329000000003+69.23065999999997j), end=(98.82954000000002+69.23065999999997j)))\n",
      "plotting,  4\n",
      "Path(Line(start=(83.34204000000003+93.01941j), end=(83.34204000000003+90.78316j)),\n",
      "     Line(start=(83.34204000000003+88.94815999999999j), end=(83.34204000000003+86.71315999999999j)),\n",
      "     Line(start=(82.38579000000003+93.01941j), end=(84.22204000000002+93.01941j)),\n",
      "     Line(start=(82.38579000000003+86.71315999999999j), end=(84.22204000000002+86.71315999999999j)))\n",
      "plotting,  4\n",
      "Path(Line(start=(167.95830000000004+103.4769j), end=(167.95830000000004+101.8794j)),\n",
      "     Line(start=(167.95830000000004+100.0444j), end=(167.95830000000004+98.4469j)),\n",
      "     Line(start=(167.00080000000003+103.4769j), end=(168.83455000000004+103.4769j)),\n",
      "     Line(start=(167.00080000000003+98.4469j), end=(168.83455000000004+98.4469j)))\n",
      "plotting,  4\n",
      "Path(Line(start=(153.66705+107.5469j), end=(153.66705+105.9494j)),\n",
      "     Line(start=(153.66705+104.11439999999999j), end=(153.66705+102.43815j)),\n",
      "     Line(start=(152.7908+107.5469j), end=(154.54704999999998+107.5469j)),\n",
      "     Line(start=(152.7908+102.43815j), end=(154.54704999999998+102.43815j)))\n",
      "plotting,  4\n",
      "Path(Line(start=(139.85954999999998+111.77690000000001j), end=(139.85954999999998+110.02065000000002j)),\n",
      "     Line(start=(139.85954999999998+108.18565000000001j), end=(139.85954999999998+106.42940000000002j)),\n",
      "     Line(start=(138.90079999999998+111.77690000000001j), end=(140.73704999999998+111.77690000000001j)),\n",
      "     Line(start=(138.90079999999998+106.42940000000002j), end=(140.73704999999998+106.42940000000002j)))\n",
      "plotting,  4\n",
      "Path(Line(start=(126.52705+106.03064999999998j), end=(126.52705+104.27439999999999j)),\n",
      "     Line(start=(126.52705+102.43814999999998j), end=(126.52705+100.68064999999999j)),\n",
      "     Line(start=(125.6508+106.03064999999998j), end=(127.48705+106.03064999999998j)),\n",
      "     Line(start=(125.6508+100.68064999999999j), end=(127.48705+100.68064999999999j)))\n",
      "plotting,  4\n",
      "Path(Line(start=(112.07955000000001+105.15190000000001j), end=(112.07955000000001+102.67815000000002j)),\n",
      "     Line(start=(112.07955000000001+100.92190000000001j), end=(112.07955000000001+98.52690000000001j)),\n",
      "     Line(start=(111.20330000000001+105.15190000000001j), end=(112.95830000000001+105.15190000000001j)),\n",
      "     Line(start=(111.20330000000001+98.52690000000001j), end=(112.95830000000001+98.52690000000001j)))\n",
      "plotting,  4\n",
      "Path(Line(start=(97.87079000000003+81.28440999999998j), end=(97.87079000000003+76.17690999999998j)),\n",
      "     Line(start=(97.87079000000003+74.34065999999999j), end=(97.87079000000003+69.23065999999997j)),\n",
      "     Line(start=(96.99329000000003+81.28440999999998j), end=(98.82954000000002+81.28440999999998j)),\n",
      "     Line(start=(96.99329000000003+69.23065999999997j), end=(98.82954000000002+69.23065999999997j)))\n",
      "plotting,  4\n",
      "Path(Line(start=(83.34204000000003+93.01941j), end=(83.34204000000003+90.78316j)),\n",
      "     Line(start=(83.34204000000003+88.94815999999999j), end=(83.34204000000003+86.71315999999999j)),\n",
      "     Line(start=(82.38579000000003+93.01941j), end=(84.22204000000002+93.01941j)),\n",
      "     Line(start=(82.38579000000003+86.71315999999999j), end=(84.22204000000002+86.71315999999999j)))\n",
      "plotting,  4\n",
      "Path(Line(start=(68.81581000000003+93.73689999999999j), end=(68.81581000000003+87.43189999999998j)),\n",
      "     Line(start=(68.81581000000003+85.59564999999999j), end=(68.81581000000003+79.28939999999999j)),\n",
      "     Line(start=(67.93831000000003+93.73689999999999j), end=(69.77456000000002+93.73689999999999j)),\n",
      "     Line(start=(67.93831000000003+79.28939999999999j), end=(69.77456000000002+79.28939999999999j)))\n",
      "plotting,  4\n",
      "Path(Line(start=(54.36831000000004+68.35316j), end=(54.36831000000004+61.72816j)),\n",
      "     Line(start=(54.36831000000004+59.89191j), end=(54.36831000000004+53.34566j)),\n",
      "     Line(start=(53.48956000000004+68.35316j), end=(55.245810000000034+68.35316j)),\n",
      "     Line(start=(53.48956000000004+53.34566j), end=(55.245810000000034+53.34566j)))\n"
     ]
    },
    {
     "data": {
      "image/png": "[encoded data removed]",
      "text/html": [
       "\n",
       "\n",
       "<style>\n",
       "\n",
       "</style>\n",
       "\n",
       "<div id=\"fig_el72414948889578247826493912\"></div>\n",
       "<script>\n",
       "function mpld3_load_lib(url, callback){\n",
       "  var s = document.createElement('script');\n",
       "  s.src = url;\n",
       "  s.async = true;\n",
       "  s.onreadystatechange = s.onload = callback;\n",
       "  s.onerror = function(){console.warn(\"failed to load library \" + url);};\n",
       "  document.getElementsByTagName(\"head\")[0].appendChild(s);\n",
       "}\n",
       "\n",
       "if(typeof(mpld3) !== \"undefined\" && mpld3._mpld3IsLoaded){\n",
       "   // already loaded: just create the figure\n",
       "   !function(mpld3){\n",
       "       \n",
       "       mpld3.draw_figure(\"fig_el72414948889578247826493912\", {\"height\": 288.0, \"axes\": [{\"yscale\": \"linear\", \"texts\": [], \"images\": [], \"paths\": [], \"collections\": [], \"xscale\": \"linear\", \"sharex\": [], \"ylim\": [0.0, 200.0], \"axesbgalpha\": null, \"ydomain\": [0.0, 200.0], \"xdomain\": [0.0, 200.0], \"zoomable\": true, \"lines\": [{\"linewidth\": 1.5, \"dasharray\": \"none\", \"yindex\": 1, \"color\": \"#FF0000\", \"data\": \"data01\", \"xindex\": 0, \"drawstyle\": \"default\", \"zorder\": 2, \"id\": \"el7241494895370984\", \"alpha\": 1, \"coordinates\": \"data\"}, {\"linewidth\": 1.5, \"dasharray\": \"none\", \"yindex\": 1, \"color\": \"#FF0000\", \"data\": \"data02\", \"xindex\": 0, \"drawstyle\": \"default\", \"zorder\": 2, \"id\": \"el7241494895372272\", \"alpha\": 1, \"coordinates\": \"data\"}, {\"linewidth\": 1.5, \"dasharray\": \"none\", \"yindex\": 1, \"color\": \"#FF0000\", \"data\": \"data03\", \"xindex\": 0, \"drawstyle\": \"default\", \"zorder\": 2, \"id\": \"el7241494895371096\", \"alpha\": 1, \"coordinates\": \"data\"}, {\"linewidth\": 1.5, \"dasharray\": \"none\", \"yindex\": 1, \"color\": \"#FF0000\", \"data\": \"data04\", \"xindex\": 0, \"drawstyle\": \"default\", \"zorder\": 2, \"id\": \"el7241494860142912\", \"alpha\": 1, \"coordinates\": \"data\"}, {\"linewidth\": 1.5, \"dasharray\": \"none\", \"yindex\": 1, \"color\": \"#FF0000\", \"data\": \"data05\", \"xindex\": 0, \"drawstyle\": \"default\", \"zorder\": 2, \"id\": \"el7241494860142520\", \"alpha\": 1, \"coordinates\": \"data\"}, {\"linewidth\": 1.5, \"dasharray\": \"none\", \"yindex\": 1, \"color\": \"#FF0000\", \"data\": \"data06\", \"xindex\": 0, \"drawstyle\": \"default\", \"zorder\": 2, \"id\": \"el7241494898583928\", \"alpha\": 1, \"coordinates\": \"data\"}, {\"linewidth\": 1.5, \"dasharray\": \"none\", \"yindex\": 1, \"color\": \"#FF0000\", \"data\": \"data07\", \"xindex\": 0, \"drawstyle\": \"default\", \"zorder\": 2, \"id\": \"el7241494898581632\", \"alpha\": 1, \"coordinates\": \"data\"}, {\"linewidth\": 1.5, \"dasharray\": \"none\", \"yindex\": 1, \"color\": \"#FF0000\", \"data\": \"data08\", \"xindex\": 0, \"drawstyle\": \"default\", \"zorder\": 2, \"id\": \"el7241494898585216\", \"alpha\": 1, \"coordinates\": \"data\"}, {\"linewidth\": 1.5, \"dasharray\": \"none\", \"yindex\": 1, \"color\": \"#FF0000\", \"data\": \"data02\", \"xindex\": 0, \"drawstyle\": \"default\", \"zorder\": 2, \"id\": \"el7241494898582472\", \"alpha\": 1, \"coordinates\": \"data\"}, {\"linewidth\": 1.5, \"dasharray\": \"none\", \"yindex\": 1, \"color\": \"#FF0000\", \"data\": \"data03\", \"xindex\": 0, \"drawstyle\": \"default\", \"zorder\": 2, \"id\": \"el7241494860334584\", \"alpha\": 1, \"coordinates\": \"data\"}, {\"linewidth\": 1.5, \"dasharray\": \"none\", \"yindex\": 1, \"color\": \"#FF0000\", \"data\": \"data09\", \"xindex\": 0, \"drawstyle\": \"default\", \"zorder\": 2, \"id\": \"el7241494897645216\", \"alpha\": 1, \"coordinates\": \"data\"}, {\"linewidth\": 1.5, \"dasharray\": \"none\", \"yindex\": 1, \"color\": \"#FF0000\", \"data\": \"data10\", \"xindex\": 0, \"drawstyle\": \"default\", \"zorder\": 2, \"id\": \"el7241494897644096\", \"alpha\": 1, \"coordinates\": \"data\"}], \"axes\": [{\"grid\": {\"gridOn\": false}, \"nticks\": 9, \"position\": \"bottom\", \"tickformat\": null, \"fontsize\": 10.0, \"tickvalues\": null, \"scale\": \"linear\", \"visible\": true}, {\"grid\": {\"gridOn\": false}, \"nticks\": 9, \"position\": \"left\", \"tickformat\": null, \"fontsize\": 10.0, \"tickvalues\": null, \"scale\": \"linear\", \"visible\": true}], \"sharey\": [], \"id\": \"el7241494870070608\", \"bbox\": [0.125, 0.125, 0.775, 0.755], \"xlim\": [0.0, 200.0], \"axesbg\": \"#FFFFFF\", \"markers\": [{\"edgewidth\": 1.0, \"zorder\": 2, \"yindex\": 1, \"facecolor\": \"#FF0000\", \"data\": \"data01\", \"xindex\": 0, \"markerpath\": [[[0.0, 3.0], [0.7956093000000001, 3.0], [1.5587396123545605, 2.683901074764725], [2.121320343559643, 2.121320343559643], [2.683901074764725, 1.5587396123545605], [3.0, 0.7956093000000001], [3.0, 0.0], [3.0, -0.7956093000000001], [2.683901074764725, -1.5587396123545605], [2.121320343559643, -2.121320343559643], [1.5587396123545605, -2.683901074764725], [0.7956093000000001, -3.0], [0.0, -3.0], [-0.7956093000000001, -3.0], [-1.5587396123545605, -2.683901074764725], [-2.121320343559643, -2.121320343559643], [-2.683901074764725, -1.5587396123545605], [-3.0, -0.7956093000000001], [-3.0, 0.0], [-3.0, 0.7956093000000001], [-2.683901074764725, 1.5587396123545605], [-2.121320343559643, 2.121320343559643], [-1.5587396123545605, 2.683901074764725], [-0.7956093000000001, 3.0], [0.0, 3.0]], [\"M\", \"C\", \"C\", \"C\", \"C\", \"C\", \"C\", \"C\", \"C\", \"Z\"]], \"id\": \"el7241494895370984pts\", \"alpha\": 1, \"coordinates\": \"data\", \"edgecolor\": \"#FF0000\"}, {\"edgewidth\": 1.0, \"zorder\": 2, \"yindex\": 1, \"facecolor\": \"#FF0000\", \"data\": \"data02\", \"xindex\": 0, \"markerpath\": [[[0.0, 3.0], [0.7956093000000001, 3.0], [1.5587396123545605, 2.683901074764725], [2.121320343559643, 2.121320343559643], [2.683901074764725, 1.5587396123545605], [3.0, 0.7956093000000001], [3.0, 0.0], [3.0, -0.7956093000000001], [2.683901074764725, -1.5587396123545605], [2.121320343559643, -2.121320343559643], [1.5587396123545605, -2.683901074764725], [0.7956093000000001, -3.0], [0.0, -3.0], [-0.7956093000000001, -3.0], [-1.5587396123545605, -2.683901074764725], [-2.121320343559643, -2.121320343559643], [-2.683901074764725, -1.5587396123545605], [-3.0, -0.7956093000000001], [-3.0, 0.0], [-3.0, 0.7956093000000001], [-2.683901074764725, 1.5587396123545605], [-2.121320343559643, 2.121320343559643], [-1.5587396123545605, 2.683901074764725], [-0.7956093000000001, 3.0], [0.0, 3.0]], [\"M\", \"C\", \"C\", \"C\", \"C\", \"C\", \"C\", \"C\", \"C\", \"Z\"]], \"id\": \"el7241494895372272pts\", \"alpha\": 1, \"coordinates\": \"data\", \"edgecolor\": \"#FF0000\"}, {\"edgewidth\": 1.0, \"zorder\": 2, \"yindex\": 1, \"facecolor\": \"#FF0000\", \"data\": \"data03\", \"xindex\": 0, \"markerpath\": [[[0.0, 3.0], [0.7956093000000001, 3.0], [1.5587396123545605, 2.683901074764725], [2.121320343559643, 2.121320343559643], [2.683901074764725, 1.5587396123545605], [3.0, 0.7956093000000001], [3.0, 0.0], [3.0, -0.7956093000000001], [2.683901074764725, -1.5587396123545605], [2.121320343559643, -2.121320343559643], [1.5587396123545605, -2.683901074764725], [0.7956093000000001, -3.0], [0.0, -3.0], [-0.7956093000000001, -3.0], [-1.5587396123545605, -2.683901074764725], [-2.121320343559643, -2.121320343559643], [-2.683901074764725, -1.5587396123545605], [-3.0, -0.7956093000000001], [-3.0, 0.0], [-3.0, 0.7956093000000001], [-2.683901074764725, 1.5587396123545605], [-2.121320343559643, 2.121320343559643], [-1.5587396123545605, 2.683901074764725], [-0.7956093000000001, 3.0], [0.0, 3.0]], [\"M\", \"C\", \"C\", \"C\", \"C\", \"C\", \"C\", \"C\", \"C\", \"Z\"]], \"id\": \"el7241494895371096pts\", \"alpha\": 1, \"coordinates\": \"data\", \"edgecolor\": \"#FF0000\"}, {\"edgewidth\": 1.0, \"zorder\": 2, \"yindex\": 1, \"facecolor\": \"#FF0000\", \"data\": \"data04\", \"xindex\": 0, \"markerpath\": [[[0.0, 3.0], [0.7956093000000001, 3.0], [1.5587396123545605, 2.683901074764725], [2.121320343559643, 2.121320343559643], [2.683901074764725, 1.5587396123545605], [3.0, 0.7956093000000001], [3.0, 0.0], [3.0, -0.7956093000000001], [2.683901074764725, -1.5587396123545605], [2.121320343559643, -2.121320343559643], [1.5587396123545605, -2.683901074764725], [0.7956093000000001, -3.0], [0.0, -3.0], [-0.7956093000000001, -3.0], [-1.5587396123545605, -2.683901074764725], [-2.121320343559643, -2.121320343559643], [-2.683901074764725, -1.5587396123545605], [-3.0, -0.7956093000000001], [-3.0, 0.0], [-3.0, 0.7956093000000001], [-2.683901074764725, 1.5587396123545605], [-2.121320343559643, 2.121320343559643], [-1.5587396123545605, 2.683901074764725], [-0.7956093000000001, 3.0], [0.0, 3.0]], [\"M\", \"C\", \"C\", \"C\", \"C\", \"C\", \"C\", \"C\", \"C\", \"Z\"]], \"id\": \"el7241494860142912pts\", \"alpha\": 1, \"coordinates\": \"data\", \"edgecolor\": \"#FF0000\"}, {\"edgewidth\": 1.0, \"zorder\": 2, \"yindex\": 1, \"facecolor\": \"#FF0000\", \"data\": \"data05\", \"xindex\": 0, \"markerpath\": [[[0.0, 3.0], [0.7956093000000001, 3.0], [1.5587396123545605, 2.683901074764725], [2.121320343559643, 2.121320343559643], [2.683901074764725, 1.5587396123545605], [3.0, 0.7956093000000001], [3.0, 0.0], [3.0, -0.7956093000000001], [2.683901074764725, -1.5587396123545605], [2.121320343559643, -2.121320343559643], [1.5587396123545605, -2.683901074764725], [0.7956093000000001, -3.0], [0.0, -3.0], [-0.7956093000000001, -3.0], [-1.5587396123545605, -2.683901074764725], [-2.121320343559643, -2.121320343559643], [-2.683901074764725, -1.5587396123545605], [-3.0, -0.7956093000000001], [-3.0, 0.0], [-3.0, 0.7956093000000001], [-2.683901074764725, 1.5587396123545605], [-2.121320343559643, 2.121320343559643], [-1.5587396123545605, 2.683901074764725], [-0.7956093000000001, 3.0], [0.0, 3.0]], [\"M\", \"C\", \"C\", \"C\", \"C\", \"C\", \"C\", \"C\", \"C\", \"Z\"]], \"id\": \"el7241494860142520pts\", \"alpha\": 1, \"coordinates\": \"data\", \"edgecolor\": \"#FF0000\"}, {\"edgewidth\": 1.0, \"zorder\": 2, \"yindex\": 1, \"facecolor\": \"#FF0000\", \"data\": \"data06\", \"xindex\": 0, \"markerpath\": [[[0.0, 3.0], [0.7956093000000001, 3.0], [1.5587396123545605, 2.683901074764725], [2.121320343559643, 2.121320343559643], [2.683901074764725, 1.5587396123545605], [3.0, 0.7956093000000001], [3.0, 0.0], [3.0, -0.7956093000000001], [2.683901074764725, -1.5587396123545605], [2.121320343559643, -2.121320343559643], [1.5587396123545605, -2.683901074764725], [0.7956093000000001, -3.0], [0.0, -3.0], [-0.7956093000000001, -3.0], [-1.5587396123545605, -2.683901074764725], [-2.121320343559643, -2.121320343559643], [-2.683901074764725, -1.5587396123545605], [-3.0, -0.7956093000000001], [-3.0, 0.0], [-3.0, 0.7956093000000001], [-2.683901074764725, 1.5587396123545605], [-2.121320343559643, 2.121320343559643], [-1.5587396123545605, 2.683901074764725], [-0.7956093000000001, 3.0], [0.0, 3.0]], [\"M\", \"C\", \"C\", \"C\", \"C\", \"C\", \"C\", \"C\", \"C\", \"Z\"]], \"id\": \"el7241494898583928pts\", \"alpha\": 1, \"coordinates\": \"data\", \"edgecolor\": \"#FF0000\"}, {\"edgewidth\": 1.0, \"zorder\": 2, \"yindex\": 1, \"facecolor\": \"#FF0000\", \"data\": \"data07\", \"xindex\": 0, \"markerpath\": [[[0.0, 3.0], [0.7956093000000001, 3.0], [1.5587396123545605, 2.683901074764725], [2.121320343559643, 2.121320343559643], [2.683901074764725, 1.5587396123545605], [3.0, 0.7956093000000001], [3.0, 0.0], [3.0, -0.7956093000000001], [2.683901074764725, -1.5587396123545605], [2.121320343559643, -2.121320343559643], [1.5587396123545605, -2.683901074764725], [0.7956093000000001, -3.0], [0.0, -3.0], [-0.7956093000000001, -3.0], [-1.5587396123545605, -2.683901074764725], [-2.121320343559643, -2.121320343559643], [-2.683901074764725, -1.5587396123545605], [-3.0, -0.7956093000000001], [-3.0, 0.0], [-3.0, 0.7956093000000001], [-2.683901074764725, 1.5587396123545605], [-2.121320343559643, 2.121320343559643], [-1.5587396123545605, 2.683901074764725], [-0.7956093000000001, 3.0], [0.0, 3.0]], [\"M\", \"C\", \"C\", \"C\", \"C\", \"C\", \"C\", \"C\", \"C\", \"Z\"]], \"id\": \"el7241494898581632pts\", \"alpha\": 1, \"coordinates\": \"data\", \"edgecolor\": \"#FF0000\"}, {\"edgewidth\": 1.0, \"zorder\": 2, \"yindex\": 1, \"facecolor\": \"#FF0000\", \"data\": \"data08\", \"xindex\": 0, \"markerpath\": [[[0.0, 3.0], [0.7956093000000001, 3.0], [1.5587396123545605, 2.683901074764725], [2.121320343559643, 2.121320343559643], [2.683901074764725, 1.5587396123545605], [3.0, 0.7956093000000001], [3.0, 0.0], [3.0, -0.7956093000000001], [2.683901074764725, -1.5587396123545605], [2.121320343559643, -2.121320343559643], [1.5587396123545605, -2.683901074764725], [0.7956093000000001, -3.0], [0.0, -3.0], [-0.7956093000000001, -3.0], [-1.5587396123545605, -2.683901074764725], [-2.121320343559643, -2.121320343559643], [-2.683901074764725, -1.5587396123545605], [-3.0, -0.7956093000000001], [-3.0, 0.0], [-3.0, 0.7956093000000001], [-2.683901074764725, 1.5587396123545605], [-2.121320343559643, 2.121320343559643], [-1.5587396123545605, 2.683901074764725], [-0.7956093000000001, 3.0], [0.0, 3.0]], [\"M\", \"C\", \"C\", \"C\", \"C\", \"C\", \"C\", \"C\", \"C\", \"Z\"]], \"id\": \"el7241494898585216pts\", \"alpha\": 1, \"coordinates\": \"data\", \"edgecolor\": \"#FF0000\"}, {\"edgewidth\": 1.0, \"zorder\": 2, \"yindex\": 1, \"facecolor\": \"#FF0000\", \"data\": \"data02\", \"xindex\": 0, \"markerpath\": [[[0.0, 3.0], [0.7956093000000001, 3.0], [1.5587396123545605, 2.683901074764725], [2.121320343559643, 2.121320343559643], [2.683901074764725, 1.5587396123545605], [3.0, 0.7956093000000001], [3.0, 0.0], [3.0, -0.7956093000000001], [2.683901074764725, -1.5587396123545605], [2.121320343559643, -2.121320343559643], [1.5587396123545605, -2.683901074764725], [0.7956093000000001, -3.0], [0.0, -3.0], [-0.7956093000000001, -3.0], [-1.5587396123545605, -2.683901074764725], [-2.121320343559643, -2.121320343559643], [-2.683901074764725, -1.5587396123545605], [-3.0, -0.7956093000000001], [-3.0, 0.0], [-3.0, 0.7956093000000001], [-2.683901074764725, 1.5587396123545605], [-2.121320343559643, 2.121320343559643], [-1.5587396123545605, 2.683901074764725], [-0.7956093000000001, 3.0], [0.0, 3.0]], [\"M\", \"C\", \"C\", \"C\", \"C\", \"C\", \"C\", \"C\", \"C\", \"Z\"]], \"id\": \"el7241494898582472pts\", \"alpha\": 1, \"coordinates\": \"data\", \"edgecolor\": \"#FF0000\"}, {\"edgewidth\": 1.0, \"zorder\": 2, \"yindex\": 1, \"facecolor\": \"#FF0000\", \"data\": \"data03\", \"xindex\": 0, \"markerpath\": [[[0.0, 3.0], [0.7956093000000001, 3.0], [1.5587396123545605, 2.683901074764725], [2.121320343559643, 2.121320343559643], [2.683901074764725, 1.5587396123545605], [3.0, 0.7956093000000001], [3.0, 0.0], [3.0, -0.7956093000000001], [2.683901074764725, -1.5587396123545605], [2.121320343559643, -2.121320343559643], [1.5587396123545605, -2.683901074764725], [0.7956093000000001, -3.0], [0.0, -3.0], [-0.7956093000000001, -3.0], [-1.5587396123545605, -2.683901074764725], [-2.121320343559643, -2.121320343559643], [-2.683901074764725, -1.5587396123545605], [-3.0, -0.7956093000000001], [-3.0, 0.0], [-3.0, 0.7956093000000001], [-2.683901074764725, 1.5587396123545605], [-2.121320343559643, 2.121320343559643], [-1.5587396123545605, 2.683901074764725], [-0.7956093000000001, 3.0], [0.0, 3.0]], [\"M\", \"C\", \"C\", \"C\", \"C\", \"C\", \"C\", \"C\", \"C\", \"Z\"]], \"id\": \"el7241494860334584pts\", \"alpha\": 1, \"coordinates\": \"data\", \"edgecolor\": \"#FF0000\"}, {\"edgewidth\": 1.0, \"zorder\": 2, \"yindex\": 1, \"facecolor\": \"#FF0000\", \"data\": \"data09\", \"xindex\": 0, \"markerpath\": [[[0.0, 3.0], [0.7956093000000001, 3.0], [1.5587396123545605, 2.683901074764725], [2.121320343559643, 2.121320343559643], [2.683901074764725, 1.5587396123545605], [3.0, 0.7956093000000001], [3.0, 0.0], [3.0, -0.7956093000000001], [2.683901074764725, -1.5587396123545605], [2.121320343559643, -2.121320343559643], [1.5587396123545605, -2.683901074764725], [0.7956093000000001, -3.0], [0.0, -3.0], [-0.7956093000000001, -3.0], [-1.5587396123545605, -2.683901074764725], [-2.121320343559643, -2.121320343559643], [-2.683901074764725, -1.5587396123545605], [-3.0, -0.7956093000000001], [-3.0, 0.0], [-3.0, 0.7956093000000001], [-2.683901074764725, 1.5587396123545605], [-2.121320343559643, 2.121320343559643], [-1.5587396123545605, 2.683901074764725], [-0.7956093000000001, 3.0], [0.0, 3.0]], [\"M\", \"C\", \"C\", \"C\", \"C\", \"C\", \"C\", \"C\", \"C\", \"Z\"]], \"id\": \"el7241494897645216pts\", \"alpha\": 1, \"coordinates\": \"data\", \"edgecolor\": \"#FF0000\"}, {\"edgewidth\": 1.0, \"zorder\": 2, \"yindex\": 1, \"facecolor\": \"#FF0000\", \"data\": \"data10\", \"xindex\": 0, \"markerpath\": [[[0.0, 3.0], [0.7956093000000001, 3.0], [1.5587396123545605, 2.683901074764725], [2.121320343559643, 2.121320343559643], [2.683901074764725, 1.5587396123545605], [3.0, 0.7956093000000001], [3.0, 0.0], [3.0, -0.7956093000000001], [2.683901074764725, -1.5587396123545605], [2.121320343559643, -2.121320343559643], [1.5587396123545605, -2.683901074764725], [0.7956093000000001, -3.0], [0.0, -3.0], [-0.7956093000000001, -3.0], [-1.5587396123545605, -2.683901074764725], [-2.121320343559643, -2.121320343559643], [-2.683901074764725, -1.5587396123545605], [-3.0, -0.7956093000000001], [-3.0, 0.0], [-3.0, 0.7956093000000001], [-2.683901074764725, 1.5587396123545605], [-2.121320343559643, 2.121320343559643], [-1.5587396123545605, 2.683901074764725], [-0.7956093000000001, 3.0], [0.0, 3.0]], [\"M\", \"C\", \"C\", \"C\", \"C\", \"C\", \"C\", \"C\", \"C\", \"Z\"]], \"id\": \"el7241494897644096pts\", \"alpha\": 1, \"coordinates\": \"data\", \"edgecolor\": \"#FF0000\"}]}], \"data\": {\"data08\": [[112.07955000000001, 105.15190000000001], [112.07955000000001, 102.67815000000002]], \"data03\": [[83.34204000000003, 93.01941], [83.34204000000003, 90.78316]], \"data10\": [[54.36831000000004, 68.35316], [54.36831000000004, 61.72816]], \"data07\": [[126.52705, 106.03064999999998], [126.52705, 104.27439999999999]], \"data06\": [[139.85954999999998, 111.77690000000001], [139.85954999999998, 110.02065000000002]], \"data02\": [[97.87079000000003, 81.28440999999998], [97.87079000000003, 76.17690999999998]], \"data01\": [[34.730800000000016, 2.5768999999999664], [175.06080000000006, 2.5768999999999664]], \"data04\": [[167.95830000000004, 103.4769], [167.95830000000004, 101.8794]], \"data09\": [[68.81581000000003, 93.73689999999999], [68.81581000000003, 87.43189999999998]], \"data05\": [[153.66705, 107.5469], [153.66705, 105.9494]]}, \"width\": 432.0, \"id\": \"el7241494888957824\", \"plugins\": [{\"type\": \"reset\"}, {\"type\": \"zoom\", \"button\": true, \"enabled\": false}, {\"type\": \"boxzoom\", \"button\": true, \"enabled\": false}]});\n",
       "   }(mpld3);\n",
       "}else if(typeof define === \"function\" && define.amd){\n",
       "   // require.js is available: use it to load d3/mpld3\n",
       "   require.config({paths: {d3: \"https://mpld3.github.io/js/d3.v3.min\"}});\n",
       "   require([\"d3\"], function(d3){\n",
       "      window.d3 = d3;\n",
       "      mpld3_load_lib(\"https://mpld3.github.io/js/mpld3.v0.3.js\", function(){\n",
       "         \n",
       "         mpld3.draw_figure(\"fig_el72414948889578247826493912\", {\"height\": 288.0, \"axes\": [{\"yscale\": \"linear\", \"texts\": [], \"images\": [], \"paths\": [], \"collections\": [], \"xscale\": \"linear\", \"sharex\": [], \"ylim\": [0.0, 200.0], \"axesbgalpha\": null, \"ydomain\": [0.0, 200.0], \"xdomain\": [0.0, 200.0], \"zoomable\": true, \"lines\": [{\"linewidth\": 1.5, \"dasharray\": \"none\", \"yindex\": 1, \"color\": \"#FF0000\", \"data\": \"data01\", \"xindex\": 0, \"drawstyle\": \"default\", \"zorder\": 2, \"id\": \"el7241494895370984\", \"alpha\": 1, \"coordinates\": \"data\"}, {\"linewidth\": 1.5, \"dasharray\": \"none\", \"yindex\": 1, \"color\": \"#FF0000\", \"data\": \"data02\", \"xindex\": 0, \"drawstyle\": \"default\", \"zorder\": 2, \"id\": \"el7241494895372272\", \"alpha\": 1, \"coordinates\": \"data\"}, {\"linewidth\": 1.5, \"dasharray\": \"none\", \"yindex\": 1, \"color\": \"#FF0000\", \"data\": \"data03\", \"xindex\": 0, \"drawstyle\": \"default\", \"zorder\": 2, \"id\": \"el7241494895371096\", \"alpha\": 1, \"coordinates\": \"data\"}, {\"linewidth\": 1.5, \"dasharray\": \"none\", \"yindex\": 1, \"color\": \"#FF0000\", \"data\": \"data04\", \"xindex\": 0, \"drawstyle\": \"default\", \"zorder\": 2, \"id\": \"el7241494860142912\", \"alpha\": 1, \"coordinates\": \"data\"}, {\"linewidth\": 1.5, \"dasharray\": \"none\", \"yindex\": 1, \"color\": \"#FF0000\", \"data\": \"data05\", \"xindex\": 0, \"drawstyle\": \"default\", \"zorder\": 2, \"id\": \"el7241494860142520\", \"alpha\": 1, \"coordinates\": \"data\"}, {\"linewidth\": 1.5, \"dasharray\": \"none\", \"yindex\": 1, \"color\": \"#FF0000\", \"data\": \"data06\", \"xindex\": 0, \"drawstyle\": \"default\", \"zorder\": 2, \"id\": \"el7241494898583928\", \"alpha\": 1, \"coordinates\": \"data\"}, {\"linewidth\": 1.5, \"dasharray\": \"none\", \"yindex\": 1, \"color\": \"#FF0000\", \"data\": \"data07\", \"xindex\": 0, \"drawstyle\": \"default\", \"zorder\": 2, \"id\": \"el7241494898581632\", \"alpha\": 1, \"coordinates\": \"data\"}, {\"linewidth\": 1.5, \"dasharray\": \"none\", \"yindex\": 1, \"color\": \"#FF0000\", \"data\": \"data08\", \"xindex\": 0, \"drawstyle\": \"default\", \"zorder\": 2, \"id\": \"el7241494898585216\", \"alpha\": 1, \"coordinates\": \"data\"}, {\"linewidth\": 1.5, \"dasharray\": \"none\", \"yindex\": 1, \"color\": \"#FF0000\", \"data\": \"data02\", \"xindex\": 0, \"drawstyle\": \"default\", \"zorder\": 2, \"id\": \"el7241494898582472\", \"alpha\": 1, \"coordinates\": \"data\"}, {\"linewidth\": 1.5, \"dasharray\": \"none\", \"yindex\": 1, \"color\": \"#FF0000\", \"data\": \"data03\", \"xindex\": 0, \"drawstyle\": \"default\", \"zorder\": 2, \"id\": \"el7241494860334584\", \"alpha\": 1, \"coordinates\": \"data\"}, {\"linewidth\": 1.5, \"dasharray\": \"none\", \"yindex\": 1, \"color\": \"#FF0000\", \"data\": \"data09\", \"xindex\": 0, \"drawstyle\": \"default\", \"zorder\": 2, \"id\": \"el7241494897645216\", \"alpha\": 1, \"coordinates\": \"data\"}, {\"linewidth\": 1.5, \"dasharray\": \"none\", \"yindex\": 1, \"color\": \"#FF0000\", \"data\": \"data10\", \"xindex\": 0, \"drawstyle\": \"default\", \"zorder\": 2, \"id\": \"el7241494897644096\", \"alpha\": 1, \"coordinates\": \"data\"}], \"axes\": [{\"grid\": {\"gridOn\": false}, \"nticks\": 9, \"position\": \"bottom\", \"tickformat\": null, \"fontsize\": 10.0, \"tickvalues\": null, \"scale\": \"linear\", \"visible\": true}, {\"grid\": {\"gridOn\": false}, \"nticks\": 9, \"position\": \"left\", \"tickformat\": null, \"fontsize\": 10.0, \"tickvalues\": null, \"scale\": \"linear\", \"visible\": true}], \"sharey\": [], \"id\": \"el7241494870070608\", \"bbox\": [0.125, 0.125, 0.775, 0.755], \"xlim\": [0.0, 200.0], \"axesbg\": \"#FFFFFF\", \"markers\": [{\"edgewidth\": 1.0, \"zorder\": 2, \"yindex\": 1, \"facecolor\": \"#FF0000\", \"data\": \"data01\", \"xindex\": 0, \"markerpath\": [[[0.0, 3.0], [0.7956093000000001, 3.0], [1.5587396123545605, 2.683901074764725], [2.121320343559643, 2.121320343559643], [2.683901074764725, 1.5587396123545605], [3.0, 0.7956093000000001], [3.0, 0.0], [3.0, -0.7956093000000001], [2.683901074764725, -1.5587396123545605], [2.121320343559643, -2.121320343559643], [1.5587396123545605, -2.683901074764725], [0.7956093000000001, -3.0], [0.0, -3.0], [-0.7956093000000001, -3.0], [-1.5587396123545605, -2.683901074764725], [-2.121320343559643, -2.121320343559643], [-2.683901074764725, -1.5587396123545605], [-3.0, -0.7956093000000001], [-3.0, 0.0], [-3.0, 0.7956093000000001], [-2.683901074764725, 1.5587396123545605], [-2.121320343559643, 2.121320343559643], [-1.5587396123545605, 2.683901074764725], [-0.7956093000000001, 3.0], [0.0, 3.0]], [\"M\", \"C\", \"C\", \"C\", \"C\", \"C\", \"C\", \"C\", \"C\", \"Z\"]], \"id\": \"el7241494895370984pts\", \"alpha\": 1, \"coordinates\": \"data\", \"edgecolor\": \"#FF0000\"}, {\"edgewidth\": 1.0, \"zorder\": 2, \"yindex\": 1, \"facecolor\": \"#FF0000\", \"data\": \"data02\", \"xindex\": 0, \"markerpath\": [[[0.0, 3.0], [0.7956093000000001, 3.0], [1.5587396123545605, 2.683901074764725], [2.121320343559643, 2.121320343559643], [2.683901074764725, 1.5587396123545605], [3.0, 0.7956093000000001], [3.0, 0.0], [3.0, -0.7956093000000001], [2.683901074764725, -1.5587396123545605], [2.121320343559643, -2.121320343559643], [1.5587396123545605, -2.683901074764725], [0.7956093000000001, -3.0], [0.0, -3.0], [-0.7956093000000001, -3.0], [-1.5587396123545605, -2.683901074764725], [-2.121320343559643, -2.121320343559643], [-2.683901074764725, -1.5587396123545605], [-3.0, -0.7956093000000001], [-3.0, 0.0], [-3.0, 0.7956093000000001], [-2.683901074764725, 1.5587396123545605], [-2.121320343559643, 2.121320343559643], [-1.5587396123545605, 2.683901074764725], [-0.7956093000000001, 3.0], [0.0, 3.0]], [\"M\", \"C\", \"C\", \"C\", \"C\", \"C\", \"C\", \"C\", \"C\", \"Z\"]], \"id\": \"el7241494895372272pts\", \"alpha\": 1, \"coordinates\": \"data\", \"edgecolor\": \"#FF0000\"}, {\"edgewidth\": 1.0, \"zorder\": 2, \"yindex\": 1, \"facecolor\": \"#FF0000\", \"data\": \"data03\", \"xindex\": 0, \"markerpath\": [[[0.0, 3.0], [0.7956093000000001, 3.0], [1.5587396123545605, 2.683901074764725], [2.121320343559643, 2.121320343559643], [2.683901074764725, 1.5587396123545605], [3.0, 0.7956093000000001], [3.0, 0.0], [3.0, -0.7956093000000001], [2.683901074764725, -1.5587396123545605], [2.121320343559643, -2.121320343559643], [1.5587396123545605, -2.683901074764725], [0.7956093000000001, -3.0], [0.0, -3.0], [-0.7956093000000001, -3.0], [-1.5587396123545605, -2.683901074764725], [-2.121320343559643, -2.121320343559643], [-2.683901074764725, -1.5587396123545605], [-3.0, -0.7956093000000001], [-3.0, 0.0], [-3.0, 0.7956093000000001], [-2.683901074764725, 1.5587396123545605], [-2.121320343559643, 2.121320343559643], [-1.5587396123545605, 2.683901074764725], [-0.7956093000000001, 3.0], [0.0, 3.0]], [\"M\", \"C\", \"C\", \"C\", \"C\", \"C\", \"C\", \"C\", \"C\", \"Z\"]], \"id\": \"el7241494895371096pts\", \"alpha\": 1, \"coordinates\": \"data\", \"edgecolor\": \"#FF0000\"}, {\"edgewidth\": 1.0, \"zorder\": 2, \"yindex\": 1, \"facecolor\": \"#FF0000\", \"data\": \"data04\", \"xindex\": 0, \"markerpath\": [[[0.0, 3.0], [0.7956093000000001, 3.0], [1.5587396123545605, 2.683901074764725], [2.121320343559643, 2.121320343559643], [2.683901074764725, 1.5587396123545605], [3.0, 0.7956093000000001], [3.0, 0.0], [3.0, -0.7956093000000001], [2.683901074764725, -1.5587396123545605], [2.121320343559643, -2.121320343559643], [1.5587396123545605, -2.683901074764725], [0.7956093000000001, -3.0], [0.0, -3.0], [-0.7956093000000001, -3.0], [-1.5587396123545605, -2.683901074764725], [-2.121320343559643, -2.121320343559643], [-2.683901074764725, -1.5587396123545605], [-3.0, -0.7956093000000001], [-3.0, 0.0], [-3.0, 0.7956093000000001], [-2.683901074764725, 1.5587396123545605], [-2.121320343559643, 2.121320343559643], [-1.5587396123545605, 2.683901074764725], [-0.7956093000000001, 3.0], [0.0, 3.0]], [\"M\", \"C\", \"C\", \"C\", \"C\", \"C\", \"C\", \"C\", \"C\", \"Z\"]], \"id\": \"el7241494860142912pts\", \"alpha\": 1, \"coordinates\": \"data\", \"edgecolor\": \"#FF0000\"}, {\"edgewidth\": 1.0, \"zorder\": 2, \"yindex\": 1, \"facecolor\": \"#FF0000\", \"data\": \"data05\", \"xindex\": 0, \"markerpath\": [[[0.0, 3.0], [0.7956093000000001, 3.0], [1.5587396123545605, 2.683901074764725], [2.121320343559643, 2.121320343559643], [2.683901074764725, 1.5587396123545605], [3.0, 0.7956093000000001], [3.0, 0.0], [3.0, -0.7956093000000001], [2.683901074764725, -1.5587396123545605], [2.121320343559643, -2.121320343559643], [1.5587396123545605, -2.683901074764725], [0.7956093000000001, -3.0], [0.0, -3.0], [-0.7956093000000001, -3.0], [-1.5587396123545605, -2.683901074764725], [-2.121320343559643, -2.121320343559643], [-2.683901074764725, -1.5587396123545605], [-3.0, -0.7956093000000001], [-3.0, 0.0], [-3.0, 0.7956093000000001], [-2.683901074764725, 1.5587396123545605], [-2.121320343559643, 2.121320343559643], [-1.5587396123545605, 2.683901074764725], [-0.7956093000000001, 3.0], [0.0, 3.0]], [\"M\", \"C\", \"C\", \"C\", \"C\", \"C\", \"C\", \"C\", \"C\", \"Z\"]], \"id\": \"el7241494860142520pts\", \"alpha\": 1, \"coordinates\": \"data\", \"edgecolor\": \"#FF0000\"}, {\"edgewidth\": 1.0, \"zorder\": 2, \"yindex\": 1, \"facecolor\": \"#FF0000\", \"data\": \"data06\", \"xindex\": 0, \"markerpath\": [[[0.0, 3.0], [0.7956093000000001, 3.0], [1.5587396123545605, 2.683901074764725], [2.121320343559643, 2.121320343559643], [2.683901074764725, 1.5587396123545605], [3.0, 0.7956093000000001], [3.0, 0.0], [3.0, -0.7956093000000001], [2.683901074764725, -1.5587396123545605], [2.121320343559643, -2.121320343559643], [1.5587396123545605, -2.683901074764725], [0.7956093000000001, -3.0], [0.0, -3.0], [-0.7956093000000001, -3.0], [-1.5587396123545605, -2.683901074764725], [-2.121320343559643, -2.121320343559643], [-2.683901074764725, -1.5587396123545605], [-3.0, -0.7956093000000001], [-3.0, 0.0], [-3.0, 0.7956093000000001], [-2.683901074764725, 1.5587396123545605], [-2.121320343559643, 2.121320343559643], [-1.5587396123545605, 2.683901074764725], [-0.7956093000000001, 3.0], [0.0, 3.0]], [\"M\", \"C\", \"C\", \"C\", \"C\", \"C\", \"C\", \"C\", \"C\", \"Z\"]], \"id\": \"el7241494898583928pts\", \"alpha\": 1, \"coordinates\": \"data\", \"edgecolor\": \"#FF0000\"}, {\"edgewidth\": 1.0, \"zorder\": 2, \"yindex\": 1, \"facecolor\": \"#FF0000\", \"data\": \"data07\", \"xindex\": 0, \"markerpath\": [[[0.0, 3.0], [0.7956093000000001, 3.0], [1.5587396123545605, 2.683901074764725], [2.121320343559643, 2.121320343559643], [2.683901074764725, 1.5587396123545605], [3.0, 0.7956093000000001], [3.0, 0.0], [3.0, -0.7956093000000001], [2.683901074764725, -1.5587396123545605], [2.121320343559643, -2.121320343559643], [1.5587396123545605, -2.683901074764725], [0.7956093000000001, -3.0], [0.0, -3.0], [-0.7956093000000001, -3.0], [-1.5587396123545605, -2.683901074764725], [-2.121320343559643, -2.121320343559643], [-2.683901074764725, -1.5587396123545605], [-3.0, -0.7956093000000001], [-3.0, 0.0], [-3.0, 0.7956093000000001], [-2.683901074764725, 1.5587396123545605], [-2.121320343559643, 2.121320343559643], [-1.5587396123545605, 2.683901074764725], [-0.7956093000000001, 3.0], [0.0, 3.0]], [\"M\", \"C\", \"C\", \"C\", \"C\", \"C\", \"C\", \"C\", \"C\", \"Z\"]], \"id\": \"el7241494898581632pts\", \"alpha\": 1, \"coordinates\": \"data\", \"edgecolor\": \"#FF0000\"}, {\"edgewidth\": 1.0, \"zorder\": 2, \"yindex\": 1, \"facecolor\": \"#FF0000\", \"data\": \"data08\", \"xindex\": 0, \"markerpath\": [[[0.0, 3.0], [0.7956093000000001, 3.0], [1.5587396123545605, 2.683901074764725], [2.121320343559643, 2.121320343559643], [2.683901074764725, 1.5587396123545605], [3.0, 0.7956093000000001], [3.0, 0.0], [3.0, -0.7956093000000001], [2.683901074764725, -1.5587396123545605], [2.121320343559643, -2.121320343559643], [1.5587396123545605, -2.683901074764725], [0.7956093000000001, -3.0], [0.0, -3.0], [-0.7956093000000001, -3.0], [-1.5587396123545605, -2.683901074764725], [-2.121320343559643, -2.121320343559643], [-2.683901074764725, -1.5587396123545605], [-3.0, -0.7956093000000001], [-3.0, 0.0], [-3.0, 0.7956093000000001], [-2.683901074764725, 1.5587396123545605], [-2.121320343559643, 2.121320343559643], [-1.5587396123545605, 2.683901074764725], [-0.7956093000000001, 3.0], [0.0, 3.0]], [\"M\", \"C\", \"C\", \"C\", \"C\", \"C\", \"C\", \"C\", \"C\", \"Z\"]], \"id\": \"el7241494898585216pts\", \"alpha\": 1, \"coordinates\": \"data\", \"edgecolor\": \"#FF0000\"}, {\"edgewidth\": 1.0, \"zorder\": 2, \"yindex\": 1, \"facecolor\": \"#FF0000\", \"data\": \"data02\", \"xindex\": 0, \"markerpath\": [[[0.0, 3.0], [0.7956093000000001, 3.0], [1.5587396123545605, 2.683901074764725], [2.121320343559643, 2.121320343559643], [2.683901074764725, 1.5587396123545605], [3.0, 0.7956093000000001], [3.0, 0.0], [3.0, -0.7956093000000001], [2.683901074764725, -1.5587396123545605], [2.121320343559643, -2.121320343559643], [1.5587396123545605, -2.683901074764725], [0.7956093000000001, -3.0], [0.0, -3.0], [-0.7956093000000001, -3.0], [-1.5587396123545605, -2.683901074764725], [-2.121320343559643, -2.121320343559643], [-2.683901074764725, -1.5587396123545605], [-3.0, -0.7956093000000001], [-3.0, 0.0], [-3.0, 0.7956093000000001], [-2.683901074764725, 1.5587396123545605], [-2.121320343559643, 2.121320343559643], [-1.5587396123545605, 2.683901074764725], [-0.7956093000000001, 3.0], [0.0, 3.0]], [\"M\", \"C\", \"C\", \"C\", \"C\", \"C\", \"C\", \"C\", \"C\", \"Z\"]], \"id\": \"el7241494898582472pts\", \"alpha\": 1, \"coordinates\": \"data\", \"edgecolor\": \"#FF0000\"}, {\"edgewidth\": 1.0, \"zorder\": 2, \"yindex\": 1, \"facecolor\": \"#FF0000\", \"data\": \"data03\", \"xindex\": 0, \"markerpath\": [[[0.0, 3.0], [0.7956093000000001, 3.0], [1.5587396123545605, 2.683901074764725], [2.121320343559643, 2.121320343559643], [2.683901074764725, 1.5587396123545605], [3.0, 0.7956093000000001], [3.0, 0.0], [3.0, -0.7956093000000001], [2.683901074764725, -1.5587396123545605], [2.121320343559643, -2.121320343559643], [1.5587396123545605, -2.683901074764725], [0.7956093000000001, -3.0], [0.0, -3.0], [-0.7956093000000001, -3.0], [-1.5587396123545605, -2.683901074764725], [-2.121320343559643, -2.121320343559643], [-2.683901074764725, -1.5587396123545605], [-3.0, -0.7956093000000001], [-3.0, 0.0], [-3.0, 0.7956093000000001], [-2.683901074764725, 1.5587396123545605], [-2.121320343559643, 2.121320343559643], [-1.5587396123545605, 2.683901074764725], [-0.7956093000000001, 3.0], [0.0, 3.0]], [\"M\", \"C\", \"C\", \"C\", \"C\", \"C\", \"C\", \"C\", \"C\", \"Z\"]], \"id\": \"el7241494860334584pts\", \"alpha\": 1, \"coordinates\": \"data\", \"edgecolor\": \"#FF0000\"}, {\"edgewidth\": 1.0, \"zorder\": 2, \"yindex\": 1, \"facecolor\": \"#FF0000\", \"data\": \"data09\", \"xindex\": 0, \"markerpath\": [[[0.0, 3.0], [0.7956093000000001, 3.0], [1.5587396123545605, 2.683901074764725], [2.121320343559643, 2.121320343559643], [2.683901074764725, 1.5587396123545605], [3.0, 0.7956093000000001], [3.0, 0.0], [3.0, -0.7956093000000001], [2.683901074764725, -1.5587396123545605], [2.121320343559643, -2.121320343559643], [1.5587396123545605, -2.683901074764725], [0.7956093000000001, -3.0], [0.0, -3.0], [-0.7956093000000001, -3.0], [-1.5587396123545605, -2.683901074764725], [-2.121320343559643, -2.121320343559643], [-2.683901074764725, -1.5587396123545605], [-3.0, -0.7956093000000001], [-3.0, 0.0], [-3.0, 0.7956093000000001], [-2.683901074764725, 1.5587396123545605], [-2.121320343559643, 2.121320343559643], [-1.5587396123545605, 2.683901074764725], [-0.7956093000000001, 3.0], [0.0, 3.0]], [\"M\", \"C\", \"C\", \"C\", \"C\", \"C\", \"C\", \"C\", \"C\", \"Z\"]], \"id\": \"el7241494897645216pts\", \"alpha\": 1, \"coordinates\": \"data\", \"edgecolor\": \"#FF0000\"}, {\"edgewidth\": 1.0, \"zorder\": 2, \"yindex\": 1, \"facecolor\": \"#FF0000\", \"data\": \"data10\", \"xindex\": 0, \"markerpath\": [[[0.0, 3.0], [0.7956093000000001, 3.0], [1.5587396123545605, 2.683901074764725], [2.121320343559643, 2.121320343559643], [2.683901074764725, 1.5587396123545605], [3.0, 0.7956093000000001], [3.0, 0.0], [3.0, -0.7956093000000001], [2.683901074764725, -1.5587396123545605], [2.121320343559643, -2.121320343559643], [1.5587396123545605, -2.683901074764725], [0.7956093000000001, -3.0], [0.0, -3.0], [-0.7956093000000001, -3.0], [-1.5587396123545605, -2.683901074764725], [-2.121320343559643, -2.121320343559643], [-2.683901074764725, -1.5587396123545605], [-3.0, -0.7956093000000001], [-3.0, 0.0], [-3.0, 0.7956093000000001], [-2.683901074764725, 1.5587396123545605], [-2.121320343559643, 2.121320343559643], [-1.5587396123545605, 2.683901074764725], [-0.7956093000000001, 3.0], [0.0, 3.0]], [\"M\", \"C\", \"C\", \"C\", \"C\", \"C\", \"C\", \"C\", \"C\", \"Z\"]], \"id\": \"el7241494897644096pts\", \"alpha\": 1, \"coordinates\": \"data\", \"edgecolor\": \"#FF0000\"}]}], \"data\": {\"data08\": [[112.07955000000001, 105.15190000000001], [112.07955000000001, 102.67815000000002]], \"data03\": [[83.34204000000003, 93.01941], [83.34204000000003, 90.78316]], \"data10\": [[54.36831000000004, 68.35316], [54.36831000000004, 61.72816]], \"data07\": [[126.52705, 106.03064999999998], [126.52705, 104.27439999999999]], \"data06\": [[139.85954999999998, 111.77690000000001], [139.85954999999998, 110.02065000000002]], \"data02\": [[97.87079000000003, 81.28440999999998], [97.87079000000003, 76.17690999999998]], \"data01\": [[34.730800000000016, 2.5768999999999664], [175.06080000000006, 2.5768999999999664]], \"data04\": [[167.95830000000004, 103.4769], [167.95830000000004, 101.8794]], \"data09\": [[68.81581000000003, 93.73689999999999], [68.81581000000003, 87.43189999999998]], \"data05\": [[153.66705, 107.5469], [153.66705, 105.9494]]}, \"width\": 432.0, \"id\": \"el7241494888957824\", \"plugins\": [{\"type\": \"reset\"}, {\"type\": \"zoom\", \"button\": true, \"enabled\": false}, {\"type\": \"boxzoom\", \"button\": true, \"enabled\": false}]});\n",
       "      });\n",
       "    });\n",
       "}else{\n",
       "    // require.js not available: dynamically load d3 & mpld3\n",
       "    mpld3_load_lib(\"https://mpld3.github.io/js/d3.v3.min.js\", function(){\n",
       "         mpld3_load_lib(\"https://mpld3.github.io/js/mpld3.v0.3.js\", function(){\n",
       "                 \n",
       "                 mpld3.draw_figure(\"fig_el72414948889578247826493912\", {\"height\": 288.0, \"axes\": [{\"yscale\": \"linear\", \"texts\": [], \"images\": [], \"paths\": [], \"collections\": [], \"xscale\": \"linear\", \"sharex\": [], \"ylim\": [0.0, 200.0], \"axesbgalpha\": null, \"ydomain\": [0.0, 200.0], \"xdomain\": [0.0, 200.0], \"zoomable\": true, \"lines\": [{\"linewidth\": 1.5, \"dasharray\": \"none\", \"yindex\": 1, \"color\": \"#FF0000\", \"data\": \"data01\", \"xindex\": 0, \"drawstyle\": \"default\", \"zorder\": 2, \"id\": \"el7241494895370984\", \"alpha\": 1, \"coordinates\": \"data\"}, {\"linewidth\": 1.5, \"dasharray\": \"none\", \"yindex\": 1, \"color\": \"#FF0000\", \"data\": \"data02\", \"xindex\": 0, \"drawstyle\": \"default\", \"zorder\": 2, \"id\": \"el7241494895372272\", \"alpha\": 1, \"coordinates\": \"data\"}, {\"linewidth\": 1.5, \"dasharray\": \"none\", \"yindex\": 1, \"color\": \"#FF0000\", \"data\": \"data03\", \"xindex\": 0, \"drawstyle\": \"default\", \"zorder\": 2, \"id\": \"el7241494895371096\", \"alpha\": 1, \"coordinates\": \"data\"}, {\"linewidth\": 1.5, \"dasharray\": \"none\", \"yindex\": 1, \"color\": \"#FF0000\", \"data\": \"data04\", \"xindex\": 0, \"drawstyle\": \"default\", \"zorder\": 2, \"id\": \"el7241494860142912\", \"alpha\": 1, \"coordinates\": \"data\"}, {\"linewidth\": 1.5, \"dasharray\": \"none\", \"yindex\": 1, \"color\": \"#FF0000\", \"data\": \"data05\", \"xindex\": 0, \"drawstyle\": \"default\", \"zorder\": 2, \"id\": \"el7241494860142520\", \"alpha\": 1, \"coordinates\": \"data\"}, {\"linewidth\": 1.5, \"dasharray\": \"none\", \"yindex\": 1, \"color\": \"#FF0000\", \"data\": \"data06\", \"xindex\": 0, \"drawstyle\": \"default\", \"zorder\": 2, \"id\": \"el7241494898583928\", \"alpha\": 1, \"coordinates\": \"data\"}, {\"linewidth\": 1.5, \"dasharray\": \"none\", \"yindex\": 1, \"color\": \"#FF0000\", \"data\": \"data07\", \"xindex\": 0, \"drawstyle\": \"default\", \"zorder\": 2, \"id\": \"el7241494898581632\", \"alpha\": 1, \"coordinates\": \"data\"}, {\"linewidth\": 1.5, \"dasharray\": \"none\", \"yindex\": 1, \"color\": \"#FF0000\", \"data\": \"data08\", \"xindex\": 0, \"drawstyle\": \"default\", \"zorder\": 2, \"id\": \"el7241494898585216\", \"alpha\": 1, \"coordinates\": \"data\"}, {\"linewidth\": 1.5, \"dasharray\": \"none\", \"yindex\": 1, \"color\": \"#FF0000\", \"data\": \"data02\", \"xindex\": 0, \"drawstyle\": \"default\", \"zorder\": 2, \"id\": \"el7241494898582472\", \"alpha\": 1, \"coordinates\": \"data\"}, {\"linewidth\": 1.5, \"dasharray\": \"none\", \"yindex\": 1, \"color\": \"#FF0000\", \"data\": \"data03\", \"xindex\": 0, \"drawstyle\": \"default\", \"zorder\": 2, \"id\": \"el7241494860334584\", \"alpha\": 1, \"coordinates\": \"data\"}, {\"linewidth\": 1.5, \"dasharray\": \"none\", \"yindex\": 1, \"color\": \"#FF0000\", \"data\": \"data09\", \"xindex\": 0, \"drawstyle\": \"default\", \"zorder\": 2, \"id\": \"el7241494897645216\", \"alpha\": 1, \"coordinates\": \"data\"}, {\"linewidth\": 1.5, \"dasharray\": \"none\", \"yindex\": 1, \"color\": \"#FF0000\", \"data\": \"data10\", \"xindex\": 0, \"drawstyle\": \"default\", \"zorder\": 2, \"id\": \"el7241494897644096\", \"alpha\": 1, \"coordinates\": \"data\"}], \"axes\": [{\"grid\": {\"gridOn\": false}, \"nticks\": 9, \"position\": \"bottom\", \"tickformat\": null, \"fontsize\": 10.0, \"tickvalues\": null, \"scale\": \"linear\", \"visible\": true}, {\"grid\": {\"gridOn\": false}, \"nticks\": 9, \"position\": \"left\", \"tickformat\": null, \"fontsize\": 10.0, \"tickvalues\": null, \"scale\": \"linear\", \"visible\": true}], \"sharey\": [], \"id\": \"el7241494870070608\", \"bbox\": [0.125, 0.125, 0.775, 0.755], \"xlim\": [0.0, 200.0], \"axesbg\": \"#FFFFFF\", \"markers\": [{\"edgewidth\": 1.0, \"zorder\": 2, \"yindex\": 1, \"facecolor\": \"#FF0000\", \"data\": \"data01\", \"xindex\": 0, \"markerpath\": [[[0.0, 3.0], [0.7956093000000001, 3.0], [1.5587396123545605, 2.683901074764725], [2.121320343559643, 2.121320343559643], [2.683901074764725, 1.5587396123545605], [3.0, 0.7956093000000001], [3.0, 0.0], [3.0, -0.7956093000000001], [2.683901074764725, -1.5587396123545605], [2.121320343559643, -2.121320343559643], [1.5587396123545605, -2.683901074764725], [0.7956093000000001, -3.0], [0.0, -3.0], [-0.7956093000000001, -3.0], [-1.5587396123545605, -2.683901074764725], [-2.121320343559643, -2.121320343559643], [-2.683901074764725, -1.5587396123545605], [-3.0, -0.7956093000000001], [-3.0, 0.0], [-3.0, 0.7956093000000001], [-2.683901074764725, 1.5587396123545605], [-2.121320343559643, 2.121320343559643], [-1.5587396123545605, 2.683901074764725], [-0.7956093000000001, 3.0], [0.0, 3.0]], [\"M\", \"C\", \"C\", \"C\", \"C\", \"C\", \"C\", \"C\", \"C\", \"Z\"]], \"id\": \"el7241494895370984pts\", \"alpha\": 1, \"coordinates\": \"data\", \"edgecolor\": \"#FF0000\"}, {\"edgewidth\": 1.0, \"zorder\": 2, \"yindex\": 1, \"facecolor\": \"#FF0000\", \"data\": \"data02\", \"xindex\": 0, \"markerpath\": [[[0.0, 3.0], [0.7956093000000001, 3.0], [1.5587396123545605, 2.683901074764725], [2.121320343559643, 2.121320343559643], [2.683901074764725, 1.5587396123545605], [3.0, 0.7956093000000001], [3.0, 0.0], [3.0, -0.7956093000000001], [2.683901074764725, -1.5587396123545605], [2.121320343559643, -2.121320343559643], [1.5587396123545605, -2.683901074764725], [0.7956093000000001, -3.0], [0.0, -3.0], [-0.7956093000000001, -3.0], [-1.5587396123545605, -2.683901074764725], [-2.121320343559643, -2.121320343559643], [-2.683901074764725, -1.5587396123545605], [-3.0, -0.7956093000000001], [-3.0, 0.0], [-3.0, 0.7956093000000001], [-2.683901074764725, 1.5587396123545605], [-2.121320343559643, 2.121320343559643], [-1.5587396123545605, 2.683901074764725], [-0.7956093000000001, 3.0], [0.0, 3.0]], [\"M\", \"C\", \"C\", \"C\", \"C\", \"C\", \"C\", \"C\", \"C\", \"Z\"]], \"id\": \"el7241494895372272pts\", \"alpha\": 1, \"coordinates\": \"data\", \"edgecolor\": \"#FF0000\"}, {\"edgewidth\": 1.0, \"zorder\": 2, \"yindex\": 1, \"facecolor\": \"#FF0000\", \"data\": \"data03\", \"xindex\": 0, \"markerpath\": [[[0.0, 3.0], [0.7956093000000001, 3.0], [1.5587396123545605, 2.683901074764725], [2.121320343559643, 2.121320343559643], [2.683901074764725, 1.5587396123545605], [3.0, 0.7956093000000001], [3.0, 0.0], [3.0, -0.7956093000000001], [2.683901074764725, -1.5587396123545605], [2.121320343559643, -2.121320343559643], [1.5587396123545605, -2.683901074764725], [0.7956093000000001, -3.0], [0.0, -3.0], [-0.7956093000000001, -3.0], [-1.5587396123545605, -2.683901074764725], [-2.121320343559643, -2.121320343559643], [-2.683901074764725, -1.5587396123545605], [-3.0, -0.7956093000000001], [-3.0, 0.0], [-3.0, 0.7956093000000001], [-2.683901074764725, 1.5587396123545605], [-2.121320343559643, 2.121320343559643], [-1.5587396123545605, 2.683901074764725], [-0.7956093000000001, 3.0], [0.0, 3.0]], [\"M\", \"C\", \"C\", \"C\", \"C\", \"C\", \"C\", \"C\", \"C\", \"Z\"]], \"id\": \"el7241494895371096pts\", \"alpha\": 1, \"coordinates\": \"data\", \"edgecolor\": \"#FF0000\"}, {\"edgewidth\": 1.0, \"zorder\": 2, \"yindex\": 1, \"facecolor\": \"#FF0000\", \"data\": \"data04\", \"xindex\": 0, \"markerpath\": [[[0.0, 3.0], [0.7956093000000001, 3.0], [1.5587396123545605, 2.683901074764725], [2.121320343559643, 2.121320343559643], [2.683901074764725, 1.5587396123545605], [3.0, 0.7956093000000001], [3.0, 0.0], [3.0, -0.7956093000000001], [2.683901074764725, -1.5587396123545605], [2.121320343559643, -2.121320343559643], [1.5587396123545605, -2.683901074764725], [0.7956093000000001, -3.0], [0.0, -3.0], [-0.7956093000000001, -3.0], [-1.5587396123545605, -2.683901074764725], [-2.121320343559643, -2.121320343559643], [-2.683901074764725, -1.5587396123545605], [-3.0, -0.7956093000000001], [-3.0, 0.0], [-3.0, 0.7956093000000001], [-2.683901074764725, 1.5587396123545605], [-2.121320343559643, 2.121320343559643], [-1.5587396123545605, 2.683901074764725], [-0.7956093000000001, 3.0], [0.0, 3.0]], [\"M\", \"C\", \"C\", \"C\", \"C\", \"C\", \"C\", \"C\", \"C\", \"Z\"]], \"id\": \"el7241494860142912pts\", \"alpha\": 1, \"coordinates\": \"data\", \"edgecolor\": \"#FF0000\"}, {\"edgewidth\": 1.0, \"zorder\": 2, \"yindex\": 1, \"facecolor\": \"#FF0000\", \"data\": \"data05\", \"xindex\": 0, \"markerpath\": [[[0.0, 3.0], [0.7956093000000001, 3.0], [1.5587396123545605, 2.683901074764725], [2.121320343559643, 2.121320343559643], [2.683901074764725, 1.5587396123545605], [3.0, 0.7956093000000001], [3.0, 0.0], [3.0, -0.7956093000000001], [2.683901074764725, -1.5587396123545605], [2.121320343559643, -2.121320343559643], [1.5587396123545605, -2.683901074764725], [0.7956093000000001, -3.0], [0.0, -3.0], [-0.7956093000000001, -3.0], [-1.5587396123545605, -2.683901074764725], [-2.121320343559643, -2.121320343559643], [-2.683901074764725, -1.5587396123545605], [-3.0, -0.7956093000000001], [-3.0, 0.0], [-3.0, 0.7956093000000001], [-2.683901074764725, 1.5587396123545605], [-2.121320343559643, 2.121320343559643], [-1.5587396123545605, 2.683901074764725], [-0.7956093000000001, 3.0], [0.0, 3.0]], [\"M\", \"C\", \"C\", \"C\", \"C\", \"C\", \"C\", \"C\", \"C\", \"Z\"]], \"id\": \"el7241494860142520pts\", \"alpha\": 1, \"coordinates\": \"data\", \"edgecolor\": \"#FF0000\"}, {\"edgewidth\": 1.0, \"zorder\": 2, \"yindex\": 1, \"facecolor\": \"#FF0000\", \"data\": \"data06\", \"xindex\": 0, \"markerpath\": [[[0.0, 3.0], [0.7956093000000001, 3.0], [1.5587396123545605, 2.683901074764725], [2.121320343559643, 2.121320343559643], [2.683901074764725, 1.5587396123545605], [3.0, 0.7956093000000001], [3.0, 0.0], [3.0, -0.7956093000000001], [2.683901074764725, -1.5587396123545605], [2.121320343559643, -2.121320343559643], [1.5587396123545605, -2.683901074764725], [0.7956093000000001, -3.0], [0.0, -3.0], [-0.7956093000000001, -3.0], [-1.5587396123545605, -2.683901074764725], [-2.121320343559643, -2.121320343559643], [-2.683901074764725, -1.5587396123545605], [-3.0, -0.7956093000000001], [-3.0, 0.0], [-3.0, 0.7956093000000001], [-2.683901074764725, 1.5587396123545605], [-2.121320343559643, 2.121320343559643], [-1.5587396123545605, 2.683901074764725], [-0.7956093000000001, 3.0], [0.0, 3.0]], [\"M\", \"C\", \"C\", \"C\", \"C\", \"C\", \"C\", \"C\", \"C\", \"Z\"]], \"id\": \"el7241494898583928pts\", \"alpha\": 1, \"coordinates\": \"data\", \"edgecolor\": \"#FF0000\"}, {\"edgewidth\": 1.0, \"zorder\": 2, \"yindex\": 1, \"facecolor\": \"#FF0000\", \"data\": \"data07\", \"xindex\": 0, \"markerpath\": [[[0.0, 3.0], [0.7956093000000001, 3.0], [1.5587396123545605, 2.683901074764725], [2.121320343559643, 2.121320343559643], [2.683901074764725, 1.5587396123545605], [3.0, 0.7956093000000001], [3.0, 0.0], [3.0, -0.7956093000000001], [2.683901074764725, -1.5587396123545605], [2.121320343559643, -2.121320343559643], [1.5587396123545605, -2.683901074764725], [0.7956093000000001, -3.0], [0.0, -3.0], [-0.7956093000000001, -3.0], [-1.5587396123545605, -2.683901074764725], [-2.121320343559643, -2.121320343559643], [-2.683901074764725, -1.5587396123545605], [-3.0, -0.7956093000000001], [-3.0, 0.0], [-3.0, 0.7956093000000001], [-2.683901074764725, 1.5587396123545605], [-2.121320343559643, 2.121320343559643], [-1.5587396123545605, 2.683901074764725], [-0.7956093000000001, 3.0], [0.0, 3.0]], [\"M\", \"C\", \"C\", \"C\", \"C\", \"C\", \"C\", \"C\", \"C\", \"Z\"]], \"id\": \"el7241494898581632pts\", \"alpha\": 1, \"coordinates\": \"data\", \"edgecolor\": \"#FF0000\"}, {\"edgewidth\": 1.0, \"zorder\": 2, \"yindex\": 1, \"facecolor\": \"#FF0000\", \"data\": \"data08\", \"xindex\": 0, \"markerpath\": [[[0.0, 3.0], [0.7956093000000001, 3.0], [1.5587396123545605, 2.683901074764725], [2.121320343559643, 2.121320343559643], [2.683901074764725, 1.5587396123545605], [3.0, 0.7956093000000001], [3.0, 0.0], [3.0, -0.7956093000000001], [2.683901074764725, -1.5587396123545605], [2.121320343559643, -2.121320343559643], [1.5587396123545605, -2.683901074764725], [0.7956093000000001, -3.0], [0.0, -3.0], [-0.7956093000000001, -3.0], [-1.5587396123545605, -2.683901074764725], [-2.121320343559643, -2.121320343559643], [-2.683901074764725, -1.5587396123545605], [-3.0, -0.7956093000000001], [-3.0, 0.0], [-3.0, 0.7956093000000001], [-2.683901074764725, 1.5587396123545605], [-2.121320343559643, 2.121320343559643], [-1.5587396123545605, 2.683901074764725], [-0.7956093000000001, 3.0], [0.0, 3.0]], [\"M\", \"C\", \"C\", \"C\", \"C\", \"C\", \"C\", \"C\", \"C\", \"Z\"]], \"id\": \"el7241494898585216pts\", \"alpha\": 1, \"coordinates\": \"data\", \"edgecolor\": \"#FF0000\"}, {\"edgewidth\": 1.0, \"zorder\": 2, \"yindex\": 1, \"facecolor\": \"#FF0000\", \"data\": \"data02\", \"xindex\": 0, \"markerpath\": [[[0.0, 3.0], [0.7956093000000001, 3.0], [1.5587396123545605, 2.683901074764725], [2.121320343559643, 2.121320343559643], [2.683901074764725, 1.5587396123545605], [3.0, 0.7956093000000001], [3.0, 0.0], [3.0, -0.7956093000000001], [2.683901074764725, -1.5587396123545605], [2.121320343559643, -2.121320343559643], [1.5587396123545605, -2.683901074764725], [0.7956093000000001, -3.0], [0.0, -3.0], [-0.7956093000000001, -3.0], [-1.5587396123545605, -2.683901074764725], [-2.121320343559643, -2.121320343559643], [-2.683901074764725, -1.5587396123545605], [-3.0, -0.7956093000000001], [-3.0, 0.0], [-3.0, 0.7956093000000001], [-2.683901074764725, 1.5587396123545605], [-2.121320343559643, 2.121320343559643], [-1.5587396123545605, 2.683901074764725], [-0.7956093000000001, 3.0], [0.0, 3.0]], [\"M\", \"C\", \"C\", \"C\", \"C\", \"C\", \"C\", \"C\", \"C\", \"Z\"]], \"id\": \"el7241494898582472pts\", \"alpha\": 1, \"coordinates\": \"data\", \"edgecolor\": \"#FF0000\"}, {\"edgewidth\": 1.0, \"zorder\": 2, \"yindex\": 1, \"facecolor\": \"#FF0000\", \"data\": \"data03\", \"xindex\": 0, \"markerpath\": [[[0.0, 3.0], [0.7956093000000001, 3.0], [1.5587396123545605, 2.683901074764725], [2.121320343559643, 2.121320343559643], [2.683901074764725, 1.5587396123545605], [3.0, 0.7956093000000001], [3.0, 0.0], [3.0, -0.7956093000000001], [2.683901074764725, -1.5587396123545605], [2.121320343559643, -2.121320343559643], [1.5587396123545605, -2.683901074764725], [0.7956093000000001, -3.0], [0.0, -3.0], [-0.7956093000000001, -3.0], [-1.5587396123545605, -2.683901074764725], [-2.121320343559643, -2.121320343559643], [-2.683901074764725, -1.5587396123545605], [-3.0, -0.7956093000000001], [-3.0, 0.0], [-3.0, 0.7956093000000001], [-2.683901074764725, 1.5587396123545605], [-2.121320343559643, 2.121320343559643], [-1.5587396123545605, 2.683901074764725], [-0.7956093000000001, 3.0], [0.0, 3.0]], [\"M\", \"C\", \"C\", \"C\", \"C\", \"C\", \"C\", \"C\", \"C\", \"Z\"]], \"id\": \"el7241494860334584pts\", \"alpha\": 1, \"coordinates\": \"data\", \"edgecolor\": \"#FF0000\"}, {\"edgewidth\": 1.0, \"zorder\": 2, \"yindex\": 1, \"facecolor\": \"#FF0000\", \"data\": \"data09\", \"xindex\": 0, \"markerpath\": [[[0.0, 3.0], [0.7956093000000001, 3.0], [1.5587396123545605, 2.683901074764725], [2.121320343559643, 2.121320343559643], [2.683901074764725, 1.5587396123545605], [3.0, 0.7956093000000001], [3.0, 0.0], [3.0, -0.7956093000000001], [2.683901074764725, -1.5587396123545605], [2.121320343559643, -2.121320343559643], [1.5587396123545605, -2.683901074764725], [0.7956093000000001, -3.0], [0.0, -3.0], [-0.7956093000000001, -3.0], [-1.5587396123545605, -2.683901074764725], [-2.121320343559643, -2.121320343559643], [-2.683901074764725, -1.5587396123545605], [-3.0, -0.7956093000000001], [-3.0, 0.0], [-3.0, 0.7956093000000001], [-2.683901074764725, 1.5587396123545605], [-2.121320343559643, 2.121320343559643], [-1.5587396123545605, 2.683901074764725], [-0.7956093000000001, 3.0], [0.0, 3.0]], [\"M\", \"C\", \"C\", \"C\", \"C\", \"C\", \"C\", \"C\", \"C\", \"Z\"]], \"id\": \"el7241494897645216pts\", \"alpha\": 1, \"coordinates\": \"data\", \"edgecolor\": \"#FF0000\"}, {\"edgewidth\": 1.0, \"zorder\": 2, \"yindex\": 1, \"facecolor\": \"#FF0000\", \"data\": \"data10\", \"xindex\": 0, \"markerpath\": [[[0.0, 3.0], [0.7956093000000001, 3.0], [1.5587396123545605, 2.683901074764725], [2.121320343559643, 2.121320343559643], [2.683901074764725, 1.5587396123545605], [3.0, 0.7956093000000001], [3.0, 0.0], [3.0, -0.7956093000000001], [2.683901074764725, -1.5587396123545605], [2.121320343559643, -2.121320343559643], [1.5587396123545605, -2.683901074764725], [0.7956093000000001, -3.0], [0.0, -3.0], [-0.7956093000000001, -3.0], [-1.5587396123545605, -2.683901074764725], [-2.121320343559643, -2.121320343559643], [-2.683901074764725, -1.5587396123545605], [-3.0, -0.7956093000000001], [-3.0, 0.0], [-3.0, 0.7956093000000001], [-2.683901074764725, 1.5587396123545605], [-2.121320343559643, 2.121320343559643], [-1.5587396123545605, 2.683901074764725], [-0.7956093000000001, 3.0], [0.0, 3.0]], [\"M\", \"C\", \"C\", \"C\", \"C\", \"C\", \"C\", \"C\", \"C\", \"Z\"]], \"id\": \"el7241494897644096pts\", \"alpha\": 1, \"coordinates\": \"data\", \"edgecolor\": \"#FF0000\"}]}], \"data\": {\"data08\": [[112.07955000000001, 105.15190000000001], [112.07955000000001, 102.67815000000002]], \"data03\": [[83.34204000000003, 93.01941], [83.34204000000003, 90.78316]], \"data10\": [[54.36831000000004, 68.35316], [54.36831000000004, 61.72816]], \"data07\": [[126.52705, 106.03064999999998], [126.52705, 104.27439999999999]], \"data06\": [[139.85954999999998, 111.77690000000001], [139.85954999999998, 110.02065000000002]], \"data02\": [[97.87079000000003, 81.28440999999998], [97.87079000000003, 76.17690999999998]], \"data01\": [[34.730800000000016, 2.5768999999999664], [175.06080000000006, 2.5768999999999664]], \"data04\": [[167.95830000000004, 103.4769], [167.95830000000004, 101.8794]], \"data09\": [[68.81581000000003, 93.73689999999999], [68.81581000000003, 87.43189999999998]], \"data05\": [[153.66705, 107.5469], [153.66705, 105.9494]]}, \"width\": 432.0, \"id\": \"el7241494888957824\", \"plugins\": [{\"type\": \"reset\"}, {\"type\": \"zoom\", \"button\": true, \"enabled\": false}, {\"type\": \"boxzoom\", \"button\": true, \"enabled\": false}]});\n",
       "            })\n",
       "         });\n",
       "}\n",
       "</script>"
      ],
      "text/plain": [
       "<Figure size 432x288 with 1 Axes>"
      ]
     },
     "metadata": {},
     "output_type": "display_data"
    }
   ],
   "source": [
    "#print (plt.rcParams['interactive'])\n",
    "mpld3.enable_notebook()\n",
    "for result in doc:\n",
    "    #print (result.path)\n",
    "    #print (result.transform)\n",
    "    argand(result.path)\n",
    "\n",
    "#argand(doc[6].path)\n",
    "\n",
    "plt.show()"
   ]
  },
  {
   "cell_type": "code",
   "execution_count": 387,
   "metadata": {
    "collapsed": false
   },
   "outputs": [],
   "source": [
    "def get_dimensions(doc):\n",
    "    ymin, ymax, xmin, xmax = 4*(np.NaN,)\n",
    "    \n",
    "    for element in doc:\n",
    "        # first see if there's an axis\n",
    "        # add it if it's not a duplicate\n",
    "        path = element.path\n",
    "        for line in path:\n",
    "            x_arr = (line.start.real, line.end.real, xmin, xmax)\n",
    "            y_arr = (line.start.imag, line.end.imag, ymin, ymax)\n",
    "            \n",
    "            xmin = np.nanmin(x_arr)\n",
    "            xmax = np.nanmax(x_arr)\n",
    "            ymin = np.nanmin(y_arr)\n",
    "            ymax = np.nanmax(y_arr)\n",
    "      \n",
    "    print (xmin, xmax, ymin, ymax)\n",
    "    return xmin, xmax, ymin, ymax\n",
    "\n",
    "def get_axes(doc, width, height): # edited\n",
    "    \"\"\"send in individual paths,\n",
    "    and also largest x and y value among all paths\"\"\"\n",
    "    yaxes = []\n",
    "    xaxes = []\n",
    "    tol = 0.01\n",
    "    \n",
    "    for element in doc:\n",
    "        # first see if there's an axis\n",
    "        # add it if it's not a duplicate\n",
    "        path = element.path\n",
    "        for line in path:\n",
    "            if math.isclose(line.length(), width, rel_tol=tol): \n",
    "                if (len(xaxes) < 1) or all(line != axis for axis in xaxes):\n",
    "                    xaxes.append(line)\n",
    "            elif math.isclose(line.length(), height, rel_tol=tol):\n",
    "                if (len(yaxes) < 1) or all(line != axis for axis in yaxes):\n",
    "                    yaxes.append(line)\n",
    "    \n",
    "    return (xaxes, yaxes)\n",
    "\n",
    "\n",
    "def get_calib_points(doc, axes):\n",
    "    yaxes, xaxes = axes\n",
    "    calib_points = []\n",
    "    \n",
    "    for element in doc:\n",
    "        # first see if there's an axis\n",
    "        # if not, return\n",
    "        path = element.path\n",
    "        for line in path:\n",
    "            # first see if it's a tick mark on the x-axis\n",
    "            # test if it's vertical\n",
    "            isVertical = math.isclose(line.start.real, line.end.real)\n",
    "            # test if the starting y-coordinate is on any xaxis\n",
    "            # can use axis.start.imag or axis.end.imag interchangeably\n",
    "            isStartOnAxis = any(math.isclose(line.start.imag, axis.start.imag) for axis in xaxes)\n",
    "            # test if the end y-coordinate is on any xaxis\n",
    "            # can use axis.start.imag or axis.end.imag interchangeably\n",
    "            isEndOnAxis = any(math.isclose(line.end.imag, axis.start.imag) for axis in xaxes)\n",
    "            # test if the line is short\n",
    "            isShort = line.length() < yaxes[0].length()/10\n",
    "            \n",
    "            if isVertical and (isStartOnAxis or isEndOnAxis) and isShort:\n",
    "                if isStartOnAxis:\n",
    "                    calib_points.append((line.start.real, line.start.imag))\n",
    "                elif isEndOnAxis:\n",
    "                    calib_points.append((line.start.real, line.end.imag))\n",
    "                    \n",
    "            # now see if it's a tick mark on the y-axis\n",
    "            # test if it's horizontal\n",
    "            isHorizontal = math.isclose(line.start.imag, line.end.imag)\n",
    "            # test if the starting x-coordinate is on any yaxis\n",
    "            # can use axis.start.real or axis.end.real interchangeably\n",
    "            isStartOnAxis = any(math.isclose(line.start.real, axis.start.real) for axis in yaxes)\n",
    "            # test if the end y-coordinate is on any xaxis\n",
    "            # can use axis.start.imag or axis.end.imag interchangeably\n",
    "            isEndOnAxis = any(math.isclose(line.end.real, axis.start.real) for axis in yaxes)\n",
    "            # test if the line is short\n",
    "            isShort = line.length() < xaxes[0].length()/10\n",
    "            \n",
    "            if isHorizontal and (isStartOnAxis or isEndOnAxis) and isShort:\n",
    "                if isStartOnAxis:\n",
    "                    calib_points.append((line.start.real, line.start.imag))\n",
    "                elif isEndOnAxis:\n",
    "                    calib_points.append((line.end.real, line.start.imag))\n",
    "    \n",
    "    # call set to get rid of non-unique points\n",
    "    return (list(set(calib_points)))\n",
    "    \n",
    "def calib(user_points, svg_points):\n",
    "    xmin_user, ymin_user = np.amin(user_points, axis=0)\n",
    "    \n",
    "    # min returns ymax_svg because of the svg coordinate system\n",
    "    xmin_svg, ymax_svg = np.amin(svg_points, axis=0)\n",
    "    xmax_svg, ymin_svg = np.amax(svg_points, axis=0)\n",
    "\n",
    "    # get the x-values from the svg file and user\n",
    "    xcalib_svg = svg_points[np.isclose(svg_points[:,1], ymin_svg)][:,0]\n",
    "    xcalib_user = user_points[np.isclose(user_points[:,1], ymin_user)][:,0]\n",
    "    # make the values unique\n",
    "    xcalib_svg = list(set(xcalib_svg))\n",
    "    xcalib_user = list(set(xcalib_user))\n",
    "    # sort the list in-place\n",
    "    xcalib_svg.sort()\n",
    "    xcalib_user.sort()\n",
    "    #print(xcalib_svg, xcalib_user)\n",
    "    xcalib_fn = get_calib_func(xcalib_user, xcalib_svg)\n",
    "    \n",
    "    # get the y-values from the svg file and user\n",
    "    ycalib_svg = svg_points[np.isclose(svg_points[:,0], xmin_svg)][:,1]\n",
    "    ycalib_user = user_points[np.isclose(user_points[:,0], xmin_user)][:,1]\n",
    "    # make the values unique\n",
    "    ycalib_svg = list(set(ycalib_svg))\n",
    "    ycalib_user = list(set(ycalib_user))\n",
    "    # sort the list in-place\n",
    "    # note that because of svg coordinate system, small user value goes with large svg value\n",
    "    ycalib_svg.sort(reverse=True)\n",
    "    ycalib_user.sort()\n",
    "    #print(ycalib_svg, ycalib_user)\n",
    "    ycalib_fn = get_calib_func(ycalib_user, ycalib_svg)\n",
    "    \n",
    "    return xcalib_fn, ycalib_fn\n",
    "    \n",
    "    \n",
    "def get_calib_func(user_arr, svg_arr):\n",
    "    # save this for when there are actually double-calib points \n",
    "    # will choose the best fit\n",
    "    svg_arr_list = []\n",
    "    \n",
    "    if len(user_arr) != len(svg_arr):\n",
    "        r = np.average(np.diff(svg_arr))/2\n",
    "        svg_arr_points = np.ones((len(svg_arr),2))\n",
    "        svg_arr_points[:,0] = svg_arr[:]\n",
    "\n",
    "        tree = cKDTree(svg_arr_points)\n",
    "        rows_to_fuse = tree.query_pairs(r=r,output_type='ndarray') \n",
    "        for idx in rows_to_fuse.flatten():\n",
    "            #print(idx)\n",
    "            svg_arr_list.append(np.delete(svg_arr, idx))\n",
    "    \n",
    "    else:\n",
    "        svg_arr_list.append(svg_arr)\n",
    "        \n",
    "    # fit a linear function to the arrays\n",
    "    fit_goodness = []\n",
    "    fit_arr = []\n",
    "    for svg_arr in svg_arr_list:\n",
    "        fit, res, rank, sing, thresh = np.polyfit(svg_arr,user_arr, 1, full=True)\n",
    "        #print(\"res: \", res)\n",
    "        fit_goodness.append(res)\n",
    "        fit_arr.append(np.poly1d(fit))\n",
    "        \n",
    "    min_idx = np.argmin(fit_goodness)\n",
    "    fit_fn = fit_arr[min_idx]\n",
    "        \n",
    "    if False:\n",
    "        plt.plot(svg_arr_list[min_idx], user_arr,'o')\n",
    "        plt.plot(svg_arr_list[min_idx], fit_fn(svg_arr_list[min_idx]),'+')\n",
    "        plt.show()\n",
    "        \n",
    "    return fit_fn\n",
    "        "
   ]
  },
  {
   "cell_type": "code",
   "execution_count": 389,
   "metadata": {
    "collapsed": false
   },
   "outputs": [
    {
     "name": "stdout",
     "output_type": "stream",
     "text": [
      "34.73079000000004 175.06081 1.6618999999999744 147.37939999999998\n",
      "[[ 34.7308  147.3794 ]\n",
      " [104.89579   2.5769 ]\n",
      " [175.06079   2.5769 ]\n",
      " [ 34.7308   50.8719 ]\n",
      " [175.06079  99.0844 ]\n",
      " [139.93829   2.5769 ]\n",
      " [ 69.85455 147.3794 ]\n",
      " [104.8958  147.3794 ]\n",
      " [ 34.7308    2.5769 ]\n",
      " [ 34.7308   99.0844 ]\n",
      " [175.06079  50.8719 ]\n",
      " [ 34.73079   2.5769 ]\n",
      " [175.06079 147.3794 ]\n",
      " [ 69.85454   2.5769 ]\n",
      " [139.9383  147.3794 ]\n",
      " [175.0608  147.3794 ]]\n",
      "28.01576643933936 0.08595908661429012\n",
      "48.54357018496147 0.06358123501749227\n"
     ]
    }
   ],
   "source": [
    "doc = Document('edelweiss_ER_band_GGA3.svg')\n",
    "doc = doc.flatten_all_paths()\n",
    "\n",
    "xmin, xmax, ymin, ymax = get_dimensions(doc)\n",
    "\n",
    "height = xmax - xmin\n",
    "width = ymax - ymin\n",
    "#height = 147.37939999999998 - 2.5768999999999664\n",
    "#width = 175.0608 - 34.730800000000016\n",
    "\n",
    "\n",
    "\n",
    "xaxes, yaxes = get_axes(doc, width, height)\n",
    "#print (xaxes, yaxes)\n",
    "#print (xaxes[1] == xaxes[2].reversed())\n",
    "#print (yaxes[0].reversed())\n",
    "\n",
    "svg_calibPoints = np.array(get_calib_points(doc, (xaxes, yaxes)))\n",
    "print(svg_calibPoints)\n",
    "\n",
    "graph_points = np.array([(0,0), (50,0), (100,0), (150,0), (200,0), (0,0.05), (0,0.1), (0,0.15)])\n",
    "#print (graph_points)\n",
    "#xmin, ymin = np.amin(graph_points, axis=0)\n",
    "xcalib_fn, ycalib_fn = calib(graph_points, svg_calibPoints)\n",
    "print(xcalib_fn(54.4), ycalib_fn(64.4))\n",
    "print(xcalib_fn(68.8), ycalib_fn(86))\n"
   ]
  },
  {
   "cell_type": "code",
   "execution_count": 6,
   "metadata": {
    "collapsed": false,
    "scrolled": false
   },
   "outputs": [
    {
     "name": "stdout",
     "output_type": "stream",
     "text": [
      "Path(CubicBezier(start=0j, control1=0.407j, control2=(-0.328+0.736j), end=(-0.733+0.736j)),\n",
      "     CubicBezier(start=(-0.733+0.736j), control1=(-1.138+0.736j), control2=(-1.468+0.407j), end=(-1.468+0j)),\n",
      "     CubicBezier(start=(-1.468+0j), control1=(-1.468-0.404j), control2=(-1.138-0.733j), end=(-0.733-0.733j)),\n",
      "     CubicBezier(start=(-0.733-0.733j), control1=(-0.328-0.733j), control2=-0.404j, end=0j)) {'id': 'path586', 'style': 'fill:#000000;fill-opacity:1;fill-rule:evenodd;stroke:none', 'inkscape:connector-curvature': '0', 'd': 'm 0,0 c 0,0.407 -0.328,0.736 -0.733,0.736 -0.405,0 -0.735,-0.329 -0.735,-0.736 0,-0.404 0.33,-0.733 0.735,-0.733 C -0.328,-0.733 0,-0.404 0,0'}\n",
      "path is continuous?  True\n",
      "path is closed?  True\n"
     ]
    }
   ],
   "source": [
    "idx = 5\n",
    "print(paths[idx], attributes[idx])\n",
    "\n",
    "print(\"path is continuous? \", paths[idx].iscontinuous())\n",
    "print(\"path is closed? \", paths[idx].isclosed())"
   ]
  },
  {
   "cell_type": "code",
   "execution_count": null,
   "metadata": {
    "collapsed": false
   },
   "outputs": [],
   "source": [
    "#paths[idx].isclosed()\n"
   ]
  },
  {
   "cell_type": "code",
   "execution_count": null,
   "metadata": {
    "collapsed": true
   },
   "outputs": [],
   "source": []
  }
 ],
 "metadata": {
  "anaconda-cloud": {},
  "kernelspec": {
   "display_name": "Python [conda env:Anaconda3]",
   "language": "python",
   "name": "conda-env-Anaconda3-py"
  },
  "language_info": {
   "codemirror_mode": {
    "name": "ipython",
    "version": 3
   },
   "file_extension": ".py",
   "mimetype": "text/x-python",
   "name": "python",
   "nbconvert_exporter": "python",
   "pygments_lexer": "ipython3",
   "version": "3.5.2"
  }
 },
 "nbformat": 4,
 "nbformat_minor": 1
}
