{
 "cells": [
  {
   "cell_type": "code",
   "execution_count": 6,
   "metadata": {
    "collapsed": false
   },
   "outputs": [],
   "source": [
    "import matplotlib.pyplot as plt\n",
    "from matplotlib.ticker import MultipleLocator\n",
    "import mpld3\n",
    "import numpy as np\n",
    "import itertools\n",
    "from tabulate import tabulate\n",
    "\n",
    "# change these imports???\n",
    "from svgpathtools import *\n",
    "from svg_extract_data import *\n",
    "\n",
    "#%matplotlib notebook\n",
    "%matplotlib inline\n",
    "#mpld3.enable_notebook()"
   ]
  },
  {
   "cell_type": "code",
   "execution_count": 2,
   "metadata": {
    "collapsed": false
   },
   "outputs": [
    {
     "data": {
      "text/plain": [
       "\"\\ndoc = Document('edelweiss_ER_band_GGA3.svg')\\ndoc = doc.flatten_all_paths()\\nprint (doc[0].path[0].start.real)\\nprint(len(doc[0].path))\\nprint (doc[0].path[0].length())\\n\""
      ]
     },
     "execution_count": 2,
     "metadata": {},
     "output_type": "execute_result"
    }
   ],
   "source": [
    "# svg2paths does not apply relevant transformation to paths!\n",
    "#paths, attributes = svg2paths('edelweiss_ER_band_GGA3.svg')\n",
    "\n",
    "# Document does apply relevant transformations, it's what you need\n",
    "\"\"\"\n",
    "doc = Document('edelweiss_ER_band_GGA3.svg')\n",
    "doc = doc.flatten_all_paths()\n",
    "print (doc[0].path[0].start.real)\n",
    "print(len(doc[0].path))\n",
    "print (doc[0].path[0].length())\n",
    "\"\"\""
   ]
  },
  {
   "cell_type": "code",
   "execution_count": 3,
   "metadata": {
    "collapsed": false
   },
   "outputs": [],
   "source": [
    "# in ER, GGA3\n",
    "# paths with 4 lines are error bars, bounding box\n",
    "# paths with 10 are the bins, huh\n",
    "# paths with 13 are the resolution curves\n",
    "# path with 12 is the top/right axis with ticks\n",
    "# paths wth 5 is left axis with ticks\n",
    "# paths with 6 is bottom axis with ticks\n",
    "\n",
    "# in NR, GGA3\n",
    "# paths with 4 lines are maybe some of the data points?\n",
    "# path with 5 lines is axis box with bottom tick marks\n",
    "# two paths with 6 lines: (1) bin marks and (2) left y-axis with tick marks\n",
    "# paths with 7 lines are maybe more data points?\n",
    "# paths with 8 lines are resolution curve (0 index) and data points\n",
    "# paths with 8, 13 are the resolution curves\n",
    "# path with 12 is the top/right axis with ticks\n",
    "\n",
    "# for bands, GGA1\n",
    "# paths with 4 lines seem to be data points (doesn't graph so well, there are lots!)\n",
    "# path with 7 lines is some kind of curve\n",
    "# path with 13 lines also curve\n",
    "# path with 17 lines left y-axis with minor, major ticks\n",
    "# path with 19 lines a curve\n",
    "# path with 21 a curve\n",
    "# path with 22 bottom x-axis with minor, major ticks\n",
    "# paths with 23 lines are both curves\n",
    "# path with 40 lines is top/right axes with minor, major ticks and line at Y=1\n",
    "# path with 46 lines seems to be the ER band, both top and bottom\n",
    "\n",
    "def get_paths(doc, path_len):\n",
    "    #import matplotlib.pyplot as plt\n",
    "    #import numpy as np\n",
    "    path_arr = []\n",
    "    \n",
    "    #print ([len(result.path) for result in doc])\n",
    "    \n",
    "    for result in doc:\n",
    "        path = result.path\n",
    "\n",
    "        if len(path) == path_len: # maybe these are error bars?\n",
    "            path_arr.append(path)\n",
    "            #print (path)\n",
    "            #for line in path:\n",
    "                # if the line is NOT a Bezier curve\n",
    "                #if not hasattr(line, 'control1'):\n",
    "                    #print (\"plotting, \", len(path))\n",
    "\n",
    "    return path_arr\n",
    "\n",
    "def plot_paths(paths):\n",
    "    for path in paths:\n",
    "        for line in path:\n",
    "            #print(path)\n",
    "            plt.plot([line.start.real,line.end.real],[line.start.imag,line.end.imag],'ro-',label='python')\n",
    "            \n",
    "    #plt.ylim(0,200)\n",
    "    #plt.xlim(0,200)\n"
   ]
  },
  {
   "cell_type": "code",
   "execution_count": 4,
   "metadata": {
    "collapsed": false,
    "scrolled": false
   },
   "outputs": [],
   "source": [
    "if False:\n",
    "    doc = Document('edelweiss_bands_GGA1.svg')\n",
    "    doc = doc.flatten_all_paths()\n",
    "\n",
    "    #print(len(paths)) #2 paths with 13 lines in edelweiss_ER_band_GGA3.svg\n",
    "    #paths_ER = get_paths(doc, 13)\n",
    "    #plot_paths(paths_ER)\n",
    "\n",
    "    paths_NR = get_paths(doc, 46)\n",
    "    print(len(paths_NR))\n",
    "    plot_paths(paths_NR)\n",
    "    #plot_paths((paths_NR[0],))\n",
    "    #print(paths_NR[0])\n",
    "\n",
    "    plt.show()"
   ]
  },
  {
   "cell_type": "code",
   "execution_count": 7,
   "metadata": {
    "collapsed": false,
    "scrolled": false
   },
   "outputs": [
    {
     "name": "stdout",
     "output_type": "stream",
     "text": [
      "29.95067000000003 256.79693 2.1674000000000433 239.68490000000006\n",
      "[Line(start=(29.950680000000006+3.3261400000000094j), end=(255.37818000000001+3.3261400000000094j)), Line(start=(255.37818000000001+238.02989000000002j), end=(29.950680000000006+238.02989000000002j)), Line(start=(29.950680000000006+3.3261400000000663j), end=(255.37818000000001+3.3261400000000663j)), Line(start=(31.110679999999974+81.50614000000004j), end=(254.21942999999996+81.50614000000004j)), Line(start=(29.95067000000003+238.02989000000002j), end=(255.37817000000004+238.02989000000002j))] [Line(start=(255.37818000000001+3.3261400000000094j), end=(255.37818000000001+238.02989000000002j)), Line(start=(29.950680000000006+238.02989000000002j), end=(29.950680000000006+3.3261400000000094j)), Line(start=(255.37818000000001+238.02989000000002j), end=(255.37818000000001+3.3261400000000094j)), Line(start=(29.95067000000003+238.02989000000002j), end=(29.95067000000003+3.3261400000000094j))]\n",
      "[5.6299999999999955, 11.263749999999987]\n",
      "[5.6299999999999955, 11.262499999999989]\n",
      "svg calibration points:\n",
      "[[ 86.26568   3.32614]\n",
      " [199.06443   3.32614]\n",
      " [199.06442 238.02989]\n",
      " [ 29.95067  81.50614]\n",
      " [ 29.95067 238.02989]\n",
      " [255.37817 238.02989]\n",
      " [ 29.95067 159.84989]\n",
      " [ 86.26567 238.02989]\n",
      " [ 29.95068   3.32614]\n",
      " [142.74818   3.32614]\n",
      " [255.37818   3.32614]\n",
      " [142.74817 238.02989]\n",
      " [ 29.95067   3.32614]]\n",
      "[29.95067000000003, 86.26567000000003, 142.74817000000002, 199.06442, 255.37817] [0.0, 50.0, 100.0, 150.0, 200.0]\n",
      "[238.02989000000002, 159.84989000000002, 81.50614000000002, 3.3261400000000663] [0.0, 0.5, 1.0, 1.5]\n"
     ]
    }
   ],
   "source": [
    "# load svg data only if we haven't already got it\n",
    "try:\n",
    "    doc_GGA1\n",
    "except NameError:\n",
    "    doc_GGA1 = Document('edelweiss_bands_GGA1.svg')\n",
    "    doc_GGA1 = doc_GGA1.flatten_all_paths()\n",
    "\n",
    "# these are the points for the GGA1 graph\n",
    "graph_points_GGA1 = np.array([(0,0), (50,0), (100,0), (150,0), (200,0), (0,0.5), (0,1), (0,1.5)])\n",
    "\n",
    "# get_calib_fn (doc, graph_points):\n",
    "xcalib_fn, ycalib_fn = get_calib_fn(doc_GGA1, graph_points_GGA1)\n",
    "\n",
    "curve_idx = [7, 13, 19, 21, 23, 46]\n",
    "paths_GGA1 = []\n",
    "for idx in curve_idx:\n",
    "    paths_GGA1.append(get_paths(doc_GGA1, idx))\n",
    "    \n",
    "paths_GGA1 = list(itertools.chain(*paths_GGA1))\n",
    "    \n",
    "#print(paths_GGA1)\n",
    "\n"
   ]
  },
  {
   "cell_type": "code",
   "execution_count": 17,
   "metadata": {
    "collapsed": false
   },
   "outputs": [
    {
     "data": {
      "image/png": "[encoded data removed]",
      "text/plain": [
       "<Figure size 432x288 with 1 Axes>"
      ]
     },
     "metadata": {},
     "output_type": "display_data"
    }
   ],
   "source": [
    "# path 0: 68.75 keV inelastic scattering\n",
    "# path 1: average NR line\n",
    "# path 2: 13.26 keV inelastic\n",
    "# path 3: ionization threshold\n",
    "# path 4: lower nuclear recoil band\n",
    "# path 5: upper nuclear recoil band\n",
    "# path 6: upper and lower electron recoil band\n",
    "x_arr = np.linspace(0,1,200)\n",
    "point_table = []\n",
    "for idx, path in enumerate(paths_GGA1):\n",
    "    path0_arr = get_points_from_path(path, x_arr, xcalib_fn, ycalib_fn)\n",
    "    \n",
    "    # store in point_table for use later\n",
    "    point_table.append(path0_arr[:,0])\n",
    "    point_table.append(path0_arr[:,1])\n",
    "    \n",
    "    if True:\n",
    "        plt.plot(path0_arr[:,0], path0_arr[:,1],'.')\n",
    "\n",
    "#path1_arr = get_points_from_path(paths_GGA1[1], x_arr, xcalib_fn, ycalib_fn)\n",
    "\n",
    "#plt.plot(path0_arr[:,0], path0_arr[:,1],'r')\n",
    "#plt.plot(path1_arr[:,0], path1_arr[:,1],'r--')\n",
    "minorLocatorX = MultipleLocator(10)\n",
    "minorLocatorY = MultipleLocator(0.1)\n",
    "ax = plt.gca()\n",
    "ax.xaxis.set_minor_locator(minorLocatorX)\n",
    "ax.yaxis.set_minor_locator(minorLocatorY)\n",
    "plt.ylim(min(graph_points_GGA1[:,1]),max(graph_points_GGA1[:,1]))\n",
    "plt.yticks(list(set(graph_points_GGA1[:,1])))\n",
    "plt.tick_params(which=\"major\", right=True, top=True, direction=\"in\", length=12)\n",
    "plt.tick_params(which=\"minor\", right=True, top=True, direction=\"in\", length=10)\n",
    "# see https://jdhao.github.io/2017/06/03/change-aspect-ratio-in-mpl/\n",
    "ax.set_aspect(0.75*1.0/ax.get_data_ratio())\n",
    "plt.xlim(0,200)\n",
    "plt.xticks(list(set(graph_points_GGA1[:,0])))\n",
    "plt.show()\n",
    "\n",
    "#for path in paths_GGA1:\n",
    "    \n",
    "table = np.column_stack(point_table)\n",
    "#print(table)\n",
    "headers=[\"'Erecoil (keV)'\", \"'68.75 keV inelastic'\", \"'Erecoil (keV)'\", \"'Erecoil (keV)'\", \"'NR average'\",\\\n",
    "         \"'Erecoil (keV)'\", \"'13.26 keV inelastic'\", \\\n",
    "         \"'Erecoil (keV)'\", \"'threshold'\", \"'Erecoil (keV)'\", \\\n",
    "         \"'NR low band'\", \"'Erecoil (keV)'\", \"'NR high band'\", \\\n",
    "         \"'Erecoil (keV)'\", \"'ER band'\"]\n",
    "#print (tabulate(table, headers=headers, tablefmt=\"plain\", numalign=\"left\"))\n",
    "\n",
    "#with open(\"edelweiss_band_GGA1_curveData.txt\", \"w\") as text_file:\n",
    "#    print(tabulate(table, headers=headers, tablefmt=\"plain\", numalign=\"left\"), file=text_file)"
   ]
  },
  {
   "cell_type": "code",
   "execution_count": null,
   "metadata": {
    "collapsed": false,
    "scrolled": true
   },
   "outputs": [],
   "source": [
    "doc_ER = Document('edelweiss_ER_band_GGA3.svg')\n",
    "doc_ER = doc_ER.flatten_all_paths()\n",
    "\n",
    "# these are the points for the ER graph\n",
    "graph_points_ER = np.array([(0,0), (50,0), (100,0), (150,0), (200,0), (0,0.05), (0,0.1), (0,0.15)])\n",
    "\n",
    "# get_calib_fn (doc, graph_points):\n",
    "xcalib_fn_ER, ycalib_fn_ER = get_calib_fn(doc_ER, graph_points_ER)\n",
    "    \n",
    "print(xcalib_fn_ER(54.4), ycalib_fn_ER(64.4))\n",
    "print(xcalib_fn_ER(68.8), ycalib_fn_ER(86))"
   ]
  },
  {
   "cell_type": "code",
   "execution_count": null,
   "metadata": {
    "collapsed": false
   },
   "outputs": [],
   "source": [
    "doc_NR = Document('edelweiss_NR_band_GGA3.svg')\n",
    "doc_NR = doc_NR.flatten_all_paths()\n",
    "\n",
    "# these are the points for the NR graph\n",
    "graph_points_NR = np.array([(0,0), (50,0), (100,0), (150,0), (0,0.025), (0,0.05), (0,0.075), (0, 0.1)])\n",
    "\n",
    "# get_calib_fn (doc, graph_points):\n",
    "xcalib_fn_NR, ycalib_fn_NR = get_calib_fn(doc_NR, graph_points_NR)"
   ]
  },
  {
   "cell_type": "code",
   "execution_count": null,
   "metadata": {
    "collapsed": false,
    "scrolled": false
   },
   "outputs": [],
   "source": [
    "#paths[0].point(1)\n",
    "# choose paths from ER with 13 lines (those are the curves)\n",
    "paths_ER = get_paths(doc_ER, 13)\n",
    "\n",
    "x_arr = np.linspace(0,1,100)\n",
    "path0_arr = get_points_from_path(paths_ER[0], x_arr, xcalib_fn_ER, ycalib_fn_ER)\n",
    "path1_arr = get_points_from_path(paths_ER[1], x_arr, xcalib_fn_ER, ycalib_fn_ER)\n",
    "#print(path0_arr[1:5,:])\n",
    "plt.plot(path0_arr[:,0], path0_arr[:,1],'r')\n",
    "plt.plot(path1_arr[:,0], path1_arr[:,1],'r--')\n",
    "plt.ylim(0,0.15)\n",
    "plt.yticks([0, 0.05, 0.1, 0.15])\n",
    "plt.tick_params(right=True, direction=\"in\")\n",
    "# see https://jdhao.github.io/2017/06/03/change-aspect-ratio-in-mpl/\n",
    "#plt.Axes.set_aspect(1)\n",
    "plt.xlim(0,200)\n",
    "plt.show()\n",
    "\n",
    "table = np.column_stack([path0_arr[:,0], path0_arr[:,1], path1_arr[:,0], path1_arr[:,1]])\n",
    "#print(table)\n",
    "headers=[\"'Erecoil (keV) for aH=0.035'\", \"'ER yield width for aH=0.035'\", \"'Erecoil (keV) for aH=0.02'\", \"'ER yield width for aH=0.02'\"]\n",
    "#print (tabulate(table, headers=headers, tablefmt=\"plain\", numalign=\"left\"))\n",
    "\n",
    "#with open(\"edelweiss_ER_band_GGA3_curveData.txt\", \"w\") as text_file:\n",
    "#    print(tabulate(table, headers=headers, tablefmt=\"plain\", numalign=\"left\"), file=text_file)"
   ]
  },
  {
   "cell_type": "code",
   "execution_count": null,
   "metadata": {
    "collapsed": false,
    "scrolled": true
   },
   "outputs": [],
   "source": [
    "import itertools\n",
    "# choose paths from NR with 13, 8 lines (those are the curves)\n",
    "# this itertools thing is needed because get_paths returns an array of paths\n",
    "#print(get_paths(doc_NR,8)[0])\n",
    "paths_NR = list(itertools.chain(*(get_paths(doc_NR, 13), [get_paths(doc_NR,8)[0]])))\n",
    "#print(paths_NR)\n",
    "#print(\"end paths_NR\")\n",
    "\n",
    "x_arr = np.linspace(0,1,100)\n",
    "path0_arr = get_points_from_path(paths_NR[0], x_arr, xcalib_fn_NR, ycalib_fn_NR)\n",
    "path1_arr = get_points_from_path(paths_NR[1], x_arr, xcalib_fn_NR, ycalib_fn_NR)\n",
    "#print(path0_arr[1:5,:])\n",
    "plt.plot(path0_arr[:,0], path0_arr[:,1],'r--')\n",
    "plt.plot(path1_arr[:,0], path1_arr[:,1],'r')\n",
    "plt.ylim(0,0.1)\n",
    "plt.xlim(0,150)\n",
    "plt.yticks([0, 0.025, 0.05, 0.075, 0.1])\n",
    "plt.tick_params(right=True, direction=\"in\")\n",
    "plt.show()\n",
    "\n",
    "\n",
    "table = np.column_stack([path1_arr[:,0], path1_arr[:,1], path0_arr[:,0], path0_arr[:,1]])\n",
    "#print(table)\n",
    "headers=[\"'Erecoil (keV) for C=0.04'\", \"'ER yield width for C=0.04'\", \"'Erecoil (keV) for C=0'\", \"'ER yield width for C=0'\"]\n",
    "#print (tabulate(table, headers=headers, tablefmt=\"plain\", numalign=\"left\"))\n",
    "\n",
    "#with open(\"edelweiss_NR_band_GGA3_curveData.txt\", \"w\") as text_file:\n",
    "#    print(tabulate(table, headers=headers, tablefmt=\"plain\", numalign=\"left\"), file=text_file)"
   ]
  },
  {
   "cell_type": "code",
   "execution_count": null,
   "metadata": {
    "collapsed": false,
    "scrolled": false
   },
   "outputs": [],
   "source": [
    "idx = 5\n",
    "print(paths[idx], attributes[idx])\n",
    "\n",
    "print(\"path is continuous? \", paths[idx].iscontinuous())\n",
    "print(\"path is closed? \", paths[idx].isclosed())"
   ]
  },
  {
   "cell_type": "code",
   "execution_count": null,
   "metadata": {
    "collapsed": false
   },
   "outputs": [],
   "source": [
    "#paths[idx].isclosed()\n"
   ]
  }
 ],
 "metadata": {
  "anaconda-cloud": {},
  "kernelspec": {
   "display_name": "Python [conda env:Anaconda3]",
   "language": "python",
   "name": "conda-env-Anaconda3-py"
  },
  "language_info": {
   "codemirror_mode": {
    "name": "ipython",
    "version": 3
   },
   "file_extension": ".py",
   "mimetype": "text/x-python",
   "name": "python",
   "nbconvert_exporter": "python",
   "pygments_lexer": "ipython3",
   "version": "3.5.2"
  }
 },
 "nbformat": 4,
 "nbformat_minor": 1
}
