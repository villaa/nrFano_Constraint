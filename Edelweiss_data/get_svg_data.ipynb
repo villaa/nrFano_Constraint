{
 "cells": [
  {
   "cell_type": "code",
   "execution_count": 25,
   "metadata": {
    "collapsed": false
   },
   "outputs": [],
   "source": [
    "import matplotlib.pyplot as plt\n",
    "from matplotlib.ticker import MultipleLocator\n",
    "import mpld3\n",
    "import numpy as np\n",
    "from tabulate import tabulate\n",
    "\n",
    "# change these imports???\n",
    "from svgpathtools import *\n",
    "from svg_extract_data import *\n",
    "\n",
    "#%matplotlib notebook\n",
    "%matplotlib inline\n",
    "#mpld3.enable_notebook()"
   ]
  },
  {
   "cell_type": "code",
   "execution_count": 2,
   "metadata": {
    "collapsed": false
   },
   "outputs": [
    {
     "data": {
      "text/plain": [
       "\"\\ndoc = Document('edelweiss_ER_band_GGA3.svg')\\ndoc = doc.flatten_all_paths()\\nprint (doc[0].path[0].start.real)\\nprint(len(doc[0].path))\\nprint (doc[0].path[0].length())\\n\""
      ]
     },
     "execution_count": 2,
     "metadata": {},
     "output_type": "execute_result"
    }
   ],
   "source": [
    "# svg2paths does not apply relevant transformation to paths!\n",
    "#paths, attributes = svg2paths('edelweiss_ER_band_GGA3.svg')\n",
    "\n",
    "# Document does apply relevant transformations, it's what you need\n",
    "\"\"\"\n",
    "doc = Document('edelweiss_ER_band_GGA3.svg')\n",
    "doc = doc.flatten_all_paths()\n",
    "print (doc[0].path[0].start.real)\n",
    "print(len(doc[0].path))\n",
    "print (doc[0].path[0].length())\n",
    "\"\"\""
   ]
  },
  {
   "cell_type": "code",
   "execution_count": 3,
   "metadata": {
    "collapsed": false
   },
   "outputs": [],
   "source": [
    "# in ER, GGA3\n",
    "# paths with 4 lines are error bars, bounding box\n",
    "# paths with 10 are the bins, huh\n",
    "# paths with 13 are the resolution curves\n",
    "# path with 12 is the top/right axis with ticks\n",
    "# paths wth 5 is left axis with ticks\n",
    "# paths with 6 is bottom axis with ticks\n",
    "\n",
    "# in NR, GGA3\n",
    "# paths with 4 lines are maybe some of the data points?\n",
    "# path with 5 lines is axis box with bottom tick marks\n",
    "# two paths with 6 lines: (1) bin marks and (2) left y-axis with tick marks\n",
    "# paths with 7 lines are maybe more data points?\n",
    "# paths with 8 lines are resolution curve (0 index) and data points\n",
    "# paths with 8, 13 are the resolution curves\n",
    "# path with 12 is the top/right axis with ticks\n",
    "\n",
    "# for bands, GGA1\n",
    "# paths with 4 lines seem to be data points (doesn't graph so well, there are lots!)\n",
    "# path with 7 lines is some kind of curve\n",
    "# path with 13 lines also curve\n",
    "# path with 17 lines left y-axis with minor, major ticks\n",
    "# path with 19 lines a curve\n",
    "# path with 21 a curve\n",
    "# path with 22 bottom x-axis with minor, major ticks\n",
    "# paths with 23 lines are both curves\n",
    "# path with 40 lines is top/right axes with minor, major ticks and line at Y=1\n",
    "# path with 46 lines seems to be the ER band, both top and bottom\n",
    "\n",
    "def get_paths(doc, path_len):\n",
    "    #import matplotlib.pyplot as plt\n",
    "    #import numpy as np\n",
    "    path_arr = []\n",
    "    \n",
    "    #print ([len(result.path) for result in doc])\n",
    "    \n",
    "    for result in doc:\n",
    "        path = result.path\n",
    "\n",
    "        if len(path) == path_len: # maybe these are error bars?\n",
    "            path_arr.append(path)\n",
    "            #print (path)\n",
    "            #for line in path:\n",
    "                # if the line is NOT a Bezier curve\n",
    "                #if not hasattr(line, 'control1'):\n",
    "                    #print (\"plotting, \", len(path))\n",
    "\n",
    "    return path_arr\n",
    "\n",
    "def plot_paths(paths):\n",
    "    for path in paths:\n",
    "        for line in path:\n",
    "            #print(path)\n",
    "            plt.plot([line.start.real,line.end.real],[line.start.imag,line.end.imag],'ro-',label='python')\n",
    "            \n",
    "    #plt.ylim(0,200)\n",
    "    #plt.xlim(0,200)\n"
   ]
  },
  {
   "cell_type": "code",
   "execution_count": 4,
   "metadata": {
    "collapsed": false,
    "scrolled": false
   },
   "outputs": [],
   "source": [
    "if False:\n",
    "    doc = Document('edelweiss_bands_GGA1.svg')\n",
    "    doc = doc.flatten_all_paths()\n",
    "\n",
    "    #print(len(paths)) #2 paths with 13 lines in edelweiss_ER_band_GGA3.svg\n",
    "    #paths_ER = get_paths(doc, 13)\n",
    "    #plot_paths(paths_ER)\n",
    "\n",
    "    paths_NR = get_paths(doc, 46)\n",
    "    print(len(paths_NR))\n",
    "    plot_paths(paths_NR)\n",
    "    #plot_paths((paths_NR[0],))\n",
    "    #print(paths_NR[0])\n",
    "\n",
    "    plt.show()"
   ]
  },
  {
   "cell_type": "code",
   "execution_count": 34,
   "metadata": {
    "collapsed": false,
    "scrolled": false
   },
   "outputs": [
    {
     "name": "stdout",
     "output_type": "stream",
     "text": [
      "29.95067000000003 256.79693 2.1674000000000433 239.68490000000006\n",
      "[Line(start=(29.950680000000006+3.3261400000000094j), end=(255.37818000000001+3.3261400000000094j)), Line(start=(255.37818000000001+238.02989000000002j), end=(29.950680000000006+238.02989000000002j)), Line(start=(29.950680000000006+3.3261400000000663j), end=(255.37818000000001+3.3261400000000663j)), Line(start=(31.110679999999974+81.50614000000004j), end=(254.21942999999996+81.50614000000004j)), Line(start=(29.95067000000003+238.02989000000002j), end=(255.37817000000004+238.02989000000002j))] [Line(start=(255.37818000000001+3.3261400000000094j), end=(255.37818000000001+238.02989000000002j)), Line(start=(29.950680000000006+238.02989000000002j), end=(29.950680000000006+3.3261400000000094j)), Line(start=(255.37818000000001+238.02989000000002j), end=(255.37818000000001+3.3261400000000094j)), Line(start=(29.95067000000003+238.02989000000002j), end=(29.95067000000003+3.3261400000000094j))]\n",
      "[5.6299999999999955, 11.263749999999987]\n",
      "[5.6299999999999955, 11.262499999999989]\n",
      "svg calibration points:\n",
      "[[ 86.26568   3.32614]\n",
      " [199.06443   3.32614]\n",
      " [199.06442 238.02989]\n",
      " [ 29.95067  81.50614]\n",
      " [ 29.95067 238.02989]\n",
      " [255.37817 238.02989]\n",
      " [ 29.95067 159.84989]\n",
      " [ 86.26567 238.02989]\n",
      " [ 29.95068   3.32614]\n",
      " [142.74818   3.32614]\n",
      " [255.37818   3.32614]\n",
      " [142.74817 238.02989]\n",
      " [ 29.95067   3.32614]]\n",
      "[29.95067000000003, 86.26567000000003, 142.74817000000002, 199.06442, 255.37817] [0.0, 50.0, 100.0, 150.0, 200.0]\n",
      "[238.02989000000002, 159.84989000000002, 81.50614000000002, 3.3261400000000663] [0.0, 0.5, 1.0, 1.5]\n"
     ]
    },
    {
     "data": {
      "image/png": "[encoded data removed]",
      "text/plain": [
       "<Figure size 432x288 with 1 Axes>"
      ]
     },
     "metadata": {},
     "output_type": "display_data"
    }
   ],
   "source": [
    "# load svg data only if we haven't already got it\n",
    "try:\n",
    "    doc_GGA1\n",
    "except NameError:\n",
    "    doc_GGA1 = Document('edelweiss_bands_GGA1.svg')\n",
    "    doc_GGA1 = doc_GGA1.flatten_all_paths()\n",
    "\n",
    "# these are the points for the GGA1 graph\n",
    "graph_points_GGA1 = np.array([(0,0), (50,0), (100,0), (150,0), (200,0), (0,0.5), (0,1), (0,1.5)])\n",
    "\n",
    "# get_calib_fn (doc, graph_points):\n",
    "xcalib_fn, ycalib_fn = get_calib_fn(doc_GGA1, graph_points_GGA1)\n",
    "\n",
    "curve_idx = [7, 13, 19, 21, 23, 46]\n",
    "paths_GGA1 = []\n",
    "for idx in curve_idx:\n",
    "    paths_GGA1.append(get_paths(doc_GGA1, idx))\n",
    "    \n",
    "paths_GGA1 = list(itertools.chain(*paths_GGA1))\n",
    "    \n",
    "#print(paths_GGA1)\n",
    "\n",
    "x_arr = np.linspace(0,1,200)\n",
    "for path in paths_GGA1:\n",
    "    path0_arr = get_points_from_path(path, x_arr, xcalib_fn, ycalib_fn)\n",
    "    plt.plot(path0_arr[:,0], path0_arr[:,1],'.')\n",
    "    \n",
    "    \n",
    "#path1_arr = get_points_from_path(paths_GGA1[1], x_arr, xcalib_fn, ycalib_fn)\n",
    "\n",
    "#plt.plot(path0_arr[:,0], path0_arr[:,1],'r')\n",
    "#plt.plot(path1_arr[:,0], path1_arr[:,1],'r--')\n",
    "minorLocatorX = MultipleLocator(10)\n",
    "minorLocatorY = MultipleLocator(0.1)\n",
    "ax = plt.gca()\n",
    "ax.xaxis.set_minor_locator(minorLocatorX)\n",
    "ax.yaxis.set_minor_locator(minorLocatorY)\n",
    "plt.ylim(min(graph_points_GGA1[:,1]),max(graph_points_GGA1[:,1]))\n",
    "plt.yticks(list(set(graph_points_GGA1[:,1])))\n",
    "plt.tick_params(which=\"major\", right=True, top=True, direction=\"in\", length=12)\n",
    "plt.tick_params(which=\"minor\", right=True, top=True, direction=\"in\", length=10)\n",
    "# see https://jdhao.github.io/2017/06/03/change-aspect-ratio-in-mpl/\n",
    "ax.set_aspect(0.75*1.0/ax.get_data_ratio())\n",
    "plt.xlim(0,200)\n",
    "plt.xticks(list(set(graph_points_GGA1[:,0])))\n",
    "plt.show()"
   ]
  },
  {
   "cell_type": "code",
   "execution_count": 6,
   "metadata": {
    "collapsed": false,
    "scrolled": true
   },
   "outputs": [
    {
     "name": "stdout",
     "output_type": "stream",
     "text": [
      "34.73079000000004 175.06081 1.6618999999999744 147.37939999999998\n",
      "[Line(start=(34.730800000000016+2.5768999999999664j), end=(175.06080000000006+2.5768999999999664j)), Line(start=(175.06080000000006+147.37939999999998j), end=(34.730800000000016+147.37939999999998j)), Line(start=(34.730800000000016+147.37939999999998j), end=(175.0608+147.37939999999998j))] [Line(start=(175.06080000000006+2.5768999999999664j), end=(175.06080000000006+147.37939999999998j)), Line(start=(34.730800000000016+147.37939999999998j), end=(34.730800000000016+2.5768999999999664j)), Line(start=(48.77955+147.37939999999998j), end=(48.77955+2.4343999999999824j)), Line(start=(62.8283+147.37939999999998j), end=(62.8283+2.41689999999997j)), Line(start=(76.8783+147.37939999999998j), end=(76.8783+1.6618999999999744j)), Line(start=(90.84705+147.37939999999998j), end=(90.84705+2.6393999999999664j)), Line(start=(104.89580000000001+147.37939999999998j), end=(104.89580000000001+2.509399999999971j)), Line(start=(118.94454999999999+147.37939999999998j), end=(118.94454999999999+2.5831499999999608j)), Line(start=(132.99455+147.37939999999998j), end=(132.99455+2.5468999999999653j)), Line(start=(146.9633+147.37939999999998j), end=(146.9633+2.5656499999999767j)), Line(start=(161.01205+147.37939999999998j), end=(161.01205+2.601899999999972j)), Line(start=(175.0608+147.37939999999998j), end=(175.0608+2.5768999999999664j)), Line(start=(175.06079000000003+147.37939999999998j), end=(175.06079000000003+2.5768999999999664j))]\n",
      "[3.5924999999999727]\n",
      "[3.6724999999999994]\n",
      "svg calibration points:\n",
      "[[ 34.7308  147.3794 ]\n",
      " [104.89579   2.5769 ]\n",
      " [175.06079   2.5769 ]\n",
      " [ 34.7308   50.8719 ]\n",
      " [139.93829   2.5769 ]\n",
      " [ 69.85455 147.3794 ]\n",
      " [104.8958  147.3794 ]\n",
      " [ 34.7308    2.5769 ]\n",
      " [ 34.7308   99.0844 ]\n",
      " [ 34.73079   2.5769 ]\n",
      " [175.0608  147.3794 ]\n",
      " [ 69.85454   2.5769 ]\n",
      " [139.9383  147.3794 ]]\n",
      "[34.730800000000016, 69.85455000000002, 104.89580000000002, 139.93830000000003, 175.0608] [0.0, 50.0, 100.0, 150.0, 200.0]\n",
      "[147.37939999999998, 99.08439999999997, 50.87189999999997, 2.5768999999999664] [0.0, 0.05, 0.1, 0.15]\n",
      "28.015767694788522 0.08595908661429012\n",
      "48.54357026934723 0.06358123501749227\n"
     ]
    }
   ],
   "source": [
    "doc_ER = Document('edelweiss_ER_band_GGA3.svg')\n",
    "doc_ER = doc_ER.flatten_all_paths()\n",
    "\n",
    "# these are the points for the ER graph\n",
    "graph_points_ER = np.array([(0,0), (50,0), (100,0), (150,0), (200,0), (0,0.05), (0,0.1), (0,0.15)])\n",
    "\n",
    "# get_calib_fn (doc, graph_points):\n",
    "xcalib_fn_ER, ycalib_fn_ER = get_calib_fn(doc_ER, graph_points_ER)\n",
    "    \n",
    "print(xcalib_fn_ER(54.4), ycalib_fn_ER(64.4))\n",
    "print(xcalib_fn_ER(68.8), ycalib_fn_ER(86))"
   ]
  },
  {
   "cell_type": "code",
   "execution_count": 7,
   "metadata": {
    "collapsed": false
   },
   "outputs": [
    {
     "name": "stdout",
     "output_type": "stream",
     "text": [
      "39.09999999999991 183.90000000000003 2.4593999999999028 147.37940000000003\n",
      "[Line(start=(39.099999999999966+2.576909999999998j), end=(183.89999999999992+2.576909999999998j)), Line(start=(183.89999999999992+147.37940000000003j), end=(39.09999999999991+147.37940000000003j)), Line(start=(39.099999999999966+147.37939999999992j), end=(183.89999999999998+147.37939999999992j))] [Line(start=(183.89999999999992+2.576909999999998j), end=(183.89999999999992+147.37940000000003j)), Line(start=(39.09999999999991+147.37940000000003j), end=(39.09999999999991+2.576909999999998j)), Line(start=(48.67874999999998+147.37939999999992j), end=(48.67874999999998+2.509399999999914j)), Line(start=(58.33999999999998+147.37939999999992j), end=(58.33999999999998+2.4593999999999028j)), Line(start=(67.99624999999997+147.37939999999992j), end=(67.99624999999997+2.5268999999998982j)), Line(start=(77.65624999999997+147.37939999999992j), end=(77.65624999999997+2.6018999999999153j)), Line(start=(87.31374999999998+147.37939999999992j), end=(87.31374999999998+2.5268999999998982j)), Line(start=(106.63374999999998+147.37939999999992j), end=(106.63374999999998+2.583149999999904j)), Line(start=(183.90000000000003+147.37939999999992j), end=(183.90000000000003+2.5768999999999096j)), Line(start=(39.099999999999966+147.37939999999992j), end=(39.099999999999966+2.5768999999999096j))]\n",
      "[5.684341886080802e-14, 3.592500000000001]\n",
      "[5.684341886080802e-14, 3.5900000000000034, 10.414999999999992]\n",
      "svg calibration points:\n",
      "[[183.9     147.3794 ]\n",
      " [ 87.31375 147.3794 ]\n",
      " [ 39.1       2.5769 ]\n",
      " [ 39.1     111.21815]\n",
      " [ 39.1      38.73815]\n",
      " [ 39.1     147.3794 ]\n",
      " [135.6075  147.3794 ]\n",
      " [ 39.1      74.97815]\n",
      " [ 39.1       2.5769 ]]\n",
      "[39.099999999999966, 87.31374999999997, 135.60749999999996, 183.89999999999995] [0.0, 50.0, 100.0, 150.0]\n",
      "[147.37939999999992, 111.21814999999992, 74.97814999999991, 38.73814999999992, 2.5768999999999096] [0.0, 0.025, 0.05, 0.075, 0.1]\n"
     ]
    }
   ],
   "source": [
    "doc_NR = Document('edelweiss_NR_band_GGA3.svg')\n",
    "doc_NR = doc_NR.flatten_all_paths()\n",
    "\n",
    "# these are the points for the NR graph\n",
    "graph_points_NR = np.array([(0,0), (50,0), (100,0), (150,0), (0,0.025), (0,0.05), (0,0.075), (0, 0.1)])\n",
    "\n",
    "# get_calib_fn (doc, graph_points):\n",
    "xcalib_fn_NR, ycalib_fn_NR = get_calib_fn(doc_NR, graph_points_NR)"
   ]
  },
  {
   "cell_type": "code",
   "execution_count": 8,
   "metadata": {
    "collapsed": false,
    "scrolled": false
   },
   "outputs": [
    {
     "data": {
      "image/png": "[encoded data removed]",
      "text/plain": [
       "<Figure size 432x288 with 1 Axes>"
      ]
     },
     "metadata": {},
     "output_type": "display_data"
    }
   ],
   "source": [
    "#paths[0].point(1)\n",
    "# choose paths from ER with 13 lines (those are the curves)\n",
    "paths_ER = get_paths(doc_ER, 13)\n",
    "\n",
    "x_arr = np.linspace(0,1,100)\n",
    "path0_arr = get_points_from_path(paths_ER[0], x_arr, xcalib_fn_ER, ycalib_fn_ER)\n",
    "path1_arr = get_points_from_path(paths_ER[1], x_arr, xcalib_fn_ER, ycalib_fn_ER)\n",
    "#print(path0_arr[1:5,:])\n",
    "plt.plot(path0_arr[:,0], path0_arr[:,1],'r')\n",
    "plt.plot(path1_arr[:,0], path1_arr[:,1],'r--')\n",
    "plt.ylim(0,0.15)\n",
    "plt.yticks([0, 0.05, 0.1, 0.15])\n",
    "plt.tick_params(right=True, direction=\"in\")\n",
    "# see https://jdhao.github.io/2017/06/03/change-aspect-ratio-in-mpl/\n",
    "#plt.Axes.set_aspect(1)\n",
    "plt.xlim(0,200)\n",
    "plt.show()\n",
    "\n",
    "table = np.column_stack([path0_arr[:,0], path0_arr[:,1], path1_arr[:,0], path1_arr[:,1]])\n",
    "#print(table)\n",
    "headers=[\"'Erecoil (keV) for aH=0.035'\", \"'ER yield width for aH=0.035'\", \"'Erecoil (keV) for aH=0.02'\", \"'ER yield width for aH=0.02'\"]\n",
    "#print (tabulate(table, headers=headers, tablefmt=\"plain\", numalign=\"left\"))\n",
    "\n",
    "#with open(\"edelweiss_ER_band_GGA3_curveData.txt\", \"w\") as text_file:\n",
    "#    print(tabulate(table, headers=headers, tablefmt=\"plain\", numalign=\"left\"), file=text_file)"
   ]
  },
  {
   "cell_type": "code",
   "execution_count": 9,
   "metadata": {
    "collapsed": false,
    "scrolled": true
   },
   "outputs": [
    {
     "data": {
      "image/png": "[encoded data removed]",
      "text/plain": [
       "<Figure size 432x288 with 1 Axes>"
      ]
     },
     "metadata": {},
     "output_type": "display_data"
    }
   ],
   "source": [
    "import itertools\n",
    "# choose paths from NR with 13, 8 lines (those are the curves)\n",
    "# this itertools thing is needed because get_paths returns an array of paths\n",
    "#print(get_paths(doc_NR,8)[0])\n",
    "paths_NR = list(itertools.chain(*(get_paths(doc_NR, 13), [get_paths(doc_NR,8)[0]])))\n",
    "#print(paths_NR)\n",
    "#print(\"end paths_NR\")\n",
    "\n",
    "x_arr = np.linspace(0,1,100)\n",
    "path0_arr = get_points_from_path(paths_NR[0], x_arr, xcalib_fn_NR, ycalib_fn_NR)\n",
    "path1_arr = get_points_from_path(paths_NR[1], x_arr, xcalib_fn_NR, ycalib_fn_NR)\n",
    "#print(path0_arr[1:5,:])\n",
    "plt.plot(path0_arr[:,0], path0_arr[:,1],'r--')\n",
    "plt.plot(path1_arr[:,0], path1_arr[:,1],'r')\n",
    "plt.ylim(0,0.1)\n",
    "plt.xlim(0,150)\n",
    "plt.yticks([0, 0.025, 0.05, 0.075, 0.1])\n",
    "plt.tick_params(right=True, direction=\"in\")\n",
    "plt.show()\n",
    "\n",
    "\n",
    "table = np.column_stack([path1_arr[:,0], path1_arr[:,1], path0_arr[:,0], path0_arr[:,1]])\n",
    "#print(table)\n",
    "headers=[\"'Erecoil (keV) for C=0.04'\", \"'ER yield width for C=0.04'\", \"'Erecoil (keV) for C=0'\", \"'ER yield width for C=0'\"]\n",
    "#print (tabulate(table, headers=headers, tablefmt=\"plain\", numalign=\"left\"))\n",
    "\n",
    "#with open(\"edelweiss_NR_band_GGA3_curveData.txt\", \"w\") as text_file:\n",
    "#    print(tabulate(table, headers=headers, tablefmt=\"plain\", numalign=\"left\"), file=text_file)"
   ]
  },
  {
   "cell_type": "code",
   "execution_count": 10,
   "metadata": {
    "collapsed": false,
    "scrolled": false
   },
   "outputs": [
    {
     "ename": "NameError",
     "evalue": "name 'paths' is not defined",
     "output_type": "error",
     "traceback": [
      "\u001b[0;31m---------------------------------------------------------------------------\u001b[0m",
      "\u001b[0;31mNameError\u001b[0m                                 Traceback (most recent call last)",
      "\u001b[0;32m<ipython-input-10-dcfa4e18aba5>\u001b[0m in \u001b[0;36m<module>\u001b[0;34m()\u001b[0m\n\u001b[1;32m      1\u001b[0m \u001b[0midx\u001b[0m \u001b[1;33m=\u001b[0m \u001b[1;36m5\u001b[0m\u001b[1;33m\u001b[0m\u001b[0m\n\u001b[0;32m----> 2\u001b[0;31m \u001b[0mprint\u001b[0m\u001b[1;33m(\u001b[0m\u001b[0mpaths\u001b[0m\u001b[1;33m[\u001b[0m\u001b[0midx\u001b[0m\u001b[1;33m]\u001b[0m\u001b[1;33m,\u001b[0m \u001b[0mattributes\u001b[0m\u001b[1;33m[\u001b[0m\u001b[0midx\u001b[0m\u001b[1;33m]\u001b[0m\u001b[1;33m)\u001b[0m\u001b[1;33m\u001b[0m\u001b[0m\n\u001b[0m\u001b[1;32m      3\u001b[0m \u001b[1;33m\u001b[0m\u001b[0m\n\u001b[1;32m      4\u001b[0m \u001b[0mprint\u001b[0m\u001b[1;33m(\u001b[0m\u001b[1;34m\"path is continuous? \"\u001b[0m\u001b[1;33m,\u001b[0m \u001b[0mpaths\u001b[0m\u001b[1;33m[\u001b[0m\u001b[0midx\u001b[0m\u001b[1;33m]\u001b[0m\u001b[1;33m.\u001b[0m\u001b[0miscontinuous\u001b[0m\u001b[1;33m(\u001b[0m\u001b[1;33m)\u001b[0m\u001b[1;33m)\u001b[0m\u001b[1;33m\u001b[0m\u001b[0m\n\u001b[1;32m      5\u001b[0m \u001b[0mprint\u001b[0m\u001b[1;33m(\u001b[0m\u001b[1;34m\"path is closed? \"\u001b[0m\u001b[1;33m,\u001b[0m \u001b[0mpaths\u001b[0m\u001b[1;33m[\u001b[0m\u001b[0midx\u001b[0m\u001b[1;33m]\u001b[0m\u001b[1;33m.\u001b[0m\u001b[0misclosed\u001b[0m\u001b[1;33m(\u001b[0m\u001b[1;33m)\u001b[0m\u001b[1;33m)\u001b[0m\u001b[1;33m\u001b[0m\u001b[0m\n",
      "\u001b[0;31mNameError\u001b[0m: name 'paths' is not defined"
     ]
    }
   ],
   "source": [
    "idx = 5\n",
    "print(paths[idx], attributes[idx])\n",
    "\n",
    "print(\"path is continuous? \", paths[idx].iscontinuous())\n",
    "print(\"path is closed? \", paths[idx].isclosed())"
   ]
  },
  {
   "cell_type": "code",
   "execution_count": null,
   "metadata": {
    "collapsed": false
   },
   "outputs": [],
   "source": [
    "#paths[idx].isclosed()\n"
   ]
  }
 ],
 "metadata": {
  "anaconda-cloud": {},
  "kernelspec": {
   "display_name": "Python [conda env:Anaconda3]",
   "language": "python",
   "name": "conda-env-Anaconda3-py"
  },
  "language_info": {
   "codemirror_mode": {
    "name": "ipython",
    "version": 3
   },
   "file_extension": ".py",
   "mimetype": "text/x-python",
   "name": "python",
   "nbconvert_exporter": "python",
   "pygments_lexer": "ipython3",
   "version": "3.5.2"
  }
 },
 "nbformat": 4,
 "nbformat_minor": 1
}
