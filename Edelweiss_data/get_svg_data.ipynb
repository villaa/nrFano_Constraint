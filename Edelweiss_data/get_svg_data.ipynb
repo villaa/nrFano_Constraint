{
 "cells": [
  {
   "cell_type": "code",
   "execution_count": 1,
   "metadata": {
    "collapsed": false
   },
   "outputs": [],
   "source": [
    "import matplotlib.pyplot as plt\n",
    "import mpld3\n",
    "import numpy as np\n",
    "from tabulate import tabulate\n",
    "\n",
    "# change these imports???\n",
    "from svgpathtools import *\n",
    "from svg_extract_data import *\n",
    "\n",
    "#%matplotlib notebook\n",
    "%matplotlib inline\n",
    "#mpld3.enable_notebook()"
   ]
  },
  {
   "cell_type": "code",
   "execution_count": 2,
   "metadata": {
    "collapsed": false
   },
   "outputs": [
    {
     "data": {
      "text/plain": [
       "\"\\ndoc = Document('edelweiss_ER_band_GGA3.svg')\\ndoc = doc.flatten_all_paths()\\nprint (doc[0].path[0].start.real)\\nprint(len(doc[0].path))\\nprint (doc[0].path[0].length())\\n\""
      ]
     },
     "execution_count": 2,
     "metadata": {},
     "output_type": "execute_result"
    }
   ],
   "source": [
    "# svg2paths does not apply relevant transformation to paths!\n",
    "#paths, attributes = svg2paths('edelweiss_ER_band_GGA3.svg')\n",
    "\n",
    "# Document does apply relevant transformations, it's what you need\n",
    "\"\"\"\n",
    "doc = Document('edelweiss_ER_band_GGA3.svg')\n",
    "doc = doc.flatten_all_paths()\n",
    "print (doc[0].path[0].start.real)\n",
    "print(len(doc[0].path))\n",
    "print (doc[0].path[0].length())\n",
    "\"\"\""
   ]
  },
  {
   "cell_type": "code",
   "execution_count": 3,
   "metadata": {
    "collapsed": false
   },
   "outputs": [],
   "source": [
    "# in ER, GGA3\n",
    "# paths with 4 lines are error bars, bounding box\n",
    "# paths with 10 are the bins, huh\n",
    "# paths with 13 are the resolution curves\n",
    "# path with 12 is the top/right axis with ticks\n",
    "# paths wth 5 is left axis with ticks\n",
    "# paths with 6 is bottom axis with ticks\n",
    "\n",
    "# in NR, GGA3\n",
    "# paths with 4 lines are maybe some of the data points?\n",
    "# path with 5 lines is axis box with bottom tick marks\n",
    "# two paths with 6 lines: (1) bin marks and (2) left y-axis with tick marks\n",
    "# paths with 7 lines are maybe more data points?\n",
    "# paths with 8 lines are resolution curve (0 index) and data points\n",
    "# paths with 8, 13 are the resolution curves\n",
    "# path with 12 is the top/right axis with ticks\n",
    "\n",
    "# for bands, GGA1\n",
    "# paths with 4 lines seem to be data points (doesn't graph so well, there are lots!)\n",
    "# path with 7 lines is some kind of curve\n",
    "# path with 13 lines also curve\n",
    "# path with 17 lines left y-axis with minor, major ticks\n",
    "# path with 19 lines a curve\n",
    "# path with 21 a curve\n",
    "# path with 22 bottom x-axis with minor, major ticks\n",
    "# paths with 23 lines are both curves\n",
    "# path with 40 lines is top/right axes with minor, major ticks and line at Y=1\n",
    "# path with 46 lines seems to be the ER band, both top and bottom\n",
    "\n",
    "def get_paths(doc, path_len):\n",
    "    #import matplotlib.pyplot as plt\n",
    "    #import numpy as np\n",
    "    path_arr = []\n",
    "    \n",
    "    #print ([len(result.path) for result in doc])\n",
    "    \n",
    "    for result in doc:\n",
    "        path = result.path\n",
    "\n",
    "        if len(path) == path_len: # maybe these are error bars?\n",
    "            path_arr.append(path)\n",
    "            #print (path)\n",
    "            #for line in path:\n",
    "                # if the line is NOT a Bezier curve\n",
    "                #if not hasattr(line, 'control1'):\n",
    "                    #print (\"plotting, \", len(path))\n",
    "\n",
    "    return path_arr\n",
    "\n",
    "def plot_paths(paths):\n",
    "    for path in paths:\n",
    "        for line in path:\n",
    "            #print(path)\n",
    "            plt.plot([line.start.real,line.end.real],[line.start.imag,line.end.imag],'ro-',label='python')\n",
    "            \n",
    "    #plt.ylim(0,200)\n",
    "    #plt.xlim(0,200)\n"
   ]
  },
  {
   "cell_type": "code",
   "execution_count": 4,
   "metadata": {
    "collapsed": false,
    "scrolled": false
   },
   "outputs": [],
   "source": [
    "if False:\n",
    "    doc = Document('edelweiss_bands_GGA1.svg')\n",
    "    doc = doc.flatten_all_paths()\n",
    "\n",
    "    #print(len(paths)) #2 paths with 13 lines in edelweiss_ER_band_GGA3.svg\n",
    "    #paths_ER = get_paths(doc, 13)\n",
    "    #plot_paths(paths_ER)\n",
    "\n",
    "    paths_NR = get_paths(doc, 46)\n",
    "    print(len(paths_NR))\n",
    "    plot_paths(paths_NR)\n",
    "    #plot_paths((paths_NR[0],))\n",
    "    #print(paths_NR[0])\n",
    "\n",
    "    plt.show()"
   ]
  },
  {
   "cell_type": "code",
   "execution_count": 5,
   "metadata": {
    "collapsed": false,
    "scrolled": false
   },
   "outputs": [
    {
     "name": "stdout",
     "output_type": "stream",
     "text": [
      "29.95067000000003 256.79693 2.1674000000000433 239.68490000000006\n",
      "[Line(start=(29.950680000000006+3.3261400000000094j), end=(255.37818000000001+3.3261400000000094j)), Line(start=(255.37818000000001+238.02989000000002j), end=(29.950680000000006+238.02989000000002j)), Line(start=(29.950680000000006+3.3261400000000663j), end=(255.37818000000001+3.3261400000000663j)), Line(start=(31.110679999999974+81.50614000000004j), end=(254.21942999999996+81.50614000000004j)), Line(start=(29.95067000000003+238.02989000000002j), end=(255.37817000000004+238.02989000000002j))] [Line(start=(255.37818000000001+3.3261400000000094j), end=(255.37818000000001+238.02989000000002j)), Line(start=(29.950680000000006+238.02989000000002j), end=(29.950680000000006+3.3261400000000094j)), Line(start=(255.37818000000001+238.02989000000002j), end=(255.37818000000001+3.3261400000000094j)), Line(start=(29.95067000000003+238.02989000000002j), end=(29.95067000000003+3.3261400000000094j))]\n",
      "line length  11.262499999999989\n",
      "line length  5.6299999999999955\n",
      "line length  5.6299999999999955\n",
      "line length  5.6299999999999955\n",
      "line length  5.6299999999999955\n",
      "line length  11.262499999999989\n",
      "line length  5.6299999999999955\n",
      "line length  5.6299999999999955\n",
      "line length  5.6299999999999955\n",
      "line length  5.6299999999999955\n",
      "line length  11.262499999999989\n",
      "line length  5.6299999999999955\n",
      "line length  5.6299999999999955\n",
      "line length  5.6299999999999955\n",
      "line length  5.6299999999999955\n",
      "line length  11.262499999999989\n",
      "line length  11.263750000000002\n",
      "line length  5.631250000000001\n",
      "line length  5.631250000000001\n",
      "line length  5.631250000000001\n",
      "line length  5.631250000000001\n",
      "line length  11.263750000000002\n",
      "line length  5.631250000000001\n",
      "line length  5.631250000000001\n",
      "line length  5.631250000000001\n",
      "line length  5.631250000000001\n",
      "line length  11.263750000000002\n",
      "line length  5.631250000000001\n",
      "line length  5.631250000000001\n",
      "line length  5.631250000000001\n",
      "line length  5.631250000000001\n",
      "line length  11.263750000000002\n",
      "[5.631249999999966, 11.264999999999986]\n",
      "svg calibration points:\n",
      "[[ 86.26568   3.32614]\n",
      " [ 29.95067  81.50614]\n",
      " [ 41.21442 238.02989]\n",
      " [ 29.95067  50.20114]\n",
      " [255.37818  18.89614]\n",
      " [ 29.95067 222.46114]\n",
      " [255.37818 206.72614]\n",
      " [ 29.95067 191.15614]\n",
      " [ 29.95067 128.54614]\n",
      " [ 29.95067  97.24114]\n",
      " [ 29.95067 238.02989]\n",
      " [176.53817 238.02989]\n",
      " [255.37818 128.54614]\n",
      " [187.80068   3.32614]\n",
      " [108.95818   3.32614]\n",
      " [ 52.47692 238.02989]\n",
      " [232.85567 238.02989]\n",
      " [199.06442 238.02989]\n",
      " [154.01067 238.02989]\n",
      " [210.32818   3.32614]\n",
      " [131.48443   3.32614]\n",
      " [255.37818  50.20114]\n",
      " [ 52.47693   3.32614]\n",
      " [187.80067 238.02989]\n",
      " [ 29.95067  18.89614]\n",
      " [255.37818 238.02989]\n",
      " [255.37817 238.02989]\n",
      " [255.37818 112.80989]\n",
      " [ 75.00318   3.32614]\n",
      " [154.01068   3.32614]\n",
      " [ 29.95067 159.84989]\n",
      " [ 29.95067  65.93739]\n",
      " [ 29.95067  34.63114]\n",
      " [ 75.00317 238.02989]\n",
      " [ 29.95068   3.32614]\n",
      " [ 29.95067 206.72614]\n",
      " [255.37818   3.32614]\n",
      " [255.37818 222.46114]\n",
      " [255.37818   3.32614]\n",
      " [ 29.95067 175.41989]\n",
      " [ 29.95067   3.32614]\n",
      " [131.48442 238.02989]\n",
      " [255.37818  65.93739]\n",
      " [199.06443   3.32614]\n",
      " [232.85568   3.32614]\n",
      " [108.95817 238.02989]\n",
      " [176.53818   3.32614]\n",
      " [210.32817 238.02989]\n",
      " [255.37818 144.11614]\n",
      " [255.37818 175.41989]\n",
      " [ 86.26567 238.02989]\n",
      " [120.22068   3.32614]\n",
      " [142.74817 238.02989]\n",
      " [221.59067 238.02989]\n",
      " [255.37818 159.84989]\n",
      " [244.11567 238.02989]\n",
      " [255.37818  97.24114]\n",
      " [ 29.95067 144.11614]\n",
      " [ 97.69693   3.32614]\n",
      " [244.11568   3.32614]\n",
      " [ 63.73942 238.02989]\n",
      " [ 41.21443   3.32614]\n",
      " [ 97.69692 238.02989]\n",
      " [255.37818  81.50614]\n",
      " [165.27442 238.02989]\n",
      " [120.22067 238.02989]\n",
      " [255.37818  34.63114]\n",
      " [221.59068   3.32614]\n",
      " [142.74818   3.32614]\n",
      " [ 63.73943   3.32614]\n",
      " [255.37818 191.15614]\n",
      " [ 29.95067 112.80989]\n",
      " [165.27443   3.32614]]\n",
      "[ 29.95067  41.21442  52.47692  63.73942  75.00317  86.26567  97.69692\n",
      " 108.95817 120.22067 131.48442 142.74817 154.01067 165.27442 176.53817\n",
      " 187.80067 199.06442 210.32817 221.59067 232.85567 244.11567 255.37818] [0.0, 50.0, 100.0, 150.0, 200.0]\n"
     ]
    },
    {
     "ename": "TypeError",
     "evalue": "expected x and y to have same length",
     "output_type": "error",
     "traceback": [
      "\u001b[0;31m---------------------------------------------------------------------------\u001b[0m",
      "\u001b[0;31mTypeError\u001b[0m                                 Traceback (most recent call last)",
      "\u001b[0;32m<ipython-input-5-9c55640d4243>\u001b[0m in \u001b[0;36m<module>\u001b[0;34m()\u001b[0m\n\u001b[1;32m     10\u001b[0m \u001b[1;33m\u001b[0m\u001b[0m\n\u001b[1;32m     11\u001b[0m \u001b[1;31m# get_calib_fn (doc, graph_points):\u001b[0m\u001b[1;33m\u001b[0m\u001b[1;33m\u001b[0m\u001b[0m\n\u001b[0;32m---> 12\u001b[0;31m \u001b[0mxcalib_fn\u001b[0m\u001b[1;33m,\u001b[0m \u001b[0mycalib_fn\u001b[0m \u001b[1;33m=\u001b[0m \u001b[0mget_calib_fn\u001b[0m\u001b[1;33m(\u001b[0m\u001b[0mdoc_GGA1\u001b[0m\u001b[1;33m,\u001b[0m \u001b[0mgraph_points_GGA1\u001b[0m\u001b[1;33m)\u001b[0m\u001b[1;33m\u001b[0m\u001b[0m\n\u001b[0m",
      "\u001b[0;32mC:\\Users\\canto\\Repositories\\nrFano_Constraint.git\\Edelweiss_data\\svg_extract_data.py\u001b[0m in \u001b[0;36mget_calib_fn\u001b[0;34m(doc, graph_points)\u001b[0m\n\u001b[1;32m    200\u001b[0m \u001b[1;33m\u001b[0m\u001b[0m\n\u001b[1;32m    201\u001b[0m     \u001b[1;31m#print (graph_points)\u001b[0m\u001b[1;33m\u001b[0m\u001b[1;33m\u001b[0m\u001b[0m\n\u001b[0;32m--> 202\u001b[0;31m     \u001b[0mxcalib_fn\u001b[0m\u001b[1;33m,\u001b[0m \u001b[0mycalib_fn\u001b[0m \u001b[1;33m=\u001b[0m \u001b[0mcalib\u001b[0m\u001b[1;33m(\u001b[0m\u001b[0mgraph_points\u001b[0m\u001b[1;33m,\u001b[0m \u001b[0msvg_calibPoints\u001b[0m\u001b[1;33m)\u001b[0m\u001b[1;33m\u001b[0m\u001b[0m\n\u001b[0m\u001b[1;32m    203\u001b[0m \u001b[1;33m\u001b[0m\u001b[0m\n\u001b[1;32m    204\u001b[0m     \u001b[1;32mreturn\u001b[0m \u001b[0mxcalib_fn\u001b[0m\u001b[1;33m,\u001b[0m \u001b[0mycalib_fn\u001b[0m\u001b[1;33m\u001b[0m\u001b[0m\n",
      "\u001b[0;32mC:\\Users\\canto\\Repositories\\nrFano_Constraint.git\\Edelweiss_data\\svg_extract_data.py\u001b[0m in \u001b[0;36mcalib\u001b[0;34m(user_points, svg_points)\u001b[0m\n\u001b[1;32m    126\u001b[0m     \u001b[0mxcalib_user\u001b[0m\u001b[1;33m.\u001b[0m\u001b[0msort\u001b[0m\u001b[1;33m(\u001b[0m\u001b[1;33m)\u001b[0m\u001b[1;33m\u001b[0m\u001b[0m\n\u001b[1;32m    127\u001b[0m     \u001b[1;31m#print(xcalib_svg, xcalib_user)\u001b[0m\u001b[1;33m\u001b[0m\u001b[1;33m\u001b[0m\u001b[0m\n\u001b[0;32m--> 128\u001b[0;31m     \u001b[0mxcalib_fn\u001b[0m \u001b[1;33m=\u001b[0m \u001b[0mget_calib_func\u001b[0m\u001b[1;33m(\u001b[0m\u001b[0mxcalib_user\u001b[0m\u001b[1;33m,\u001b[0m \u001b[0mxcalib_svg\u001b[0m\u001b[1;33m)\u001b[0m\u001b[1;33m\u001b[0m\u001b[0m\n\u001b[0m\u001b[1;32m    129\u001b[0m \u001b[1;33m\u001b[0m\u001b[0m\n\u001b[1;32m    130\u001b[0m     \u001b[1;31m# get the y-values from the svg file and user\u001b[0m\u001b[1;33m\u001b[0m\u001b[1;33m\u001b[0m\u001b[0m\n",
      "\u001b[0;32mC:\\Users\\canto\\Repositories\\nrFano_Constraint.git\\Edelweiss_data\\svg_extract_data.py\u001b[0m in \u001b[0;36mget_calib_func\u001b[0;34m(user_arr, svg_arr)\u001b[0m\n\u001b[1;32m    168\u001b[0m     \u001b[1;32mfor\u001b[0m \u001b[0msvg_arr\u001b[0m \u001b[1;32min\u001b[0m \u001b[0msvg_arr_list\u001b[0m\u001b[1;33m:\u001b[0m\u001b[1;33m\u001b[0m\u001b[0m\n\u001b[1;32m    169\u001b[0m         \u001b[0mprint\u001b[0m\u001b[1;33m(\u001b[0m\u001b[0msvg_arr\u001b[0m\u001b[1;33m,\u001b[0m \u001b[0muser_arr\u001b[0m\u001b[1;33m)\u001b[0m\u001b[1;33m\u001b[0m\u001b[0m\n\u001b[0;32m--> 170\u001b[0;31m         \u001b[0mfit\u001b[0m\u001b[1;33m,\u001b[0m \u001b[0mres\u001b[0m\u001b[1;33m,\u001b[0m \u001b[0mrank\u001b[0m\u001b[1;33m,\u001b[0m \u001b[0msing\u001b[0m\u001b[1;33m,\u001b[0m \u001b[0mthresh\u001b[0m \u001b[1;33m=\u001b[0m \u001b[0mnp\u001b[0m\u001b[1;33m.\u001b[0m\u001b[0mpolyfit\u001b[0m\u001b[1;33m(\u001b[0m\u001b[0msvg_arr\u001b[0m\u001b[1;33m,\u001b[0m \u001b[0muser_arr\u001b[0m\u001b[1;33m,\u001b[0m \u001b[1;36m1\u001b[0m\u001b[1;33m,\u001b[0m \u001b[0mfull\u001b[0m\u001b[1;33m=\u001b[0m\u001b[1;32mTrue\u001b[0m\u001b[1;33m)\u001b[0m\u001b[1;33m\u001b[0m\u001b[0m\n\u001b[0m\u001b[1;32m    171\u001b[0m         \u001b[1;31m#print(\"res: \", res)\u001b[0m\u001b[1;33m\u001b[0m\u001b[1;33m\u001b[0m\u001b[0m\n\u001b[1;32m    172\u001b[0m         \u001b[0mfit_goodness\u001b[0m\u001b[1;33m.\u001b[0m\u001b[0mappend\u001b[0m\u001b[1;33m(\u001b[0m\u001b[0mres\u001b[0m\u001b[1;33m)\u001b[0m\u001b[1;33m\u001b[0m\u001b[0m\n",
      "\u001b[0;32mC:\\Users\\canto\\Anaconda3\\lib\\site-packages\\numpy\\lib\\polynomial.py\u001b[0m in \u001b[0;36mpolyfit\u001b[0;34m(x, y, deg, rcond, full, w, cov)\u001b[0m\n\u001b[1;32m    557\u001b[0m         \u001b[1;32mraise\u001b[0m \u001b[0mTypeError\u001b[0m\u001b[1;33m(\u001b[0m\u001b[1;34m\"expected 1D or 2D array for y\"\u001b[0m\u001b[1;33m)\u001b[0m\u001b[1;33m\u001b[0m\u001b[0m\n\u001b[1;32m    558\u001b[0m     \u001b[1;32mif\u001b[0m \u001b[0mx\u001b[0m\u001b[1;33m.\u001b[0m\u001b[0mshape\u001b[0m\u001b[1;33m[\u001b[0m\u001b[1;36m0\u001b[0m\u001b[1;33m]\u001b[0m \u001b[1;33m!=\u001b[0m \u001b[0my\u001b[0m\u001b[1;33m.\u001b[0m\u001b[0mshape\u001b[0m\u001b[1;33m[\u001b[0m\u001b[1;36m0\u001b[0m\u001b[1;33m]\u001b[0m\u001b[1;33m:\u001b[0m\u001b[1;33m\u001b[0m\u001b[0m\n\u001b[0;32m--> 559\u001b[0;31m         \u001b[1;32mraise\u001b[0m \u001b[0mTypeError\u001b[0m\u001b[1;33m(\u001b[0m\u001b[1;34m\"expected x and y to have same length\"\u001b[0m\u001b[1;33m)\u001b[0m\u001b[1;33m\u001b[0m\u001b[0m\n\u001b[0m\u001b[1;32m    560\u001b[0m \u001b[1;33m\u001b[0m\u001b[0m\n\u001b[1;32m    561\u001b[0m     \u001b[1;31m# set rcond\u001b[0m\u001b[1;33m\u001b[0m\u001b[1;33m\u001b[0m\u001b[0m\n",
      "\u001b[0;31mTypeError\u001b[0m: expected x and y to have same length"
     ]
    }
   ],
   "source": [
    "# load svg data only if we haven't already got it\n",
    "try:\n",
    "    doc_GGA1\n",
    "except NameError:\n",
    "    doc_GGA1 = Document('edelweiss_bands_GGA1.svg')\n",
    "    doc_GGA1 = doc_GGA1.flatten_all_paths()\n",
    "\n",
    "# these are the points for the GGA1 graph\n",
    "graph_points_GGA1 = np.array([(0,0), (50,0), (100,0), (150,0), (200,0), (0,0.5), (0,1), (0,1.5)])\n",
    "\n",
    "# get_calib_fn (doc, graph_points):\n",
    "xcalib_fn, ycalib_fn = get_calib_fn(doc_GGA1, graph_points_GGA1)"
   ]
  },
  {
   "cell_type": "code",
   "execution_count": null,
   "metadata": {
    "collapsed": false,
    "scrolled": true
   },
   "outputs": [],
   "source": [
    "doc_ER = Document('edelweiss_ER_band_GGA3.svg')\n",
    "doc_ER = doc_ER.flatten_all_paths()\n",
    "\n",
    "# these are the points for the ER graph\n",
    "graph_points_ER = np.array([(0,0), (50,0), (100,0), (150,0), (200,0), (0,0.05), (0,0.1), (0,0.15)])\n",
    "\n",
    "# get_calib_fn (doc, graph_points):\n",
    "xcalib_fn_ER, ycalib_fn_ER = get_calib_fn(doc_ER, graph_points_ER)\n",
    "    \n",
    "print(xcalib_fn_ER(54.4), ycalib_fn_ER(64.4))\n",
    "print(xcalib_fn_ER(68.8), ycalib_fn_ER(86))"
   ]
  },
  {
   "cell_type": "code",
   "execution_count": null,
   "metadata": {
    "collapsed": false
   },
   "outputs": [],
   "source": [
    "doc_NR = Document('edelweiss_NR_band_GGA3.svg')\n",
    "doc_NR = doc_NR.flatten_all_paths()\n",
    "\n",
    "# these are the points for the NR graph\n",
    "graph_points_NR = np.array([(0,0), (50,0), (100,0), (150,0), (0,0.025), (0,0.05), (0,0.075), (0, 0.1)])\n",
    "\n",
    "# get_calib_fn (doc, graph_points):\n",
    "xcalib_fn_NR, ycalib_fn_NR = get_calib_fn(doc_NR, graph_points_NR)"
   ]
  },
  {
   "cell_type": "code",
   "execution_count": null,
   "metadata": {
    "collapsed": false,
    "scrolled": false
   },
   "outputs": [],
   "source": [
    "#paths[0].point(1)\n",
    "# choose paths from ER with 13 lines (those are the curves)\n",
    "paths_ER = get_paths(doc_ER, 13)\n",
    "\n",
    "x_arr = np.linspace(0,1,100)\n",
    "path0_arr = get_points_from_path(paths_ER[0], x_arr, xcalib_fn_ER, ycalib_fn_ER)\n",
    "path1_arr = get_points_from_path(paths_ER[1], x_arr, xcalib_fn_ER, ycalib_fn_ER)\n",
    "#print(path0_arr[1:5,:])\n",
    "plt.plot(path0_arr[:,0], path0_arr[:,1],'r')\n",
    "plt.plot(path1_arr[:,0], path1_arr[:,1],'r--')\n",
    "plt.ylim(0,0.15)\n",
    "plt.yticks([0, 0.05, 0.1, 0.15])\n",
    "plt.tick_params(right=True, direction=\"in\")\n",
    "# see https://jdhao.github.io/2017/06/03/change-aspect-ratio-in-mpl/\n",
    "#plt.Axes.set_aspect(1)\n",
    "plt.xlim(0,200)\n",
    "plt.show()\n",
    "\n",
    "table = np.column_stack([path0_arr[:,0], path0_arr[:,1], path1_arr[:,0], path1_arr[:,1]])\n",
    "#print(table)\n",
    "headers=[\"'Erecoil (keV) for aH=0.035'\", \"'ER yield width for aH=0.035'\", \"'Erecoil (keV) for aH=0.02'\", \"'ER yield width for aH=0.02'\"]\n",
    "#print (tabulate(table, headers=headers, tablefmt=\"plain\", numalign=\"left\"))\n",
    "\n",
    "#with open(\"edelweiss_ER_band_GGA3_curveData.txt\", \"w\") as text_file:\n",
    "#    print(tabulate(table, headers=headers, tablefmt=\"plain\", numalign=\"left\"), file=text_file)"
   ]
  },
  {
   "cell_type": "code",
   "execution_count": null,
   "metadata": {
    "collapsed": false,
    "scrolled": true
   },
   "outputs": [],
   "source": [
    "import itertools\n",
    "# choose paths from NR with 13, 8 lines (those are the curves)\n",
    "# this itertools thing is needed because get_paths returns an array of paths\n",
    "#print(get_paths(doc_NR,8)[0])\n",
    "paths_NR = list(itertools.chain(*(get_paths(doc_NR, 13), [get_paths(doc_NR,8)[0]])))\n",
    "#print(paths_NR)\n",
    "#print(\"end paths_NR\")\n",
    "\n",
    "x_arr = np.linspace(0,1,100)\n",
    "path0_arr = get_points_from_path(paths_NR[0], x_arr, xcalib_fn_NR, ycalib_fn_NR)\n",
    "path1_arr = get_points_from_path(paths_NR[1], x_arr, xcalib_fn_NR, ycalib_fn_NR)\n",
    "#print(path0_arr[1:5,:])\n",
    "plt.plot(path0_arr[:,0], path0_arr[:,1],'r--')\n",
    "plt.plot(path1_arr[:,0], path1_arr[:,1],'r')\n",
    "plt.ylim(0,0.1)\n",
    "plt.xlim(0,150)\n",
    "plt.yticks([0, 0.025, 0.05, 0.075, 0.1])\n",
    "plt.tick_params(right=True, direction=\"in\")\n",
    "plt.show()\n",
    "\n",
    "\n",
    "table = np.column_stack([path1_arr[:,0], path1_arr[:,1], path0_arr[:,0], path0_arr[:,1]])\n",
    "#print(table)\n",
    "headers=[\"'Erecoil (keV) for C=0.04'\", \"'ER yield width for C=0.04'\", \"'Erecoil (keV) for C=0'\", \"'ER yield width for C=0'\"]\n",
    "#print (tabulate(table, headers=headers, tablefmt=\"plain\", numalign=\"left\"))\n",
    "\n",
    "#with open(\"edelweiss_NR_band_GGA3_curveData.txt\", \"w\") as text_file:\n",
    "#    print(tabulate(table, headers=headers, tablefmt=\"plain\", numalign=\"left\"), file=text_file)"
   ]
  },
  {
   "cell_type": "code",
   "execution_count": null,
   "metadata": {
    "collapsed": false,
    "scrolled": false
   },
   "outputs": [],
   "source": [
    "idx = 5\n",
    "print(paths[idx], attributes[idx])\n",
    "\n",
    "print(\"path is continuous? \", paths[idx].iscontinuous())\n",
    "print(\"path is closed? \", paths[idx].isclosed())"
   ]
  },
  {
   "cell_type": "code",
   "execution_count": null,
   "metadata": {
    "collapsed": false
   },
   "outputs": [],
   "source": [
    "#paths[idx].isclosed()\n"
   ]
  }
 ],
 "metadata": {
  "anaconda-cloud": {},
  "kernelspec": {
   "display_name": "Python [conda env:Anaconda3]",
   "language": "python",
   "name": "conda-env-Anaconda3-py"
  },
  "language_info": {
   "codemirror_mode": {
    "name": "ipython",
    "version": 3
   },
   "file_extension": ".py",
   "mimetype": "text/x-python",
   "name": "python",
   "nbconvert_exporter": "python",
   "pygments_lexer": "ipython3",
   "version": "3.5.2"
  }
 },
 "nbformat": 4,
 "nbformat_minor": 1
}
