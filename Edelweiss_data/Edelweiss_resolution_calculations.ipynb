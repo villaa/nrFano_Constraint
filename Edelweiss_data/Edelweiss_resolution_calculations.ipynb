{
 "cells": [
  {
   "cell_type": "code",
   "execution_count": 14,
   "metadata": {},
   "outputs": [],
   "source": [
    "import numpy as np\n",
    "from functools import partial\n",
    "import pandas as pd\n",
    "#import matplotlib as mpl\n",
    "#mpl.rcParams['legend.numpoints'] = 1\n",
    "import matplotlib.pyplot as plt\n",
    "%matplotlib inline \n",
    "#import mpld3\n",
    "#mpld3.enable_notebook()\n",
    "\n",
    "import sys\n",
    "sys.path.append('../python/')\n",
    "from EdwRes import *"
   ]
  },
  {
   "cell_type": "code",
   "execution_count": 15,
   "metadata": {},
   "outputs": [],
   "source": [
    "get_heatRes_func(0.843*2.355, 3.1)\n",
    "heatRes_GGAl10 = get_heatRes_func(0.4, 3.5)\n",
    "heatRes_GGAl10_guard = get_heatRes_func(0.655, 4.0)"
   ]
  },
  {
   "cell_type": "code",
   "execution_count": 16,
   "metadata": {},
   "outputs": [
    {
     "data": {
      "text/plain": [
       "1.4801027369064297"
      ]
     },
     "execution_count": 16,
     "metadata": {},
     "output_type": "execute_result"
    }
   ],
   "source": [
    "heatRes_GGAl10(50)"
   ]
  },
  {
   "cell_type": "code",
   "execution_count": 10,
   "metadata": {},
   "outputs": [
    {
     "name": "stdout",
     "output_type": "stream",
     "text": [
      "   Energy    FWHM   error\n",
      "0  122.10  3.9992  0.4938\n",
      "1   46.52  1.8558  0.2918\n",
      "2   10.37  0.6831  0.0757\n",
      "3    0.00  0.6551  0.0814\n"
     ]
    }
   ],
   "source": [
    "heatRes_data = pd.read_csv(\"resolution_GeAl10_dataPoints_correctedEnergies.txt\", skiprows=1)\n",
    "print (heatRes_data.head(10))"
   ]
  },
  {
   "cell_type": "code",
   "execution_count": 11,
   "metadata": {
    "scrolled": true
   },
   "outputs": [
    {
     "data": {
      "image/png": "[encoded data removed]",
      "text/plain": [
       "<Figure size 432x288 with 1 Axes>"
      ]
     },
     "metadata": {
      "needs_background": "light"
     },
     "output_type": "display_data"
    }
   ],
   "source": [
    "# plot the heat resolution, reproduce fig 2d from 2004 NIMA Edelweiss paper\n",
    "E_vec = np.arange(0,200,5)\n",
    "#table, = plt.plot(E_vec, 2.355*heatRes_GGAl10(E_vec), label='Resolution (table)')\n",
    "#plot, = plt.plot(E_vec, 2.355*heatRes_GGAl10_guard(E_vec), linestyle='--', label='Resolution (plot)')\n",
    "table, = plt.plot(E_vec, heatRes_GGAl10(E_vec), label='Resolution (table)')\n",
    "plot, = plt.plot(E_vec, heatRes_GGAl10_guard(E_vec), linestyle='--', label='Resolution (plot)')\n",
    "data = plt.errorbar((heatRes_data.Energy).tolist(), (heatRes_data.FWHM).tolist(), yerr=(heatRes_data.error).tolist(), fmt='.', label='Guard-event resolution')\n",
    "plt.xlabel(\"Heat Signal (keV)\")\n",
    "plt.ylabel(\"FWHM Heat Resolution (keV)\")\n",
    "#plt.legend(handles=[table, plot, data])\n",
    "plt.show()"
   ]
  },
  {
   "cell_type": "code",
   "execution_count": 17,
   "metadata": {
    "scrolled": false
   },
   "outputs": [
    {
     "ename": "SyntaxError",
     "evalue": "invalid syntax (<ipython-input-17-16e6c383b2ac>, line 36)",
     "output_type": "error",
     "traceback": [
      "\u001b[1;36m  File \u001b[1;32m\"<ipython-input-17-16e6c383b2ac>\"\u001b[1;36m, line \u001b[1;32m36\u001b[0m\n\u001b[1;33m    sig_nr_GGA3 = get_sig_nuc_func(1.3, 1.5, ion_122keV, heat_0keV, 2.7, 4)\u001b[0m\n\u001b[1;37m              ^\u001b[0m\n\u001b[1;31mSyntaxError\u001b[0m\u001b[1;31m:\u001b[0m invalid syntax\n"
     ]
    }
   ],
   "source": [
    "data_GGA3 = pd.read_csv(\"edelweiss_ER_band_GGA3_curveData.txt\", skiprows=1, header=None, delim_whitespace=True)\n",
    "print (data_GGA3.head(5))\n",
    "list(data_GGA3.columns.values)\n",
    "\n",
    "dataNR_GGA3 = pd.read_csv(\"edelweiss_NR_band_GGA3_curveData.txt\", skiprows=1, header=None, delim_whitespace=True)\n",
    "\n",
    "# expect aH to be 0.020 based on fig. 7\n",
    "# but my calculations say 0.022?\n",
    "# increasing heat_0keV decreases the slope btwn 20 and 50 keV\n",
    "# increasing aH increases the yield in the tail\n",
    "# increasing ion_122keV even a little increases the yield in the tail\n",
    "# completely insensitive to heat_122keV\n",
    "# voltage changes shift curves to the right and increases yield in tail\n",
    "# increasing ion_center_0keV shifts graph to right, tilts it down: tails become not flat\n",
    "# increasing ion_guard_0keV has same effect as ion_center_0keV\n",
    "heat_0keV = 0.4\n",
    "ion_122keV = 3.1 #3.3 #3.1\n",
    "V = 4\n",
    "sig_gamma_GGA3 = get_sig_gamma_func(1.3, 1.5, ion_122keV, heat_0keV, 2.7, V, 0.020)\n",
    "sig_gamma_GGA3_wide = get_sig_gamma_func(1.3, 1.5, ion_122keV, heat_0keV, 2.7, V, 0.035)\n",
    "\n",
    "# we'll plot the ER and NR band widths\n",
    "fig,axes = plt.subplots(1,2,figsize=(17.0,7.0), constrained_layout=True)\n",
    "\n",
    "# plot the electron recoil widths\n",
    "E_keV_arr = np.linspace(1,200,100)\n",
    "ax1 = axes[0]\n",
    "ax2 = axes[1]\n",
    "ax1.plot(E_keV_arr, sig_gamma_GGA3(E_keV_arr),'g.')\n",
    "ax1.plot(E_keV_arr, sig_gamma_GGA3_wide(E_keV_arr),'b.')\n",
    "\n",
    "#def get_sig_nuc_func(FWHM_center, FWHM_guard, FWHM122_ion, FWHM0_heat, FWHM122_heat, V, aH=None):\n",
    "# since the resolutions are a function of the electron-equivalent energy, need to convert\n",
    "# see \"edelweiss_energy_scale.pdf\" in this directory for explanation:\n",
    "E_keVee_arr = E_keV_arr*(1+(V/3.0)*Q_avg(E_keV_arr))/(1+(V/3.0)\n",
    "sig_nr_GGA3 = get_sig_nuc_func(1.3, 1.5, ion_122keV, heat_0keV, 2.7, 4)\n",
    "ax2.plot(E_keV_arr, sig_nr_GGA3(E_keV_arr*()/()),'g.')\n",
    "\n",
    "# 90% is +/- 1.645*sigma\n",
    "# FWHM is 2.355*sigma\n",
    "\n",
    "# plot the data-theifed bands\n",
    "ax1.plot(data_GGA3[0], data_GGA3[1], 'r-')\n",
    "ax1.plot(data_GGA3[2], data_GGA3[3], 'r--')\n",
    "\n",
    "ax2.plot(dataNR_GGA3[0], dataNR_GGA3[1], 'r-')\n",
    "ax2.plot(dataNR_GGA3[2], dataNR_GGA3[3], 'r--')\n",
    "ax2.set_ylim(0,0.1)\n",
    "\n",
    "ax1.set_ylim(0,0.15)\n",
    "ax1.minorticks_on()\n",
    "plt.show()"
   ]
  },
  {
   "cell_type": "code",
   "execution_count": null,
   "metadata": {},
   "outputs": [],
   "source": [
    "# get_sig_gamma_func(FWHM_center, FWHM_guard, FWHM122_ion, FWHM0_heat, FWHM122_heat, V, aH_stretch)\n",
    "# increasing FWHM0_heat makes the fit better near 20 keV, e.g. from 1.3 to 2.3 for GGA1\n",
    "# increasing V makes the 20 keV region fit better but makes the high-energy region overshoot the data\n",
    "# increasing FWHM122_heat increases the width at higher energies and has no impact on lower energies\n",
    "# increasing aH_stretch increases the width at higher energies and has no impact on lower energies\n",
    "# if I use the parameters for GeAl6 it seems to fit the bands much better, unless the actual voltage for GeAl6 is used\n",
    "#sig_gamma_GGA1 = get_sig_gamma_func(1.3, 1.3, 2.8, 1.3, 3.5, 4, 1)\n",
    "sig_gamma_GGA1 = get_sig_gamma_func(2, 1.4, 2.8, 2.2, 3.5, 6.34, 1.3)\n",
    "sig_gamma_GGA1_a = get_sig_gamma_func(1.3, 1.3, 2.8, 1.3, 3.5, 4, 1.5)"
   ]
  },
  {
   "cell_type": "code",
   "execution_count": null,
   "metadata": {},
   "outputs": [],
   "source": [
    "band_data = pd.read_csv(\"edelweiss_bands_GGA1.csv\")\n",
    "print (band_data.head(5))\n",
    "\n",
    "# path 0: 68.75 keV inelastic scattering\n",
    "# path 1: average NR line\n",
    "# path 2: 13.26 keV inelastic\n",
    "# path 3: ionization threshold\n",
    "# path 4: lower nuclear recoil band\n",
    "# path 5: upper nuclear recoil band\n",
    "# path 6: upper and lower electron recoil band\n",
    "band_data_svg = pd.read_csv(\"edelweiss_band_GGA1_curveData.txt\", skiprows=1, header=None, delim_whitespace=True)\n",
    "print (band_data_svg.head(5))\n",
    "list(band_data_svg.columns.values)"
   ]
  },
  {
   "cell_type": "code",
   "execution_count": null,
   "metadata": {},
   "outputs": [],
   "source": [
    "# 90% is +/- 1.645*sigma\n",
    "# FWHM is 2.355*sigma\n",
    "\n",
    "E_keV_arr = np.linspace(1,200,100)\n",
    "\n",
    "# plot the central nuclear recoil line\n",
    "plt.plot(band_data_svg[2], band_data_svg[3], 'r', linewidth=1)\n",
    "#plt.plot(E_keV_arr, Q_avg(E_keV_arr),'r--')\n",
    "\n",
    "# plot the data-theifed bands\n",
    "#plt.plot(band_data.x[band_data.x>7.82], band_data.Curve1[band_data.x>7.82], 'b.')\n",
    "#plt.plot(band_data.x, band_data.curve2, 'b.')\n",
    "plt.plot(band_data_svg[12][band_data_svg[13]>1], band_data_svg[13][band_data_svg[13]>1], 'b', linewidth=1)\n",
    "plt.plot(band_data_svg[12][band_data_svg[13]<1], band_data_svg[13][band_data_svg[13]<1], 'b', linewidth=1)\n",
    "\n",
    "#plt.plot(band_data.x, band_data.curve3, 'r.')\n",
    "#plt.plot(band_data.x, band_data.curve4, 'r.')\n",
    "plt.plot(band_data_svg[8], band_data_svg[9], 'r', linewidth=1)\n",
    "plt.plot(band_data_svg[10], band_data_svg[11], 'r', linewidth=1)\n",
    "\n",
    "# plot the ionization bands\n",
    "plt.plot(E_keV_arr, 1+1.645*sig_gamma_GGA1(E_keV_arr), 'c-.', linewidth=2)\n",
    "plt.plot(E_keV_arr, 1-1.645*sig_gamma_GGA1(E_keV_arr), 'c-')\n",
    "plt.plot(E_keV_arr, 1+1.645*sig_gamma_GGA1_a(E_keV_arr), 'c--')\n",
    "\n",
    "plt.ylim(0,1.5)\n",
    "plt.minorticks_on()\n",
    "#plt.grid(True)\n",
    "plt.show()"
   ]
  },
  {
   "cell_type": "code",
   "execution_count": null,
   "metadata": {},
   "outputs": [],
   "source": []
  },
  {
   "cell_type": "code",
   "execution_count": null,
   "metadata": {},
   "outputs": [],
   "source": []
  }
 ],
 "metadata": {
  "anaconda-cloud": {},
  "kernelspec": {
   "display_name": "Python 3",
   "language": "python",
   "name": "python3"
  }
 },
 "nbformat": 4,
 "nbformat_minor": 2
}
