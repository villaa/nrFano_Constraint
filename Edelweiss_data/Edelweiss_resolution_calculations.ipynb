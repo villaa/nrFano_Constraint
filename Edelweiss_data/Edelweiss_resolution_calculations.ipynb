{
 "cells": [
  {
   "cell_type": "code",
   "execution_count": 1,
   "metadata": {
    "collapsed": true
   },
   "outputs": [],
   "source": [
    "import numpy as np\n",
    "from functools import partial\n",
    "import pandas as pd\n",
    "#import matplotlib as mpl\n",
    "#mpl.rcParams['legend.numpoints'] = 1\n",
    "import matplotlib.pyplot as plt\n",
    "%matplotlib inline \n",
    "\n",
    "def get_heatRes(sig0, aH, E_keV):\n",
    "    \"\"\"return the heat resolution at energy E_keV.  sig0, E_keV assumed to be in units of keV.\"\"\"\n",
    "    \n",
    "    # see eqn (5) in 2004 NIMA Edelweiss paper\n",
    "    sigH = np.sqrt(sig0**2 + (aH*E_keV)**2)\n",
    "    \n",
    "    # multiply by 2.355 to get FWHM\n",
    "    return sigH\n",
    "\n",
    "def get_heatRes_func(FWHM0, FWHM122, smear=1):\n",
    "    \"\"\"returns a resolution function given the FWHM values at 0 keV and 122 keV\"\"\"\n",
    "    \n",
    "    # convert from FWHM to sigma\n",
    "    # or maybe aH is calculated from the FWHM values?\n",
    "    sig0 = FWHM0 #/2.355\n",
    "    sig122 = FWHM122 #/2.355\n",
    "    \n",
    "    # calculate aH, which is unitless\n",
    "    aH = smear*np.sqrt((sig122**2 - sig0**2)/122**2)\n",
    "    print (aH)\n",
    "    \n",
    "    # create function\n",
    "    return partial(get_heatRes, sig0, aH)\n",
    "\n",
    "def get_ionRes_func(FWHM_center, FWHM_guard, FWHM122, smear):\n",
    "    FWHM0 = np.sqrt(FWHM_center**2 + FWHM_guard**2)\n",
    "    \n",
    "    return get_heatRes_func(FWHM0, FWHM122, smear)\n",
    "    "
   ]
  },
  {
   "cell_type": "code",
   "execution_count": 2,
   "metadata": {
    "collapsed": true
   },
   "outputs": [],
   "source": [
    "def Q_avg(E_keV):\n",
    "    return 0.16*np.power(E_keV,0.18)\n",
    "\n",
    "def get_sig_gamma(sigI, sigH, V, E_keV):\n",
    "    return ((1+V/3)/E_keV)*np.sqrt((sigI(E_keV)/2.355)**2 + (sigH(E_keV)/2.355)**2)\n",
    "\n",
    "def get_sig_gamma_func(FWHM_center, FWHM_guard, FWHM122_ion, FWHM0_heat, FWHM122_heat, V, smear=1):\n",
    "    # get the ionization resolution function\n",
    "    sigI = get_ionRes_func(FWHM_center, FWHM_guard, FWHM122_ion, smear)\n",
    "    \n",
    "    # get the heat resolution function\n",
    "    sigH = get_heatRes_func(FWHM0_heat, FWHM122_heat, smear)\n",
    "    \n",
    "    return partial(get_sig_gamma, sigI, sigH, V)\n",
    "    "
   ]
  },
  {
   "cell_type": "code",
   "execution_count": 3,
   "metadata": {
    "collapsed": true
   },
   "outputs": [],
   "source": [
    "def get_sig_nuc(sigI, sigH, V, E_keV):\n",
    "    return ((1+V/3)/E_keV)*np.sqrt((sigI(E_keV)/2.355)**2 + (sigH(E_keV)/2.355)**2)\n",
    "\n",
    "def get_sig_nuc_func(FWHM_center, FWHM_guard, FWHM122_ion, FWHM0_heat, FWHM122_heat, V, smear=1):\n",
    "    # get the ionization resolution function\n",
    "    sigI = get_ionRes_func(FWHM_center, FWHM_guard, FWHM122_ion, smear)\n",
    "    \n",
    "    # get the heat resolution function\n",
    "    sigH = get_heatRes_func(FWHM0_heat, FWHM122_heat, smear)\n",
    "    \n",
    "    return partial(get_sig_gamma, sigI, sigH, V)"
   ]
  },
  {
   "cell_type": "code",
   "execution_count": 4,
   "metadata": {
    "collapsed": false
   },
   "outputs": [
    {
     "name": "stdout",
     "output_type": "stream",
     "text": [
      "0.019515639301764046\n",
      "0.02850055516510444\n",
      "0.03234432357309759\n"
     ]
    }
   ],
   "source": [
    "get_heatRes_func(0.843*2.355, 3.1)\n",
    "heatRes_GGAl10 = get_heatRes_func(0.4, 3.5)\n",
    "heatRes_GGAl10_guard = get_heatRes_func(0.655, 4.0)"
   ]
  },
  {
   "cell_type": "code",
   "execution_count": 5,
   "metadata": {
    "collapsed": false
   },
   "outputs": [
    {
     "data": {
      "text/plain": [
       "1.4801027369064297"
      ]
     },
     "execution_count": 5,
     "metadata": {},
     "output_type": "execute_result"
    }
   ],
   "source": [
    "heatRes_GGAl10(50)"
   ]
  },
  {
   "cell_type": "code",
   "execution_count": 6,
   "metadata": {
    "collapsed": false
   },
   "outputs": [
    {
     "name": "stdout",
     "output_type": "stream",
     "text": [
      "   Energy    FWHM   error\n",
      "0  122.10  3.9992  0.4938\n",
      "1   46.52  1.8558  0.2918\n",
      "2   10.37  0.6831  0.0757\n",
      "3    0.00  0.6551  0.0814\n"
     ]
    }
   ],
   "source": [
    "heatRes_data = pd.read_csv(\"resolution_GeAl10_dataPoints_correctedEnergies.txt\", skiprows=1)\n",
    "print (heatRes_data.head(10))"
   ]
  },
  {
   "cell_type": "code",
   "execution_count": 7,
   "metadata": {
    "collapsed": false,
    "scrolled": true
   },
   "outputs": [
    {
     "data": {
      "text/plain": [
       "<matplotlib.legend.Legend at 0x183fdd780b8>"
      ]
     },
     "execution_count": 7,
     "metadata": {},
     "output_type": "execute_result"
    },
    {
     "data": {
      "image/png": "[encoded data removed]",
      "text/plain": [
       "<Figure size 432x288 with 1 Axes>"
      ]
     },
     "metadata": {},
     "output_type": "display_data"
    }
   ],
   "source": [
    "# plot the heat resolution, reproduce fig 2d from 2004 NIMA Edelweiss paper\n",
    "E_vec = np.arange(0,200,5)\n",
    "#table, = plt.plot(E_vec, 2.355*heatRes_GGAl10(E_vec), label='Resolution (table)')\n",
    "#plot, = plt.plot(E_vec, 2.355*heatRes_GGAl10_guard(E_vec), linestyle='--', label='Resolution (plot)')\n",
    "table, = plt.plot(E_vec, heatRes_GGAl10(E_vec), label='Resolution (table)')\n",
    "plot, = plt.plot(E_vec, heatRes_GGAl10_guard(E_vec), linestyle='--', label='Resolution (plot)')\n",
    "data = plt.errorbar(heatRes_data.Energy, heatRes_data.FWHM,yerr=heatRes_data.error,fmt='o', label='Guard-event resolution')\n",
    "plt.xlabel(\"Heat Signal (keV)\")\n",
    "plt.ylabel(\"FWHM Heat Resolution (keV)\")\n",
    "plt.legend(handles=[table, plot, data])"
   ]
  },
  {
   "cell_type": "code",
   "execution_count": 8,
   "metadata": {
    "collapsed": false
   },
   "outputs": [
    {
     "name": "stdout",
     "output_type": "stream",
     "text": [
      "0.019517837540640424\n",
      "0.02188693429970277\n",
      "0.03415621569612074\n",
      "0.03830213502447985\n"
     ]
    },
    {
     "data": {
      "image/png": "[encoded data removed]",
      "text/plain": [
       "<Figure size 432x288 with 1 Axes>"
      ]
     },
     "metadata": {},
     "output_type": "display_data"
    }
   ],
   "source": [
    "# expect aH to be 0.02 based on fig. 7\n",
    "# but instead it's 0.009??\n",
    "sig_gamma_GGA3 = get_sig_gamma_func(1.3, 1.5, 3.1, 0.4, 2.7, 4, 1)\n",
    "sig_gamma_GGA3_wide = get_sig_gamma_func(1.3, 1.5, 3.1, 0.4, 2.7, 4, 1.75)\n",
    "\n",
    "\n",
    "# 90% is +/- 1.645*sigma\n",
    "# FWHM is 2.355*sigma\n",
    "E_keV_arr = np.linspace(1,200,100)\n",
    "\n",
    "# plot the central nuclear recoil line\n",
    "plt.plot(E_keV_arr, sig_gamma_GGA3(E_keV_arr),'r--')\n",
    "plt.plot(E_keV_arr, sig_gamma_GGA3_wide(E_keV_arr),'r-')\n",
    "\n",
    "# plot the data-theifed bands\n",
    "#plt.plot(band_data.x[band_data.x>7.82], band_data.Curve1[band_data.x>7.82], 'b.')\n",
    "#plt.plot(band_data.x, band_data.curve2, 'b.')\n",
    "\n",
    "plt.ylim(0,0.15)\n",
    "plt.minorticks_on()"
   ]
  },
  {
   "cell_type": "code",
   "execution_count": 9,
   "metadata": {
    "collapsed": false
   },
   "outputs": [
    {
     "name": "stdout",
     "output_type": "stream",
     "text": [
      "0.014610411443477632\n",
      "0.029006319451575505\n",
      "0.02596562960894616\n",
      "0.039954287235914564\n"
     ]
    }
   ],
   "source": [
    "# get_sig_gamma_func(FWHM_center, FWHM_guard, FWHM122_ion, FWHM0_heat, FWHM122_heat, V, aH_stretch)\n",
    "# increasing FWHM0_heat makes the fit better near 20 keV, e.g. from 1.3 to 2.3 for GGA1\n",
    "# increasing V makes the 20 keV region fit better but makes the high-energy region overshoot the data\n",
    "# increasing FWHM122_heat increases the width at higher energies and has no impact on lower energies\n",
    "# increasing aH_stretch increases the width at higher energies and has no impact on lower energies\n",
    "# if I use the parameters for GeAl6 it seems to fit the bands much better, unless the actual voltage for GeAl6 is used\n",
    "#sig_gamma_GGA1 = get_sig_gamma_func(1.3, 1.3, 2.8, 1.3, 3.5, 4, 1)\n",
    "sig_gamma_GGA1 = get_sig_gamma_func(2, 1.4, 2.8, 2.2, 3.5, 6.34, 1.3)\n",
    "sig_gamma_GGA1_a = get_sig_gamma_func(1.3, 1.3, 2.8, 1.3, 3.5, 4, 1.5)"
   ]
  },
  {
   "cell_type": "code",
   "execution_count": 18,
   "metadata": {
    "collapsed": false
   },
   "outputs": [
    {
     "name": "stdout",
     "output_type": "stream",
     "text": [
      "       x   Curve1   curve2   curve3   curve4\n",
      "0  1.667 -6.44581 -0.08957  1.49300 -0.64478\n",
      "1  1.802 -6.06069 -0.08789  1.44296 -0.62392\n",
      "2  1.804 -6.05415 -0.08786  1.46798 -0.62356\n",
      "3  1.938 -5.68168 -0.08613  1.41795 -0.60321\n",
      "4  2.075 -5.31531 -0.08430  1.39293 -0.58303\n",
      "        0         1        2         3        4         5        6        7   \\\n",
      "0  69.4986  0.991839  1.02904  0.159922  14.2519  0.944224  2.10350  1.49896   \n",
      "1  69.8626  0.987244  1.31515  0.167136  14.3933  0.936084  2.11548  1.48548   \n",
      "2  70.2266  0.982648  1.60126  0.174349  14.5347  0.927944  2.12746  1.47200   \n",
      "3  70.5907  0.978053  2.05730  0.181087  14.6761  0.919803  2.13943  1.45851   \n",
      "4  70.9944  0.973552  2.45114  0.187750  14.8725  0.911724  2.15141  1.44503   \n",
      "\n",
      "        8         9        10       11        12       13  \n",
      "0  11.0197 -0.002028  1.89725  1.50072   9.99176  1.50730  \n",
      "1  11.3235  0.005082  1.92804  1.48860  10.39770  1.48881  \n",
      "2  11.6309  0.012183  1.95883  1.47648  10.78450  1.47030  \n",
      "3  11.9934  0.019148  1.98962  1.46436  11.35520  1.44694  \n",
      "4  12.3254  0.026192  2.02041  1.45224  12.01670  1.42316  \n"
     ]
    },
    {
     "data": {
      "text/plain": [
       "[0, 1, 2, 3, 4, 5, 6, 7, 8, 9, 10, 11, 12, 13]"
      ]
     },
     "execution_count": 18,
     "metadata": {},
     "output_type": "execute_result"
    }
   ],
   "source": [
    "band_data = pd.read_csv(\"edelweiss_bands_GGA1.csv\")\n",
    "print (band_data.head(5))\n",
    "\n",
    "# path 0: 68.75 keV inelastic scattering\n",
    "# path 1: average NR line\n",
    "# path 2: 13.26 keV inelastic\n",
    "# path 3: ionization threshold\n",
    "# path 4: lower nuclear recoil band\n",
    "# path 5: upper nuclear recoil band\n",
    "# path 6: upper and lower electron recoil band\n",
    "band_data_svg = pd.read_csv(\"edelweiss_band_GGA1_curveData.txt\", skiprows=1, header=None, delim_whitespace=True)\n",
    "print (band_data_svg.head(5))\n",
    "list(band_data_svg.columns.values)"
   ]
  },
  {
   "cell_type": "code",
   "execution_count": 35,
   "metadata": {
    "collapsed": false
   },
   "outputs": [
    {
     "data": {
      "image/png": "[encoded data removed]",
      "text/plain": [
       "<Figure size 432x288 with 1 Axes>"
      ]
     },
     "metadata": {},
     "output_type": "display_data"
    }
   ],
   "source": [
    "# 90% is +/- 1.645*sigma\n",
    "# FWHM is 2.355*sigma\n",
    "\n",
    "E_keV_arr = np.linspace(1,200,100)\n",
    "\n",
    "# plot the central nuclear recoil line\n",
    "plt.plot(band_data_svg[2], band_data_svg[3], 'r', linewidth=1)\n",
    "#plt.plot(E_keV_arr, Q_avg(E_keV_arr),'r--')\n",
    "\n",
    "# plot the data-theifed bands\n",
    "#plt.plot(band_data.x[band_data.x>7.82], band_data.Curve1[band_data.x>7.82], 'b.')\n",
    "#plt.plot(band_data.x, band_data.curve2, 'b.')\n",
    "plt.plot(band_data_svg[12][band_data_svg[13]>1], band_data_svg[13][band_data_svg[13]>1], 'b', linewidth=1)\n",
    "plt.plot(band_data_svg[12][band_data_svg[13]<1], band_data_svg[13][band_data_svg[13]<1], 'b', linewidth=1)\n",
    "\n",
    "#plt.plot(band_data.x, band_data.curve3, 'r.')\n",
    "#plt.plot(band_data.x, band_data.curve4, 'r.')\n",
    "plt.plot(band_data_svg[8], band_data_svg[9], 'r', linewidth=1)\n",
    "plt.plot(band_data_svg[10], band_data_svg[11], 'r', linewidth=1)\n",
    "\n",
    "# plot the ionization bands\n",
    "plt.plot(E_keV_arr, 1+1.645*sig_gamma_GGA1(E_keV_arr), 'c-.', linewidth=2)\n",
    "plt.plot(E_keV_arr, 1-1.645*sig_gamma_GGA1(E_keV_arr), 'c-')\n",
    "plt.plot(E_keV_arr, 1+1.645*sig_gamma_GGA1_a(E_keV_arr), 'c--')\n",
    "\n",
    "plt.ylim(0,1.5)\n",
    "plt.minorticks_on()\n",
    "#plt.grid(True)"
   ]
  },
  {
   "cell_type": "code",
   "execution_count": null,
   "metadata": {
    "collapsed": true
   },
   "outputs": [],
   "source": []
  },
  {
   "cell_type": "code",
   "execution_count": null,
   "metadata": {
    "collapsed": true
   },
   "outputs": [],
   "source": []
  }
 ],
 "metadata": {
  "anaconda-cloud": {},
  "kernelspec": {
   "display_name": "Python [default]",
   "language": "python",
   "name": "python3"
  },
  "language_info": {
   "codemirror_mode": {
    "name": "ipython",
    "version": 3
   },
   "file_extension": ".py",
   "mimetype": "text/x-python",
   "name": "python",
   "nbconvert_exporter": "python",
   "pygments_lexer": "ipython3",
   "version": "3.5.2"
  }
 },
 "nbformat": 4,
 "nbformat_minor": 2
}
