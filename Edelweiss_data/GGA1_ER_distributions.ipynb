{
 "cells": [
  {
   "cell_type": "code",
   "execution_count": 1,
   "metadata": {
    "collapsed": true
   },
   "outputs": [],
   "source": [
    "import numpy as np\n",
    "from functools import partial\n",
    "import pandas as pd\n",
    "#import matplotlib as mpl\n",
    "#mpl.rcParams['legend.numpoints'] = 1\n",
    "import matplotlib.pyplot as plt\n",
    "%matplotlib inline \n",
    "#import mpld3\n",
    "#mpld3.enable_notebook()\n",
    "\n",
    "import sys\n",
    "sys.path.append('../python/')\n",
    "import EdwRes"
   ]
  },
  {
   "cell_type": "code",
   "execution_count": 2,
   "metadata": {
    "collapsed": false
   },
   "outputs": [
    {
     "name": "stdout",
     "output_type": "stream",
     "text": [
      "          0         1\n",
      "0  104.1920  1.150560\n",
      "1  120.3400  1.018400\n",
      "2  127.9750  0.988728\n",
      "3   22.3243  0.400158\n",
      "4  111.5070  1.025590\n"
     ]
    },
    {
     "data": {
      "text/plain": [
       "[0, 1]"
      ]
     },
     "execution_count": 2,
     "metadata": {},
     "output_type": "execute_result"
    }
   ],
   "source": [
    "data = pd.read_csv(\"edelweiss_GGA1_pointData.txt\", skiprows=1, header=None, delim_whitespace=True)\n",
    "print (data.head(5))\n",
    "list(data.columns.values)"
   ]
  },
  {
   "cell_type": "code",
   "execution_count": 3,
   "metadata": {
    "collapsed": false
   },
   "outputs": [
    {
     "name": "stdout",
     "output_type": "stream",
     "text": [
      "[  0  20  40  60  80 100 120 140 160 180 200] [0 1 2 3 4 5 6 7 8 9]\n"
     ]
    }
   ],
   "source": [
    "# ER band has 20 keV bins \n",
    "bin_edges = np.arange(0, 220, step=20)\n",
    "labels = np.arange(0,len(bin_edges)-1, step=1)\n",
    "print (bin_edges, labels)"
   ]
  },
  {
   "cell_type": "code",
   "execution_count": 4,
   "metadata": {
    "collapsed": false
   },
   "outputs": [
    {
     "name": "stdout",
     "output_type": "stream",
     "text": [
      "          0         1 bin\n",
      "0  104.1920  1.150560   5\n",
      "1  120.3400  1.018400   6\n",
      "2  127.9750  0.988728   6\n",
      "3   22.3243  0.400158   1\n",
      "4  111.5070  1.025590   5\n"
     ]
    }
   ],
   "source": [
    "data['bin'] = pd.cut(data[0], bins=bin_edges, labels=labels)\n",
    "print(data.head(5))"
   ]
  },
  {
   "cell_type": "code",
   "execution_count": 33,
   "metadata": {
    "collapsed": false
   },
   "outputs": [
    {
     "data": {
      "text/plain": [
       "[<matplotlib.lines.Line2D at 0x23222c49a58>]"
      ]
     },
     "execution_count": 33,
     "metadata": {},
     "output_type": "execute_result"
    },
    {
     "data": {
      "image/png": "[encoded data removed]",
      "text/plain": [
       "<Figure size 432x288 with 1 Axes>"
      ]
     },
     "metadata": {},
     "output_type": "display_data"
    }
   ],
   "source": [
    "bin_num = 6\n",
    "plt.plot(data[data['bin'] == bin_num][0], data[data['bin'] == bin_num][1], '.')"
   ]
  },
  {
   "cell_type": "code",
   "execution_count": 37,
   "metadata": {
    "collapsed": false
   },
   "outputs": [
    {
     "data": {
      "image/png": "[encoded data removed]",
      "text/plain": [
       "<Figure size 432x288 with 1 Axes>"
      ]
     },
     "metadata": {},
     "output_type": "display_data"
    }
   ],
   "source": [
    "binspace = 0.01\n",
    "hist_bins = np.arange(0, 1.5, binspace)\n",
    "bin_num = 6\n",
    "n, bins = np.histogram(data[data['bin'] == bin_num][1], bins=hist_bins)\n",
    "fig = plt.hist(data[data['bin'] == bin_num][1], bins=hist_bins, log=True)\n",
    "#print (n)\n",
    "\n",
    "#plt.xlim(0.7,1.4)"
   ]
  },
  {
   "cell_type": "code",
   "execution_count": 7,
   "metadata": {
    "collapsed": true
   },
   "outputs": [],
   "source": [
    "#define a Gaussian \n",
    "def gaus(x,a,x0,sigma):\n",
    "    return a*np.exp(-(x-x0)**2/(2*sigma**2))"
   ]
  },
  {
   "cell_type": "code",
   "execution_count": 14,
   "metadata": {
    "collapsed": false
   },
   "outputs": [
    {
     "name": "stdout",
     "output_type": "stream",
     "text": [
      "[18.70649477  0.99470255 -0.05109908]\n",
      "[[ 4.14702152e-01 -6.27646425e-08  7.55391741e-04]\n",
      " [-6.27646425e-08  4.12605434e-06 -3.75662214e-10]\n",
      " [ 7.55391741e-04 -3.75662214e-10  4.12720613e-06]]\n"
     ]
    }
   ],
   "source": [
    "#do a fit\n",
    "from scipy.optimize import curve_fit\n",
    "\n",
    "bin_num = 3\n",
    "yield_min = 0.7\n",
    "yield_max = 1.2\n",
    "\n",
    "# sanitize fitdata\n",
    "fitdata = data[data['bin'] == bin_num][1]\n",
    "fitdata = fitdata[(fitdata > yield_min) & (fitdata < yield_max)]\n",
    "\n",
    "n, bin_edges = np.histogram(fitdata, 100)\n",
    "bin_centers = (bin_edges[:-1] + bin_edges[1:]) / 2\n",
    "\n",
    "ymean = np.mean(fitdata)\n",
    "ysig = np.mean(fitdata)\n",
    "ymax = np.max(fitdata)\n",
    "\n",
    "popt, pcov = curve_fit(gaus,bin_centers,n,p0=[np.max(n), ymean, ysig])\n",
    "\n",
    "print(popt)\n",
    "print(pcov)"
   ]
  },
  {
   "cell_type": "code",
   "execution_count": 25,
   "metadata": {
    "collapsed": false
   },
   "outputs": [
    {
     "data": {
      "text/plain": [
       "[<matplotlib.lines.Line2D at 0x23221eab6a0>]"
      ]
     },
     "execution_count": 25,
     "metadata": {},
     "output_type": "execute_result"
    },
    {
     "data": {
      "image/png": "[encoded data removed]",
      "text/plain": [
       "<Figure size 648x576 with 1 Axes>"
      ]
     },
     "metadata": {},
     "output_type": "display_data"
    }
   ],
   "source": [
    "xmin = min(fitdata)\n",
    "xmax = max(fitdata)\n",
    "X = np.arange(xmin, xmax,0.01)\n",
    "\n",
    "ymin = 0.1\n",
    "ymax = np.max(n) * 1.1\n",
    "fig,axes = plt.subplots(1,1,figsize=(9.0,8.0),sharex=True)\n",
    "ax1 = axes\n",
    "ax1.set_yscale('log')\n",
    "ax1.set_ylim(ymin, ymax)\n",
    "step, = ax1.step(bin_centers, n, where='mid',color='r', linestyle='-', label='Yield', linewidth=2)\n",
    "ax1.plot(X,gaus(X,*popt),'k-',label='fit')"
   ]
  },
  {
   "cell_type": "code",
   "execution_count": null,
   "metadata": {
    "collapsed": true
   },
   "outputs": [],
   "source": []
  }
 ],
 "metadata": {
  "kernelspec": {
   "display_name": "Python [conda env:Anaconda3]",
   "language": "python",
   "name": "conda-env-Anaconda3-py"
  },
  "language_info": {
   "codemirror_mode": {
    "name": "ipython",
    "version": 3
   },
   "file_extension": ".py",
   "mimetype": "text/x-python",
   "name": "python",
   "nbconvert_exporter": "python",
   "pygments_lexer": "ipython3",
   "version": "3.5.2"
  }
 },
 "nbformat": 4,
 "nbformat_minor": 1
}
