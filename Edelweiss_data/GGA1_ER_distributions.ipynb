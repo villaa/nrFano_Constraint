{
 "cells": [
  {
   "cell_type": "code",
   "execution_count": 1,
   "metadata": {
    "collapsed": true
   },
   "outputs": [],
   "source": [
    "import numpy as np\n",
    "from functools import partial\n",
    "import pandas as pd\n",
    "#import matplotlib as mpl\n",
    "#mpl.rcParams['legend.numpoints'] = 1\n",
    "import matplotlib.pyplot as plt\n",
    "%matplotlib inline \n",
    "#import mpld3\n",
    "#mpld3.enable_notebook()\n",
    "\n",
    "import sys\n",
    "sys.path.append('../python/')\n",
    "import EdwRes"
   ]
  },
  {
   "cell_type": "code",
   "execution_count": 2,
   "metadata": {
    "collapsed": false
   },
   "outputs": [
    {
     "name": "stdout",
     "output_type": "stream",
     "text": [
      "          0         1\n",
      "0  104.1920  1.150560\n",
      "1  120.3400  1.018400\n",
      "2  127.9750  0.988728\n",
      "3   22.3243  0.400158\n",
      "4  111.5070  1.025590\n"
     ]
    },
    {
     "data": {
      "text/plain": [
       "[0, 1]"
      ]
     },
     "execution_count": 2,
     "metadata": {},
     "output_type": "execute_result"
    }
   ],
   "source": [
    "data = pd.read_csv(\"edelweiss_GGA1_pointData.txt\", skiprows=1, header=None, delim_whitespace=True)\n",
    "print (data.head(5))\n",
    "list(data.columns.values)"
   ]
  },
  {
   "cell_type": "code",
   "execution_count": 3,
   "metadata": {
    "collapsed": false
   },
   "outputs": [
    {
     "name": "stdout",
     "output_type": "stream",
     "text": [
      "[  0  20  40  60  80 100 120 140 160 180 200] [0 1 2 3 4 5 6 7 8 9]\n"
     ]
    }
   ],
   "source": [
    "# ER band has 20 keV bins \n",
    "bin_edges = np.arange(0, 220, step=20)\n",
    "labels = np.arange(0,len(bin_edges)-1, step=1)\n",
    "print (bin_edges, labels)"
   ]
  },
  {
   "cell_type": "code",
   "execution_count": 4,
   "metadata": {
    "collapsed": false
   },
   "outputs": [
    {
     "name": "stdout",
     "output_type": "stream",
     "text": [
      "          0         1 bin\n",
      "0  104.1920  1.150560   5\n",
      "1  120.3400  1.018400   6\n",
      "2  127.9750  0.988728   6\n",
      "3   22.3243  0.400158   1\n",
      "4  111.5070  1.025590   5\n"
     ]
    }
   ],
   "source": [
    "data['bin'] = pd.cut(data[0], bins=bin_edges, labels=labels)\n",
    "print(data.head(5))"
   ]
  },
  {
   "cell_type": "code",
   "execution_count": 5,
   "metadata": {
    "collapsed": false
   },
   "outputs": [
    {
     "data": {
      "text/plain": [
       "[<matplotlib.lines.Line2D at 0x1a68f37d080>]"
      ]
     },
     "execution_count": 5,
     "metadata": {},
     "output_type": "execute_result"
    },
    {
     "data": {
      "image/png": "[encoded data removed]",
      "text/plain": [
       "<Figure size 432x288 with 1 Axes>"
      ]
     },
     "metadata": {},
     "output_type": "display_data"
    }
   ],
   "source": [
    "bin_num = 9\n",
    "plt.plot(data[data['bin'] == bin_num][0], data[data['bin'] == bin_num][1], '.')"
   ]
  },
  {
   "cell_type": "code",
   "execution_count": 6,
   "metadata": {
    "collapsed": false
   },
   "outputs": [
    {
     "data": {
      "image/png": "[encoded data removed]",
      "text/plain": [
       "<Figure size 432x288 with 1 Axes>"
      ]
     },
     "metadata": {},
     "output_type": "display_data"
    }
   ],
   "source": [
    "binspace = 0.01\n",
    "hist_bins = np.arange(0, 1.5, binspace)\n",
    "bin_num = 0\n",
    "n, bins = np.histogram(data[data['bin'] == bin_num][1], bins=hist_bins)\n",
    "fig = plt.hist(data[data['bin'] == bin_num][1], bins=hist_bins, log=True)\n",
    "#print (n)\n",
    "\n",
    "#plt.xlim(0.7,1.4)"
   ]
  },
  {
   "cell_type": "code",
   "execution_count": 7,
   "metadata": {
    "collapsed": true
   },
   "outputs": [],
   "source": [
    "#define a Gaussian \n",
    "def gaus(x,a,x0,sigma):\n",
    "    return a*np.exp(-(x-x0)**2/(2*sigma**2))"
   ]
  },
  {
   "cell_type": "code",
   "execution_count": 8,
   "metadata": {
    "collapsed": false
   },
   "outputs": [
    {
     "name": "stdout",
     "output_type": "stream",
     "text": [
      "[4.57533453 1.013142   0.2034072 ]\n",
      "[[ 0.11456473 -0.00149449 -0.00686208]\n",
      " [-0.00149449  0.00056586  0.00038831]\n",
      " [-0.00686208  0.00038831  0.0010595 ]]\n",
      "(0, 20)\n",
      "[(0, 20), (20, 40), (40, 60), (60, 80), (80, 100), (100, 120), (120, 140), (140, 160), (160, 180), (180, 200)]\n"
     ]
    },
    {
     "data": {
      "text/plain": [
       "'\\n# probably a bad idea to use skewedness!\\n# higher moments depend a *lot* on sample size\\nymean = popt[1]\\nysig = abs(popt[2])\\nc = 3\\nmomentdata = data[data[\\'bin\\'] == bin_num][1]\\nmomentdata = momentdata[(momentdata > ymean - c*ysig) & (momentdata < ymean + c*ysig)]\\nprint (\"moment:\", moment(momentdata, moment=1), moment(momentdata, moment=2), moment(momentdata, moment=3)/ysig**3, moment(momentdata, moment=4))\\n'"
      ]
     },
     "execution_count": 8,
     "metadata": {},
     "output_type": "execute_result"
    }
   ],
   "source": [
    "#do a fit\n",
    "from scipy.optimize import curve_fit\n",
    "from scipy.stats import moment\n",
    "\n",
    "bin_num = 3\n",
    "\n",
    "def fit_data(data, bounds):\n",
    "    \"\"\"\n",
    "    bounds is an array of form [(x_min, x_max), (ymin, ymax)]\n",
    "    data is a pandas data frame with two columns, data[0] is the column that is cut on\n",
    "    and data[1] is the column that is histogrammed and fit\"\"\"\n",
    "    x_min = min(bounds[0])\n",
    "    x_max = max(bounds[0])\n",
    "    yield_min = min(bounds[1])\n",
    "    yield_max = max(bounds[1])\n",
    "\n",
    "    # sanitize fitdata\n",
    "    fitdata = data[(data[0] >= x_min) & (data[0] <= x_max)][1]\n",
    "    fitdata = fitdata[(fitdata > yield_min) & (fitdata < yield_max)]\n",
    "\n",
    "    n, bin_edges = np.histogram(fitdata, 100)\n",
    "    bin_centers = (bin_edges[:-1] + bin_edges[1:]) / 2\n",
    "\n",
    "    ymean = np.mean(fitdata)\n",
    "    ysig = np.mean(fitdata)\n",
    "    ymax = np.max(fitdata)\n",
    "\n",
    "    popt, pcov = curve_fit(gaus,bin_centers,n,p0=[np.max(n), ymean, ysig])\n",
    "   \n",
    "    return popt, pcov, bounds[0]\n",
    "\n",
    "popt, pcov, xbound = fit_data(data, [(0, 20), (0.7, 1.2)])\n",
    "\n",
    "print(popt)\n",
    "print(pcov)\n",
    "print(xbound)\n",
    "\n",
    "# make the bins\n",
    "bin_edges = np.arange(0, 220, step=20)\n",
    "\n",
    "xbounds = []\n",
    "for low, high in zip(bin_edges, bin_edges[1:]):\n",
    "    xbounds.append((low, high))\n",
    "\n",
    "print (xbounds)\n",
    "\n",
    "par_arr = []\n",
    "for bound in xbounds:\n",
    "    popt, pcov, x = fit_data(data, [bound, (0.7, 1.4)])\n",
    "    par_arr.append(popt)\n",
    "    \n",
    "\n",
    "\"\"\"\n",
    "# probably a bad idea to use skewedness!\n",
    "# higher moments depend a *lot* on sample size\n",
    "ymean = popt[1]\n",
    "ysig = abs(popt[2])\n",
    "c = 3\n",
    "momentdata = data[data['bin'] == bin_num][1]\n",
    "momentdata = momentdata[(momentdata > ymean - c*ysig) & (momentdata < ymean + c*ysig)]\n",
    "print (\"moment:\", moment(momentdata, moment=1), moment(momentdata, moment=2), moment(momentdata, moment=3)/ysig**3, moment(momentdata, moment=4))\n",
    "\"\"\""
   ]
  },
  {
   "cell_type": "code",
   "execution_count": 9,
   "metadata": {
    "collapsed": false
   },
   "outputs": [
    {
     "name": "stdout",
     "output_type": "stream",
     "text": [
      "(180, 200)\n"
     ]
    },
    {
     "data": {
      "text/plain": [
       "[<matplotlib.lines.Line2D at 0x1a691685cf8>]"
      ]
     },
     "execution_count": 9,
     "metadata": {},
     "output_type": "execute_result"
    },
    {
     "data": {
      "image/png": "[encoded data removed]",
      "text/plain": [
       "<Figure size 648x576 with 1 Axes>"
      ]
     },
     "metadata": {},
     "output_type": "display_data"
    }
   ],
   "source": [
    "bin_idx = 9\n",
    "popt = par_arr[bin_idx]\n",
    "(x_min, x_max) = xbounds[bin_idx]\n",
    "yield_min = 0.7\n",
    "yield_max = 1.4\n",
    "print(xbounds[bin_idx])\n",
    "\n",
    "fitdata = data[(data[0] >= x_min) & (data[0] <= x_max)][1]\n",
    "fitdata = fitdata[(fitdata > yield_min) & (fitdata < yield_max)]\n",
    "n, bin_edges = np.histogram(fitdata, 100)\n",
    "bin_centers = (bin_edges[:-1] + bin_edges[1:]) / 2\n",
    "\n",
    "X = np.arange(min(fitdata), max(fitdata),0.01)\n",
    "fit = gaus(X,*popt)\n",
    "\n",
    "ymin = 0.1\n",
    "ymax = np.max(n) * 1.1\n",
    "fig,axes = plt.subplots(1,1,figsize=(9.0,8.0),sharex=True)\n",
    "ax1 = axes\n",
    "ax1.set_yscale('log')\n",
    "ax1.set_ylim(ymin, ymax)\n",
    "step, = ax1.step(bin_centers, n, where='mid',color='r', linestyle='-', label='Yield', linewidth=2)\n",
    "ax1.set_ylabel(\"counts\")\n",
    "ax1.set_xlabel(\"yield\")\n",
    "ax1.set_title(\"{:d} to {:d} keV\".format(x_min, x_max))\n",
    "ax1.plot(X,fit,'k-',label='fit')"
   ]
  },
  {
   "cell_type": "code",
   "execution_count": null,
   "metadata": {
    "collapsed": true
   },
   "outputs": [],
   "source": []
  }
 ],
 "metadata": {
  "kernelspec": {
   "display_name": "Python [conda env:Anaconda3]",
   "language": "python",
   "name": "conda-env-Anaconda3-py"
  },
  "language_info": {
   "codemirror_mode": {
    "name": "ipython",
    "version": 3
   },
   "file_extension": ".py",
   "mimetype": "text/x-python",
   "name": "python",
   "nbconvert_exporter": "python",
   "pygments_lexer": "ipython3",
   "version": "3.5.2"
  }
 },
 "nbformat": 4,
 "nbformat_minor": 1
}
