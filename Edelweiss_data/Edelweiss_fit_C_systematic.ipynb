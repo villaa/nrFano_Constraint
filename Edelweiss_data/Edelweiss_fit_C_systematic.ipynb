{
 "cells": [
  {
   "cell_type": "markdown",
   "metadata": {},
   "source": [
    "# Systematic error on the Edelweiss C\n",
    "\n",
    "The aim of this notebook is to estimate a rough systematic error on Edelweiss' reported C"
   ]
  },
  {
   "cell_type": "code",
   "execution_count": 1,
   "metadata": {
    "collapsed": false
   },
   "outputs": [],
   "source": [
    "import numpy as np\n",
    "import pandas as pd\n",
    "import matplotlib.pyplot as plt\n",
    "%matplotlib inline \n",
    "#import mpld3\n",
    "#mpld3.enable_notebook()\n",
    "\n",
    "from scipy import optimize\n",
    "import lmfit as lmf\n",
    "\n",
    "import sys\n",
    "sys.path.append('../python/')\n",
    "from EdwRes import *"
   ]
  },
  {
   "cell_type": "code",
   "execution_count": 2,
   "metadata": {
    "collapsed": false
   },
   "outputs": [
    {
     "name": "stdout",
     "output_type": "stream",
     "text": [
      "   E_recoil    sig_NR  E_recoil_err  sig_NR_err\n",
      "0   16.1946  0.062345      0.946176    0.001157\n",
      "1   16.4428  0.062345      0.945278    0.001157\n",
      "2   44.2627  0.046528      0.992477    0.001543\n",
      "3   24.5012  0.059397      0.992477    0.001185\n",
      "4   97.7172  0.044847      1.033260    0.002783\n",
      "5   58.4014  0.050082      0.991830    0.002288\n",
      "6   34.2156  0.053417      1.033260    0.001102\n"
     ]
    }
   ],
   "source": [
    "# import data from Edelweiss\n",
    "res_data = pd.read_csv(\"edelweiss_NRwidth_GGA3_data.txt\", skiprows=1, \\\n",
    "                       names=['E_recoil', 'sig_NR', 'E_recoil_err', 'sig_NR_err'], \\\n",
    "                       delim_whitespace=True)\n",
    "\n",
    "resER_data = pd.read_csv(\"edelweiss_ERwidth_GGA3_data.txt\", skiprows=1, \\\n",
    "                         names=['E_recoil', 'sig_ER', 'sig_ER_err'], \\\n",
    "                         delim_whitespace=True)\n",
    "\n",
    "resER_data = resER_data.sort_values(by='E_recoil')\n",
    "\n",
    "print (res_data.head(10))\n",
    "E_recoil = res_data[\"E_recoil\"]\n",
    "sig_NR = res_data[\"sig_NR\"]\n",
    "sig_NR_err = res_data['sig_NR_err']"
   ]
  },
  {
   "cell_type": "code",
   "execution_count": 3,
   "metadata": {
    "collapsed": true
   },
   "outputs": [],
   "source": [
    "# parameters set from numbers reported in Edelweiss paper\n",
    "ion_center_0keV = 1.3\n",
    "ion_guard_0keV = 1.5\n",
    "heat_0keV = 0.4\n",
    "ion_122keV = 3.1 #3.3 #3.1\n",
    "heat_122keV = 2.7\n",
    "V = 4"
   ]
  },
  {
   "cell_type": "code",
   "execution_count": 4,
   "metadata": {
    "collapsed": true
   },
   "outputs": [],
   "source": [
    "# lmfit needs a residuals function\n",
    "def residualNR(params, x, data, eps_data):\n",
    "    ion_center_0keV = params['ion_center_0keV']\n",
    "    ion_guard_0keV = params['ion_guard_0keV']\n",
    "    ion_122keV = params['ion_122keV']\n",
    "    heat_0keV = params['heat_0keV']\n",
    "    heat_122keV = params['heat_122keV']\n",
    "    V = params['V']\n",
    "    aH = params['aH']\n",
    "    C = params['C']\n",
    "    m = params['m']\n",
    "\n",
    "    fit_func = get_sig_nuc_func_alt(ion_center_0keV, ion_guard_0keV, ion_122keV, heat_0keV, heat_122keV, V, aH, C, m)\n",
    "    \n",
    "    model = fit_func(x)\n",
    "\n",
    "    return (data-model) / eps_data\n",
    "\n",
    "def residualER(params, x, data, eps_data):\n",
    "    ion_center_0keV = params['ion_center_0keV']\n",
    "    ion_guard_0keV = params['ion_guard_0keV']\n",
    "    ion_122keV = params['ion_122keV']\n",
    "    heat_0keV = params['heat_0keV']\n",
    "    heat_122keV = params['heat_122keV']\n",
    "    V = params['V']\n",
    "    aH = params['aH']\n",
    "\n",
    "    fit_func = get_sig_gamma_func(ion_center_0keV, ion_guard_0keV, ion_122keV, heat_0keV, heat_122keV, V, aH)\n",
    "    \n",
    "    model = fit_func(x)\n",
    "\n",
    "    return (data-model) / eps_data"
   ]
  },
  {
   "cell_type": "code",
   "execution_count": 5,
   "metadata": {
    "collapsed": false
   },
   "outputs": [
    {
     "name": "stdout",
     "output_type": "stream",
     "text": [
      "lmfit result--ER\n",
      "[[Variables]]\n",
      "    ion_center_0keV:  1.3 (fixed)\n",
      "    ion_guard_0keV:   1.5 (fixed)\n",
      "    ion_122keV:       3.1 (fixed)\n",
      "    heat_0keV:        0.4 (fixed)\n",
      "    heat_122keV:      2.7 (fixed)\n",
      "    V:                4 (fixed)\n",
      "    aH:               0.01638269 +/- 6.6618e-04 (4.07%) (init = 0.01638)\n",
      "None\n"
     ]
    }
   ],
   "source": [
    "# Edelweiss fits aH first\n",
    "paramsER = lmf.Parameters()\n",
    "paramsER.add('ion_center_0keV', value=ion_center_0keV, vary=False)\n",
    "paramsER.add('ion_guard_0keV', value=ion_guard_0keV, vary=False)\n",
    "paramsER.add('ion_122keV', value=ion_122keV, vary=False)\n",
    "paramsER.add('heat_0keV', value=heat_0keV, vary=False)\n",
    "paramsER.add('heat_122keV', value=heat_122keV, vary=False)\n",
    "paramsER.add('V', value=V, vary=False)\n",
    "paramsER.add('aH', value=0.01638)\n",
    "\n",
    "mask = [True, True, False, False, True, True, True, True, True]\n",
    "lmfoutER = lmf.minimize(residualER, paramsER, \\\n",
    "                        args=(resER_data[\"E_recoil\"][mask], resER_data[\"sig_ER\"][mask], resER_data[\"sig_ER_err\"][mask]))\n",
    "\n",
    "print('lmfit result--ER')\n",
    "print(lmf.report_fit(lmfoutER.params))"
   ]
  },
  {
   "cell_type": "code",
   "execution_count": 6,
   "metadata": {
    "collapsed": false
   },
   "outputs": [
    {
     "name": "stdout",
     "output_type": "stream",
     "text": [
      "lmfit result--NR\n",
      "[[Variables]]\n",
      "    ion_center_0keV:  1.3 (fixed)\n",
      "    ion_guard_0keV:   1.5 (fixed)\n",
      "    ion_122keV:       3.1 (fixed)\n",
      "    heat_0keV:        0.4 (fixed)\n",
      "    heat_122keV:      2.7 (fixed)\n",
      "    V:                4 (fixed)\n",
      "    aH:               0.01638269 (fixed)\n",
      "    C:                0.03478487 +/- 0.00336879 (9.68%) (init = 0.04)\n",
      "    m:                9.3917e-05 +/- 7.0932e-05 (75.53%) (init = 0)\n",
      "[[Correlations]] (unreported correlations are < 0.100)\n",
      "    C(C, m) = -0.906\n",
      "None\n"
     ]
    }
   ],
   "source": [
    "# Woo, set paramters!\n",
    "paramsNR = lmf.Parameters()\n",
    "paramsNR.add('ion_center_0keV', value=ion_center_0keV, vary=False)\n",
    "paramsNR.add('ion_guard_0keV', value=ion_guard_0keV, vary=False)\n",
    "paramsNR.add('ion_122keV', value=ion_122keV, vary=False)\n",
    "paramsNR.add('heat_0keV', value=heat_0keV, vary=False)\n",
    "paramsNR.add('heat_122keV', value=heat_122keV, vary=False)\n",
    "paramsNR.add('V', value=V, vary=False)\n",
    "paramsNR.add('aH', value=lmfoutER.params['aH'], vary=False)\n",
    "paramsNR.add('C', value=0.04)\n",
    "paramsNR.add('m', value=0)\n",
    "\n",
    "# E_recoil[2::], sig_NR[2::], sigma=sig_NR_err[2::]\n",
    "lmfoutNR = lmf.minimize(residualNR, paramsNR, args=(E_recoil[2::], sig_NR[2::], sig_NR_err[2::]))\n",
    "#print(lmf.fit_report(lmfout))\n",
    "print('lmfit result--NR')\n",
    "print(lmf.report_fit(lmfoutNR.params))"
   ]
  },
  {
   "cell_type": "code",
   "execution_count": 7,
   "metadata": {
    "collapsed": false
   },
   "outputs": [
    {
     "data": {
      "image/png": "[encoded data removed]",
      "text/plain": [
       "<Figure size 432x288 with 1 Axes>"
      ]
     },
     "metadata": {},
     "output_type": "display_data"
    }
   ],
   "source": [
    "sig_er_func = get_sig_gamma_func(ion_center_0keV, ion_guard_0keV, ion_122keV, heat_0keV, heat_122keV, V, aH=lmfoutER.params['aH'])\n",
    "\n",
    "plt.errorbar(resER_data[\"E_recoil\"][mask], resER_data[\"sig_ER\"][mask], yerr=resER_data[\"sig_ER_err\"][mask], fmt=\"o\")\n",
    "\n",
    "E_recoil_arr = np.linspace(10, 200, 100)\n",
    "plt.plot(E_recoil_arr, sig_er_func(E_recoil_arr))\n",
    "\n",
    "plt.xlabel(\"Recoil energy (keV)\")\n",
    "plt.ylabel(\"1-sigma width of ER band\")\n",
    "plt.ylim(0,0.15)\n",
    "ax = plt.gca()\n",
    "ratio = 1\n",
    "ax.set_aspect(1.0/ax.get_data_ratio()*ratio)"
   ]
  },
  {
   "cell_type": "code",
   "execution_count": 8,
   "metadata": {
    "collapsed": false
   },
   "outputs": [
    {
     "data": {
      "text/plain": [
       "Text(0,0.5,'1-sigma width of NR band')"
      ]
     },
     "execution_count": 8,
     "metadata": {},
     "output_type": "execute_result"
    },
    {
     "data": {
      "image/png": "[encoded data removed]",
      "text/plain": [
       "<Figure size 432x288 with 1 Axes>"
      ]
     },
     "metadata": {},
     "output_type": "display_data"
    }
   ],
   "source": [
    "# get_sig_nuc_func_fit(FWHM_center, FWHM_guard, FWHM122_ion, FWHM0_heat, FWHM122_heat, V, aH=None, C = None)\n",
    "#sig_nr_GGA3 = get_sig_nuc_func(ion_center_0keV, ion_guard_0keV, ion_122keV, heat_0keV, heat_122keV, V, aH)\n",
    "sig_nr_func = get_sig_nuc_func_alt(ion_center_0keV, ion_guard_0keV, ion_122keV, heat_0keV, heat_122keV, V, \\\n",
    "                               aH=lmfoutER.params['aH'], C=lmfoutNR.params['C'], m=lmfoutNR.params['m'])\n",
    "\n",
    "plt.errorbar(E_recoil, sig_NR, yerr=sig_NR_err, fmt=\"o\")\n",
    "\n",
    "E_recoil_arr = np.linspace(10, 150, 100)\n",
    "plt.plot(E_recoil_arr, sig_nr_func(E_recoil_arr))\n",
    "\n",
    "plt.xlabel(\"Recoil energy (keV)\")\n",
    "plt.ylabel(\"1-sigma width of NR band\")\n",
    "#plt.ylim(0, 0.1)"
   ]
  },
  {
   "cell_type": "code",
   "execution_count": 6,
   "metadata": {
    "collapsed": false
   },
   "outputs": [
    {
     "name": "stdout",
     "output_type": "stream",
     "text": [
      "720\n"
     ]
    }
   ],
   "source": [
    "# How many counts are in the gaussian for \n",
    "# a particular energy bin?\n",
    "# Here, GGA1 in bin 40 < ER < 60 keV\n",
    "N = 125*3+80*2+55*2+25*3\n",
    "print (N)"
   ]
  },
  {
   "cell_type": "code",
   "execution_count": 7,
   "metadata": {
    "collapsed": true
   },
   "outputs": [],
   "source": [
    "def std_error_mean(sig, N):\n",
    "    return sig/np.sqrt(N)\n",
    "\n",
    "def std_error_stdDev(sig, N):\n",
    "    return sig/np.sqrt(2*(N-1))"
   ]
  },
  {
   "cell_type": "code",
   "execution_count": 17,
   "metadata": {
    "collapsed": false
   },
   "outputs": [
    {
     "name": "stdout",
     "output_type": "stream",
     "text": [
      "0.0021019038988498023\n",
      "0.0014877590039073583\n"
     ]
    }
   ],
   "source": [
    "# For the 40 < ER < 50 keV bin for GGA3 NR data,\n",
    "# the mean is 0.047 and the error is reported as 0.0015\n",
    "print (std_error_mean(0.047, 500))\n",
    "print (std_error_stdDev(0.047, 500))"
   ]
  },
  {
   "cell_type": "code",
   "execution_count": null,
   "metadata": {
    "collapsed": true
   },
   "outputs": [],
   "source": []
  }
 ],
 "metadata": {
  "anaconda-cloud": {},
  "kernelspec": {
   "display_name": "Python 3",
   "language": "python",
   "name": "python3"
  },
  "language_info": {
   "codemirror_mode": {
    "name": "ipython",
    "version": 3
   },
   "file_extension": ".py",
   "mimetype": "text/x-python",
   "name": "python",
   "nbconvert_exporter": "python",
   "pygments_lexer": "ipython3",
   "version": "3.7.3"
  }
 },
 "nbformat": 4,
 "nbformat_minor": 2
}
