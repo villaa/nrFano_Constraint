{
 "cells": [
  {
   "cell_type": "code",
   "execution_count": 1,
   "metadata": {},
   "outputs": [],
   "source": [
    "import numpy as np\n",
    "import matplotlib.pyplot as plt\n",
    "import pandas as pd\n",
    "from scipy.stats import norm\n",
    "import matplotlib.mlab as mlab\n",
    "from scipy.optimize import curve_fit"
   ]
  },
  {
   "cell_type": "code",
   "execution_count": 2,
   "metadata": {},
   "outputs": [],
   "source": [
    "k = 0.157 # from lindhard\n",
    "q = 1.602*10**-19 #electron charge \n",
    "V = 4.0 # voltage Bias\n",
    "eps = .0033 #keV\n",
    "\n",
    "#for detector 1.\n",
    "\n",
    "p_alpha = 0.155393\n",
    "p_beta = 9.60343*10**(-11)\n",
    "p_gamma = 0.000506287\n",
    "\n",
    "q_alpha = 0.166004\n",
    "q_beta = 0.00233716\n",
    "q_gamma = 9.52576*10**(-5)"
   ]
  },
  {
   "cell_type": "code",
   "execution_count": 3,
   "metadata": {},
   "outputs": [],
   "source": [
    "#x = np.arange(0,200,0.002)\n",
    "#Er = 93*np.exp(-x/29) #For NR from Kennedy Thesis \n",
    "\n",
    "N = 100000\n",
    "#Er = np.random.exponential(40,np.uint32(N*0.3)) #tip from anthony \n",
    "#Er = np.arange(0,200,0.002)\n",
    "Er = np.random.uniform(0,200,N)\n",
    "#need to store all of this inorder to calculate fano factor.\n",
    "ER = []\n",
    "Yield = []\n",
    "PtNr = []\n",
    "QR = []\n",
    "sigQ = []\n",
    "sigP = []\n",
    "sigQ1 = []\n",
    "sigP1 = []\n",
    "Err=[]\n",
    "\n",
    "U1 = []\n",
    "U2 = []\n",
    "N_eh = []\n",
    "\n",
    "QNR=[]\n",
    "PT1 = []\n",
    "FQ = []\n"
   ]
  },
  {
   "cell_type": "code",
   "execution_count": 4,
   "metadata": {},
   "outputs": [],
   "source": [
    "#For Nuclear Recoils \n",
    "F =100\n",
    "\n",
    "\n",
    "\n",
    "Enr = 40\n",
    "    \n",
    "Err.append(Enr)\n",
    "\n",
    "esp = 11.5*Enr*(23)**-(7/3)\n",
    "g = 3*esp**(0.15)+0.7*esp**(0.6)+esp\n",
    "Y = k*g/(1+k*g)\n",
    "    \n",
    "#number of electron-hole pairs. \n",
    "Ptnr = (Y*Enr*V)/(eps*1000) + Enr #central value of Pt\n",
    "Qnr = Y*Enr\n",
    "    \n",
    "for i in np.arange(0,N):\n",
    "    \n",
    "    Neh = Y*Enr/eps\n",
    "    N_eh.append(Neh)\n",
    "    \n",
    "    sig_p1 = np.sqrt(p_alpha + p_beta*Ptnr + p_gamma*(Ptnr**2) )  \n",
    "    sig_q1 = np.sqrt(q_alpha + q_beta*Qnr + q_gamma*(Qnr**2) )\n",
    "    \n",
    "   #With Fano Factor. \n",
    "    sig_p = np.sqrt(p_alpha + p_beta*Ptnr + p_gamma*(Ptnr**2) + (V/1000)**2*Neh*F)  #Phonon uncertainty (energy dependent)\n",
    "    sig_q = np.sqrt(q_alpha + q_beta*Qnr + q_gamma*(Qnr**2) + F*N*eps**2) #Charge uncertainty \n",
    "    \n",
    "\n",
    "    \n",
    "    sigQ.append(sig_q)\n",
    "    sigP.append(sig_p)\n",
    "    sigQ1.append(sig_q1)\n",
    "    sigP1.append(sig_p1)\n",
    "    \n",
    "    \n",
    "    Fnr = np.random.normal(0.0,sig_p)#random sample assuming phonon variance \n",
    "\n",
    "    Fq = np.random.normal(0.0,sig_q) #random sampel assuming charge variance \n",
    "    \n",
    "    FQ.append(Fq)\n",
    "    #Ptnr = (Y*Enr*V)/eps + Enr #total phonon energy \n",
    "    Ptnr1 = Ptnr + Fnr #not central value! just.. smeared \n",
    "    PT1.append(Ptnr1)\n",
    "\n",
    "    Qnr1 = Qnr + Fq \n",
    "\n",
    "    QNR.append(Qnr1)\n",
    "    \n",
    "    U_1 = 1/Enr #Ptnr/(Ptnr-Qnr1*(V/(eps*1000)))**2 #derivative with respect to Qnr1\n",
    "    U1.append(U_1)\n",
    "    U_2 = 0 #-Qnr1/(Ptnr1 -(Qnr1*V/(eps*1000)))**2      #derivative with respect to Ptnf\n",
    "    U2.append(U_2)\n",
    "    \n",
    "    Ernr = Ptnr1 - (V/(eps*1000))*Qnr1\n",
    "    ER.append(Ernr)\n",
    "\n",
    "    yield1 = Qnr1 / Enr\n",
    "    Yield.append(yield1)\n",
    "\n"
   ]
  },
  {
   "cell_type": "code",
   "execution_count": 5,
   "metadata": {},
   "outputs": [
    {
     "name": "stdout",
     "output_type": "stream",
     "text": [
      "(10, 8973, 7)\n",
      "10\n"
     ]
    }
   ],
   "source": [
    "data = np.vstack((ER,Yield,sigQ1,sigP1,U1,U2,N_eh)).T\n",
    "\n",
    "\n",
    "x = data[data[:,1]>=0, :]\n",
    "\n",
    "data1 = x[x[:,1]<=1.6,:]\n",
    "\n",
    "data2 = data1[data1[:,0]>=0,:]\n",
    "#data2 = data1\n",
    "\n",
    "data1 = data2[np.argsort(data2[:, 0])]\n",
    "\n",
    "A = np.array_split(data1,10)\n",
    "\n",
    "print(np.shape(A))\n",
    "print(len(A))"
   ]
  },
  {
   "cell_type": "code",
   "execution_count": null,
   "metadata": {},
   "outputs": [],
   "source": []
  },
  {
   "cell_type": "code",
   "execution_count": 15,
   "metadata": {},
   "outputs": [
    {
     "name": "stdout",
     "output_type": "stream",
     "text": [
      "[array([440.36757787, 440.36757787, 440.36757787, ..., 440.36757787,\n",
      "       440.36757787, 440.36757787]), array([152.04179898, 152.04179898, 152.04179898, ..., 152.04179898,\n",
      "       152.04179898, 152.04179898]), array([130.85273663, 130.85273663, 130.85273663, ..., 130.85273663,\n",
      "       130.85273663, 130.85273663]), array([124.69182406, 124.69182406, 124.69182406, ..., 124.69182406,\n",
      "       124.69182406, 124.69182406]), array([125.17901764, 125.17901764, 125.17901764, ..., 125.17901764,\n",
      "       125.17901764, 125.17901764]), array([125.45558067, 125.45558067, 125.45558067, ..., 125.45558067,\n",
      "       125.45558067, 125.45558067]), array([126.68210043, 126.68210043, 126.68210043, ..., 126.68210043,\n",
      "       126.68210043, 126.68210043]), array([126.9793711, 126.9793711, 126.9793711, ..., 126.9793711,\n",
      "       126.9793711, 126.9793711]), array([128.05560375, 128.05560375, 128.05560375, ..., 128.05560375,\n",
      "       128.05560375, 128.05560375]), array([87.1905743, 87.1905743, 87.1905743, ..., 87.1905743, 87.1905743,\n",
      "       87.1905743])]\n",
      "8973\n",
      "8973\n",
      "8973\n"
     ]
    }
   ],
   "source": [
    "\n",
    "val_stat = []\n",
    "val = []\n",
    "Sy = []\n",
    "amax = 30\n",
    "for data in A:\n",
    "    U1 = data[:,4]\n",
    "    U2 = data[:,5]\n",
    "    sigQ = data[:,2]\n",
    "    sigP = data[:,3]\n",
    "    N = data[:,6]\n",
    "    sigy = np.std(data[:,1])\n",
    "    #sigy = np.std(Yield)\n",
    "   \n",
    "    #Fano = (-U1**2*sigQ**2-U2**2*sigP**2 + sigy**2)/(U1**2*eps**2 +U2**2*(V/1000)**2)\n",
    "    #Fano = Fano/N\n",
    "    Fano = (sigy**2*Enr**2 - sigQ**2)/(eps**2*N)\n",
    "    #val_stat.append(Fano) \n",
    "    val_stat = Fano\n",
    "    #print(val_stat)\n",
    "    val.append(Fano)\n",
    "print((val))\n",
    "print(len(sigQ))\n",
    "print(len(val_stat))   \n",
    "print(len(Fano))\n"
   ]
  },
  {
   "cell_type": "code",
   "execution_count": 7,
   "metadata": {},
   "outputs": [],
   "source": [
    "#set up a plot \n",
    "import matplotlib as mpl\n",
    "from matplotlib import pyplot as plt\n",
    "import matplotlib.patches as mpatches\n",
    "from matplotlib.legend_handler import HandlerLine2D\n",
    "#got smarter about the mpl config: see mplstyles/ directory\n",
    "#plt.style.use('standard')"
   ]
  },
  {
   "cell_type": "code",
   "execution_count": 8,
   "metadata": {},
   "outputs": [
    {
     "name": "stdout",
     "output_type": "stream",
     "text": [
      "-0.7457811370511991 1.4925122806142812\n"
     ]
    },
    {
     "data": {
      "image/png": "[encoded data removed]",
      "text/plain": [
       "<matplotlib.figure.Figure at 0x10ef5dc88>"
      ]
     },
     "metadata": {},
     "output_type": "display_data"
    }
   ],
   "source": [
    "xmin=min(Yield)\n",
    "xmax=max(Yield)\n",
    "\n",
    "#print(np.std(val_stat))\n",
    "print(xmin,xmax)\n",
    "\n",
    "n_res,n_resx = np.histogram(Yield,300,range=(xmin,xmax))\n",
    "\n",
    "\n",
    "xresc = (n_resx[:-1] + n_resx[1:]) / 2\n",
    "\n",
    "#set up a 1d plot\n",
    "fig,axes = plt.subplots(1,1,figsize=(9.0,8.0),sharex=True)\n",
    "ax1 = axes\n",
    "\n",
    "X = np.arange(-amax,amax,0.01)\n",
    "\n",
    "step, = ax1.step(xresc,n_res, where='mid',color='r', linestyle='-', label='Yield, Er = 40keV', linewidth=2)\n",
    "\n",
    "\n",
    "\n",
    "ymin=0.1\n",
    "ymax=max(n_res)\n",
    "\n",
    "\n",
    "ax1.set_yscale('log')\n",
    "ax1.set_xlim(xmin, xmax) #in pairs\n",
    "ax1.set_ylim(ymin,ymax)\n",
    "ax1.set_xlabel('A [a.u.]')\n",
    "ax1.set_ylabel('counts')\n",
    "ax1.grid(True)\n",
    "ax1.yaxis.grid(True,which='minor',linestyle='--')\n",
    "ax1.legend(loc=1,prop={'size':22})\n",
    "\n",
    "for axis in ['top','bottom','left','right']:\n",
    "  ax1.spines[axis].set_linewidth(2)\n",
    "\n",
    "plt.tight_layout()\n",
    "#plt.savefig('figures/figures')\n",
    "plt.show()"
   ]
  },
  {
   "cell_type": "code",
   "execution_count": 9,
   "metadata": {},
   "outputs": [
    {
     "name": "stdout",
     "output_type": "stream",
     "text": [
      "87.1905743004151 87.1905743004151\n"
     ]
    },
    {
     "name": "stderr",
     "output_type": "stream",
     "text": [
      "/anaconda3/lib/python3.6/site-packages/matplotlib/axes/_base.py:2961: UserWarning: Attempting to set identical left==right results\n",
      "in singular transformations; automatically expanding.\n",
      "left=87.1905743004151, right=87.1905743004151\n",
      "  'left=%s, right=%s') % (left, right))\n"
     ]
    },
    {
     "data": {
      "image/png": "[encoded data removed]",
      "text/plain": [
       "<matplotlib.figure.Figure at 0x10ed16588>"
      ]
     },
     "metadata": {},
     "output_type": "display_data"
    }
   ],
   "source": [
    "xmin=np.amin(val_stat)\n",
    "xmax=np.amax(val_stat)\n",
    "\n",
    "#xmin = 0\n",
    "#xmax = 120\n",
    "\n",
    "#print(np.std(val_stat))\n",
    "print(xmin,xmax)\n",
    "\n",
    "n_res,n_resx = np.histogram(val_stat,30,range=(xmin,xmax))\n",
    "\n",
    "\n",
    "xresc = (n_resx[:-1] + n_resx[1:]) / 2\n",
    "\n",
    "#set up a 1d plot\n",
    "fig,axes = plt.subplots(1,1,figsize=(9.0,8.0),sharex=True)\n",
    "ax1 = axes\n",
    "\n",
    "X = np.arange(-amax,amax,0.01)\n",
    "\n",
    "step, = ax1.step(xresc,n_res, where='mid',color='r', linestyle='-', label='Extracted Value', linewidth=2)\n",
    "\n",
    "\n",
    "\n",
    "ymin=0.1\n",
    "ymax=max(n_res)\n",
    "\n",
    "\n",
    "ax1.set_yscale('log')\n",
    "ax1.set_xlim(xmin, xmax) #in pairs\n",
    "#ax1.set_ylim(ymin,ymax)\n",
    "ax1.set_xlabel('A [a.u.]')\n",
    "ax1.set_ylabel('counts')\n",
    "ax1.grid(True)\n",
    "ax1.yaxis.grid(True,which='minor',linestyle='--')\n",
    "ax1.legend(loc=1,prop={'size':22})\n",
    "\n",
    "for axis in ['top','bottom','left','right']:\n",
    "  ax1.spines[axis].set_linewidth(2)\n",
    "\n",
    "plt.tight_layout()\n",
    "#plt.savefig('figures/figures')\n",
    "plt.show()"
   ]
  },
  {
   "cell_type": "code",
   "execution_count": null,
   "metadata": {},
   "outputs": [],
   "source": []
  },
  {
   "cell_type": "code",
   "execution_count": null,
   "metadata": {},
   "outputs": [],
   "source": []
  }
 ],
 "metadata": {
  "kernelspec": {
   "display_name": "Python 3",
   "language": "python",
   "name": "python3"
  },
  "language_info": {
   "codemirror_mode": {
    "name": "ipython",
    "version": 3
   },
   "file_extension": ".py",
   "mimetype": "text/x-python",
   "name": "python",
   "nbconvert_exporter": "python",
   "pygments_lexer": "ipython3",
   "version": "3.6.4"
  }
 },
 "nbformat": 4,
 "nbformat_minor": 2
}
